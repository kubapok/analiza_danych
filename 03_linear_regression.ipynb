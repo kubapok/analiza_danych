{
 "cells": [
  {
   "cell_type": "markdown",
   "metadata": {},
   "source": [
    "# Regresja liniowa\n",
    "\n",
    "Regresja liniowa to pierwszy i najbardziej podstawowy \"model\", który \n",
    "pewnie część z Was zna ze studiów. \n",
    "\n",
    "Mamy zmienną zależną (np. cena nieruchomości) i zmienną objaśniającą \n",
    "(np. wielkość nieruchomości w metrach kw). Na podstawie danych historycznych \n",
    "chcielibyśmy odkryć zależność między tymi zmiennymi. \n",
    "\n",
    "W przypadku regresji liniowej model dopasowuje tylko liniowe zależność między \n",
    "cechami. Możemy to stwierdzić naocznie np. rysując wykresy z danych historycznych.\n",
    "\n",
    "Można użyć regresji liniowej aby dopasować model do zależności nieliniowych ale wymaga to przygotowania odpowiednich cech."
   ]
  },
  {
   "cell_type": "markdown",
   "metadata": {},
   "source": [
    "Korzystamy ze zbioru cen mieszkań znanego z 02_data_exploration\n",
    "\n",
    "**Zadanie: przewidzieć cenę mieszkań na podstawie danych**"
   ]
  },
  {
   "cell_type": "code",
   "execution_count": 49,
   "metadata": {},
   "outputs": [],
   "source": [
    "import pandas as pd\n",
    "import sklearn.model_selection\n",
    "import sklearn.linear_model\n",
    "import sklearn.metrics\n",
    "import seaborn as sns\n",
    "import math\n",
    "%matplotlib inline  "
   ]
  },
  {
   "cell_type": "code",
   "execution_count": 50,
   "metadata": {},
   "outputs": [],
   "source": [
    "r = pd.read_csv('ceny_mieszkan_w_poznaniu.tsv', sep = '\\t')\n",
    "\n",
    "# podział na zbiór trenujący/testowy\n",
    "\n",
    "r_train, r_test = sklearn.model_selection.train_test_split(r, test_size = 0.1, random_state=42) "
   ]
  },
  {
   "cell_type": "code",
   "execution_count": 51,
   "metadata": {
    "scrolled": true
   },
   "outputs": [
    {
     "data": {
      "text/html": [
       "<div>\n",
       "<style scoped>\n",
       "    .dataframe tbody tr th:only-of-type {\n",
       "        vertical-align: middle;\n",
       "    }\n",
       "\n",
       "    .dataframe tbody tr th {\n",
       "        vertical-align: top;\n",
       "    }\n",
       "\n",
       "    .dataframe thead th {\n",
       "        text-align: right;\n",
       "    }\n",
       "</style>\n",
       "<table border=\"1\" class=\"dataframe\">\n",
       "  <thead>\n",
       "    <tr style=\"text-align: right;\">\n",
       "      <th></th>\n",
       "      <th>price</th>\n",
       "      <th>isNew</th>\n",
       "      <th>rooms</th>\n",
       "      <th>floor</th>\n",
       "      <th>location</th>\n",
       "      <th>sqrMeters</th>\n",
       "    </tr>\n",
       "  </thead>\n",
       "  <tbody>\n",
       "    <tr>\n",
       "      <th>275</th>\n",
       "      <td>345000.0</td>\n",
       "      <td>True</td>\n",
       "      <td>3</td>\n",
       "      <td>1</td>\n",
       "      <td>Winogrady</td>\n",
       "      <td>17</td>\n",
       "    </tr>\n",
       "    <tr>\n",
       "      <th>1481</th>\n",
       "      <td>156085.0</td>\n",
       "      <td>False</td>\n",
       "      <td>2</td>\n",
       "      <td>4</td>\n",
       "      <td>Nowe</td>\n",
       "      <td>54</td>\n",
       "    </tr>\n",
       "    <tr>\n",
       "      <th>51</th>\n",
       "      <td>565000.0</td>\n",
       "      <td>True</td>\n",
       "      <td>4</td>\n",
       "      <td>0</td>\n",
       "      <td>Sołacz</td>\n",
       "      <td>90</td>\n",
       "    </tr>\n",
       "    <tr>\n",
       "      <th>1618</th>\n",
       "      <td>410000.0</td>\n",
       "      <td>True</td>\n",
       "      <td>2</td>\n",
       "      <td>5</td>\n",
       "      <td>Rataje</td>\n",
       "      <td>53</td>\n",
       "    </tr>\n",
       "    <tr>\n",
       "      <th>76</th>\n",
       "      <td>289000.0</td>\n",
       "      <td>True</td>\n",
       "      <td>3</td>\n",
       "      <td>3</td>\n",
       "      <td>Rataje</td>\n",
       "      <td>48</td>\n",
       "    </tr>\n",
       "    <tr>\n",
       "      <th>1164</th>\n",
       "      <td>341776.0</td>\n",
       "      <td>True</td>\n",
       "      <td>2</td>\n",
       "      <td>2</td>\n",
       "      <td>Stare</td>\n",
       "      <td>44</td>\n",
       "    </tr>\n",
       "    <tr>\n",
       "      <th>1182</th>\n",
       "      <td>490000.0</td>\n",
       "      <td>True</td>\n",
       "      <td>4</td>\n",
       "      <td>2</td>\n",
       "      <td>Jeżyce</td>\n",
       "      <td>87</td>\n",
       "    </tr>\n",
       "    <tr>\n",
       "      <th>212</th>\n",
       "      <td>332160.0</td>\n",
       "      <td>True</td>\n",
       "      <td>2</td>\n",
       "      <td>1</td>\n",
       "      <td>Grunwald</td>\n",
       "      <td>60</td>\n",
       "    </tr>\n",
       "    <tr>\n",
       "      <th>1653</th>\n",
       "      <td>287394.0</td>\n",
       "      <td>False</td>\n",
       "      <td>2</td>\n",
       "      <td>2</td>\n",
       "      <td>Starołęka</td>\n",
       "      <td>50</td>\n",
       "    </tr>\n",
       "    <tr>\n",
       "      <th>529</th>\n",
       "      <td>259000.0</td>\n",
       "      <td>True</td>\n",
       "      <td>2</td>\n",
       "      <td>3</td>\n",
       "      <td>Winogrady</td>\n",
       "      <td>40</td>\n",
       "    </tr>\n",
       "    <tr>\n",
       "      <th>727</th>\n",
       "      <td>260000.0</td>\n",
       "      <td>True</td>\n",
       "      <td>3</td>\n",
       "      <td>4</td>\n",
       "      <td>Grunwald</td>\n",
       "      <td>47</td>\n",
       "    </tr>\n",
       "    <tr>\n",
       "      <th>123</th>\n",
       "      <td>399000.0</td>\n",
       "      <td>True</td>\n",
       "      <td>3</td>\n",
       "      <td>1</td>\n",
       "      <td>Grunwald</td>\n",
       "      <td>65</td>\n",
       "    </tr>\n",
       "    <tr>\n",
       "      <th>1557</th>\n",
       "      <td>328241.0</td>\n",
       "      <td>False</td>\n",
       "      <td>3</td>\n",
       "      <td>2</td>\n",
       "      <td>Winogrady</td>\n",
       "      <td>81</td>\n",
       "    </tr>\n",
       "    <tr>\n",
       "      <th>932</th>\n",
       "      <td>250000.0</td>\n",
       "      <td>True</td>\n",
       "      <td>3</td>\n",
       "      <td>4</td>\n",
       "      <td>Dębiec</td>\n",
       "      <td>45</td>\n",
       "    </tr>\n",
       "    <tr>\n",
       "      <th>344</th>\n",
       "      <td>1200000.0</td>\n",
       "      <td>False</td>\n",
       "      <td>5</td>\n",
       "      <td>0</td>\n",
       "      <td>Starołęka</td>\n",
       "      <td>193</td>\n",
       "    </tr>\n",
       "    <tr>\n",
       "      <th>704</th>\n",
       "      <td>375000.0</td>\n",
       "      <td>True</td>\n",
       "      <td>3</td>\n",
       "      <td>2</td>\n",
       "      <td>Jeżyce</td>\n",
       "      <td>50</td>\n",
       "    </tr>\n",
       "    <tr>\n",
       "      <th>968</th>\n",
       "      <td>380000.0</td>\n",
       "      <td>True</td>\n",
       "      <td>4</td>\n",
       "      <td>6</td>\n",
       "      <td>Piątkowo</td>\n",
       "      <td>73</td>\n",
       "    </tr>\n",
       "    <tr>\n",
       "      <th>674</th>\n",
       "      <td>304140.0</td>\n",
       "      <td>False</td>\n",
       "      <td>3</td>\n",
       "      <td>5</td>\n",
       "      <td>Winogrady</td>\n",
       "      <td>18</td>\n",
       "    </tr>\n",
       "    <tr>\n",
       "      <th>535</th>\n",
       "      <td>280000.0</td>\n",
       "      <td>True</td>\n",
       "      <td>4</td>\n",
       "      <td>4</td>\n",
       "      <td>Grunwald</td>\n",
       "      <td>40</td>\n",
       "    </tr>\n",
       "    <tr>\n",
       "      <th>764</th>\n",
       "      <td>299000.0</td>\n",
       "      <td>True</td>\n",
       "      <td>3</td>\n",
       "      <td>0</td>\n",
       "      <td>Grunwald</td>\n",
       "      <td>53</td>\n",
       "    </tr>\n",
       "    <tr>\n",
       "      <th>1132</th>\n",
       "      <td>349000.0</td>\n",
       "      <td>False</td>\n",
       "      <td>4</td>\n",
       "      <td>0</td>\n",
       "      <td>Szczepankowo</td>\n",
       "      <td>29</td>\n",
       "    </tr>\n",
       "    <tr>\n",
       "      <th>342</th>\n",
       "      <td>355000.0</td>\n",
       "      <td>True</td>\n",
       "      <td>2</td>\n",
       "      <td>0</td>\n",
       "      <td>Podolany</td>\n",
       "      <td>93</td>\n",
       "    </tr>\n",
       "    <tr>\n",
       "      <th>1124</th>\n",
       "      <td>1203616.0</td>\n",
       "      <td>False</td>\n",
       "      <td>5</td>\n",
       "      <td>0</td>\n",
       "      <td>Starołęka</td>\n",
       "      <td>71</td>\n",
       "    </tr>\n",
       "    <tr>\n",
       "      <th>931</th>\n",
       "      <td>259000.0</td>\n",
       "      <td>True</td>\n",
       "      <td>2</td>\n",
       "      <td>2</td>\n",
       "      <td>Nowe</td>\n",
       "      <td>42</td>\n",
       "    </tr>\n",
       "    <tr>\n",
       "      <th>251</th>\n",
       "      <td>548000.0</td>\n",
       "      <td>True</td>\n",
       "      <td>3</td>\n",
       "      <td>1</td>\n",
       "      <td>Grunwald</td>\n",
       "      <td>84</td>\n",
       "    </tr>\n",
       "    <tr>\n",
       "      <th>483</th>\n",
       "      <td>370000.0</td>\n",
       "      <td>True</td>\n",
       "      <td>3</td>\n",
       "      <td>4</td>\n",
       "      <td>Stare</td>\n",
       "      <td>84</td>\n",
       "    </tr>\n",
       "    <tr>\n",
       "      <th>1593</th>\n",
       "      <td>410000.0</td>\n",
       "      <td>True</td>\n",
       "      <td>2</td>\n",
       "      <td>5</td>\n",
       "      <td>Rataje</td>\n",
       "      <td>53</td>\n",
       "    </tr>\n",
       "    <tr>\n",
       "      <th>67</th>\n",
       "      <td>329000.0</td>\n",
       "      <td>True</td>\n",
       "      <td>4</td>\n",
       "      <td>4</td>\n",
       "      <td>Nowe</td>\n",
       "      <td>20</td>\n",
       "    </tr>\n",
       "    <tr>\n",
       "      <th>1386</th>\n",
       "      <td>285678.0</td>\n",
       "      <td>True</td>\n",
       "      <td>2</td>\n",
       "      <td>4</td>\n",
       "      <td>Winogrady</td>\n",
       "      <td>48</td>\n",
       "    </tr>\n",
       "    <tr>\n",
       "      <th>1050</th>\n",
       "      <td>285000.0</td>\n",
       "      <td>True</td>\n",
       "      <td>3</td>\n",
       "      <td>1</td>\n",
       "      <td>Rataje</td>\n",
       "      <td>48</td>\n",
       "    </tr>\n",
       "    <tr>\n",
       "      <th>...</th>\n",
       "      <td>...</td>\n",
       "      <td>...</td>\n",
       "      <td>...</td>\n",
       "      <td>...</td>\n",
       "      <td>...</td>\n",
       "      <td>...</td>\n",
       "    </tr>\n",
       "    <tr>\n",
       "      <th>459</th>\n",
       "      <td>330615.0</td>\n",
       "      <td>True</td>\n",
       "      <td>2</td>\n",
       "      <td>2</td>\n",
       "      <td>Stare</td>\n",
       "      <td>79</td>\n",
       "    </tr>\n",
       "    <tr>\n",
       "      <th>1184</th>\n",
       "      <td>211190.0</td>\n",
       "      <td>False</td>\n",
       "      <td>2</td>\n",
       "      <td>0</td>\n",
       "      <td>Podolany</td>\n",
       "      <td>78</td>\n",
       "    </tr>\n",
       "    <tr>\n",
       "      <th>276</th>\n",
       "      <td>319000.0</td>\n",
       "      <td>True</td>\n",
       "      <td>3</td>\n",
       "      <td>3</td>\n",
       "      <td>Rataje</td>\n",
       "      <td>50</td>\n",
       "    </tr>\n",
       "    <tr>\n",
       "      <th>955</th>\n",
       "      <td>315000.0</td>\n",
       "      <td>True</td>\n",
       "      <td>2</td>\n",
       "      <td>2</td>\n",
       "      <td>Winogrady</td>\n",
       "      <td>38</td>\n",
       "    </tr>\n",
       "    <tr>\n",
       "      <th>1215</th>\n",
       "      <td>712980.0</td>\n",
       "      <td>True</td>\n",
       "      <td>4</td>\n",
       "      <td>3</td>\n",
       "      <td>Centrum</td>\n",
       "      <td>102</td>\n",
       "    </tr>\n",
       "    <tr>\n",
       "      <th>385</th>\n",
       "      <td>344141.0</td>\n",
       "      <td>True</td>\n",
       "      <td>2</td>\n",
       "      <td>8</td>\n",
       "      <td>Winogrady</td>\n",
       "      <td>47</td>\n",
       "    </tr>\n",
       "    <tr>\n",
       "      <th>805</th>\n",
       "      <td>620000.0</td>\n",
       "      <td>True</td>\n",
       "      <td>3</td>\n",
       "      <td>2</td>\n",
       "      <td>Naramowice</td>\n",
       "      <td>98</td>\n",
       "    </tr>\n",
       "    <tr>\n",
       "      <th>1437</th>\n",
       "      <td>328241.0</td>\n",
       "      <td>False</td>\n",
       "      <td>3</td>\n",
       "      <td>5</td>\n",
       "      <td>Winogrady</td>\n",
       "      <td>81</td>\n",
       "    </tr>\n",
       "    <tr>\n",
       "      <th>1515</th>\n",
       "      <td>352390.0</td>\n",
       "      <td>False</td>\n",
       "      <td>2</td>\n",
       "      <td>12</td>\n",
       "      <td>Grunwald</td>\n",
       "      <td>80</td>\n",
       "    </tr>\n",
       "    <tr>\n",
       "      <th>343</th>\n",
       "      <td>287000.0</td>\n",
       "      <td>True</td>\n",
       "      <td>2</td>\n",
       "      <td>11</td>\n",
       "      <td>Winogrady</td>\n",
       "      <td>47</td>\n",
       "    </tr>\n",
       "    <tr>\n",
       "      <th>769</th>\n",
       "      <td>240000.0</td>\n",
       "      <td>True</td>\n",
       "      <td>2</td>\n",
       "      <td>2</td>\n",
       "      <td>Stare</td>\n",
       "      <td>38</td>\n",
       "    </tr>\n",
       "    <tr>\n",
       "      <th>1332</th>\n",
       "      <td>319998.0</td>\n",
       "      <td>False</td>\n",
       "      <td>3</td>\n",
       "      <td>1</td>\n",
       "      <td>Starołęka</td>\n",
       "      <td>95</td>\n",
       "    </tr>\n",
       "    <tr>\n",
       "      <th>130</th>\n",
       "      <td>320000.0</td>\n",
       "      <td>True</td>\n",
       "      <td>3</td>\n",
       "      <td>4</td>\n",
       "      <td>Winogrady</td>\n",
       "      <td>54</td>\n",
       "    </tr>\n",
       "    <tr>\n",
       "      <th>871</th>\n",
       "      <td>285000.0</td>\n",
       "      <td>True</td>\n",
       "      <td>2</td>\n",
       "      <td>4</td>\n",
       "      <td>Naramowice</td>\n",
       "      <td>42</td>\n",
       "    </tr>\n",
       "    <tr>\n",
       "      <th>1123</th>\n",
       "      <td>1007500.0</td>\n",
       "      <td>False</td>\n",
       "      <td>4</td>\n",
       "      <td>1</td>\n",
       "      <td>Starołęka</td>\n",
       "      <td>94</td>\n",
       "    </tr>\n",
       "    <tr>\n",
       "      <th>1396</th>\n",
       "      <td>449000.0</td>\n",
       "      <td>True</td>\n",
       "      <td>5</td>\n",
       "      <td>3</td>\n",
       "      <td>Wilda</td>\n",
       "      <td>97</td>\n",
       "    </tr>\n",
       "    <tr>\n",
       "      <th>87</th>\n",
       "      <td>270000.0</td>\n",
       "      <td>True</td>\n",
       "      <td>3</td>\n",
       "      <td>4</td>\n",
       "      <td>Rataje</td>\n",
       "      <td>48</td>\n",
       "    </tr>\n",
       "    <tr>\n",
       "      <th>1482</th>\n",
       "      <td>319875.0</td>\n",
       "      <td>False</td>\n",
       "      <td>2</td>\n",
       "      <td>7</td>\n",
       "      <td>Grunwald</td>\n",
       "      <td>18</td>\n",
       "    </tr>\n",
       "    <tr>\n",
       "      <th>330</th>\n",
       "      <td>250000.0</td>\n",
       "      <td>True</td>\n",
       "      <td>3</td>\n",
       "      <td>2</td>\n",
       "      <td>Nowe</td>\n",
       "      <td>80</td>\n",
       "    </tr>\n",
       "    <tr>\n",
       "      <th>1238</th>\n",
       "      <td>449000.0</td>\n",
       "      <td>False</td>\n",
       "      <td>5</td>\n",
       "      <td>0</td>\n",
       "      <td>Szczepankowo</td>\n",
       "      <td>68</td>\n",
       "    </tr>\n",
       "    <tr>\n",
       "      <th>466</th>\n",
       "      <td>800000.0</td>\n",
       "      <td>True</td>\n",
       "      <td>4</td>\n",
       "      <td>3</td>\n",
       "      <td>Stare</td>\n",
       "      <td>103</td>\n",
       "    </tr>\n",
       "    <tr>\n",
       "      <th>121</th>\n",
       "      <td>299000.0</td>\n",
       "      <td>True</td>\n",
       "      <td>3</td>\n",
       "      <td>6</td>\n",
       "      <td>Jeżyce</td>\n",
       "      <td>70</td>\n",
       "    </tr>\n",
       "    <tr>\n",
       "      <th>1638</th>\n",
       "      <td>390000.0</td>\n",
       "      <td>True</td>\n",
       "      <td>4</td>\n",
       "      <td>4</td>\n",
       "      <td>Piątkowo</td>\n",
       "      <td>74</td>\n",
       "    </tr>\n",
       "    <tr>\n",
       "      <th>1044</th>\n",
       "      <td>267704.0</td>\n",
       "      <td>True</td>\n",
       "      <td>2</td>\n",
       "      <td>3</td>\n",
       "      <td>Grunwald</td>\n",
       "      <td>45</td>\n",
       "    </tr>\n",
       "    <tr>\n",
       "      <th>1095</th>\n",
       "      <td>229000.0</td>\n",
       "      <td>True</td>\n",
       "      <td>2</td>\n",
       "      <td>1</td>\n",
       "      <td>Grunwald</td>\n",
       "      <td>16</td>\n",
       "    </tr>\n",
       "    <tr>\n",
       "      <th>1130</th>\n",
       "      <td>298250.0</td>\n",
       "      <td>False</td>\n",
       "      <td>2</td>\n",
       "      <td>6</td>\n",
       "      <td>Grunwald</td>\n",
       "      <td>38</td>\n",
       "    </tr>\n",
       "    <tr>\n",
       "      <th>1294</th>\n",
       "      <td>247705.0</td>\n",
       "      <td>True</td>\n",
       "      <td>2</td>\n",
       "      <td>1</td>\n",
       "      <td>Jeżyce</td>\n",
       "      <td>50</td>\n",
       "    </tr>\n",
       "    <tr>\n",
       "      <th>860</th>\n",
       "      <td>453600.0</td>\n",
       "      <td>True</td>\n",
       "      <td>2</td>\n",
       "      <td>3</td>\n",
       "      <td>Naramowice</td>\n",
       "      <td>56</td>\n",
       "    </tr>\n",
       "    <tr>\n",
       "      <th>1459</th>\n",
       "      <td>329422.5</td>\n",
       "      <td>False</td>\n",
       "      <td>3</td>\n",
       "      <td>6</td>\n",
       "      <td>Winogrady</td>\n",
       "      <td>45</td>\n",
       "    </tr>\n",
       "    <tr>\n",
       "      <th>1126</th>\n",
       "      <td>281988.0</td>\n",
       "      <td>False</td>\n",
       "      <td>2</td>\n",
       "      <td>7</td>\n",
       "      <td>Naramowice</td>\n",
       "      <td>76</td>\n",
       "    </tr>\n",
       "  </tbody>\n",
       "</table>\n",
       "<p>1506 rows × 6 columns</p>\n",
       "</div>"
      ],
      "text/plain": [
       "          price  isNew  rooms  floor      location  sqrMeters\n",
       "275    345000.0   True      3      1     Winogrady         17\n",
       "1481   156085.0  False      2      4          Nowe         54\n",
       "51     565000.0   True      4      0        Sołacz         90\n",
       "1618   410000.0   True      2      5        Rataje         53\n",
       "76     289000.0   True      3      3        Rataje         48\n",
       "1164   341776.0   True      2      2         Stare         44\n",
       "1182   490000.0   True      4      2        Jeżyce         87\n",
       "212    332160.0   True      2      1      Grunwald         60\n",
       "1653   287394.0  False      2      2     Starołęka         50\n",
       "529    259000.0   True      2      3     Winogrady         40\n",
       "727    260000.0   True      3      4      Grunwald         47\n",
       "123    399000.0   True      3      1      Grunwald         65\n",
       "1557   328241.0  False      3      2     Winogrady         81\n",
       "932    250000.0   True      3      4        Dębiec         45\n",
       "344   1200000.0  False      5      0     Starołęka        193\n",
       "704    375000.0   True      3      2        Jeżyce         50\n",
       "968    380000.0   True      4      6      Piątkowo         73\n",
       "674    304140.0  False      3      5     Winogrady         18\n",
       "535    280000.0   True      4      4      Grunwald         40\n",
       "764    299000.0   True      3      0      Grunwald         53\n",
       "1132   349000.0  False      4      0  Szczepankowo         29\n",
       "342    355000.0   True      2      0      Podolany         93\n",
       "1124  1203616.0  False      5      0     Starołęka         71\n",
       "931    259000.0   True      2      2          Nowe         42\n",
       "251    548000.0   True      3      1      Grunwald         84\n",
       "483    370000.0   True      3      4         Stare         84\n",
       "1593   410000.0   True      2      5        Rataje         53\n",
       "67     329000.0   True      4      4          Nowe         20\n",
       "1386   285678.0   True      2      4     Winogrady         48\n",
       "1050   285000.0   True      3      1        Rataje         48\n",
       "...         ...    ...    ...    ...           ...        ...\n",
       "459    330615.0   True      2      2         Stare         79\n",
       "1184   211190.0  False      2      0      Podolany         78\n",
       "276    319000.0   True      3      3        Rataje         50\n",
       "955    315000.0   True      2      2     Winogrady         38\n",
       "1215   712980.0   True      4      3       Centrum        102\n",
       "385    344141.0   True      2      8     Winogrady         47\n",
       "805    620000.0   True      3      2    Naramowice         98\n",
       "1437   328241.0  False      3      5     Winogrady         81\n",
       "1515   352390.0  False      2     12      Grunwald         80\n",
       "343    287000.0   True      2     11     Winogrady         47\n",
       "769    240000.0   True      2      2         Stare         38\n",
       "1332   319998.0  False      3      1     Starołęka         95\n",
       "130    320000.0   True      3      4     Winogrady         54\n",
       "871    285000.0   True      2      4    Naramowice         42\n",
       "1123  1007500.0  False      4      1     Starołęka         94\n",
       "1396   449000.0   True      5      3         Wilda         97\n",
       "87     270000.0   True      3      4        Rataje         48\n",
       "1482   319875.0  False      2      7      Grunwald         18\n",
       "330    250000.0   True      3      2          Nowe         80\n",
       "1238   449000.0  False      5      0  Szczepankowo         68\n",
       "466    800000.0   True      4      3         Stare        103\n",
       "121    299000.0   True      3      6        Jeżyce         70\n",
       "1638   390000.0   True      4      4      Piątkowo         74\n",
       "1044   267704.0   True      2      3      Grunwald         45\n",
       "1095   229000.0   True      2      1      Grunwald         16\n",
       "1130   298250.0  False      2      6      Grunwald         38\n",
       "1294   247705.0   True      2      1        Jeżyce         50\n",
       "860    453600.0   True      2      3    Naramowice         56\n",
       "1459   329422.5  False      3      6     Winogrady         45\n",
       "1126   281988.0  False      2      7    Naramowice         76\n",
       "\n",
       "[1506 rows x 6 columns]"
      ]
     },
     "execution_count": 51,
     "metadata": {},
     "output_type": "execute_result"
    }
   ],
   "source": [
    "r_train"
   ]
  },
  {
   "cell_type": "markdown",
   "metadata": {},
   "source": [
    "Zakładamy w naszym przypadku, że cena będzie funkcją liniową (afiniczną) ilości metrów kwadratowych mieszkania. Jest to założenie logiczne- nim więcej metrów, tym większej ceny się spodziewamy.\n",
    "\n",
    "Jeżeli zależność jest liniowa powinniśmy być w stanie narysować prostą przebiegającą możliwie blisko wszystkich naszych obserwacji."
   ]
  },
  {
   "cell_type": "code",
   "execution_count": 52,
   "metadata": {},
   "outputs": [
    {
     "data": {
      "text/plain": [
       "<matplotlib.axes._subplots.AxesSubplot at 0x7f1b92bab160>"
      ]
     },
     "execution_count": 52,
     "metadata": {},
     "output_type": "execute_result"
    },
    {
     "data": {
      "image/png": "[encoded data removed]",
      "text/plain": [
       "<Figure size 432x288 with 1 Axes>"
      ]
     },
     "metadata": {
      "needs_background": "light"
     },
     "output_type": "display_data"
    }
   ],
   "source": [
    "sns.regplot(r_train.sqrMeters, r_train.price) # rzeczywiście - im więcej metrów kw. tym większa cena"
   ]
  },
  {
   "cell_type": "markdown",
   "metadata": {},
   "source": [
    "Zależność której szukamy możemy zapisać w postaci prostej funkcji $h= ax + b$, gdzie:\n",
    "* $h$- prognozowana przez nas cena mieszkania,\n",
    "* $x$- ilość metrów,\n",
    "* $a$- nieznany parametr\n",
    "* $b$- nieznany parametr\n",
    "\n",
    "Pozostaje tylko odnaleźć brakujące wartości $a$ i $b$ na podstawie danych historycznych. **Skąd bedziemy wiedzieli że znaleźliśmy właściwe wartości?**"
   ]
  },
  {
   "cell_type": "markdown",
   "metadata": {},
   "source": [
    "### Jak ocenić jakość naszego modelu?\n",
    "\n",
    "Najlepiej, żeby punkty (rzeczywiste, historyczne wartości) leżały na naszej prostej albo jak najlbliżej. Dla konkretnego $x$ kwadrat odległość rzeczywistej ceny $y$ od prognozowanej przez nas wartości ceny $h$ będziemy wynosi: : $$(y - h)^2$$ (kwadrat nakłada duże kary na większy dystans).\n",
    "\n",
    "\n",
    "Uśredniając po wszystkich punktach i biorąc pierwiastek z sumy:\n",
    "\n",
    "$$ RMSE = \\sqrt{\\, \\frac{1}{m} \\sum_{i = 1}^{m} \\left( h^{(i)} - y^{(i)} \\right) ^2 }$$\n",
    "\n",
    "\n",
    "Graficznie można to przedstawić tak:\n",
    "\n",
    "![](ml_introduction_pictures/residual.png)\n"
   ]
  },
  {
   "cell_type": "markdown",
   "metadata": {},
   "source": [
    "### Znalezienie parametrów\n",
    "\n",
    "**Jak znaleźć prostą która najlepiej wpasowuje się w nasze dane?**\n",
    "\n",
    "Nasz model to funkcja liniowa $y = ax + b$ to czego nie wiemy to wartości parametrów $a$ i $b$ dla których RMSE będzie miało najmniejszą wartość.\n",
    "\n",
    "Czyli chcemy znaleźć takie $a$ i $b$, żeby\n",
    "$$ RMSE = \\sqrt{\\, \\frac{1}{m} \\sum_{i = 1}^{m} \\left( h^{(i)} - y^{(i)} \\right) ^2 } = \\sqrt{\\, \\frac{1}{m} \\sum_{i = 1}^{m} \\left( ax + b - y^{(i)} \\right) ^2 } $$ było najmniejsze.\n",
    "\n",
    "Szukamy więc minimum funkcji RMSE (dla zmiennych $a$ i $b$). Implementacja może bazować na odwracaniu macierzy (bardzo kosztowne obliczeniowo) albo na metodach iteracyjnych - metody gradientu prostego, które są szybkie, ale nie zawsze dają optymalne rozwiazanie."
   ]
  },
  {
   "cell_type": "markdown",
   "metadata": {},
   "source": [
    "### Praktyka w sklearn\n",
    "\n",
    "W prakyce parametry $a$ i $b$ znajdowane są automatycznie przez bibliotekę. Łatwo znaleźć RMSE (chcemy jak najmniejsze) i zilustrować algorytm dla różnie wybranych zmiennych niezależnych.\n",
    "\n",
    "Szukajac właściwego modelu często patrzymy na różnego rodzaju baseline'y. W tym przypadku naturalnym estymatorem dla ceny mieszkania może być średnia cena wyliczona na podstawie całeo zbioru testowego. *Jakie RMSE ma taki \"model\"?*"
   ]
  },
  {
   "cell_type": "code",
   "execution_count": 53,
   "metadata": {},
   "outputs": [],
   "source": [
    "# tego typu modele nazywane są często 'dummy'. Ich implementacje dla regresji można znaleźć tu:\n",
    "# https://scikit-learn.org/stable/modules/generated/sklearn.dummy.DummyRegressor.html#sklearn.dummy.DummyRegressor"
   ]
  },
  {
   "cell_type": "code",
   "execution_count": 54,
   "metadata": {},
   "outputs": [
    {
     "name": "stdout",
     "output_type": "stream",
     "text": [
      "Baseline test RMSE:  132319.8586062466\n"
     ]
    }
   ],
   "source": [
    "import math\n",
    "from sklearn.metrics import mean_squared_error\n",
    "from sklearn.dummy import DummyRegressor\n",
    "\n",
    "dummy = DummyRegressor()\n",
    "dummy.fit(r_train[['sqrMeters']], r_train.price)\n",
    "predictions = dummy.predict(r_test[['sqrMeters']])\n",
    "\n",
    "baseline_RMSE = math.sqrt(mean_squared_error(predictions, r_test.price))\n",
    "print('Baseline test RMSE: ', baseline_RMSE)"
   ]
  },
  {
   "cell_type": "code",
   "execution_count": 55,
   "metadata": {},
   "outputs": [],
   "source": [
    "def evaluate_regression(column_name):\n",
    "     # narysujmy wykres danej cechy w funkcji ceny\n",
    "    sns.regplot(r_train[column_name], r_train.price)\n",
    "\n",
    "    # jakie RMSE uzyskamy dla tej cechy?\n",
    "    m1 = sklearn.linear_model.LinearRegression()\n",
    "    \n",
    "    # w ten sposób podajemy kolumny jako listę wartości do naszego modelu\n",
    "    # niestety nie akceptuje on pd.Series więc konwertujemy ją do listy\n",
    "    X_train = r_train[column_name].values.reshape(-1, 1)\n",
    "    y_train = r_train.price.values.reshape(-1, 1)\n",
    "    \n",
    "    # właściwe trenowanie modelu\n",
    "    m1.fit(X_train,y_train)\n",
    "    \n",
    "    # otrzymane wartości współczynników kierunkowych\n",
    "    print('a =',m1.coef_)\n",
    "    print('b =',m1.intercept_)\n",
    "    \n",
    "    # obliczanie RMSE dla zbioru testowego i trenującego\n",
    "    h_train = m1.predict(X_train)\n",
    "    X_test = r_test[column_name].values.reshape(-1, 1)\n",
    "    y_test = r_test.price.values.reshape(-1, 1)\n",
    "    h_test = m1.predict(X_test)\n",
    "    print('train RMSE = ',math.sqrt(sklearn.metrics.mean_squared_error(h_train,y_train)))\n",
    "    print('test RMSE = ',math.sqrt(sklearn.metrics.mean_squared_error(h_test,y_test)))\n",
    "    print('baseline RMSE = ', baseline_RMSE)\n",
    "    return m1"
   ]
  },
  {
   "cell_type": "code",
   "execution_count": 36,
   "metadata": {},
   "outputs": [
    {
     "name": "stdout",
     "output_type": "stream",
     "text": [
      "a = [[3068.3888604]]\n",
      "b = [188224.85764683]\n",
      "train RMSE =  150774.06905065523\n",
      "test RMSE =  127815.32507328365\n",
      "baseline RMSE =  132319.8586062466\n"
     ]
    },
    {
     "data": {
      "text/plain": [
       "LinearRegression(copy_X=True, fit_intercept=True, n_jobs=None,\n",
       "         normalize=False)"
      ]
     },
     "execution_count": 36,
     "metadata": {},
     "output_type": "execute_result"
    },
    {
     "data": {
      "image/png": "[encoded data removed]",
      "text/plain": [
       "<Figure size 432x288 with 1 Axes>"
      ]
     },
     "metadata": {
      "needs_background": "light"
     },
     "output_type": "display_data"
    }
   ],
   "source": [
    "evaluate_regression('sqrMeters') # wygląda przyzwoicie, nasza intuicja znalazła potwierdzenie ;-)"
   ]
  },
  {
   "cell_type": "code",
   "execution_count": 37,
   "metadata": {},
   "outputs": [
    {
     "name": "stdout",
     "output_type": "stream",
     "text": [
      "a = [[-3890.43649872]]\n",
      "b = [379073.82604205]\n",
      "train RMSE =  166710.92628099065\n",
      "test RMSE =  131775.93900814516\n",
      "baseline RMSE =  132319.8586062466\n"
     ]
    },
    {
     "data": {
      "text/plain": [
       "LinearRegression(copy_X=True, fit_intercept=True, n_jobs=None,\n",
       "         normalize=False)"
      ]
     },
     "execution_count": 37,
     "metadata": {},
     "output_type": "execute_result"
    },
    {
     "data": {
      "image/png": "[encoded data removed]",
      "text/plain": [
       "<Figure size 432x288 with 1 Axes>"
      ]
     },
     "metadata": {
      "needs_background": "light"
     },
     "output_type": "display_data"
    }
   ],
   "source": [
    "evaluate_regression('floor') # tu RMSE jest większy, więc gorszy wynik"
   ]
  },
  {
   "cell_type": "code",
   "execution_count": 38,
   "metadata": {
    "scrolled": true
   },
   "outputs": [
    {
     "name": "stdout",
     "output_type": "stream",
     "text": [
      "a = [[109249.72588559]]\n",
      "b = [73975.86848945]\n",
      "train RMSE =  143805.3301777836\n",
      "test RMSE =  114366.4008152457\n",
      "baseline RMSE =  132319.8586062466\n"
     ]
    },
    {
     "data": {
      "text/plain": [
       "LinearRegression(copy_X=True, fit_intercept=True, n_jobs=None,\n",
       "         normalize=False)"
      ]
     },
     "execution_count": 38,
     "metadata": {},
     "output_type": "execute_result"
    },
    {
     "data": {
      "image/png": "[encoded data removed]",
      "text/plain": [
       "<Figure size 432x288 with 1 Axes>"
      ]
     },
     "metadata": {
      "needs_background": "light"
     },
     "output_type": "display_data"
    }
   ],
   "source": [
    "evaluate_regression('rooms') # ilość pokoi ma większy wpływ - RMSE jest mniejsze"
   ]
  },
  {
   "cell_type": "code",
   "execution_count": 39,
   "metadata": {},
   "outputs": [
    {
     "name": "stdout",
     "output_type": "stream",
     "text": [
      "a = [[15923.77923887]]\n",
      "b = [355967.21104218]\n",
      "train RMSE =  166938.94909332873\n",
      "test RMSE =  132838.30892960774\n",
      "baseline RMSE =  132319.8586062466\n"
     ]
    },
    {
     "data": {
      "text/plain": [
       "LinearRegression(copy_X=True, fit_intercept=True, n_jobs=None,\n",
       "         normalize=False)"
      ]
     },
     "execution_count": 39,
     "metadata": {},
     "output_type": "execute_result"
    },
    {
     "data": {
      "image/png": "[encoded data removed]",
      "text/plain": [
       "<Figure size 432x288 with 1 Axes>"
      ]
     },
     "metadata": {
      "needs_background": "light"
     },
     "output_type": "display_data"
    }
   ],
   "source": [
    "# jak widać można używać cechy jakościowej binarnej\n",
    "evaluate_regression('isNew')\n",
    "# tutaj wynik jest kiepski"
   ]
  },
  {
   "cell_type": "markdown",
   "metadata": {},
   "source": [
    "# Ex. 1\n",
    "\n",
    "Jaką cene będzie miało według modelu opartego o liczbę pokoi mieszkanie, które ma 7 pokoi?"
   ]
  },
  {
   "cell_type": "code",
   "execution_count": 40,
   "metadata": {},
   "outputs": [
    {
     "name": "stdout",
     "output_type": "stream",
     "text": [
      "[[838723.94968861]]\n"
     ]
    }
   ],
   "source": [
    "# ?\n",
    "regr = sklearn.linear_model.LinearRegression()\n",
    "X_train = r_train['rooms'].values.reshape(-1, 1)\n",
    "y_train = r_train.price.values.reshape(-1, 1)\n",
    "regr.fit(X_train,y_train)\n",
    "\n",
    "print(regr.predict([[7]]))"
   ]
  },
  {
   "cell_type": "markdown",
   "metadata": {},
   "source": [
    "### Jakich cech możemy używać?\n",
    "\n",
    "**Zmienne ilościowe ciągłe (np. metry kw, długość) i dyskretne (np. liczba pokoi, liczba dzieci)** sa ok. Dla **zmiennej ilościowej porządkowej (np. wykształcenie, ocena w szkole, godzina wystapienia zdarzenia)** model będzie dawał jakiś wynik (choć niekoniecznie formalnie poprawne jest jego użycie, gdyż założenie liniowości nie będzie spełnione).\n",
    "\n",
    "**Zmienne jakościowe binarne** sa ok (jak widać wyżej)\n",
    "\n",
    "**Zmiennych jakościowe o więcej niz 2 klasach** nie wrzucamy do modelu tak po prostu (a nawet jeżeli byśmy chcieli, to w jakiej kolejnosci np. zmapować religie na integery i jaką dostaniemy informację z modelu?)\n",
    "\n",
    "Zmienne jakościowe możemy:\n",
    "* usunać z modelu\n",
    "* stworzyć tyle modeli ile jest kombinacji zmiennych jakościowych\n",
    "* użyć one hot encoding (o tym później) lub innej reprezentacji"
   ]
  },
  {
   "cell_type": "markdown",
   "metadata": {},
   "source": [
    "### Jakie wybrać cechy\n",
    "\n",
    "Oczywiście takie, które dają najmniejszy RMSE. Najlepsze będą cechy skorelowane liniowo ze zmienną zależną:"
   ]
  },
  {
   "cell_type": "code",
   "execution_count": 41,
   "metadata": {
    "scrolled": true
   },
   "outputs": [
    {
     "data": {
      "text/plain": [
       "price        1.000000\n",
       "isNew        0.034873\n",
       "rooms        0.508833\n",
       "floor       -0.068882\n",
       "sqrMeters    0.422073\n",
       "Name: price, dtype: float64"
      ]
     },
     "execution_count": 41,
     "metadata": {},
     "output_type": "execute_result"
    }
   ],
   "source": [
    "r.corr()['price']"
   ]
  },
  {
   "cell_type": "markdown",
   "metadata": {},
   "source": [
    "Jak widać **sqrMeters** ma wysoką korelację, a **liczba pokoi** jeszcze wyższą"
   ]
  },
  {
   "cell_type": "markdown",
   "metadata": {},
   "source": [
    "### Regresja wielu zmiennych\n",
    "\n",
    "Oczywiście regresja nie musi być funkcją jednej zmiennej. Może być także funkcją wielu zmiennych (np. ilości metrów kwadratowych oraz ilości pokoi. Model wygląda wtedy: $$h = a_1 * x_1 + a_2 * x_2  + b$$ i szukamy wtedy $a_1$, $a_2$, $b$.\n",
    "\n",
    "\n",
    "Dostaniemy wtedy lepszy wynik na zbiorze trenującym. Lepiej jednak nie używać nieskorelowanych liniowo cech, gdyż na zbiorze testowym raczej nie będą dawać lepszych wyników oraz komplikują model.\n",
    "\n",
    "Sprawdźmy jak będzie wyglądał model 2 zmiennych (tracimy możliwość łatwej wizualizacji):"
   ]
  },
  {
   "cell_type": "code",
   "execution_count": 42,
   "metadata": {},
   "outputs": [
    {
     "name": "stdout",
     "output_type": "stream",
     "text": [
      "a1, a2  = [ 1954.86227142 86357.53059651]\n",
      "b= [21209.70918184]\n",
      "RMSE train:  137451.9310339925\n",
      "RMSE test:  112233.8173784902\n",
      "baseline RMSE:  132319.8586062466\n"
     ]
    }
   ],
   "source": [
    "features = ['sqrMeters', 'rooms']\n",
    "label = ['price']\n",
    "\n",
    "m1 = sklearn.linear_model.LinearRegression()\n",
    "X_train = r_train[features]\n",
    "y_train = r_train[label].values.reshape(-1, 1)\n",
    "\n",
    "X_test = r_test[features]\n",
    "y_test = r_test[label].values.reshape(-1, 1)\n",
    "m1.fit(X_train,y_train)\n",
    "\n",
    "h_train = m1.predict(X_train)\n",
    "h_test = m1.predict(X_test)\n",
    "print('a1, a2  =',m1.coef_[0])\n",
    "print('b=',m1.intercept_)\n",
    "\n",
    "h_train = m1.predict(X_train)\n",
    "print('RMSE train: ',math.sqrt(sklearn.metrics.mean_squared_error(h_train,y_train)))\n",
    "print('RMSE test: ',math.sqrt(sklearn.metrics.mean_squared_error(h_test,y_test)))\n",
    "print('baseline RMSE: ', baseline_RMSE)"
   ]
  },
  {
   "cell_type": "code",
   "execution_count": 43,
   "metadata": {},
   "outputs": [
    {
     "data": {
      "text/plain": [
       "array([[ 1954.86227142, 86357.53059651]])"
      ]
     },
     "execution_count": 43,
     "metadata": {},
     "output_type": "execute_result"
    }
   ],
   "source": [
    "m1.coef_"
   ]
  },
  {
   "cell_type": "markdown",
   "metadata": {},
   "source": [
    "Jak widać RMSE jest jeszcze mniejsze.\n",
    "\n",
    "**Regresja liniowa jest bardzo czuła na obserwacje odstające.** \n",
    "\n",
    "Warto też rozważyć eliminacje danych odstających z modelu. Proste modele takie jak regresja liniowa mają ograniczoną pojemność informacyjną aby dobrze działały konieczny może być spory wysiłek jeżeli chodzi o przygotowanie danych wejściowych. \n",
    "\n",
    "Najprostszą heurystyką do usuwania outlierów jest wybranie progu wartości od którego usuwamy obserwacje odstające"
   ]
  },
  {
   "cell_type": "code",
   "execution_count": 44,
   "metadata": {},
   "outputs": [],
   "source": [
    "import numpy as np\n",
    "price_p995 = np.percentile(y_train, q=99.5)\n",
    "\n",
    "no_outliers_mask = y_train <= price_p995\n",
    "no_outliers_y_train = y_train[no_outliers_mask]\n",
    "no_outliers_train = r_train[no_outliers_mask]"
   ]
  },
  {
   "cell_type": "markdown",
   "metadata": {},
   "source": [
    "**Ex. 2**\n",
    "Czy wytrenowanie modelu bez outlierów ma pozytywny wpływ na skuteczność działania modelu w tym przypadku? "
   ]
  },
  {
   "cell_type": "code",
   "execution_count": null,
   "metadata": {},
   "outputs": [],
   "source": []
  },
  {
   "cell_type": "markdown",
   "metadata": {},
   "source": [
    "### Cechy regresji liniowej\n",
    "\n",
    "#### Zakłada liniowość zmiennej zależnej względem zmiennej/zmiennych niezależnych\n",
    "Nie zawsze jest to założenie zgodne z rzeczywistością (np. na drugim rysunku widać korelację kwadratową, a nie liniową:\n",
    "\n",
    "![przed skalowaniem](ml_introduction_pictures/anscombe.png)\n",
    "\n",
    "Oczywiście jako modelu możemy użyć także funkcji kwadratowej, logarytmicznej, dowolnego wielomianu wielu zmiennych (zależy od danych)\n",
    "\n",
    "\n",
    "#### Ze zmiennymi jakościowymi musimy się trochę pomęczyć (uwaga wyżej)\n",
    "\n",
    "#### Regresja jest podstawą działania sieci neuronowych (sieć neuronowa tak naprawdę składa się z wielu regresji przedzielanych nieliniowymi funkcjami aktywacji)\n",
    "\n",
    "\n",
    "#### Nie musimy minimaliować akurat RMSE\n",
    "Może to być tez po np. odległość absolutna: $$ \\frac{1}{m} \\sum_{i = 1}^{m} \\| \\left( h^{(i)} - y^{(i)} \\right) \\|$$"
   ]
  },
  {
   "cell_type": "markdown",
   "metadata": {},
   "source": [
    "#### ZADANIE: Zrób wszystkie ćwiczenia z tego arkusza ze zbiorem ceny_aut_w_polsce.tsv, w szczególnosci:\n",
    "\n",
    "* znajdź cechę która daje najlepszy wynik, wylicz dla niej RMSE i narysuj wykres\n",
    "* to samo z 2 cechami\n",
    "* to samo ze wszystkimi cechami\n",
    "\n",
    "**Ten zbiór jest o wiele większy, więc wyniki będą bardziej stabilne**"
   ]
  }
 ],
 "metadata": {
  "kernelspec": {
   "display_name": "Python 3",
   "language": "python",
   "name": "python3"
  },
  "language_info": {
   "codemirror_mode": {
    "name": "ipython",
    "version": 3
   },
   "file_extension": ".py",
   "mimetype": "text/x-python",
   "name": "python",
   "nbconvert_exporter": "python",
   "pygments_lexer": "ipython3",
   "version": "3.7.3"
  }
 },
 "nbformat": 4,
 "nbformat_minor": 2
}
