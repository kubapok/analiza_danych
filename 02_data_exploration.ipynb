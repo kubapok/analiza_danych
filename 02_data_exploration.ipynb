{
 "cells": [
  {
   "cell_type": "markdown",
   "metadata": {},
   "source": [
    "# Wczytujemy dane z pliku\n",
    "\n",
    "Zbiór to prawdziwe ceny mieszkań w Poznaniu zescrappowane z portalu gratka \n"
   ]
  },
  {
   "cell_type": "code",
   "execution_count": 57,
   "metadata": {},
   "outputs": [],
   "source": [
    "import pandas as pd\n",
    "import matplotlib.pyplot as plt\n",
    "import seaborn as sns\n",
    "import numpy as np\n",
    "import pandas_profiling\n",
    "%matplotlib inline  "
   ]
  },
  {
   "cell_type": "code",
   "execution_count": 2,
   "metadata": {},
   "outputs": [],
   "source": [
    "r = pd.read_csv('ceny_mieszkan_w_poznaniu.tsv', sep = '\\t')"
   ]
  },
  {
   "cell_type": "markdown",
   "metadata": {},
   "source": [
    "# Oglądamy wstępnie dane"
   ]
  },
  {
   "cell_type": "code",
   "execution_count": 3,
   "metadata": {},
   "outputs": [
    {
     "data": {
      "text/plain": [
       "1674"
      ]
     },
     "execution_count": 3,
     "metadata": {},
     "output_type": "execute_result"
    }
   ],
   "source": [
    "len(r)"
   ]
  },
  {
   "cell_type": "code",
   "execution_count": 4,
   "metadata": {},
   "outputs": [
    {
     "data": {
      "text/html": [
       "<div>\n",
       "<style scoped>\n",
       "    .dataframe tbody tr th:only-of-type {\n",
       "        vertical-align: middle;\n",
       "    }\n",
       "\n",
       "    .dataframe tbody tr th {\n",
       "        vertical-align: top;\n",
       "    }\n",
       "\n",
       "    .dataframe thead th {\n",
       "        text-align: right;\n",
       "    }\n",
       "</style>\n",
       "<table border=\"1\" class=\"dataframe\">\n",
       "  <thead>\n",
       "    <tr style=\"text-align: right;\">\n",
       "      <th></th>\n",
       "      <th>price</th>\n",
       "      <th>isNew</th>\n",
       "      <th>rooms</th>\n",
       "      <th>floor</th>\n",
       "      <th>location</th>\n",
       "      <th>sqrMeters</th>\n",
       "    </tr>\n",
       "  </thead>\n",
       "  <tbody>\n",
       "    <tr>\n",
       "      <th>1669</th>\n",
       "      <td>299000.0</td>\n",
       "      <td>True</td>\n",
       "      <td>2</td>\n",
       "      <td>0</td>\n",
       "      <td>Grunwald</td>\n",
       "      <td>51</td>\n",
       "    </tr>\n",
       "    <tr>\n",
       "      <th>1670</th>\n",
       "      <td>339000.0</td>\n",
       "      <td>True</td>\n",
       "      <td>2</td>\n",
       "      <td>2</td>\n",
       "      <td>Centrum</td>\n",
       "      <td>53</td>\n",
       "    </tr>\n",
       "    <tr>\n",
       "      <th>1671</th>\n",
       "      <td>320000.0</td>\n",
       "      <td>True</td>\n",
       "      <td>3</td>\n",
       "      <td>4</td>\n",
       "      <td>Stare</td>\n",
       "      <td>65</td>\n",
       "    </tr>\n",
       "    <tr>\n",
       "      <th>1672</th>\n",
       "      <td>364000.0</td>\n",
       "      <td>True</td>\n",
       "      <td>3</td>\n",
       "      <td>1</td>\n",
       "      <td>Nowe</td>\n",
       "      <td>67</td>\n",
       "    </tr>\n",
       "    <tr>\n",
       "      <th>1673</th>\n",
       "      <td>209000.0</td>\n",
       "      <td>True</td>\n",
       "      <td>3</td>\n",
       "      <td>3</td>\n",
       "      <td>Grunwald</td>\n",
       "      <td>50</td>\n",
       "    </tr>\n",
       "  </tbody>\n",
       "</table>\n",
       "</div>"
      ],
      "text/plain": [
       "         price  isNew  rooms  floor  location  sqrMeters\n",
       "1669  299000.0   True      2      0  Grunwald         51\n",
       "1670  339000.0   True      2      2   Centrum         53\n",
       "1671  320000.0   True      3      4     Stare         65\n",
       "1672  364000.0   True      3      1      Nowe         67\n",
       "1673  209000.0   True      3      3  Grunwald         50"
      ]
     },
     "execution_count": 4,
     "metadata": {},
     "output_type": "execute_result"
    }
   ],
   "source": [
    "r.tail()"
   ]
  },
  {
   "cell_type": "code",
   "execution_count": 5,
   "metadata": {},
   "outputs": [
    {
     "data": {
      "text/plain": [
       "(1674, 6)"
      ]
     },
     "execution_count": 5,
     "metadata": {},
     "output_type": "execute_result"
    }
   ],
   "source": [
    "r.shape"
   ]
  },
  {
   "cell_type": "code",
   "execution_count": 6,
   "metadata": {},
   "outputs": [
    {
     "data": {
      "text/html": [
       "<div>\n",
       "<style scoped>\n",
       "    .dataframe tbody tr th:only-of-type {\n",
       "        vertical-align: middle;\n",
       "    }\n",
       "\n",
       "    .dataframe tbody tr th {\n",
       "        vertical-align: top;\n",
       "    }\n",
       "\n",
       "    .dataframe thead th {\n",
       "        text-align: right;\n",
       "    }\n",
       "</style>\n",
       "<table border=\"1\" class=\"dataframe\">\n",
       "  <thead>\n",
       "    <tr style=\"text-align: right;\">\n",
       "      <th></th>\n",
       "      <th>price</th>\n",
       "      <th>rooms</th>\n",
       "      <th>floor</th>\n",
       "      <th>sqrMeters</th>\n",
       "    </tr>\n",
       "  </thead>\n",
       "  <tbody>\n",
       "    <tr>\n",
       "      <th>count</th>\n",
       "      <td>1.674000e+03</td>\n",
       "      <td>1674.000000</td>\n",
       "      <td>1674.000000</td>\n",
       "      <td>1674.000000</td>\n",
       "    </tr>\n",
       "    <tr>\n",
       "      <th>mean</th>\n",
       "      <td>3.672813e+05</td>\n",
       "      <td>2.684588</td>\n",
       "      <td>2.989247</td>\n",
       "      <td>57.877539</td>\n",
       "    </tr>\n",
       "    <tr>\n",
       "      <th>std</th>\n",
       "      <td>1.639803e+05</td>\n",
       "      <td>0.775238</td>\n",
       "      <td>2.950053</td>\n",
       "      <td>23.091438</td>\n",
       "    </tr>\n",
       "    <tr>\n",
       "      <th>min</th>\n",
       "      <td>1.000000e+05</td>\n",
       "      <td>2.000000</td>\n",
       "      <td>0.000000</td>\n",
       "      <td>12.000000</td>\n",
       "    </tr>\n",
       "    <tr>\n",
       "      <th>25%</th>\n",
       "      <td>2.800625e+05</td>\n",
       "      <td>2.000000</td>\n",
       "      <td>1.000000</td>\n",
       "      <td>44.000000</td>\n",
       "    </tr>\n",
       "    <tr>\n",
       "      <th>50%</th>\n",
       "      <td>3.301275e+05</td>\n",
       "      <td>3.000000</td>\n",
       "      <td>2.000000</td>\n",
       "      <td>54.000000</td>\n",
       "    </tr>\n",
       "    <tr>\n",
       "      <th>75%</th>\n",
       "      <td>3.990000e+05</td>\n",
       "      <td>3.000000</td>\n",
       "      <td>4.000000</td>\n",
       "      <td>71.000000</td>\n",
       "    </tr>\n",
       "    <tr>\n",
       "      <th>max</th>\n",
       "      <td>2.700000e+06</td>\n",
       "      <td>7.000000</td>\n",
       "      <td>16.000000</td>\n",
       "      <td>196.000000</td>\n",
       "    </tr>\n",
       "  </tbody>\n",
       "</table>\n",
       "</div>"
      ],
      "text/plain": [
       "              price        rooms        floor    sqrMeters\n",
       "count  1.674000e+03  1674.000000  1674.000000  1674.000000\n",
       "mean   3.672813e+05     2.684588     2.989247    57.877539\n",
       "std    1.639803e+05     0.775238     2.950053    23.091438\n",
       "min    1.000000e+05     2.000000     0.000000    12.000000\n",
       "25%    2.800625e+05     2.000000     1.000000    44.000000\n",
       "50%    3.301275e+05     3.000000     2.000000    54.000000\n",
       "75%    3.990000e+05     3.000000     4.000000    71.000000\n",
       "max    2.700000e+06     7.000000    16.000000   196.000000"
      ]
     },
     "execution_count": 6,
     "metadata": {},
     "output_type": "execute_result"
    }
   ],
   "source": [
    "r.describe()"
   ]
  },
  {
   "cell_type": "code",
   "execution_count": 7,
   "metadata": {
    "scrolled": true
   },
   "outputs": [
    {
     "data": {
      "text/plain": [
       "0          Centrum\n",
       "1           Sołacz\n",
       "2           Sołacz\n",
       "3           Sołacz\n",
       "4           Sołacz\n",
       "5       Naramowice\n",
       "6            Wilda\n",
       "7         Grunwald\n",
       "8         Grunwald\n",
       "9         Grunwald\n",
       "10            Nowe\n",
       "11           Wilda\n",
       "12        Grunwald\n",
       "13           Wilda\n",
       "14       Starołęka\n",
       "15       Winogrady\n",
       "16          Rataje\n",
       "17       Winogrady\n",
       "18          Zawady\n",
       "19          Rataje\n",
       "20           Malta\n",
       "21          Rataje\n",
       "22          Rataje\n",
       "23          Rataje\n",
       "24            Nowe\n",
       "25           Wilda\n",
       "26      Komandoria\n",
       "27        Podolany\n",
       "28          Dębiec\n",
       "29          Rataje\n",
       "           ...    \n",
       "1644          Nowe\n",
       "1645     Winogrady\n",
       "1646         Stare\n",
       "1647         Wilda\n",
       "1648        Sołacz\n",
       "1649        Jeżyce\n",
       "1650      Grunwald\n",
       "1651     Starołęka\n",
       "1652     Starołęka\n",
       "1653     Starołęka\n",
       "1654     Starołęka\n",
       "1655         Stare\n",
       "1656      Podolany\n",
       "1657          Nowe\n",
       "1658     Winogrady\n",
       "1659      Podolany\n",
       "1660         Wilda\n",
       "1661       Górczyn\n",
       "1662        Dębiec\n",
       "1663         Stare\n",
       "1664          Nowe\n",
       "1665         Stare\n",
       "1666         Stare\n",
       "1667      Grunwald\n",
       "1668         Stare\n",
       "1669      Grunwald\n",
       "1670       Centrum\n",
       "1671         Stare\n",
       "1672          Nowe\n",
       "1673      Grunwald\n",
       "Name: location, Length: 1674, dtype: object"
      ]
     },
     "execution_count": 7,
     "metadata": {},
     "output_type": "execute_result"
    }
   ],
   "source": [
    "r['location']"
   ]
  },
  {
   "cell_type": "code",
   "execution_count": 8,
   "metadata": {},
   "outputs": [
    {
     "data": {
      "text/plain": [
       "Grunwald        303\n",
       "Winogrady       217\n",
       "Rataje          164\n",
       "Jeżyce          138\n",
       "Stare           128\n",
       "Centrum         116\n",
       "Nowe             92\n",
       "Piątkowo         76\n",
       "Wilda            75\n",
       "Naramowice       69\n",
       "Starołęka        45\n",
       "Podolany         41\n",
       "Łazarz           34\n",
       "Dębiec           32\n",
       "Górczyn          31\n",
       "Sołacz           21\n",
       "Głuszyna         13\n",
       "Szczepankowo     12\n",
       "Ogrody            8\n",
       "Malta             7\n",
       "Winiary           5\n",
       "Śródka            5\n",
       "Zawady            5\n",
       "Chwaliszewo       4\n",
       "Antoninek         3\n",
       "Garbary           3\n",
       "Świerczewo        3\n",
       "Bonin             3\n",
       "Plewiska          3\n",
       "Strzeszyn         2\n",
       "Dolna             2\n",
       "Żegrze            2\n",
       "Kobylepole        1\n",
       "Suchy             1\n",
       "Morasko           1\n",
       "Komandoria        1\n",
       "Smochowice        1\n",
       "Nadolnik          1\n",
       "Piatkowo          1\n",
       "Wilczak           1\n",
       "Ławica            1\n",
       "Kopernika         1\n",
       "Dąbrowskiego      1\n",
       "Komorniki         1\n",
       "Name: location, dtype: int64"
      ]
     },
     "execution_count": 8,
     "metadata": {},
     "output_type": "execute_result"
    }
   ],
   "source": [
    "r.location.value_counts()"
   ]
  },
  {
   "cell_type": "code",
   "execution_count": 9,
   "metadata": {},
   "outputs": [
    {
     "data": {
      "text/plain": [
       "price        float64\n",
       "isNew           bool\n",
       "rooms          int64\n",
       "floor          int64\n",
       "location      object\n",
       "sqrMeters      int64\n",
       "dtype: object"
      ]
     },
     "execution_count": 9,
     "metadata": {},
     "output_type": "execute_result"
    }
   ],
   "source": [
    "r.dtypes"
   ]
  },
  {
   "cell_type": "markdown",
   "metadata": {},
   "source": [
    "## Dane (typy danych/zmienne w statystyce) na przykładach\n",
    "### Cena, ilośc m. kw. = zmienna ilościowa ciągła \n",
    "\n",
    "Przestrzeń liczb rzeczywistych (albo podzbiór ciągły)\n",
    "\n",
    "tak samo np. zarobki, długośc w metrach, waga\n",
    "\n",
    "Zawsze jesteśmy w stanie mieć większą dokładność pomiarów. Miedzy wzrostem 1.80m, a 1.81m jest nieprzeliczalna ilośc wartości.\n",
    "\n",
    "\n",
    "### Ilość pokoi, piętro = zmienna ilościowa dyskretna\n",
    "\n",
    "Zbiór wartości to uporządkowany zbiór dyskretny.\n",
    "\n",
    "możemy powiedzieć że coś jest o ileś/ileś razy większe od czegoś (np 5 członków rodziny to więcej niż 3 członków rodziny, 4 pokoje to dwa razy więcej niż 2 pokoje)\n",
    "\n",
    "np. ocena w skali 1-10 (co 1), liczba dzieci\n",
    "\n",
    "\n",
    "### zmienna ilościowa porządkowa ( w tym zbiorze nie ma)\n",
    "\n",
    "np. wykształcenie, oceny studentów\n",
    "\n",
    "Pewien skończony zbiór lub uporządkowany zbiór dyskretny\n",
    "\n",
    "Można uporządkować, bo lepiej mieć wykszłcenie wyższe niż średnie albo ocene 5 niż 2\n",
    "\n",
    "Nie możemy natomiast powiedzieć że wykształcenie wyższe jest ileś razy lepsze niż średnie albo ocena 5 jest lepsza ileś razy niż ocena 2.\n",
    "\n",
    "### lokacja = zmienna jakościowa (kategoryczna)\n",
    "\n",
    "Zbioru wartości nie da się sensownie uporządkować (bo nie można powiedzieć że Stare Miasto jest przed Sołaczem albo że chrześcijaństwo jest lepsze niż islam)"
   ]
  },
  {
   "cell_type": "code",
   "execution_count": 10,
   "metadata": {},
   "outputs": [
    {
     "data": {
      "text/html": [
       "<div>\n",
       "<style scoped>\n",
       "    .dataframe tbody tr th:only-of-type {\n",
       "        vertical-align: middle;\n",
       "    }\n",
       "\n",
       "    .dataframe tbody tr th {\n",
       "        vertical-align: top;\n",
       "    }\n",
       "\n",
       "    .dataframe thead th {\n",
       "        text-align: right;\n",
       "    }\n",
       "</style>\n",
       "<table border=\"1\" class=\"dataframe\">\n",
       "  <thead>\n",
       "    <tr style=\"text-align: right;\">\n",
       "      <th></th>\n",
       "      <th>count</th>\n",
       "      <th>mean</th>\n",
       "      <th>std</th>\n",
       "      <th>min</th>\n",
       "      <th>25%</th>\n",
       "      <th>50%</th>\n",
       "      <th>75%</th>\n",
       "      <th>max</th>\n",
       "    </tr>\n",
       "  </thead>\n",
       "  <tbody>\n",
       "    <tr>\n",
       "      <th>price</th>\n",
       "      <td>1674.0</td>\n",
       "      <td>367281.254283</td>\n",
       "      <td>163980.312648</td>\n",
       "      <td>100000.0</td>\n",
       "      <td>280062.5</td>\n",
       "      <td>330127.5</td>\n",
       "      <td>399000.0</td>\n",
       "      <td>2700000.0</td>\n",
       "    </tr>\n",
       "    <tr>\n",
       "      <th>rooms</th>\n",
       "      <td>1674.0</td>\n",
       "      <td>2.684588</td>\n",
       "      <td>0.775238</td>\n",
       "      <td>2.0</td>\n",
       "      <td>2.0</td>\n",
       "      <td>3.0</td>\n",
       "      <td>3.0</td>\n",
       "      <td>7.0</td>\n",
       "    </tr>\n",
       "    <tr>\n",
       "      <th>floor</th>\n",
       "      <td>1674.0</td>\n",
       "      <td>2.989247</td>\n",
       "      <td>2.950053</td>\n",
       "      <td>0.0</td>\n",
       "      <td>1.0</td>\n",
       "      <td>2.0</td>\n",
       "      <td>4.0</td>\n",
       "      <td>16.0</td>\n",
       "    </tr>\n",
       "    <tr>\n",
       "      <th>sqrMeters</th>\n",
       "      <td>1674.0</td>\n",
       "      <td>57.877539</td>\n",
       "      <td>23.091438</td>\n",
       "      <td>12.0</td>\n",
       "      <td>44.0</td>\n",
       "      <td>54.0</td>\n",
       "      <td>71.0</td>\n",
       "      <td>196.0</td>\n",
       "    </tr>\n",
       "  </tbody>\n",
       "</table>\n",
       "</div>"
      ],
      "text/plain": [
       "            count           mean            std       min       25%       50%  \\\n",
       "price      1674.0  367281.254283  163980.312648  100000.0  280062.5  330127.5   \n",
       "rooms      1674.0       2.684588       0.775238       2.0       2.0       3.0   \n",
       "floor      1674.0       2.989247       2.950053       0.0       1.0       2.0   \n",
       "sqrMeters  1674.0      57.877539      23.091438      12.0      44.0      54.0   \n",
       "\n",
       "                75%        max  \n",
       "price      399000.0  2700000.0  \n",
       "rooms           3.0        7.0  \n",
       "floor           4.0       16.0  \n",
       "sqrMeters      71.0      196.0  "
      ]
     },
     "execution_count": 10,
     "metadata": {},
     "output_type": "execute_result"
    }
   ],
   "source": [
    "r.describe().T"
   ]
  },
  {
   "cell_type": "code",
   "execution_count": 11,
   "metadata": {},
   "outputs": [
    {
     "data": {
      "text/html": [
       "<div>\n",
       "<style scoped>\n",
       "    .dataframe tbody tr th:only-of-type {\n",
       "        vertical-align: middle;\n",
       "    }\n",
       "\n",
       "    .dataframe tbody tr th {\n",
       "        vertical-align: top;\n",
       "    }\n",
       "\n",
       "    .dataframe thead th {\n",
       "        text-align: right;\n",
       "    }\n",
       "</style>\n",
       "<table border=\"1\" class=\"dataframe\">\n",
       "  <thead>\n",
       "    <tr style=\"text-align: right;\">\n",
       "      <th></th>\n",
       "      <th>price</th>\n",
       "      <th>isNew</th>\n",
       "      <th>rooms</th>\n",
       "      <th>floor</th>\n",
       "      <th>location</th>\n",
       "      <th>sqrMeters</th>\n",
       "    </tr>\n",
       "  </thead>\n",
       "  <tbody>\n",
       "    <tr>\n",
       "      <th>0</th>\n",
       "      <td>476118.0</td>\n",
       "      <td>False</td>\n",
       "      <td>3</td>\n",
       "      <td>1</td>\n",
       "      <td>Centrum</td>\n",
       "      <td>78</td>\n",
       "    </tr>\n",
       "    <tr>\n",
       "      <th>1</th>\n",
       "      <td>459531.0</td>\n",
       "      <td>False</td>\n",
       "      <td>3</td>\n",
       "      <td>2</td>\n",
       "      <td>Sołacz</td>\n",
       "      <td>62</td>\n",
       "    </tr>\n",
       "    <tr>\n",
       "      <th>2</th>\n",
       "      <td>411557.0</td>\n",
       "      <td>False</td>\n",
       "      <td>3</td>\n",
       "      <td>0</td>\n",
       "      <td>Sołacz</td>\n",
       "      <td>15</td>\n",
       "    </tr>\n",
       "    <tr>\n",
       "      <th>3</th>\n",
       "      <td>496416.0</td>\n",
       "      <td>False</td>\n",
       "      <td>4</td>\n",
       "      <td>0</td>\n",
       "      <td>Sołacz</td>\n",
       "      <td>14</td>\n",
       "    </tr>\n",
       "    <tr>\n",
       "      <th>4</th>\n",
       "      <td>406032.0</td>\n",
       "      <td>False</td>\n",
       "      <td>3</td>\n",
       "      <td>0</td>\n",
       "      <td>Sołacz</td>\n",
       "      <td>15</td>\n",
       "    </tr>\n",
       "  </tbody>\n",
       "</table>\n",
       "</div>"
      ],
      "text/plain": [
       "      price  isNew  rooms  floor location  sqrMeters\n",
       "0  476118.0  False      3      1  Centrum         78\n",
       "1  459531.0  False      3      2   Sołacz         62\n",
       "2  411557.0  False      3      0   Sołacz         15\n",
       "3  496416.0  False      4      0   Sołacz         14\n",
       "4  406032.0  False      3      0   Sołacz         15"
      ]
     },
     "execution_count": 11,
     "metadata": {},
     "output_type": "execute_result"
    }
   ],
   "source": [
    "r.head()"
   ]
  },
  {
   "cell_type": "code",
   "execution_count": 12,
   "metadata": {},
   "outputs": [
    {
     "data": {
      "text/plain": [
       "0    476118.0\n",
       "1    459531.0\n",
       "2    411557.0\n",
       "3    496416.0\n",
       "4    406032.0\n",
       "Name: price, dtype: float64"
      ]
     },
     "execution_count": 12,
     "metadata": {},
     "output_type": "execute_result"
    }
   ],
   "source": [
    "r['price'].head()"
   ]
  },
  {
   "cell_type": "markdown",
   "metadata": {},
   "source": [
    "# To teraz spróbujmy je narysować"
   ]
  },
  {
   "cell_type": "code",
   "execution_count": 13,
   "metadata": {},
   "outputs": [
    {
     "data": {
      "text/plain": [
       "<matplotlib.axes._subplots.AxesSubplot at 0x7f3d4e1f3ac8>"
      ]
     },
     "execution_count": 13,
     "metadata": {},
     "output_type": "execute_result"
    },
    {
     "data": {
      "image/png": "[encoded data removed]",
      "text/plain": [
       "<Figure size 432x288 with 1 Axes>"
      ]
     },
     "metadata": {
      "needs_background": "light"
     },
     "output_type": "display_data"
    }
   ],
   "source": [
    "r.plot()"
   ]
  },
  {
   "cell_type": "code",
   "execution_count": 14,
   "metadata": {},
   "outputs": [
    {
     "data": {
      "text/plain": [
       "<matplotlib.axes._subplots.AxesSubplot at 0x7f3d4bdb6b70>"
      ]
     },
     "execution_count": 14,
     "metadata": {},
     "output_type": "execute_result"
    },
    {
     "data": {
      "image/png": "[encoded data removed]",
      "text/plain": [
       "<Figure size 432x288 with 1 Axes>"
      ]
     },
     "metadata": {
      "needs_background": "light"
     },
     "output_type": "display_data"
    }
   ],
   "source": [
    "r['price'].plot()"
   ]
  },
  {
   "cell_type": "markdown",
   "metadata": {},
   "source": [
    "## Te dane są w porządku losowym (więc powyższe wykresy są nieczytelne). Posortujmy je"
   ]
  },
  {
   "cell_type": "code",
   "execution_count": 15,
   "metadata": {},
   "outputs": [],
   "source": [
    "r_sorted_by_price = r.sort_values(by=['price'])"
   ]
  },
  {
   "cell_type": "code",
   "execution_count": 16,
   "metadata": {},
   "outputs": [
    {
     "data": {
      "text/plain": [
       "<matplotlib.axes._subplots.AxesSubplot at 0x7f3d4bd43f98>"
      ]
     },
     "execution_count": 16,
     "metadata": {},
     "output_type": "execute_result"
    },
    {
     "data": {
      "image/png": "[encoded data removed]",
      "text/plain": [
       "<Figure size 432x288 with 1 Axes>"
      ]
     },
     "metadata": {
      "needs_background": "light"
     },
     "output_type": "display_data"
    }
   ],
   "source": [
    "r_sorted_by_price['price'].plot(use_index=False)"
   ]
  },
  {
   "cell_type": "markdown",
   "metadata": {},
   "source": [
    "## Nadal średnio to wygląda, bo danych jest zbyt dużo do ogarnięcia na raz, spróbujmy inaczej, po każdej cesze z osobna:"
   ]
  },
  {
   "cell_type": "code",
   "execution_count": 17,
   "metadata": {},
   "outputs": [
    {
     "data": {
      "text/plain": [
       "<matplotlib.axes._subplots.AxesSubplot at 0x7f3d4bcd3630>"
      ]
     },
     "execution_count": 17,
     "metadata": {},
     "output_type": "execute_result"
    },
    {
     "data": {
      "image/png": "[encoded data removed]",
      "text/plain": [
       "<Figure size 432x288 with 1 Axes>"
      ]
     },
     "metadata": {
      "needs_background": "light"
     },
     "output_type": "display_data"
    }
   ],
   "source": [
    "r.price.plot(kind = 'hist', bins=30)"
   ]
  },
  {
   "cell_type": "code",
   "execution_count": 18,
   "metadata": {
    "scrolled": true
   },
   "outputs": [
    {
     "data": {
      "text/plain": [
       "<matplotlib.axes._subplots.AxesSubplot at 0x7f3d4bbdcf28>"
      ]
     },
     "execution_count": 18,
     "metadata": {},
     "output_type": "execute_result"
    },
    {
     "data": {
      "image/png": "[encoded data removed]",
      "text/plain": [
       "<Figure size 432x288 with 1 Axes>"
      ]
     },
     "metadata": {
      "needs_background": "light"
     },
     "output_type": "display_data"
    }
   ],
   "source": [
    "r.price.hist(bins=30) # histogram dla danych ciągłych (cena)\n",
    "# oj, widać że jest parę mieszkań (mało) bardzo drogich"
   ]
  },
  {
   "cell_type": "code",
   "execution_count": 19,
   "metadata": {},
   "outputs": [
    {
     "data": {
      "text/plain": [
       "<matplotlib.axes._subplots.AxesSubplot at 0x7f3d4bb10668>"
      ]
     },
     "execution_count": 19,
     "metadata": {},
     "output_type": "execute_result"
    },
    {
     "data": {
      "image/png": "[encoded data removed]",
      "text/plain": [
       "<Figure size 432x288 with 1 Axes>"
      ]
     },
     "metadata": {
      "needs_background": "light"
     },
     "output_type": "display_data"
    }
   ],
   "source": [
    "r[r.price < 1000000].price.hist(bins=30) # histogram dla mieszkań wartych mniej niż milion\n"
   ]
  },
  {
   "cell_type": "code",
   "execution_count": 20,
   "metadata": {
    "scrolled": true
   },
   "outputs": [
    {
     "data": {
      "text/plain": [
       "<matplotlib.axes._subplots.AxesSubplot at 0x7f3d4ba8c5c0>"
      ]
     },
     "execution_count": 20,
     "metadata": {},
     "output_type": "execute_result"
    },
    {
     "data": {
      "image/png": "[encoded data removed]",
      "text/plain": [
       "<Figure size 432x288 with 1 Axes>"
      ]
     },
     "metadata": {
      "needs_background": "light"
     },
     "output_type": "display_data"
    }
   ],
   "source": [
    "r.price.plot(kind = 'hist', bins=100, logx = True)"
   ]
  },
  {
   "cell_type": "code",
   "execution_count": 21,
   "metadata": {},
   "outputs": [
    {
     "data": {
      "text/plain": [
       "<matplotlib.axes._subplots.AxesSubplot at 0x7f3d4b98ce80>"
      ]
     },
     "execution_count": 21,
     "metadata": {},
     "output_type": "execute_result"
    },
    {
     "data": {
      "image/png": "[encoded data removed]",
      "text/plain": [
       "<Figure size 432x288 with 1 Axes>"
      ]
     },
     "metadata": {
      "needs_background": "light"
     },
     "output_type": "display_data"
    }
   ],
   "source": [
    "sns.distplot(r.price, bins = 30)"
   ]
  },
  {
   "cell_type": "code",
   "execution_count": 22,
   "metadata": {},
   "outputs": [
    {
     "data": {
      "text/plain": [
       "<matplotlib.axes._subplots.AxesSubplot at 0x7f3d4b7e1320>"
      ]
     },
     "execution_count": 22,
     "metadata": {},
     "output_type": "execute_result"
    },
    {
     "data": {
      "image/png": "[encoded data removed]",
      "text/plain": [
       "<Figure size 432x288 with 1 Axes>"
      ]
     },
     "metadata": {
      "needs_background": "light"
     },
     "output_type": "display_data"
    }
   ],
   "source": [
    "# inny sposób rysowania histogramu z zaznaczeniem każdej obserwacji:\n",
    "sns.distplot(r.price, bins=30, kde=False, rug=True)"
   ]
  },
  {
   "cell_type": "code",
   "execution_count": 23,
   "metadata": {},
   "outputs": [
    {
     "data": {
      "text/plain": [
       "<matplotlib.axes._subplots.AxesSubplot at 0x7f3d4b7ee160>"
      ]
     },
     "execution_count": 23,
     "metadata": {},
     "output_type": "execute_result"
    },
    {
     "data": {
      "image/png": "[encoded data removed]",
      "text/plain": [
       "<Figure size 432x288 with 1 Axes>"
      ]
     },
     "metadata": {
      "needs_background": "light"
     },
     "output_type": "display_data"
    }
   ],
   "source": [
    "# przy rysowaniu histogramu ważne jest jaką przyjmiemy ilość binów. Nie dowiemy się wiele jeśli wybierzemy bardzo mało albo bardzo dużo binów:\n",
    "sns.distplot(r.price, bins=20, kde=False)"
   ]
  },
  {
   "cell_type": "code",
   "execution_count": 24,
   "metadata": {},
   "outputs": [
    {
     "data": {
      "text/plain": [
       "<matplotlib.axes._subplots.AxesSubplot at 0x7f3d4b646668>"
      ]
     },
     "execution_count": 24,
     "metadata": {},
     "output_type": "execute_result"
    },
    {
     "data": {
      "image/png": "[encoded data removed]",
      "text/plain": [
       "<Figure size 432x288 with 1 Axes>"
      ]
     },
     "metadata": {
      "needs_background": "light"
     },
     "output_type": "display_data"
    }
   ],
   "source": [
    "sns.distplot(r['price'], bins=20, kde=False)"
   ]
  },
  {
   "cell_type": "code",
   "execution_count": 25,
   "metadata": {},
   "outputs": [
    {
     "data": {
      "text/plain": [
       "<matplotlib.axes._subplots.AxesSubplot at 0x7f3d4b5aa438>"
      ]
     },
     "execution_count": 25,
     "metadata": {},
     "output_type": "execute_result"
    },
    {
     "data": {
      "image/png": "[encoded data removed]",
      "text/plain": [
       "<Figure size 432x288 with 1 Axes>"
      ]
     },
     "metadata": {
      "needs_background": "light"
     },
     "output_type": "display_data"
    }
   ],
   "source": [
    "r.price.plot.box() # boxplot, jak widać mamy sporo odstających obserwacji!"
   ]
  },
  {
   "cell_type": "code",
   "execution_count": 26,
   "metadata": {},
   "outputs": [
    {
     "data": {
      "text/plain": [
       "<matplotlib.axes._subplots.AxesSubplot at 0x7f3d4b512c50>"
      ]
     },
     "execution_count": 26,
     "metadata": {},
     "output_type": "execute_result"
    },
    {
     "data": {
      "image/png": "[encoded data removed]",
      "text/plain": [
       "<Figure size 432x288 with 1 Axes>"
      ]
     },
     "metadata": {
      "needs_background": "light"
     },
     "output_type": "display_data"
    }
   ],
   "source": [
    "# Załóżmy, że chcemy się pozbyć obserwacji z cenami powyżej 99 percentyla:\n",
    "r_price_cleared = r[r.price < r.price.quantile(0.95)]\n",
    "r_price_cleared.price.plot.box() # tu już nie ma takiej rozbieżności"
   ]
  },
  {
   "cell_type": "markdown",
   "metadata": {},
   "source": [
    "**Ćwiczenie**\n",
    "\n",
    "Narysuj histogram cen mieszkań na podstawie df'a r_price_cleared"
   ]
  },
  {
   "cell_type": "code",
   "execution_count": 27,
   "metadata": {},
   "outputs": [
    {
     "data": {
      "text/plain": [
       "<matplotlib.axes._subplots.AxesSubplot at 0x7f3d4b4f0eb8>"
      ]
     },
     "execution_count": 27,
     "metadata": {},
     "output_type": "execute_result"
    },
    {
     "data": {
      "image/png": "[encoded data removed]",
      "text/plain": [
       "<Figure size 432x288 with 1 Axes>"
      ]
     },
     "metadata": {
      "needs_background": "light"
     },
     "output_type": "display_data"
    }
   ],
   "source": [
    "r_price_cleared.price.hist(bins = 90)"
   ]
  },
  {
   "cell_type": "code",
   "execution_count": 28,
   "metadata": {},
   "outputs": [
    {
     "data": {
      "text/plain": [
       "2    811\n",
       "3    614\n",
       "4    219\n",
       "5     27\n",
       "6      2\n",
       "7      1\n",
       "Name: rooms, dtype: int64"
      ]
     },
     "execution_count": 28,
     "metadata": {},
     "output_type": "execute_result"
    }
   ],
   "source": [
    "r.rooms.value_counts()"
   ]
  },
  {
   "cell_type": "code",
   "execution_count": 29,
   "metadata": {},
   "outputs": [
    {
     "data": {
      "text/plain": [
       "<matplotlib.axes._subplots.AxesSubplot at 0x7f3d4b39d0f0>"
      ]
     },
     "execution_count": 29,
     "metadata": {},
     "output_type": "execute_result"
    },
    {
     "data": {
      "image/png": "[encoded data removed]",
      "text/plain": [
       "<Figure size 432x288 with 1 Axes>"
      ]
     },
     "metadata": {
      "needs_background": "light"
     },
     "output_type": "display_data"
    }
   ],
   "source": [
    "r.rooms.value_counts().plot.bar() # barplot dla danych dyskretnych (ilość pokoi)"
   ]
  },
  {
   "cell_type": "code",
   "execution_count": 30,
   "metadata": {},
   "outputs": [
    {
     "data": {
      "text/plain": [
       "<matplotlib.axes._subplots.AxesSubplot at 0x7f3d4b311f60>"
      ]
     },
     "execution_count": 30,
     "metadata": {},
     "output_type": "execute_result"
    },
    {
     "data": {
      "image/png": "[encoded data removed]",
      "text/plain": [
       "<Figure size 432x288 with 1 Axes>"
      ]
     },
     "metadata": {
      "needs_background": "light"
     },
     "output_type": "display_data"
    }
   ],
   "source": [
    "r.sqrMeters.plot.density()"
   ]
  },
  {
   "cell_type": "code",
   "execution_count": 31,
   "metadata": {},
   "outputs": [
    {
     "data": {
      "text/plain": [
       "<matplotlib.axes._subplots.AxesSubplot at 0x7f3d4b2f6630>"
      ]
     },
     "execution_count": 31,
     "metadata": {},
     "output_type": "execute_result"
    },
    {
     "data": {
      "image/png": "[encoded data removed]",
      "text/plain": [
       "<Figure size 432x288 with 1 Axes>"
      ]
     },
     "metadata": {},
     "output_type": "display_data"
    }
   ],
   "source": [
    "r.isNew.value_counts().plot.pie()"
   ]
  },
  {
   "cell_type": "code",
   "execution_count": 32,
   "metadata": {
    "scrolled": true
   },
   "outputs": [
    {
     "data": {
      "text/plain": [
       "<matplotlib.axes._subplots.AxesSubplot at 0x7f3d4b2afeb8>"
      ]
     },
     "execution_count": 32,
     "metadata": {},
     "output_type": "execute_result"
    },
    {
     "data": {
      "image/png": "[encoded data removed]",
      "text/plain": [
       "<Figure size 432x288 with 1 Axes>"
      ]
     },
     "metadata": {},
     "output_type": "display_data"
    }
   ],
   "source": [
    "r.location.value_counts().plot.pie()"
   ]
  },
  {
   "cell_type": "markdown",
   "metadata": {},
   "source": [
    "https://www.businessinsider.com/pie-charts-are-the-worst-2013-6?IR=T"
   ]
  },
  {
   "cell_type": "markdown",
   "metadata": {},
   "source": [
    "https://www.quora.com/Do-pie-charts-deserve-their-current-reputation-as-bad-visualizations"
   ]
  },
  {
   "cell_type": "code",
   "execution_count": 33,
   "metadata": {},
   "outputs": [
    {
     "data": {
      "text/plain": [
       "<matplotlib.axes._subplots.AxesSubplot at 0x7f3d4b1ef048>"
      ]
     },
     "execution_count": 33,
     "metadata": {},
     "output_type": "execute_result"
    },
    {
     "data": {
      "image/png": "[encoded data removed]",
      "text/plain": [
       "<Figure size 432x288 with 1 Axes>"
      ]
     },
     "metadata": {
      "needs_background": "light"
     },
     "output_type": "display_data"
    }
   ],
   "source": [
    "r.location.value_counts().plot.bar()"
   ]
  },
  {
   "cell_type": "code",
   "execution_count": 34,
   "metadata": {},
   "outputs": [
    {
     "data": {
      "text/plain": [
       "<matplotlib.axes._subplots.AxesSubplot at 0x7f3d4b08d898>"
      ]
     },
     "execution_count": 34,
     "metadata": {},
     "output_type": "execute_result"
    },
    {
     "data": {
      "image/png": "[encoded data removed]",
      "text/plain": [
       "<Figure size 432x288 with 1 Axes>"
      ]
     },
     "metadata": {
      "needs_background": "light"
     },
     "output_type": "display_data"
    }
   ],
   "source": [
    "r.location.value_counts().plot.bar()"
   ]
  },
  {
   "cell_type": "markdown",
   "metadata": {},
   "source": [
    "# Spróbujemy znaleźć jakies zależnosci i je zwizualizować \n",
    "(wizualizacja dzięki bibliotece seaborn)"
   ]
  },
  {
   "cell_type": "code",
   "execution_count": 35,
   "metadata": {},
   "outputs": [
    {
     "data": {
      "text/plain": [
       "<seaborn.axisgrid.JointGrid at 0x7f3d4afc6550>"
      ]
     },
     "execution_count": 35,
     "metadata": {},
     "output_type": "execute_result"
    },
    {
     "data": {
      "image/png": "[encoded data removed]",
      "text/plain": [
       "<Figure size 432x432 with 3 Axes>"
      ]
     },
     "metadata": {
      "needs_background": "light"
     },
     "output_type": "display_data"
    }
   ],
   "source": [
    "sns.jointplot(x = r[\"sqrMeters\"], y = r[\"price\"])"
   ]
  },
  {
   "cell_type": "code",
   "execution_count": 36,
   "metadata": {},
   "outputs": [
    {
     "data": {
      "text/plain": [
       "<seaborn.axisgrid.JointGrid at 0x7f3d4ae827f0>"
      ]
     },
     "execution_count": 36,
     "metadata": {},
     "output_type": "execute_result"
    },
    {
     "data": {
      "image/png": "[encoded data removed]",
      "text/plain": [
       "<Figure size 432x432 with 3 Axes>"
      ]
     },
     "metadata": {
      "needs_background": "light"
     },
     "output_type": "display_data"
    }
   ],
   "source": [
    "sns.jointplot(x = \"sqrMeters\", y = \"price\", data = r)"
   ]
  },
  {
   "cell_type": "code",
   "execution_count": 37,
   "metadata": {},
   "outputs": [
    {
     "data": {
      "text/plain": [
       "<seaborn.axisgrid.JointGrid at 0x7f3d4abce358>"
      ]
     },
     "execution_count": 37,
     "metadata": {},
     "output_type": "execute_result"
    },
    {
     "data": {
      "image/png": "[encoded data removed]",
      "text/plain": [
       "<Figure size 432x432 with 3 Axes>"
      ]
     },
     "metadata": {
      "needs_background": "light"
     },
     "output_type": "display_data"
    }
   ],
   "source": [
    "r_price_cleared = r[r.price < r.price.quantile(0.99)]\n",
    "r_m2_cleared = r_price_cleared[r_price_cleared.sqrMeters < r.sqrMeters.quantile(0.99)]\n",
    "sns.jointplot(\"sqrMeters\", \"price\", kind = \"hex\", data = r_m2_cleared) # tak jest czytelniej"
   ]
  },
  {
   "cell_type": "markdown",
   "metadata": {},
   "source": [
    "Narzędziem używanym do analizy cech i ich zależności jest korelacja. Użyjemy tutaj korelacji liniowej.\n",
    "\n",
    "Korelacja przyjmuje wartości od -1 do 1.\n",
    "Wartość:\n",
    " * -1 oznacza że cechy są ze sobą w pełni negatywnie skorelowane tj. wraz ze wzrostem jednem - druga maleje proporcjonalnie\n",
    " * 0 oznacza że cechy nie są ze sobą w ogóle skorelowane tj. nie jesteśmy w stanie wyjaśnić zmieny jednej cechy poprzez wartość drugiej cechy\n",
    " * 1 oznacza że cechy są ze sobą w pełni pozytywnie skorelowane tj. wraz ze wzrostem jednem - druga wzrasta proporcjonalnie\n"
   ]
  },
  {
   "cell_type": "markdown",
   "metadata": {},
   "source": [
    "https://pl.wikipedia.org/wiki/Wsp%C3%B3%C5%82czynnik_korelacji_Pearsona"
   ]
  },
  {
   "cell_type": "code",
   "execution_count": 38,
   "metadata": {},
   "outputs": [
    {
     "data": {
      "text/html": [
       "<div>\n",
       "<style scoped>\n",
       "    .dataframe tbody tr th:only-of-type {\n",
       "        vertical-align: middle;\n",
       "    }\n",
       "\n",
       "    .dataframe tbody tr th {\n",
       "        vertical-align: top;\n",
       "    }\n",
       "\n",
       "    .dataframe thead th {\n",
       "        text-align: right;\n",
       "    }\n",
       "</style>\n",
       "<table border=\"1\" class=\"dataframe\">\n",
       "  <thead>\n",
       "    <tr style=\"text-align: right;\">\n",
       "      <th></th>\n",
       "      <th>price</th>\n",
       "      <th>isNew</th>\n",
       "      <th>rooms</th>\n",
       "      <th>floor</th>\n",
       "      <th>sqrMeters</th>\n",
       "    </tr>\n",
       "  </thead>\n",
       "  <tbody>\n",
       "    <tr>\n",
       "      <th>price</th>\n",
       "      <td>1.000000</td>\n",
       "      <td>0.034873</td>\n",
       "      <td>0.508833</td>\n",
       "      <td>-0.068882</td>\n",
       "      <td>0.422073</td>\n",
       "    </tr>\n",
       "    <tr>\n",
       "      <th>isNew</th>\n",
       "      <td>0.034873</td>\n",
       "      <td>1.000000</td>\n",
       "      <td>0.008730</td>\n",
       "      <td>-0.062179</td>\n",
       "      <td>0.083835</td>\n",
       "    </tr>\n",
       "    <tr>\n",
       "      <th>rooms</th>\n",
       "      <td>0.508833</td>\n",
       "      <td>0.008730</td>\n",
       "      <td>1.000000</td>\n",
       "      <td>-0.078585</td>\n",
       "      <td>0.377587</td>\n",
       "    </tr>\n",
       "    <tr>\n",
       "      <th>floor</th>\n",
       "      <td>-0.068882</td>\n",
       "      <td>-0.062179</td>\n",
       "      <td>-0.078585</td>\n",
       "      <td>1.000000</td>\n",
       "      <td>-0.055053</td>\n",
       "    </tr>\n",
       "    <tr>\n",
       "      <th>sqrMeters</th>\n",
       "      <td>0.422073</td>\n",
       "      <td>0.083835</td>\n",
       "      <td>0.377587</td>\n",
       "      <td>-0.055053</td>\n",
       "      <td>1.000000</td>\n",
       "    </tr>\n",
       "  </tbody>\n",
       "</table>\n",
       "</div>"
      ],
      "text/plain": [
       "              price     isNew     rooms     floor  sqrMeters\n",
       "price      1.000000  0.034873  0.508833 -0.068882   0.422073\n",
       "isNew      0.034873  1.000000  0.008730 -0.062179   0.083835\n",
       "rooms      0.508833  0.008730  1.000000 -0.078585   0.377587\n",
       "floor     -0.068882 -0.062179 -0.078585  1.000000  -0.055053\n",
       "sqrMeters  0.422073  0.083835  0.377587 -0.055053   1.000000"
      ]
     },
     "execution_count": 38,
     "metadata": {},
     "output_type": "execute_result"
    }
   ],
   "source": [
    "r.corr() # sprawdźmy korelację liniową cech\n",
    "# widać że np ilość metrów jest skorelowana dodatnio z ceną\n",
    "# potwierdza to, co widzimy na wykresach"
   ]
  },
  {
   "cell_type": "code",
   "execution_count": 39,
   "metadata": {},
   "outputs": [
    {
     "data": {
      "text/plain": [
       "<matplotlib.axes._subplots.AxesSubplot at 0x7f3d4aa54438>"
      ]
     },
     "execution_count": 39,
     "metadata": {},
     "output_type": "execute_result"
    },
    {
     "data": {
      "image/png": "[encoded data removed]",
      "text/plain": [
       "<Figure size 792x648 with 2 Axes>"
      ]
     },
     "metadata": {
      "needs_background": "light"
     },
     "output_type": "display_data"
    }
   ],
   "source": [
    "# do oglądania korelacji najlepiej użyć wizualizacji w postaci heatmapy:\n",
    "corr = r.corr()\n",
    "\n",
    "# Generate a mask for the upper triangle\n",
    "mask = np.zeros_like(corr, dtype=np.bool)\n",
    "mask[np.triu_indices_from(mask)] = True\n",
    "\n",
    "# Set up the matplotlib figure\n",
    "f, ax = plt.subplots(figsize=(11, 9))\n",
    "\n",
    "# Generate a custom diverging colormap\n",
    "cmap = sns.diverging_palette(220, 10, as_cmap=True)\n",
    "\n",
    "# Draw the heatmap with the mask and correct aspect ratio\n",
    "sns.heatmap(corr, mask=mask, cmap=cmap, vmax=.3, center=0, annot=True,\n",
    "            square=True, linewidths=.5, cbar_kws={\"shrink\": .5})"
   ]
  },
  {
   "cell_type": "code",
   "execution_count": 40,
   "metadata": {},
   "outputs": [
    {
     "data": {
      "text/plain": [
       "<matplotlib.axes._subplots.AxesSubplot at 0x7f3d4a9910b8>"
      ]
     },
     "execution_count": 40,
     "metadata": {},
     "output_type": "execute_result"
    },
    {
     "data": {
      "image/png": "[encoded data removed]",
      "text/plain": [
       "<Figure size 432x288 with 1 Axes>"
      ]
     },
     "metadata": {
      "needs_background": "light"
     },
     "output_type": "display_data"
    }
   ],
   "source": [
    "sns.regplot(r.sqrMeters, r.price) # rzeczywiście - im więcej metrów kw. tym większa cena"
   ]
  },
  {
   "cell_type": "code",
   "execution_count": 41,
   "metadata": {},
   "outputs": [
    {
     "data": {
      "text/plain": [
       "<matplotlib.axes._subplots.AxesSubplot at 0x7f3d4a978668>"
      ]
     },
     "execution_count": 41,
     "metadata": {},
     "output_type": "execute_result"
    },
    {
     "data": {
      "image/png": "[encoded data removed]",
      "text/plain": [
       "<Figure size 432x288 with 1 Axes>"
      ]
     },
     "metadata": {
      "needs_background": "light"
     },
     "output_type": "display_data"
    }
   ],
   "source": [
    "sns.violinplot(x = \"isNew\", y = \"price\", data = r) # "
   ]
  },
  {
   "cell_type": "code",
   "execution_count": 42,
   "metadata": {},
   "outputs": [
    {
     "data": {
      "text/plain": [
       "<matplotlib.axes._subplots.AxesSubplot at 0x7f3d4a0fe208>"
      ]
     },
     "execution_count": 42,
     "metadata": {},
     "output_type": "execute_result"
    },
    {
     "data": {
      "image/png": "[encoded data removed]",
      "text/plain": [
       "<Figure size 432x288 with 1 Axes>"
      ]
     },
     "metadata": {
      "needs_background": "light"
     },
     "output_type": "display_data"
    }
   ],
   "source": [
    "# ceny w zależności od lokacji (dla 5 najbardziej popularnych)\n",
    "popular_locations = r.location.value_counts().head(5)\n",
    "r_popular_locations = r[r.location.isin(popular_locations.keys())]\n",
    "sns.boxplot(x = \"location\", y = \"price\", data = r_popular_locations) "
   ]
  },
  {
   "cell_type": "code",
   "execution_count": 43,
   "metadata": {},
   "outputs": [
    {
     "data": {
      "text/plain": [
       "<matplotlib.axes._subplots.AxesSubplot at 0x7f3d4a024c50>"
      ]
     },
     "execution_count": 43,
     "metadata": {},
     "output_type": "execute_result"
    },
    {
     "data": {
      "image/png": "[encoded data removed]",
      "text/plain": [
       "<Figure size 432x288 with 1 Axes>"
      ]
     },
     "metadata": {
      "needs_background": "light"
     },
     "output_type": "display_data"
    }
   ],
   "source": [
    "sns.boxplot(x=\"rooms\", y = \"price\", data = r) # im więcej pokoi tym cena większa"
   ]
  },
  {
   "cell_type": "code",
   "execution_count": 44,
   "metadata": {},
   "outputs": [
    {
     "data": {
      "text/plain": [
       "<matplotlib.axes._subplots.AxesSubplot at 0x7f3d49f521d0>"
      ]
     },
     "execution_count": 44,
     "metadata": {},
     "output_type": "execute_result"
    },
    {
     "data": {
      "image/png": "[encoded data removed]",
      "text/plain": [
       "<Figure size 432x288 with 1 Axes>"
      ]
     },
     "metadata": {
      "needs_background": "light"
     },
     "output_type": "display_data"
    }
   ],
   "source": [
    "sns.boxplot(x=\"rooms\", y = \"price\", hue = \"isNew\", data = r) \n",
    "# im więcej pokoi tym cena większa"
   ]
  },
  {
   "cell_type": "code",
   "execution_count": 45,
   "metadata": {},
   "outputs": [
    {
     "data": {
      "text/html": [
       "<div>\n",
       "<style scoped>\n",
       "    .dataframe tbody tr th:only-of-type {\n",
       "        vertical-align: middle;\n",
       "    }\n",
       "\n",
       "    .dataframe tbody tr th {\n",
       "        vertical-align: top;\n",
       "    }\n",
       "\n",
       "    .dataframe thead th {\n",
       "        text-align: right;\n",
       "    }\n",
       "</style>\n",
       "<table border=\"1\" class=\"dataframe\">\n",
       "  <thead>\n",
       "    <tr style=\"text-align: right;\">\n",
       "      <th></th>\n",
       "      <th>price</th>\n",
       "      <th>isNew</th>\n",
       "      <th>rooms</th>\n",
       "      <th>floor</th>\n",
       "      <th>location</th>\n",
       "      <th>sqrMeters</th>\n",
       "    </tr>\n",
       "  </thead>\n",
       "  <tbody>\n",
       "    <tr>\n",
       "      <th>470</th>\n",
       "      <td>1140000.0</td>\n",
       "      <td>True</td>\n",
       "      <td>6</td>\n",
       "      <td>0</td>\n",
       "      <td>Stare</td>\n",
       "      <td>40</td>\n",
       "    </tr>\n",
       "    <tr>\n",
       "      <th>490</th>\n",
       "      <td>450000.0</td>\n",
       "      <td>True</td>\n",
       "      <td>6</td>\n",
       "      <td>4</td>\n",
       "      <td>Wilda</td>\n",
       "      <td>90</td>\n",
       "    </tr>\n",
       "  </tbody>\n",
       "</table>\n",
       "</div>"
      ],
      "text/plain": [
       "         price  isNew  rooms  floor location  sqrMeters\n",
       "470  1140000.0   True      6      0    Stare         40\n",
       "490   450000.0   True      6      4    Wilda         90"
      ]
     },
     "execution_count": 45,
     "metadata": {},
     "output_type": "execute_result"
    }
   ],
   "source": [
    "r[r.rooms == 6 ]"
   ]
  },
  {
   "cell_type": "code",
   "execution_count": 46,
   "metadata": {},
   "outputs": [
    {
     "data": {
      "text/plain": [
       "<matplotlib.axes._subplots.AxesSubplot at 0x7f3d49e8ccf8>"
      ]
     },
     "execution_count": 46,
     "metadata": {},
     "output_type": "execute_result"
    },
    {
     "data": {
      "image/png": "[encoded data removed]",
      "text/plain": [
       "<Figure size 432x288 with 1 Axes>"
      ]
     },
     "metadata": {
      "needs_background": "light"
     },
     "output_type": "display_data"
    }
   ],
   "source": [
    "sns.countplot(x = \"floor\", data = r_popular_locations) \n",
    "# ten barplot jest bardziej kolorowy niż ten z pandasa :)"
   ]
  },
  {
   "cell_type": "code",
   "execution_count": 47,
   "metadata": {},
   "outputs": [
    {
     "data": {
      "text/plain": [
       "<matplotlib.axes._subplots.AxesSubplot at 0x7f3d49ddecf8>"
      ]
     },
     "execution_count": 47,
     "metadata": {},
     "output_type": "execute_result"
    },
    {
     "data": {
      "image/png": "[encoded data removed]",
      "text/plain": [
       "<Figure size 432x288 with 1 Axes>"
      ]
     },
     "metadata": {
      "needs_background": "light"
     },
     "output_type": "display_data"
    }
   ],
   "source": [
    "sns.countplot(x = \"floor\", hue = \"isNew\", data = r_popular_locations)"
   ]
  },
  {
   "cell_type": "code",
   "execution_count": 48,
   "metadata": {},
   "outputs": [
    {
     "data": {
      "text/plain": [
       "<seaborn.axisgrid.FacetGrid at 0x7f3d49d11d68>"
      ]
     },
     "execution_count": 48,
     "metadata": {},
     "output_type": "execute_result"
    },
    {
     "data": {
      "image/png": "[encoded data removed]",
      "text/plain": [
       "<Figure size 1145.88x360 with 3 Axes>"
      ]
     },
     "metadata": {
      "needs_background": "light"
     },
     "output_type": "display_data"
    }
   ],
   "source": [
    "# Finally - RelPlot - a fancy way of visualizing multiple (here 5) features on one figure.\n",
    "\n",
    "r['rooms_count'] = np.where(r['rooms'] > 3, '4+', r['rooms'])\n",
    "sns.relplot(x=\"sqrMeters\", y=\"price\", hue=\"isNew\",\n",
    "                 col=\"rooms_count\", col_wrap=3, \n",
    "            size=\"floor\",\n",
    "            data=r.sort_values('rooms_count'))"
   ]
  },
  {
   "cell_type": "markdown",
   "metadata": {},
   "source": [
    "# Pobawmy się jeszcze samymi danymi dzięki pandasowi"
   ]
  },
  {
   "cell_type": "code",
   "execution_count": 49,
   "metadata": {},
   "outputs": [
    {
     "data": {
      "text/html": [
       "<div>\n",
       "<style scoped>\n",
       "    .dataframe tbody tr th:only-of-type {\n",
       "        vertical-align: middle;\n",
       "    }\n",
       "\n",
       "    .dataframe tbody tr th {\n",
       "        vertical-align: top;\n",
       "    }\n",
       "\n",
       "    .dataframe thead th {\n",
       "        text-align: right;\n",
       "    }\n",
       "</style>\n",
       "<table border=\"1\" class=\"dataframe\">\n",
       "  <thead>\n",
       "    <tr style=\"text-align: right;\">\n",
       "      <th></th>\n",
       "      <th>price</th>\n",
       "      <th>sqrMeters</th>\n",
       "    </tr>\n",
       "  </thead>\n",
       "  <tbody>\n",
       "    <tr>\n",
       "      <th>0</th>\n",
       "      <td>476118.0</td>\n",
       "      <td>78</td>\n",
       "    </tr>\n",
       "    <tr>\n",
       "      <th>1</th>\n",
       "      <td>459531.0</td>\n",
       "      <td>62</td>\n",
       "    </tr>\n",
       "    <tr>\n",
       "      <th>2</th>\n",
       "      <td>411557.0</td>\n",
       "      <td>15</td>\n",
       "    </tr>\n",
       "    <tr>\n",
       "      <th>3</th>\n",
       "      <td>496416.0</td>\n",
       "      <td>14</td>\n",
       "    </tr>\n",
       "    <tr>\n",
       "      <th>4</th>\n",
       "      <td>406032.0</td>\n",
       "      <td>15</td>\n",
       "    </tr>\n",
       "  </tbody>\n",
       "</table>\n",
       "</div>"
      ],
      "text/plain": [
       "      price  sqrMeters\n",
       "0  476118.0         78\n",
       "1  459531.0         62\n",
       "2  411557.0         15\n",
       "3  496416.0         14\n",
       "4  406032.0         15"
      ]
     },
     "execution_count": 49,
     "metadata": {},
     "output_type": "execute_result"
    }
   ],
   "source": [
    "r_price_sqrMeters = pd.DataFrame(r, columns=['price','sqrMeters']) # zrób data frame z 2 kolumn\n",
    "r_price_sqrMeters.head()"
   ]
  },
  {
   "cell_type": "markdown",
   "metadata": {},
   "source": [
    "**Ćwiczenie**\n",
    "\n",
    "Pokaż najtańsze mieszkanie."
   ]
  },
  {
   "cell_type": "code",
   "execution_count": 50,
   "metadata": {},
   "outputs": [
    {
     "data": {
      "text/html": [
       "<div>\n",
       "<style scoped>\n",
       "    .dataframe tbody tr th:only-of-type {\n",
       "        vertical-align: middle;\n",
       "    }\n",
       "\n",
       "    .dataframe tbody tr th {\n",
       "        vertical-align: top;\n",
       "    }\n",
       "\n",
       "    .dataframe thead th {\n",
       "        text-align: right;\n",
       "    }\n",
       "</style>\n",
       "<table border=\"1\" class=\"dataframe\">\n",
       "  <thead>\n",
       "    <tr style=\"text-align: right;\">\n",
       "      <th></th>\n",
       "      <th>price</th>\n",
       "      <th>isNew</th>\n",
       "      <th>rooms</th>\n",
       "      <th>floor</th>\n",
       "      <th>location</th>\n",
       "      <th>sqrMeters</th>\n",
       "      <th>rooms_count</th>\n",
       "    </tr>\n",
       "  </thead>\n",
       "  <tbody>\n",
       "    <tr>\n",
       "      <th>339</th>\n",
       "      <td>100000.0</td>\n",
       "      <td>True</td>\n",
       "      <td>3</td>\n",
       "      <td>4</td>\n",
       "      <td>Stare</td>\n",
       "      <td>70</td>\n",
       "      <td>3</td>\n",
       "    </tr>\n",
       "  </tbody>\n",
       "</table>\n",
       "</div>"
      ],
      "text/plain": [
       "        price  isNew  rooms  floor location  sqrMeters rooms_count\n",
       "339  100000.0   True      3      4    Stare         70           3"
      ]
     },
     "execution_count": 50,
     "metadata": {},
     "output_type": "execute_result"
    }
   ],
   "source": [
    "r[r.price == r.price.min()]"
   ]
  },
  {
   "cell_type": "markdown",
   "metadata": {},
   "source": [
    "**Ćwiczenie**\n",
    "\n",
    "pokaż tylko mieszkania używane powyżej 1kk"
   ]
  },
  {
   "cell_type": "code",
   "execution_count": null,
   "metadata": {},
   "outputs": [],
   "source": []
  },
  {
   "cell_type": "code",
   "execution_count": 51,
   "metadata": {},
   "outputs": [
    {
     "data": {
      "text/html": [
       "<div>\n",
       "<style scoped>\n",
       "    .dataframe tbody tr th:only-of-type {\n",
       "        vertical-align: middle;\n",
       "    }\n",
       "\n",
       "    .dataframe tbody tr th {\n",
       "        vertical-align: top;\n",
       "    }\n",
       "\n",
       "    .dataframe thead th {\n",
       "        text-align: right;\n",
       "    }\n",
       "</style>\n",
       "<table border=\"1\" class=\"dataframe\">\n",
       "  <thead>\n",
       "    <tr style=\"text-align: right;\">\n",
       "      <th></th>\n",
       "      <th>price</th>\n",
       "      <th>isNew</th>\n",
       "      <th>rooms</th>\n",
       "      <th>floor</th>\n",
       "      <th>location</th>\n",
       "      <th>sqrMeters</th>\n",
       "      <th>rooms_count</th>\n",
       "    </tr>\n",
       "  </thead>\n",
       "  <tbody>\n",
       "    <tr>\n",
       "      <th>323</th>\n",
       "      <td>1725000.0</td>\n",
       "      <td>True</td>\n",
       "      <td>3</td>\n",
       "      <td>0</td>\n",
       "      <td>Stare</td>\n",
       "      <td>136</td>\n",
       "      <td>3</td>\n",
       "    </tr>\n",
       "    <tr>\n",
       "      <th>470</th>\n",
       "      <td>1140000.0</td>\n",
       "      <td>True</td>\n",
       "      <td>6</td>\n",
       "      <td>0</td>\n",
       "      <td>Stare</td>\n",
       "      <td>40</td>\n",
       "      <td>4+</td>\n",
       "    </tr>\n",
       "    <tr>\n",
       "      <th>533</th>\n",
       "      <td>1850000.0</td>\n",
       "      <td>True</td>\n",
       "      <td>5</td>\n",
       "      <td>1</td>\n",
       "      <td>Grunwald</td>\n",
       "      <td>196</td>\n",
       "      <td>4+</td>\n",
       "    </tr>\n",
       "    <tr>\n",
       "      <th>826</th>\n",
       "      <td>1050000.0</td>\n",
       "      <td>True</td>\n",
       "      <td>5</td>\n",
       "      <td>2</td>\n",
       "      <td>Centrum</td>\n",
       "      <td>161</td>\n",
       "      <td>4+</td>\n",
       "    </tr>\n",
       "    <tr>\n",
       "      <th>904</th>\n",
       "      <td>1612000.0</td>\n",
       "      <td>True</td>\n",
       "      <td>7</td>\n",
       "      <td>5</td>\n",
       "      <td>Jeżyce</td>\n",
       "      <td>166</td>\n",
       "      <td>4+</td>\n",
       "    </tr>\n",
       "    <tr>\n",
       "      <th>1172</th>\n",
       "      <td>1179000.0</td>\n",
       "      <td>True</td>\n",
       "      <td>3</td>\n",
       "      <td>2</td>\n",
       "      <td>Centrum</td>\n",
       "      <td>40</td>\n",
       "      <td>3</td>\n",
       "    </tr>\n",
       "    <tr>\n",
       "      <th>1173</th>\n",
       "      <td>2700000.0</td>\n",
       "      <td>True</td>\n",
       "      <td>3</td>\n",
       "      <td>2</td>\n",
       "      <td>Centrum</td>\n",
       "      <td>90</td>\n",
       "      <td>3</td>\n",
       "    </tr>\n",
       "    <tr>\n",
       "      <th>1174</th>\n",
       "      <td>1170000.0</td>\n",
       "      <td>True</td>\n",
       "      <td>3</td>\n",
       "      <td>3</td>\n",
       "      <td>Centrum</td>\n",
       "      <td>90</td>\n",
       "      <td>3</td>\n",
       "    </tr>\n",
       "    <tr>\n",
       "      <th>1258</th>\n",
       "      <td>1366410.0</td>\n",
       "      <td>True</td>\n",
       "      <td>4</td>\n",
       "      <td>0</td>\n",
       "      <td>Centrum</td>\n",
       "      <td>71</td>\n",
       "      <td>4+</td>\n",
       "    </tr>\n",
       "  </tbody>\n",
       "</table>\n",
       "</div>"
      ],
      "text/plain": [
       "          price  isNew  rooms  floor  location  sqrMeters rooms_count\n",
       "323   1725000.0   True      3      0     Stare        136           3\n",
       "470   1140000.0   True      6      0     Stare         40          4+\n",
       "533   1850000.0   True      5      1  Grunwald        196          4+\n",
       "826   1050000.0   True      5      2   Centrum        161          4+\n",
       "904   1612000.0   True      7      5    Jeżyce        166          4+\n",
       "1172  1179000.0   True      3      2   Centrum         40           3\n",
       "1173  2700000.0   True      3      2   Centrum         90           3\n",
       "1174  1170000.0   True      3      3   Centrum         90           3\n",
       "1258  1366410.0   True      4      0   Centrum         71          4+"
      ]
     },
     "execution_count": 51,
     "metadata": {},
     "output_type": "execute_result"
    }
   ],
   "source": [
    "r[( r.price > 1000000 ) & (r.isNew == True)]"
   ]
  },
  {
   "cell_type": "code",
   "execution_count": 52,
   "metadata": {},
   "outputs": [
    {
     "data": {
      "text/plain": [
       "0    476\n",
       "1    459\n",
       "2    411\n",
       "3    496\n",
       "4    406\n",
       "Name: price_in_thousands, dtype: int64"
      ]
     },
     "execution_count": 52,
     "metadata": {},
     "output_type": "execute_result"
    }
   ],
   "source": [
    "r['price_in_thousands'] = (r['price'] / 1000).astype(int) # dodaj nową kolumnę\n",
    "r['price_in_thousands'].head()"
   ]
  },
  {
   "cell_type": "code",
   "execution_count": 53,
   "metadata": {},
   "outputs": [
    {
     "data": {
      "text/plain": [
       "0    476\n",
       "1    459\n",
       "2    411\n",
       "3    496\n",
       "4    406\n",
       "Name: price_in_thousands2, dtype: int64"
      ]
     },
     "execution_count": 53,
     "metadata": {},
     "output_type": "execute_result"
    }
   ],
   "source": [
    "r['price_in_thousands2'] = r.price.apply(lambda x: int(x / 1000) ) # można tez tak\n",
    "r['price_in_thousands2'].head()"
   ]
  },
  {
   "cell_type": "code",
   "execution_count": 54,
   "metadata": {
    "scrolled": true
   },
   "outputs": [
    {
     "data": {
      "text/plain": [
       "0    476\n",
       "1    459\n",
       "2    411\n",
       "3    496\n",
       "4    406\n",
       "Name: price_in_thousands3, dtype: int64"
      ]
     },
     "execution_count": 54,
     "metadata": {},
     "output_type": "execute_result"
    }
   ],
   "source": [
    "r['price_in_thousands3'] = r.price.map(lambda x: int(x / 1000) ) # albo tak\n",
    "r['price_in_thousands3'].head()"
   ]
  },
  {
   "cell_type": "code",
   "execution_count": 55,
   "metadata": {
    "scrolled": true
   },
   "outputs": [
    {
     "data": {
      "text/plain": [
       "1000000.0"
      ]
     },
     "execution_count": 55,
     "metadata": {},
     "output_type": "execute_result"
    }
   ],
   "source": [
    "r_max_price = r.copy()\n",
    "r_max_price.price = r_max_price.price.map(lambda x: 1000000 if x > 1000000 else x) \n",
    "# dla cen mieszkań powyżej 1kk zmień cenę na 1kk\n",
    "r_max_price.price.max()"
   ]
  },
  {
   "cell_type": "code",
   "execution_count": 59,
   "metadata": {},
   "outputs": [],
   "source": [
    "r = pd.read_csv('ceny_mieszkan_w_poznaniu.tsv', sep = '\\t')"
   ]
  },
  {
   "cell_type": "code",
   "execution_count": 60,
   "metadata": {},
   "outputs": [
    {
     "data": {
      "text/html": [
       "<meta charset=\"UTF-8\">\n",
       "\n",
       "<style>\n",
       "\n",
       "        .variablerow {\n",
       "            border: 1px solid #e1e1e8;\n",
       "            border-top: hidden;\n",
       "            padding-top: 2em;\n",
       "            padding-bottom: 2em;\n",
       "            padding-left: 1em;\n",
       "            padding-right: 1em;\n",
       "        }\n",
       "\n",
       "        .headerrow {\n",
       "            border: 1px solid #e1e1e8;\n",
       "            background-color: #f5f5f5;\n",
       "            padding: 2em;\n",
       "        }\n",
       "        .namecol {\n",
       "            margin-top: -1em;\n",
       "            overflow-x: auto;\n",
       "        }\n",
       "\n",
       "        .dl-horizontal dt {\n",
       "            text-align: left;\n",
       "            padding-right: 1em;\n",
       "            white-space: normal;\n",
       "        }\n",
       "\n",
       "        .dl-horizontal dd {\n",
       "            margin-left: 0;\n",
       "        }\n",
       "\n",
       "        .ignore {\n",
       "            opacity: 0.4;\n",
       "        }\n",
       "\n",
       "        .container.pandas-profiling {\n",
       "            max-width:975px;\n",
       "        }\n",
       "\n",
       "        .col-md-12 {\n",
       "            padding-left: 2em;\n",
       "        }\n",
       "\n",
       "        .indent {\n",
       "            margin-left: 1em;\n",
       "        }\n",
       "\n",
       "        .center-img {\n",
       "            margin-left: auto !important;\n",
       "            margin-right: auto !important;\n",
       "            display: block;\n",
       "        }\n",
       "\n",
       "        /* Table example_values */\n",
       "            table.example_values {\n",
       "                border: 0;\n",
       "            }\n",
       "\n",
       "            .example_values th {\n",
       "                border: 0;\n",
       "                padding: 0 ;\n",
       "                color: #555;\n",
       "                font-weight: 600;\n",
       "            }\n",
       "\n",
       "            .example_values tr, .example_values td{\n",
       "                border: 0;\n",
       "                padding: 0;\n",
       "                color: #555;\n",
       "            }\n",
       "\n",
       "        /* STATS */\n",
       "            table.stats {\n",
       "                border: 0;\n",
       "            }\n",
       "\n",
       "            .stats th {\n",
       "                border: 0;\n",
       "                padding: 0 2em 0 0;\n",
       "                color: #555;\n",
       "                font-weight: 600;\n",
       "            }\n",
       "\n",
       "            .stats tr {\n",
       "                border: 0;\n",
       "            }\n",
       "\n",
       "            .stats td{\n",
       "                color: #555;\n",
       "                padding: 1px;\n",
       "                border: 0;\n",
       "            }\n",
       "\n",
       "\n",
       "        /* Sample table */\n",
       "            table.sample {\n",
       "                border: 0;\n",
       "                margin-bottom: 2em;\n",
       "                margin-left:1em;\n",
       "            }\n",
       "            .sample tr {\n",
       "                border:0;\n",
       "            }\n",
       "            .sample td, .sample th{\n",
       "                padding: 0.5em;\n",
       "                white-space: nowrap;\n",
       "                border: none;\n",
       "\n",
       "            }\n",
       "\n",
       "            .sample thead {\n",
       "                border-top: 0;\n",
       "                border-bottom: 2px solid #ddd;\n",
       "            }\n",
       "\n",
       "            .sample td {\n",
       "                width:100%;\n",
       "            }\n",
       "\n",
       "\n",
       "        /* There is no good solution available to make the divs equal height and then center ... */\n",
       "            .histogram {\n",
       "                margin-top: 3em;\n",
       "            }\n",
       "        /* Freq table */\n",
       "\n",
       "            table.freq {\n",
       "                margin-bottom: 2em;\n",
       "                border: 0;\n",
       "            }\n",
       "            table.freq th, table.freq tr, table.freq td {\n",
       "                border: 0;\n",
       "                padding: 0;\n",
       "            }\n",
       "\n",
       "            .freq thead {\n",
       "                font-weight: 600;\n",
       "                white-space: nowrap;\n",
       "                overflow: hidden;\n",
       "                text-overflow: ellipsis;\n",
       "\n",
       "            }\n",
       "\n",
       "            td.fillremaining{\n",
       "                width:auto;\n",
       "                max-width: none;\n",
       "            }\n",
       "\n",
       "            td.number, th.number {\n",
       "                text-align:right ;\n",
       "            }\n",
       "\n",
       "        /* Freq mini */\n",
       "            .freq.mini td{\n",
       "                width: 50%;\n",
       "                padding: 1px;\n",
       "                font-size: 12px;\n",
       "\n",
       "            }\n",
       "            table.freq.mini {\n",
       "                 width:100%;\n",
       "            }\n",
       "            .freq.mini th {\n",
       "                overflow: hidden;\n",
       "                text-overflow: ellipsis;\n",
       "                white-space: nowrap;\n",
       "                max-width: 5em;\n",
       "                font-weight: 400;\n",
       "                text-align:right;\n",
       "                padding-right: 0.5em;\n",
       "            }\n",
       "\n",
       "            .missing {\n",
       "                color: #a94442;\n",
       "            }\n",
       "            .alert, .alert > th, .alert > td {\n",
       "                color: #a94442;\n",
       "            }\n",
       "\n",
       "\n",
       "        /* Bars in tables */\n",
       "            .freq .bar{\n",
       "                float: left;\n",
       "                width: 0;\n",
       "                height: 100%;\n",
       "                line-height: 20px;\n",
       "                color: #fff;\n",
       "                text-align: center;\n",
       "                background-color: #337ab7;\n",
       "                border-radius: 3px;\n",
       "                margin-right: 4px;\n",
       "            }\n",
       "            .other .bar {\n",
       "                background-color: #999;\n",
       "            }\n",
       "            .missing .bar{\n",
       "                background-color: #a94442;\n",
       "            }\n",
       "            .tooltip-inner {\n",
       "                width: 100%;\n",
       "                white-space: nowrap;\n",
       "                text-align:left;\n",
       "            }\n",
       "\n",
       "            .extrapadding{\n",
       "                padding: 2em;\n",
       "            }\n",
       "\n",
       "            .pp-anchor{\n",
       "\n",
       "            }\n",
       "\n",
       "</style>\n",
       "\n",
       "<div class=\"container pandas-profiling\">\n",
       "    <div class=\"row headerrow highlight\">\n",
       "        <h1>Overview</h1>\n",
       "    </div>\n",
       "    <div class=\"row variablerow\">\n",
       "    <div class=\"col-md-6 namecol\">\n",
       "        <p class=\"h4\">Dataset info</p>\n",
       "        <table class=\"stats\" style=\"margin-left: 1em;\">\n",
       "            <tbody>\n",
       "            <tr>\n",
       "                <th>Number of variables</th>\n",
       "                <td>6 </td>\n",
       "            </tr>\n",
       "            <tr>\n",
       "                <th>Number of observations</th>\n",
       "                <td>1674 </td>\n",
       "            </tr>\n",
       "            <tr>\n",
       "                <th>Total Missing (%)</th>\n",
       "                <td>0.0% </td>\n",
       "            </tr>\n",
       "            <tr>\n",
       "                <th>Total size in memory</th>\n",
       "                <td>67.1 KiB </td>\n",
       "            </tr>\n",
       "            <tr>\n",
       "                <th>Average record size in memory</th>\n",
       "                <td>41.0 B </td>\n",
       "            </tr>\n",
       "            </tbody>\n",
       "        </table>\n",
       "    </div>\n",
       "    <div class=\"col-md-6 namecol\">\n",
       "        <p class=\"h4\">Variables types</p>\n",
       "        <table class=\"stats\" style=\"margin-left: 1em;\">\n",
       "            <tbody>\n",
       "            <tr>\n",
       "                <th>Numeric</th>\n",
       "                <td>4 </td>\n",
       "            </tr>\n",
       "            <tr>\n",
       "                <th>Categorical</th>\n",
       "                <td>1 </td>\n",
       "            </tr>\n",
       "            <tr>\n",
       "                <th>Boolean</th>\n",
       "                <td>1 </td>\n",
       "            </tr>\n",
       "            <tr>\n",
       "                <th>Date</th>\n",
       "                <td>0 </td>\n",
       "            </tr>\n",
       "            <tr>\n",
       "                <th>Text (Unique)</th>\n",
       "                <td>0 </td>\n",
       "            </tr>\n",
       "            <tr>\n",
       "                <th>Rejected</th>\n",
       "                <td>0 </td>\n",
       "            </tr>\n",
       "            <tr>\n",
       "                <th>Unsupported</th>\n",
       "                <td>0 </td>\n",
       "            </tr>\n",
       "            </tbody>\n",
       "        </table>\n",
       "    </div>\n",
       "    <div class=\"col-md-12\" style=\"padding-left: 1em;\">\n",
       "        \n",
       "        <p class=\"h4\">Warnings</p>\n",
       "        <ul class=\"list-unstyled\"><li><a href=\"#pp_var_floor\"><code>floor</code></a> has 273 / 16.3% zeros <span class=\"label label-info\">Zeros</span></li><li>Dataset has 211 duplicate rows <span class=\"label label-warning\">Warning</span></li> </ul>\n",
       "    </div>\n",
       "</div>\n",
       "    <div class=\"row headerrow highlight\">\n",
       "        <h1>Variables</h1>\n",
       "    </div>\n",
       "    <div class=\"row variablerow\">\n",
       "    <div class=\"col-md-3 namecol\">\n",
       "        <p class=\"h4 pp-anchor\" id=\"pp_var_floor\">floor<br/>\n",
       "            <small>Numeric</small>\n",
       "        </p>\n",
       "    </div><div class=\"col-md-6\">\n",
       "    <div class=\"row\">\n",
       "        <div class=\"col-sm-6\">\n",
       "            <table class=\"stats \">\n",
       "                <tr>\n",
       "                    <th>Distinct count</th>\n",
       "                    <td>17</td>\n",
       "                </tr>\n",
       "                <tr>\n",
       "                    <th>Unique (%)</th>\n",
       "                    <td>1.0%</td>\n",
       "                </tr>\n",
       "                <tr class=\"ignore\">\n",
       "                    <th>Missing (%)</th>\n",
       "                    <td>0.0%</td>\n",
       "                </tr>\n",
       "                <tr class=\"ignore\">\n",
       "                    <th>Missing (n)</th>\n",
       "                    <td>0</td>\n",
       "                </tr>\n",
       "                <tr class=\"ignore\">\n",
       "                    <th>Infinite (%)</th>\n",
       "                    <td>0.0%</td>\n",
       "                </tr>\n",
       "                <tr class=\"ignore\">\n",
       "                    <th>Infinite (n)</th>\n",
       "                    <td>0</td>\n",
       "                </tr>\n",
       "            </table>\n",
       "\n",
       "        </div>\n",
       "        <div class=\"col-sm-6\">\n",
       "            <table class=\"stats \">\n",
       "\n",
       "                <tr>\n",
       "                    <th>Mean</th>\n",
       "                    <td>2.9892</td>\n",
       "                </tr>\n",
       "                <tr>\n",
       "                    <th>Minimum</th>\n",
       "                    <td>0</td>\n",
       "                </tr>\n",
       "                <tr>\n",
       "                    <th>Maximum</th>\n",
       "                    <td>16</td>\n",
       "                </tr>\n",
       "                <tr class=\"alert\">\n",
       "                    <th>Zeros (%)</th>\n",
       "                    <td>16.3%</td>\n",
       "                </tr>\n",
       "            </table>\n",
       "        </div>\n",
       "    </div>\n",
       "</div>\n",
       "<div class=\"col-md-3 collapse in\" id=\"minihistogram2767314658106951265\">\n",
       "    <img src=\"data:image/png;base64,iVBORw0KGgoAAAANSUhEUgAAAMgAAABLCAYAAAA1fMjoAAAABHNCSVQICAgIfAhkiAAAAAlwSFlzAAAPYQAAD2EBqD%2BnaQAAADl0RVh0U29mdHdhcmUAbWF0cGxvdGxpYiB2ZXJzaW9uIDMuMC4zLCBodHRwOi8vbWF0cGxvdGxpYi5vcmcvnQurowAAAS1JREFUeJzt3MFpw0AQQFHLpKQU4Z5ydk8pwj1triaEjyQQWsfv3QVz0GdgEFrGGOMC/Ol69gAws4%2BzB/jt8%2Bt78zOP%2B%2B2AScAGgSQQCAKBIBAIAoEgEAjTnXn3cBrmKDYIBIFAEAgEgUAQCASBQBAIBIFAEAgEgUAQCASBQBAIBIFAEAgEgUAQCASBQBAIBIFAEAgEgUD4F7/92cOvgljDBoEgEAgCgSAQCAKB8LZXrD22Xr5cvV6fDQJBIBAEAkEgEAQCQSAQnHkn4yPKuSxjjHH2EM/2vCBsI6j1bBBWedfNZoMwldmimi4QmIkrFgSBQBAIBIFAEAgEgUAQCASBQBAIBIFAEAgEgUAQCASBQBAIBIFAEAgEgUAQCASBQBAIBIFAEAgEgUAQCIQfC2Eoj7Lorc0AAAAASUVORK5CYII%3D\">\n",
       "\n",
       "</div>\n",
       "<div class=\"col-md-12 text-right\">\n",
       "    <a role=\"button\" data-toggle=\"collapse\" data-target=\"#descriptives2767314658106951265,#minihistogram2767314658106951265\"\n",
       "       aria-expanded=\"false\" aria-controls=\"collapseExample\">\n",
       "        Toggle details\n",
       "    </a>\n",
       "</div>\n",
       "<div class=\"row collapse col-md-12\" id=\"descriptives2767314658106951265\">\n",
       "    <ul class=\"nav nav-tabs\" role=\"tablist\">\n",
       "        <li role=\"presentation\" class=\"active\"><a href=\"#quantiles2767314658106951265\"\n",
       "                                                  aria-controls=\"quantiles2767314658106951265\" role=\"tab\"\n",
       "                                                  data-toggle=\"tab\">Statistics</a></li>\n",
       "        <li role=\"presentation\"><a href=\"#histogram2767314658106951265\" aria-controls=\"histogram2767314658106951265\"\n",
       "                                   role=\"tab\" data-toggle=\"tab\">Histogram</a></li>\n",
       "        <li role=\"presentation\"><a href=\"#common2767314658106951265\" aria-controls=\"common2767314658106951265\"\n",
       "                                   role=\"tab\" data-toggle=\"tab\">Common Values</a></li>\n",
       "        <li role=\"presentation\"><a href=\"#extreme2767314658106951265\" aria-controls=\"extreme2767314658106951265\"\n",
       "                                   role=\"tab\" data-toggle=\"tab\">Extreme Values</a></li>\n",
       "\n",
       "    </ul>\n",
       "\n",
       "    <div class=\"tab-content\">\n",
       "        <div role=\"tabpanel\" class=\"tab-pane active row\" id=\"quantiles2767314658106951265\">\n",
       "            <div class=\"col-md-4 col-md-offset-1\">\n",
       "                <p class=\"h4\">Quantile statistics</p>\n",
       "                <table class=\"stats indent\">\n",
       "                    <tr>\n",
       "                        <th>Minimum</th>\n",
       "                        <td>0</td>\n",
       "                    </tr>\n",
       "                    <tr>\n",
       "                        <th>5-th percentile</th>\n",
       "                        <td>0</td>\n",
       "                    </tr>\n",
       "                    <tr>\n",
       "                        <th>Q1</th>\n",
       "                        <td>1</td>\n",
       "                    </tr>\n",
       "                    <tr>\n",
       "                        <th>Median</th>\n",
       "                        <td>2</td>\n",
       "                    </tr>\n",
       "                    <tr>\n",
       "                        <th>Q3</th>\n",
       "                        <td>4</td>\n",
       "                    </tr>\n",
       "                    <tr>\n",
       "                        <th>95-th percentile</th>\n",
       "                        <td>9</td>\n",
       "                    </tr>\n",
       "                    <tr>\n",
       "                        <th>Maximum</th>\n",
       "                        <td>16</td>\n",
       "                    </tr>\n",
       "                    <tr>\n",
       "                        <th>Range</th>\n",
       "                        <td>16</td>\n",
       "                    </tr>\n",
       "                    <tr>\n",
       "                        <th>Interquartile range</th>\n",
       "                        <td>3</td>\n",
       "                    </tr>\n",
       "                </table>\n",
       "            </div>\n",
       "            <div class=\"col-md-4 col-md-offset-2\">\n",
       "                <p class=\"h4\">Descriptive statistics</p>\n",
       "                <table class=\"stats indent\">\n",
       "                    <tr>\n",
       "                        <th>Standard deviation</th>\n",
       "                        <td>2.9501</td>\n",
       "                    </tr>\n",
       "                    <tr>\n",
       "                        <th>Coef of variation</th>\n",
       "                        <td>0.98689</td>\n",
       "                    </tr>\n",
       "                    <tr>\n",
       "                        <th>Kurtosis</th>\n",
       "                        <td>3.6089</td>\n",
       "                    </tr>\n",
       "                    <tr>\n",
       "                        <th>Mean</th>\n",
       "                        <td>2.9892</td>\n",
       "                    </tr>\n",
       "                    <tr>\n",
       "                        <th>MAD</th>\n",
       "                        <td>2.1163</td>\n",
       "                    </tr>\n",
       "                    <tr class=\"\">\n",
       "                        <th>Skewness</th>\n",
       "                        <td>1.754</td>\n",
       "                    </tr>\n",
       "                    <tr>\n",
       "                        <th>Sum</th>\n",
       "                        <td>5004</td>\n",
       "                    </tr>\n",
       "                    <tr>\n",
       "                        <th>Variance</th>\n",
       "                        <td>8.7028</td>\n",
       "                    </tr>\n",
       "                    <tr>\n",
       "                        <th>Memory size</th>\n",
       "                        <td>13.2 KiB</td>\n",
       "                    </tr>\n",
       "                </table>\n",
       "            </div>\n",
       "        </div>\n",
       "        <div role=\"tabpanel\" class=\"tab-pane col-md-8 col-md-offset-2\" id=\"histogram2767314658106951265\">\n",
       "            <img src=\"data:image/png;base64,iVBORw0KGgoAAAANSUhEUgAAAlgAAAGQCAYAAAByNR6YAAAABHNCSVQICAgIfAhkiAAAAAlwSFlzAAAPYQAAD2EBqD%2BnaQAAADl0RVh0U29mdHdhcmUAbWF0cGxvdGxpYiB2ZXJzaW9uIDMuMC4zLCBodHRwOi8vbWF0cGxvdGxpYi5vcmcvnQurowAAIABJREFUeJzt3XtcVXW%2B//E3sAMUATclmDbTOGoCkqZmiJmYTjlplhqJOvPoojkToYwkJTYqnmMn8tapxGPaRSZPJwmm8FI6jplojnM6ZhagdrrYRUrZKluEMY3L7w%2BP/GaHF9Qvrr2Xr%2Bfj0aOH37VY%2B/Nms/XNWouNX319fb0AAABgjL/VAwAAANgNBQsAAMAwChYAAIBhFCwAAADDKFgAAACGUbAAAAAMo2ABAAAYRsECAAAwjIIFAABgGAULAADAMAoWAACAYRQsAAAAwyhYAAAAhlGwAAAADKNgAQAAGEbBAgAAMIyCBQAAYBgFCwAAwDAKFgAAgGEULAAAAMMoWAAAAIZRsAAAAAyjYAEAABhGwQIAADCMggUAAGAYBQsAAMAwChYAAIBhFCwAAADDKFgAAACGUbAAAAAMo2ABAAAYRsECAAAwjIIFAABgGAULAADAMAoWAACAYRQsAAAAwyhYAAAAhlGwAAAADKNgAQAAGOaweoDLhct11Pgx/f39FBERosOHq1VXV2/8%2BFaxay7Jvtnsmksimy%2Byay7JvtmaM1ebNqFGj9dUnMHyYf7%2BfvLz85O/v5/Voxhl11ySfbPZNZdENl9k11ySfbPZMRcFCwAAwDAKFgAAgGEULAAAAMMoWAAAAIZRsAAAAAyjYAEAABhGwQIAADCMggUAAGAYBQsAAMAwChYAAIBhFCwAAADDKFgAAACGUbAAAAAMc1g9QHNavHixXnvtNVVVVemGG27Q7Nmz9bOf/Uxbt27Vv//7v%2BvLL7/U1VdfrQkTJmj48OENH5ebm6vXX39dBw8e1HXXXadp06apW7duFiY5sxv/uM7qEZps7eSbrR4BAIBLwrZnsF577TUVFhbqT3/6k7Zs2aKOHTsqNzdXBw4cUGpqqkaPHq1t27Zp%2BvTpysrK0ieffCJJ2rBhgxYtWqS5c%2Bdq69atGjRokFJSUlRdXW1xIgAA4CtsW7BeeeUVpaenq2PHjgoNDdWMGTM0Y8YMrVmzRh06dFBSUpKCgoKUkJCgQYMGqaCgQJKUn5%2BvkSNHqnv37goODtb48ePl7%2B%2BvTZs2WRsIAAD4DFsWrAMHDmjfvn2qqqrSkCFDFB8fr7S0NB0%2BfFilpaWKjY312D8mJkYlJSWS1Gi7n5%2BfoqOjVVxcfEkzAAAA32XLe7D2798vSVq7dq2WLVum%2Bvp6TZ48WTNnztQ//vEPRUVFeezfunVrVVRUSJLcbrfCw8M9toeHhzdsb4ry8nK5XC6PNYejpSIjIy8kzhkFBPhWP3Y4mjbvqVy%2Blq8p7JrNrrkksvkiu%2BaS7JvNjrlsWbDq6%2BslSQ899FBDmZo4caImTJighISE0%2B7v5%2Bd31uOdbftP5eXlKScnx2MtNTVVaWlpTT6GHTmdIee1f1hYi2aaxHp2zWbXXBLZfJFdc0n2zWanXLYsWFdddZUkKSwsrGGtXbt2qqur048//ii32%2B2xv9vtltPplCQ5nc5GZ6uOHDmizp07N/nxk5OTNXDgQI81h6OlKirM3ijva02/qfkDAvwVFtZClZXHVFtb18xTXVp2zWbXXBLZfJFdc0n2zdacuc73m3tTbFmw2rZtq4iICO3evVtdu3aVJJWVlemKK65QYmKiVq5c6bF/SUmJunfvLkmKi4tTaWmpRowYIUmqra3Vrl27lJSU1OTHj4yMbHQ50OU6qpoa%2B7wYLsT55q%2BtrbPt58yu2eyaSyKbL7JrLsm%2B2eyUy7dOgTSRw%2BFQcnKyXnjhBX399dc6dOiQFi1apGHDhmnEiBEqKytTfn6%2Bjh8/rqKiIhUVFWnUqFGSpDFjxqiwsFA7d%2B7UsWPHtHjxYgUGBmrAgAHWhgIAAD7DlmewJOmRRx7RkSNHdO%2B99%2BrHH3/U4MGDNX36dIWEhGjJkiWaO3eusrOzdc0112jevHmKjo6WJPXv31%2BPPvqoMjMz5XK51LVrVy1dulTBwcEWJwIAAL7Cr/7UHeFoVi7XUePHdDj8ddv8LcaP21ya%2Bk7uDoe/nM4QVVRU2%2BZU8Sl2zWbXXBLZfJFdc0n2zdacudq0CTV6vKay5SVCAAAAK1GwAAAADKNgAQAAGEbBAgAAMIyCBQAAYBgFCwAAwDAKFgAAgGEULAAAAMMoWAAAAIZRsAAAAAyjYAEAABhGwQIAADCMggUAAGAYBQsAAMAwChYAAIBhFCwAAADDKFgAAACGUbAAAAAMo2ABAAAYRsECAAAwjIIFAABgGAULAADAMAoWAACAYRQsAAAAwyhYAAAAhlGwAAAADKNgAQAAGEbBAgAAMIyCBQAAYBgFCwAAwDAKFgAAgGEULAAAAMMcVg%2BAy8cdz261eoTzsnbyzVaPAADwUZzBAgAAMIyCBQAAYBgFCwAAwDAKFgAAgGEULAAAAMMoWAAAAIbZtmDdeuutiouL0/XXX9/w3%2BzZsyVJW7duVVJSknr27KmhQ4eqsLDQ42Nzc3M1ePBg9erVS2PGjNEnn3xiRQQAAOCjbPs%2BWJWVlXr11VfVs2dPj/UDBw4oNTVV06dP17Bhw7Rjxw49/PDD%2BuUvf6lu3bppw4YNWrRokV566SV16dJF//mf/6mUlBStX79eISEhFqUBAAC%2BxJZnsGpra1VdXa3w8PBG29asWaMOHTooKSlJQUFBSkhI0KBBg1RQUCBJys/P18iRI9W9e3cFBwdr/Pjx8vf316ZNmy5xCgAA4KtsWbAqKytVX1%2BvhQsXqn///rrllluUlZWl6upqlZaWKjY21mP/mJgYlZSUSFKj7X5%2BfoqOjlZxcfElzQAAAHyXLS8RnjhxQl27dlXPnj2VnZ2tsrIypaena9asWXK73YqKivLYv3Xr1qqoqJAkud3uRme%2BwsPDG7Y3RXl5uVwul8eaw9FSkZGRF5jo9AICbNmPvYbDYf7ze%2Bo5s9tzZ9dcEtl8kV1zSfbNZsdctixYUVFRevPNNxv%2B3KlTJ2VkZCglJUW9evVqtH99fb38/PzOeLxzbf%2BpvLw85eTkeKylpqYqLS2tyceA9ZzO5rvnLiysRbMd20p2zSWRzRfZNZdk32x2ymXLgnU611xzjWpra%2BXv7y%2B32%2B2xze12y%2Bl0SpKcTmejs1VHjhxR586dm/xYycnJGjhwoMeaw9FSFRXVFzj96dmp6Xsj08%2BXdPI5CwtrocrKY6qtrTN%2BfKvYNZdENl9k11ySfbM1Z67m/Gb5bGxZsPbs2aPVq1frsccea1j74osvFBgYqMTERL311lse%2B5eUlKh79%2B6SpLi4OJWWlmrEiBGSTt4wv2vXLiUlJTX58SMjIxtdDnS5jqqmxj4vhstBcz5ftbV1tvx6sGsuiWy%2ByK65JPtms1MuW54CcTqd%2Bq//%2Bi%2B99NJLOnHihPbu3auFCxdq9OjRuvvuu1VWVqb8/HwdP35cRUVFKioq0qhRoyRJY8aMUWFhoXbu3Kljx45p8eLFCgwM1IABA6wNBQAAfIYtz2BFRUVp6dKlmjdvnhYtWiSn06lf//rXmjx5sgIDA7VkyRLNnTtX2dnZuuaaazRv3jxFR0dLkvr3769HH31UmZmZcrlc6tq1q5YuXarg4GCLUwEAAF9hy4IlSb1799Ybb7xxxm35%2Bfln/NixY8dq7NixzTUaAACwOVteIgQAALASBQsAAMAwChYAAIBhFCwAAADDKFgAAACGUbAAAAAMo2ABAAAYRsECAAAwjIIFAABgGAULAADAMAoWAACAYRQsAAAAwyhYAAAAhlGwAAAADKNgAQAAGEbBAgAAMIyCBQAAYBgFCwAAwDAKFgAAgGEULAAAAMMoWAAAAIZRsAAAAAyjYAEAABhGwQIAADCMggUAAGAYBQsAAMAwChYAAIBhFCwAAADDKFgAAACGUbAAAAAMo2ABAAAYRsECAAAwjIIFAABgGAULAADAMAoWAACAYRQsAAAAwyhYAAAAhlGwAAAADKNgAQAAGHZZFKynnnpKXbp0afjz1q1blZSUpJ49e2ro0KEqLCz02D83N1eDBw9Wr169NGbMGH3yySeXemQAAODDbF%2Bwdu/e7VGgDhw4oNTUVI0ePVrbtm3T9OnTlZWV1VCiNmzYoEWLFmnu3LnaunWrBg0apJSUFFVXV1sVAQAA%2BBhbF6y6ujplZWXp/vvvb1hbs2aNOnTooKSkJAUFBSkhIUGDBg1SQUGBJCk/P18jR45U9%2B7dFRwcrPHjx8vf31%2BbNm2yKAUAAPA1ti5YK1asUGBgoO6%2B%2B%2B6GtdLSUsXGxnrsFxMTo5KSktNu9/PzU3R0tIqLiy/N0AAAwOc5rB6guRw8eFALFy7Uq6%2B%2B6rHudrsVFRXlsda6dWtVVFQ0bA8PD/fYHh4e3rC9KcrLy%2BVyuTzWHI6WioyMPJ8I5xQQYOt%2BbDmHw/zn99RzZrfnzq65JLL5IrvmkuybzY65bFuwsrOzdc8996hz587at2/fWfetr6%2BXn5/fBW//qby8POXk5HispaamKi0trcnHgPWczpBmO3ZYWItmO7aV7JpLIpsvsmsuyb7Z7JTLlgVr27Zt%2Buijj/Tkk0822uZ0OuV2uz3W3G63nE5nw/afnq06cuSIOnfu3OTHT05O1sCBAz3WHI6Wqqgwe6O8nZq%2BNzL9fEknn7OwsBaqrDym2to648e3il1zSWTzRXbNJdk3W3Pmas5vls/GlgVr1apVOnTokAYMGCDp5BkoSYqPj9e4ceO0Zs0aj/1LSkrUvXt3SVJcXJxKS0s1YsQISVJtba127dqlpKSkJj9%2BZGRko8uBLtdR1dTY58VwOWjO56u2ts6WXw92zSWRzRfZNZdk32x2ymXLUyCZmZn6y1/%2BopUrV2rlypVaunSpJGnlypUaNmyYysrKlJ%2Bfr%2BPHj6uoqEhFRUUaNWqUJGnMmDEqLCzUzp07dezYMS1evFiBgYENZQ0AAOBcbHkGKzw83ONG9ZqaGklS27ZtJUlLlizR3LlzlZ2drWuuuUbz5s1TdHS0JKl///569NFHlZmZKZfLpa5du2rp0qUKDg6%2B9EEAAIBPsmXB%2BqlrrrlGn376acOfe/furfz8/DPuP3bsWI0dO/ZSjAYAAGzIlpcIAQAArETBAgAAMIyCBQAAYBgFCwAAwDAKFgAAgGEULAAAAMMoWAAAAIZRsAAAAAyjYAEAABhGwQIAADCMggUAAGAYBQsAAMAwChYAAIBhFCwAAADDKFgAAACGUbAAAAAMo2ABAAAYRsECAAAwjIIFAABgGAULAADAMAoWAACAYRQsAAAAwyhYAAAAhlGwAAAADKNgAQAAGEbBAgAAMIyCBQAAYBgFCwAAwDAKFgAAgGEULAAAAMMoWAAAAIZRsAAAAAyjYAEAABhGwQIAADCMggUAAGAYBQsAAMAwChYAAIBhFCwAAADDKFgAAACG2bZg7dmzR/fff7969eqlvn37avLkyXK5XJKkrVu3KikpST179tTQoUNVWFjo8bG5ubkaPHiwevXqpTFjxuiTTz6xIgIAAPBRtixYJ06c0Lhx43TTTTdp27ZtWrVqlVwul2bNmqUDBw4oNTVVo0eP1rZt2zR9%2BnRlZWU1lKgNGzZo0aJFmjt3rrZu3apBgwYpJSVF1dXVFqcCAAC%2BwpYF69ixY0pPT9fvf/97BQYG6qqrrtLgwYP12Wefac2aNerQoYOSkpIUFBSkhIQEDRo0SAUFBZKk/Px8jRw5Ut27d1dwcLDGjx8vf39/bdq0ydpQAADAZ9iyYIWHh%2Bvee%2B%2BVw%2BGQJH399dcqLCzUkCFDVFpaqtjYWI/9Y2JiVFJSIkmNtvv5%2BSk6OlrFxcWXLgAAAPBpDqsHaE5lZWUaPHiwampqNHr0aKWlpemhhx5SVFSUx36tW7dWRUWFJMntdis8PNxje3h4eMP2pigvL2%2B43%2BsUh6OlIiMjLzDJ6QUE2LIfew2Hw/zn99RzZrfnzq65JLL5IrvmkuybzY65bF2w2rdvr%2BLiYn399deaOXOmHnvssdPuV19fLz8/vzMe51zbfyovL085OTkea6mpqUpLS2vyMWA9pzOk2Y4dFtai2Y5tJbvmksjmi%2ByaS7JvNjvlsnXBkk5e4vvFL36h9PR0jR49WomJiXK73R77uN1uOZ1OSZLT6Wx0turIkSPq3Llzkx8zOTlZAwcO9FhzOFqqosLsjfJ2avreyPTzJZ18zsLCWqiy8phqa%2BuMH98qds0lkc0X2TWXZN9szZmrOb9ZPhtbFqytW7fqX//1X7V27Vr5%2B58sIaf%2B37dvX/35z3/22L%2BkpETdu3eXJMXFxam0tFQjRoyQJNXW1mrXrl1KSkpq8uNHRkY2uhzoch1VTY19XgyXg%2BZ8vmpr62z59WDXXBLZfJFdc0n2zWanXLY8BRIXF6fKykrNnz9fx44d0%2BHDh7Vw4ULdeOONGjZsmMrKypSfn6/jx4%2BrqKhIRUVFGjVqlCRpzJgxKiws1M6dO3Xs2DEtXrxYgYGBGjBggLWhAACAz7BlwQoPD9eyZctUXFysPn36aOjQoQoNDdUzzzyjK6%2B8UkuWLNEbb7yhhIQELViwQPPmzVN0dLQkqX///nr00UeVmZmpfv366YMPPtDSpUsVHBxscSoAAOArbHmJUJKio6O1fPny027r3bu38vPzz/ixY8eO1dixY5trNAAAYHO2PIMFAABgJQoWAACAYRQsAAAAwyhYAAAAhlGwAAAADKNgAQAAGEbBAgAAMIyCBQAAYBgFCwAAwDAKFgAAgGEULAAAAMMoWAAAAIZRsAAAAAyjYAEAABhGwQIAADCMggUAAGAYBQsAAMAwChYAAIBhFCwAAADDvK5gHT161OoRAAAALorXFax%2B/fpp6tSp2r59u9WjAAAAXBCvK1j/8i//okOHDumBBx7QHXfcoWXLlunw4cNWjwUAANBkXlewhg8frpdeekmbN2/Wb37zG61fv14DBgxQenq6tm3bZvV4AAAA5%2BR1BeuUiIgI/fa3v9Xrr7%2Bu7Oxsvf/%2B%2Bxo3bpyGDBmi9evXWz0eAADAGTmsHuBMDh8%2BrDfffFN//vOf9c033%2Bjmm29WcnKyysvLNXPmTJWVlenBBx%2B0ekwAAIBGvK5gbdmyRfn5%2Bdq4caNat26te%2B65R6NGjVL79u0b9unatatSU1MpWAAAwCt5XcH63e9%2Bp/j4eM2fP1%2B/%2BtWv5HA0HrFbt24KDQ21YDoAAIBz87qCtW7dOl177bU6ceJEQ7mqqqpSq1atPPZ75513rBgPAADgnLzuJnd/f38NGTJEGzdubFh74403NGTIEH377bcWTgYAANA0Xlew/u3f/k1dunRRr169GtbuuusudevWTdnZ2RZOBgAA0DRed4nwo48%2B0qZNm9SiRYuGtauuukozZ87UrbfeauFkAAAATeN1Bau%2Bvl4nTpzwKFjSyfuwamtrLZoKl6M7nt1q9QjnZe3km60eAQDwf7zuEuEtt9yiqVOnas%2BePaqqqlJlZaV27NihKVOmaMCAAVaPBwAAcE5edwbriSeeUGpqqoYPHy4/P7%2BG9RtvvFFZWVkWTgYAANA0XlewrrzySq1YsUJ79uzR119/rYCAAP3iF79Qp06drB4NAACgSbyuYJ0SHR2t6Ohoq8cAAAA4b15XsIqLi/Xkk0/qf//3f/XDDz802r57924LpgIAAGg6rytYM2bMUMuWLTVp0iS1bNnS6nEAAADOm9cVrK%2B%2B%2Bkrvv/9%2Bo1%2BNAwAA4Cu87m0a2rVrZ%2BQ4ZWVlSk1NVXx8vPr06aPHH39clZWVkqTS0lL99re/Va9evXT77bfrpZde8vjYNWvWaNiwYerRo4dGjhypzZs3G5kJAABcHryuYKWnp%2Bupp55SVVXVRR3nkUceUVhYmDZu3KjVq1fryy%2B/1Jw5c/TDDz/o4YcfVp8%2BfbRlyxY9%2B%2Byzeumll7Ru3TpJ0q5duzRt2jRlZGTo73//u8aNG6dJkybp%2B%2B%2B/NxEPAABcBryuYC1evFgbNmzQTTfdpL59%2B6pfv34e/zVFZWWlYmNjNWXKFIWEhKhNmzYaPny4tm/frk2bNqmmpkYpKSlq2bKlYmNjde%2B99yo/P1%2BSVFBQoMTERCUmJiooKEh33nmnoqOjtXr16uaMDQAAbMTr7sEaOHDgRR8jLCys0S%2BG/u677xQZGanS0lJ16dJFAQEBDdtiYmL0xhtvSDp5%2BTAxMdHjY2NiYlRcXHzRcwEAgMuD1xWsiRMnGj9mcXGxXnvtNS1evFhr165VWFiYx/bWrVvL7Xarrq5Obrdb4eHhHtvDw8P1%2BeefN/nxysvL5XK5PNYcjpaKjIy88BCnERDgdScgYSGHw7qvh1Nfi3b8miSb77FrLsm%2B2eyYy%2BsKliTt2LFDeXl5%2Bu6777R8%2BXLV1dVp3bp1GjJkyHkf68MPP1RKSoqmTJmivn37au3atY32qa%2Bv9/i1PKdzru3/LC8vTzk5OR5rqampSktLa/IxgPPldIZYPYLCwlqceycfRTbfY9dckn2z2SmX1xWst99%2BW48//rhuueUW7dy5U5K0f/9%2BZWVl6R//%2BIeSkpKafKz33ntPGRkZmjFjhoYPHy5JioiI0FdffeWx35EjR9S6dWv5%2B/vL6XSqoqLCY7vb7ZbT6Wzy4yYnJze61OlwtFRFRXWTj9EUdmr6uHimv77OR0CAv8LCWqiy8phqa%2Bssm6M5kM332DWXZN9szZnLqm8%2Bva5gLVmyRPPnz9cdd9yhbt26STr51g3PP/%2B8nnrqqSYXrB07dujxxx/Xc88953FzfFxcnF5//XXV1NTI4TgZv7i4WN27d2/YXlJS4nGs4uJiDR06tMkZIiMjG10OdLmOqqbGPi8GeB9v%2BPqqra3zijmaA9l8j11zSfbNZqdcXncK5JtvvtHtt98uyfOyXHx8vPbt29ekY9TU1Gj69OnKyMho9JOHiYmJatWqlRYvXqxjx47p448/VkFBgcaMGSNJGjVqlP72t79p06ZNOn78uAoKCvTVV1/prrvuMpQQAADYndedwXI6nTp8%2BLDatGnjsb53714FBwc36Rg7d%2B7UF198oSeffFJPPvmkx7Z169bphRde0OzZs5Wbm6s2bdooPT1dAwYMkCRdd911mj9/vp555hnt27dPnTp10pIlSxrNAwAAcCZeV7D69OmjP/7xj5o6daqkk/c/lZSUaM6cOQ0l6FxuvPFGffrpp2fdZ/ny5WfcdvvttzecRQMAADhfXneJcOrUqTp27JiGDh2q48ePKyEhQQ899JDat2%2BvzMxMq8cDAAA4J687g9W6dWstX75ce/bs0Zdffqng4GB16NBBHTp0sHo0AACAJvG6gnVKdHS0oqOjrR4DAADgvHldwYqOjj7rm3ru3r37Ek4DAABw/ryuYGVlZXkUrNraWu3du1ebN29WSkqKhZMBAAA0jdcVrFPvR/VTH3zwgfLy8jRixIhLPBEAAMD58bqfIjyT3r17q6ioyOoxAAAAzslnCtbGjRsbfrUNAACAN/O6xvLTX20jScePH1dVVdUZLx8CAAB4E68rWMnJyY1%2BijAoKEgdO3bUwIEDLZoKAACg6byuYE2aNMnqEQAAAC6K1xWsnJycJu3n5%2Ben1NTUZp4GAADg/HldwXrrrbd08OBBHT9%2BXC1atJDD4dDRo0cVHBysVq1aeexLwQIAAN7I6wrWlClT9O677%2Bqxxx5T27ZtJUnffvut5s2bpzvuuEN33HGHxRMCAACcndcVrOeee05vvPGGwsPDG9Z%2B9rOfadasWUpOTqZgAQAAr%2Bd174P1/fffKyAgoNH6FVdcoYMHD1owEQAAwPnxuoLVuXNnTZ06VaWlpaqsrFRVVZX27NmjJ554Ql26dLF6PAAAgHPyukuEs2fP1pQpU3TPPfc0vB9WfX292rVrp//4j/%2BweDoAAIBz87qCFRsbq7Vr16qkpETff/%2B96uvr1bZtW8XFxcnf3%2BtOuAEAADTidQXrlPDwcB09elQJCQlWjwIAAHBevO6U0OHDhzV%2B/HjddtttmjBhgiTJ5XLpzjvv1P79%2By2eDgAA4Ny8rmA9/fTTqqurU35%2BfsMlwdDQUMXGxurpp5%2B2eDoAAIBz87pLhJs3b9bKlSsVFRXVcJN7cHCwpk2bpmHDhlk8HQAAwLl5XcH68ccfFRkZ2Wg9ODhYVVVVFkwE%2BIY7nt1q9QhNtnbyzVaPAADNyusuEXbs2FHr169vtJ6Xl6cOHTpYMBEAAMD58bozWOPGjdNjjz2mtWvXqra2VrNnz1Zpaak%2B%2BeQTPfvss1aPBwAAcE5edwbr17/%2BtZYsWaKamhr9/Oc/10cffaT27dtrxYoVuv32260eDwAA4Jy87gxWcXGxEhISeP8rAADgs7zuDNZ9992n2tpaq8cAAAC4YF5XsIYOHarc3FzV19dbPQoAAMAF8bpLhAcPHtTGjRv14osvql27dgoMDPTYvmLFCosmAwAAaBqvK1hOp1OJiYlWjwEAAHDBvKZgpaWl6fnnn1d2dnbD2vPPP6%2B0tDQLpwIAADh/XnMPVlFRUaO1l19%2B2YJJAAAALo7XFKzT4UZ3AADgi7y6YJ36Zc8AAAC%2BxKsLFgAAgC%2BiYAEAABjmNT9F%2BOOPP2rKlCnnXFuwYMGlHAsAAOC8ec0ZrF69eqm8vNzjv9OtNdWWLVvUt29fpaenN9q2Zs0aDRs2TD169NDIkSO1efPmhm11dXVasGCBBg0apN69e2v8%2BPH6%2BuuvjWQEAACXB685g7V8%2BXJjx3rxxRdVUFCga6%2B9ttG2Xbt2adq0acrJyVGfPn3017/%2BVZMmTdK6det09dVXa/ny5Xr77bf14osvqm3btnr22Wc1ceJErVq1ipvuAQBAk3jNGSyTgoKCzliwCgoKlJiYqMTERAUFBenOO%2B9UdHS0Vq9eLUnKz8/XAw88oI4dOyokJESTJ0/W3r179fHHH1/qGAAAwEfZsmDdd999Cg0NPe220tJSxcbGeqzFxMSouLhYP/zwgz7//HOP7SEhIfr5z3%2Bu4uLiZp0ZAADYh9dcIrxU3G6qcM8CAAAOEUlEQVS3wsPDPdbCw8P1%2Beef68iRI6qvrz/t9oqKiiY/Rnl5uVwul8eaw9FSkZGRFz74aQQE2LIf4zLgcPjO1%2B6p15kdX292zWbXXJJ9s9kx12VXsM7kbPdX1dfXn9f9V3l5ecrJyfFYS01N5fcqAv/H6QyxeoTzFhbWwuoRmo1ds9k1l2TfbHbKddkVLKfT2ehslNvtltPpVOvWreXv799o%2B5EjRxQREdHkx0hOTtbAgQM91hyOlqqoqL7wwU/DTk0flxfTr4XmFBDgr7CwFqqsPKba2jqrxzHKrtnsmkuyb7bmzGXVN3SXXcGKi4tTSUmJx1pxcbGGDh2qoKAgde7cWaWlpbrpppskSZWVlfrmm2/UrVu3Jj9GZGRko8uBLtdR1dTY58UAXAxffC3U1tb55NxNYddsds0l2TebnXJddqdARo0apb/97W/atGmTjh8/roKCAn311Ve66667JEljxozRq6%2B%2Bqi%2B%2B%2BEJVVVWaP3%2B%2BYmJidP3111s8OQAA8BW2PIN1qgzV1NRIkjZs2CDp5Jmq6667TvPnz9czzzyjffv2qVOnTlqyZInatGkjSRo9erQOHjyoCRMmqLq6Wj169Gh0PxUAAMDZ%2BNXX19dbPcTlwOU6avyYDoe/bpu/xfhxgea2dvLNVo/QZA6Hv5zOEFVUVNvm0sUpds1m11ySfbM1Z642bU7/tk3N7bK7RAgAANDcKFgAAACGUbAAAAAMo2ABAAAYRsECAAAwjIIFAABgGAULAADAMAoWAACAYRQsAAAAwyhYAAAAhlGwAAAADKNgAQAAGEbBAgAAMIyCBQAAYBgFCwAAwDAKFgAAgGEULAAAAMMcVg8AAN7uxj%2Bus3qE87J28s1WjwBc9jiDBQAAYBgFCwAAwDAKFgAAgGEULAAAAMMoWAAAAIZRsAAAAAzjbRoAXHJ3PLvV6hFszZc%2Bv7ylBOyKM1gAAACGUbAAAAAMo2ABAAAYRsECAAAwjIIFAABgGAULAADAMAoWAACAYbwPFgAATeRL7zEm8T5jVuIMFgAAgGEULAAAAMMoWAAAAIZRsAAAAAyjYAEAABjGTxECACzjaz%2BVBzQVBQsAAJvypQK7/d9%2BbfUIRnGJ8DS%2B/fZbTZgwQfHx8br11ls1Z84c1dbWWj0WAADwERSs00hLS1Pbtm21YcMG5ebmauPGjcrNzbV6LAAA4CMoWD9RXFysTz/9VBkZGQoNDdW1116rBx98UPn5%2BVaPBgAAfAT3YP1EaWmp2rdvr/Dw8Ia12NhY7d27V1VVVWrVqtU5j1FeXi6Xy%2BWx5nC0VGRkpNFZAwLoxwAA%2B7DTv2sUrJ9wu90KCwvzWDtVtioqKppUsPLy8pSTk%2BOxNnHiRE2aNMncoDpZ5O5v%2B5mSk5ONlzcrlZeXKy8vz3a5JPtms2suiWy%2ByK65JPtmKy8v18KFC22Vyz5VsRnV19dLkvz8/Jq0f3Jyst58802P/5KTk43P5XK5lJOT0%2Bhsma%2Bzay7Jvtnsmksimy%2Byay7JvtnsmIszWD8RERGhiooKj7UjR47Iz89PTqezSceIjIy0TQMHAADnjzNYPxEXF6fvvvtOhw8fblgrLi5Wp06dFBISYuFkAADAV1CwfiI2NlbdunXTggULVFVVpS%2B%2B%2BELLli3TmDFjrB4NAAD4iIBZs2bNsnoIb3PLLbdo7dq1evrpp7V%2B/XoNHz5c48ePb/I9WJdSSEiIbrrpJtudXbNrLsm%2B2eyaSyKbL7JrLsm%2B2eyWy6/%2B1B3cAAAAMIJLhAAAAIZRsAAAAAyjYAEAABhGwQIAADCMggUAAGAYBQsAAMAwChYAAIBhFCwAAADDKFgAAACGUbBs4Ntvv9WECRMUHx%2BvW2%2B9VXPmzFFtba3VY12QsrIypaamKj4%2BXn369NHjjz%2BuyspKq8cy6qmnnlKXLl2sHsOoxYsXq1%2B/frrhhhv0wAMP6Ntvv7V6JCN2796t%2B%2B67TzfeeKNuvvlmZWRkePwieEnasmWL%2Bvbtq/T09EYfv2bNGg0bNkw9evTQyJEjtXnz5ks1%2BmXjbJ//9evX66677lKPHj102223KS8vz4IJL9zZsp1SXV2txMREZWZmXsLJLs7Zch04cEApKSm64YYb1LdvXy1YsMBn/z2jYNlAWlqa2rZtqw0bNig3N1cbN25Ubm6u1WNdkEceeURhYWHauHGjVq9erS%2B//FJz5syxeixjdu/ercLCQqvHMOq1115TYWGh/vSnP2nLli3q2LGjz379/bPa2lpNmDBB119/vd5//32tWrVKBw8e1D//%2BtYXX3xRTz75pK699tpGH79r1y5NmzZNGRkZ%2Bvvf/65x48Zp0qRJ%2Bv777y9hCns72%2Be/uLhYGRkZSktL0/bt25WVlaXZs2dr%2B/btFkx6/s6W7Z8tXLhQVVVVl2iqi3e2XPX19Zo4caKuvvpqvf/%2B%2B1q%2BfLm2bdumDz74wIJJLx4Fy8cVFxfr008/VUZGhkJDQ3XttdfqwQcfVH5%2BvtWjnbfKykrFxsZqypQpCgkJUZs2bTR8%2BHCf%2BQvxXOrq6pSVlaX777/f6lGMeuWVV5Senq6OHTsqNDRUM2bM0IwZM6we66KVl5fL5XJp5MiRCg4O1pVXXqnBgwdr9%2B7dDfsEBQWpoKDgtP9YFBQUKDExUYmJiQoKCtKdd96p6OhorV69%2BlLGsLWzff4rKir0%2B9//Xr/61a8UEBCgfv366brrrvOZv0/Olu2UPXv2aPXq1RoxYsQlnOzinC3X//zP/%2Bibb75RZmamWrVqpY4dO6qgoEAJCQkWTHrxKFg%2BrrS0VO3bt1d4eHjDWmxsrPbu3etT39VIUlhYmLKzs3XVVVc1rH333XeKjIy0cCpzVqxYocDAQN19991Wj2LMgQMHtG/fPlVVVWnIkCGKj49XWlpao8tovigqKkoxMTFasWKFqqurdejQIf3lL3/RgAEDGva57777FBoaetqPLy0tVWxsrMdaTEyMiouLm3Psy8rZPv/9%2B/dXampqw59ramrkcrkUFRV1qca7KGfLJp082zNr1iylp6d7/P3v7c6W68MPP1SXLl307LPPKj4%2BXoMGDfLps%2BEULB/ndrsVFhbmsXbqxVZRUWHFSMYUFxfrtddeU0pKitWjXLSDBw9q4cKFysrKsnoUo/bv3y9JWrt2rZYtW6aVK1eqvLxcM2fOtHiyi%2Bfv76/nn39e7733nnr27Km%2BffuqpqZGU6ZMadLHu93uRv/whYeH%2B/zr0lfNnz9fLVu21JAhQ6wexYi8vDz5%2BfnpnnvusXoUY/bv36%2BPP/5YERER2rRpk7KysvTMM8/o3XfftXq0C0LBsqH6%2BnpJkp%2Bfn8WTXLgPP/xQ48eP15QpU9S3b1%2Brx7lo2dnZuueee9S5c2erRzHq1NfaQw89pKioKLVt21YTJ07Uu%2B%2B%2Bq%2BPHj1s83cU5ceKEUlJSNHjwYG3fvl2bN29WWFiYMjIyLuq4vvy69EX19fWaN2%2Be1qxZo8WLFysoKMjqkS7aoUOH9Pzzz2vWrFm2%2Bnqqr6%2BX0%2BnUQw89pBYtWqh///667bbb9M4771g92gWhYPm4iIiIRt8RHzlyRH5%2BfnI6nRZNdXHee%2B89/e53v9MTTzyh%2B%2B67z%2BpxLtq2bdv00UcfeVyusItTl3P/%2BSxqu3btVFdXp0OHDlk1lhHbtm3Tvn379Oijjyo0NFRRUVFKS0vTX//6V7nd7nN%2BvNPpbPTadLvdPvu69EV1dXXKzMzUxo0b9frrr%2BuXv/yl1SMZ8fTTT%2Bvuu%2B%2B23U8jt2nTptHlw3bt2snlclk00cVxWD0ALk5cXJy%2B%2B%2B47HT58WBEREZJOXlrr1KmTQkJCLJ7u/O3YsUOPP/64nnvuOfXr18/qcYxYtWqVDh061HDvzqmzPvHx8Zo5c6aGDh1q4XQXp23btoqIiNDu3bvVtWtXSSffauOKK67w%2BXvnamtrVVdX1/B8SSfv42mquLg4lZSUeKwVFxf79PPta5566il99tlnev3119W6dWurxzFm1apVCgsL05tvvilJ%2BuGHH1RXV6f33ntP//3f/23xdBcuJiZGL7/8sqqrqxv%2B/SorK1P79u0tnuzCULB8XGxsrLp166YFCxZo2rRpOnDggJYtW6Zx48ZZPdp5q6mp0fTp05WRkWGbciVJmZmZ%2BsMf/tDw5/379ys5OVkrV670qZtTT8fhcCg5OVkvvPCCevfurVatWmnRokUaNmyYHA7f/uulR48eatmypRYuXKiHH35YP/zwQ0POpvxjPWrUKCUlJWnTpk1KSEjQ6tWr9dVXX%2Bmuu%2B66BNPjww8/1KpVq/TOO%2B/YqlxJUlFRkcefly1bpv3792vatGkWTWTGrbfeqoiICM2dO1dTp07Vxx9/rA0bNujll1%2B2erQL4lf/z9%2BewSft379fs2bN0o4dOxQaGqrhw4dr4sSJPndtfvv27frNb36jwMDARtvWrVvns9/F/NS%2Bffs0aNAgffrpp1aPYsSJEyeUnZ2tt99%2BWz/%2B%2BKMGDx6sGTNm%2BOQZ1J8qKSnRnDlztGfPHgUGBuqmm25SZmZmw0%2BiXX/99ZL%2B/5mtU6Xy1E8Krl%2B/Xjk5Odq3b586deqkxx57TL1797YgiT2d7fP/xBNP6K233mpU9Hv37q1XXnnl0g56Ac71tfXPFi5cqLKyMj399NOXbsALdK5cn332mWbOnKnS0lJFREToD3/4g0%2B9DcU/o2ABAAAYxk3uAAAAhlGwAAAADKNgAQAAGEbBAgAAMIyCBQAAYBgFCwAAwDAKFgAAgGEULAAAAMMoWAAAAIZRsAAAAAyjYAEAABhGwQIAADCMggUAAGDY/wOpvLsTYr7lAAAAAABJRU5ErkJggg%3D%3D\"/>\n",
       "        </div>\n",
       "        <div role=\"tabpanel\" class=\"tab-pane col-md-12\" id=\"common2767314658106951265\">\n",
       "            \n",
       "<table class=\"freq table table-hover\">\n",
       "    <thead>\n",
       "    <tr>\n",
       "        <td class=\"fillremaining\">Value</td>\n",
       "        <td class=\"number\">Count</td>\n",
       "        <td class=\"number\">Frequency (%)</td>\n",
       "        <td style=\"min-width:200px\">&nbsp;</td>\n",
       "    </tr>\n",
       "    </thead>\n",
       "    <tr class=\"\">\n",
       "        <td class=\"fillremaining\">1</td>\n",
       "        <td class=\"number\">336</td>\n",
       "        <td class=\"number\">20.1%</td>\n",
       "        <td>\n",
       "            <div class=\"bar\" style=\"width:100%\">&nbsp;</div>\n",
       "        </td>\n",
       "</tr><tr class=\"\">\n",
       "        <td class=\"fillremaining\">2</td>\n",
       "        <td class=\"number\">290</td>\n",
       "        <td class=\"number\">17.3%</td>\n",
       "        <td>\n",
       "            <div class=\"bar\" style=\"width:86%\">&nbsp;</div>\n",
       "        </td>\n",
       "</tr><tr class=\"\">\n",
       "        <td class=\"fillremaining\">0</td>\n",
       "        <td class=\"number\">273</td>\n",
       "        <td class=\"number\">16.3%</td>\n",
       "        <td>\n",
       "            <div class=\"bar\" style=\"width:81%\">&nbsp;</div>\n",
       "        </td>\n",
       "</tr><tr class=\"\">\n",
       "        <td class=\"fillremaining\">3</td>\n",
       "        <td class=\"number\">233</td>\n",
       "        <td class=\"number\">13.9%</td>\n",
       "        <td>\n",
       "            <div class=\"bar\" style=\"width:69%\">&nbsp;</div>\n",
       "        </td>\n",
       "</tr><tr class=\"\">\n",
       "        <td class=\"fillremaining\">4</td>\n",
       "        <td class=\"number\">225</td>\n",
       "        <td class=\"number\">13.4%</td>\n",
       "        <td>\n",
       "            <div class=\"bar\" style=\"width:67%\">&nbsp;</div>\n",
       "        </td>\n",
       "</tr><tr class=\"\">\n",
       "        <td class=\"fillremaining\">5</td>\n",
       "        <td class=\"number\">92</td>\n",
       "        <td class=\"number\">5.5%</td>\n",
       "        <td>\n",
       "            <div class=\"bar\" style=\"width:28%\">&nbsp;</div>\n",
       "        </td>\n",
       "</tr><tr class=\"\">\n",
       "        <td class=\"fillremaining\">6</td>\n",
       "        <td class=\"number\">50</td>\n",
       "        <td class=\"number\">3.0%</td>\n",
       "        <td>\n",
       "            <div class=\"bar\" style=\"width:15%\">&nbsp;</div>\n",
       "        </td>\n",
       "</tr><tr class=\"\">\n",
       "        <td class=\"fillremaining\">7</td>\n",
       "        <td class=\"number\">39</td>\n",
       "        <td class=\"number\">2.3%</td>\n",
       "        <td>\n",
       "            <div class=\"bar\" style=\"width:12%\">&nbsp;</div>\n",
       "        </td>\n",
       "</tr><tr class=\"\">\n",
       "        <td class=\"fillremaining\">9</td>\n",
       "        <td class=\"number\">31</td>\n",
       "        <td class=\"number\">1.9%</td>\n",
       "        <td>\n",
       "            <div class=\"bar\" style=\"width:10%\">&nbsp;</div>\n",
       "        </td>\n",
       "</tr><tr class=\"\">\n",
       "        <td class=\"fillremaining\">10</td>\n",
       "        <td class=\"number\">27</td>\n",
       "        <td class=\"number\">1.6%</td>\n",
       "        <td>\n",
       "            <div class=\"bar\" style=\"width:8%\">&nbsp;</div>\n",
       "        </td>\n",
       "</tr><tr class=\"other\">\n",
       "        <td class=\"fillremaining\">Other values (7)</td>\n",
       "        <td class=\"number\">78</td>\n",
       "        <td class=\"number\">4.7%</td>\n",
       "        <td>\n",
       "            <div class=\"bar\" style=\"width:23%\">&nbsp;</div>\n",
       "        </td>\n",
       "</tr>\n",
       "</table>\n",
       "        </div>\n",
       "        <div role=\"tabpanel\" class=\"tab-pane col-md-12\"  id=\"extreme2767314658106951265\">\n",
       "            <p class=\"h4\">Minimum 5 values</p>\n",
       "            \n",
       "<table class=\"freq table table-hover\">\n",
       "    <thead>\n",
       "    <tr>\n",
       "        <td class=\"fillremaining\">Value</td>\n",
       "        <td class=\"number\">Count</td>\n",
       "        <td class=\"number\">Frequency (%)</td>\n",
       "        <td style=\"min-width:200px\">&nbsp;</td>\n",
       "    </tr>\n",
       "    </thead>\n",
       "    <tr class=\"\">\n",
       "        <td class=\"fillremaining\">0</td>\n",
       "        <td class=\"number\">273</td>\n",
       "        <td class=\"number\">16.3%</td>\n",
       "        <td>\n",
       "            <div class=\"bar\" style=\"width:81%\">&nbsp;</div>\n",
       "        </td>\n",
       "</tr><tr class=\"\">\n",
       "        <td class=\"fillremaining\">1</td>\n",
       "        <td class=\"number\">336</td>\n",
       "        <td class=\"number\">20.1%</td>\n",
       "        <td>\n",
       "            <div class=\"bar\" style=\"width:100%\">&nbsp;</div>\n",
       "        </td>\n",
       "</tr><tr class=\"\">\n",
       "        <td class=\"fillremaining\">2</td>\n",
       "        <td class=\"number\">290</td>\n",
       "        <td class=\"number\">17.3%</td>\n",
       "        <td>\n",
       "            <div class=\"bar\" style=\"width:86%\">&nbsp;</div>\n",
       "        </td>\n",
       "</tr><tr class=\"\">\n",
       "        <td class=\"fillremaining\">3</td>\n",
       "        <td class=\"number\">233</td>\n",
       "        <td class=\"number\">13.9%</td>\n",
       "        <td>\n",
       "            <div class=\"bar\" style=\"width:69%\">&nbsp;</div>\n",
       "        </td>\n",
       "</tr><tr class=\"\">\n",
       "        <td class=\"fillremaining\">4</td>\n",
       "        <td class=\"number\">225</td>\n",
       "        <td class=\"number\">13.4%</td>\n",
       "        <td>\n",
       "            <div class=\"bar\" style=\"width:67%\">&nbsp;</div>\n",
       "        </td>\n",
       "</tr>\n",
       "</table>\n",
       "            <p class=\"h4\">Maximum 5 values</p>\n",
       "            \n",
       "<table class=\"freq table table-hover\">\n",
       "    <thead>\n",
       "    <tr>\n",
       "        <td class=\"fillremaining\">Value</td>\n",
       "        <td class=\"number\">Count</td>\n",
       "        <td class=\"number\">Frequency (%)</td>\n",
       "        <td style=\"min-width:200px\">&nbsp;</td>\n",
       "    </tr>\n",
       "    </thead>\n",
       "    <tr class=\"\">\n",
       "        <td class=\"fillremaining\">12</td>\n",
       "        <td class=\"number\">11</td>\n",
       "        <td class=\"number\">0.7%</td>\n",
       "        <td>\n",
       "            <div class=\"bar\" style=\"width:78%\">&nbsp;</div>\n",
       "        </td>\n",
       "</tr><tr class=\"\">\n",
       "        <td class=\"fillremaining\">13</td>\n",
       "        <td class=\"number\">9</td>\n",
       "        <td class=\"number\">0.5%</td>\n",
       "        <td>\n",
       "            <div class=\"bar\" style=\"width:64%\">&nbsp;</div>\n",
       "        </td>\n",
       "</tr><tr class=\"\">\n",
       "        <td class=\"fillremaining\">14</td>\n",
       "        <td class=\"number\">14</td>\n",
       "        <td class=\"number\">0.8%</td>\n",
       "        <td>\n",
       "            <div class=\"bar\" style=\"width:100%\">&nbsp;</div>\n",
       "        </td>\n",
       "</tr><tr class=\"\">\n",
       "        <td class=\"fillremaining\">15</td>\n",
       "        <td class=\"number\">1</td>\n",
       "        <td class=\"number\">0.1%</td>\n",
       "        <td>\n",
       "            <div class=\"bar\" style=\"width:8%\">&nbsp;</div>\n",
       "        </td>\n",
       "</tr><tr class=\"\">\n",
       "        <td class=\"fillremaining\">16</td>\n",
       "        <td class=\"number\">8</td>\n",
       "        <td class=\"number\">0.5%</td>\n",
       "        <td>\n",
       "            <div class=\"bar\" style=\"width:57%\">&nbsp;</div>\n",
       "        </td>\n",
       "</tr>\n",
       "</table>\n",
       "        </div>\n",
       "    </div>\n",
       "</div>\n",
       "</div><div class=\"row variablerow\">\n",
       "    <div class=\"col-md-3 namecol\">\n",
       "        <p class=\"h4 pp-anchor\" id=\"pp_var_isNew\">isNew<br/>\n",
       "            <small>Boolean</small>\n",
       "        </p>\n",
       "    </div><div class=\"col-md-6\">\n",
       "    <div class=\"row\">\n",
       "        <div class=\"col-sm-6\">\n",
       "            <table class=\"stats \">\n",
       "                <tr class=\"\">\n",
       "                    <th>Distinct count</th>\n",
       "                    <td>2</td>\n",
       "                </tr>\n",
       "                <tr>\n",
       "                    <th>Unique (%)</th>\n",
       "                    <td>0.1%</td>\n",
       "                </tr>\n",
       "                <tr class=\"ignore\">\n",
       "                    <th>Missing (%)</th>\n",
       "                    <td>0.0%</td>\n",
       "                </tr>\n",
       "                <tr class=\"ignore\">\n",
       "                    <th>Missing (n)</th>\n",
       "                    <td>0</td>\n",
       "                </tr>\n",
       "            </table>\n",
       "        </div>\n",
       "        <div class=\"col-sm-6\">\n",
       "            <table class=\"stats \">\n",
       "                <tr>\n",
       "                    <th>Mean</th>\n",
       "                    <td>0.73297</td>\n",
       "                </tr>\n",
       "            </table>\n",
       "        </div>\n",
       "    </div>\n",
       "</div>\n",
       "<div class=\"col-md-3 collapse in\" id=\"minifreqtable-5787654198417090145\">\n",
       "    <table class=\"mini freq\">\n",
       "        <tr class=\"\">\n",
       "    <th>True</th>\n",
       "    <td>\n",
       "        <div class=\"bar\" style=\"width:100%\" data-toggle=\"tooltip\" data-placement=\"right\" data-html=\"true\"\n",
       "             data-delay=500 title=\"Percentage: 73.3%\">\n",
       "            1227\n",
       "        </div>\n",
       "        \n",
       "    </td>\n",
       "</tr><tr class=\"missing\">\n",
       "    <th>(Missing)</th>\n",
       "    <td>\n",
       "        <div class=\"bar\" style=\"width:37%\" data-toggle=\"tooltip\" data-placement=\"right\" data-html=\"true\"\n",
       "             data-delay=500 title=\"Percentage: 26.7%\">\n",
       "            447\n",
       "        </div>\n",
       "        \n",
       "    </td>\n",
       "</tr>\n",
       "    </table>\n",
       "</div>\n",
       "<div class=\"col-md-12 text-right\">\n",
       "    <a role=\"button\" data-toggle=\"collapse\" data-target=\"#freqtable-5787654198417090145, #minifreqtable-5787654198417090145\"\n",
       "        aria-expanded=\"true\" aria-controls=\"collapseExample\">\n",
       "        Toggle details\n",
       "    </a>\n",
       "</div>\n",
       "<div class=\"col-md-12 extrapadding collapse\" id=\"freqtable-5787654198417090145\">\n",
       "    \n",
       "<table class=\"freq table table-hover\">\n",
       "    <thead>\n",
       "    <tr>\n",
       "        <td class=\"fillremaining\">Value</td>\n",
       "        <td class=\"number\">Count</td>\n",
       "        <td class=\"number\">Frequency (%)</td>\n",
       "        <td style=\"min-width:200px\">&nbsp;</td>\n",
       "    </tr>\n",
       "    </thead>\n",
       "    <tr class=\"\">\n",
       "        <td class=\"fillremaining\">True</td>\n",
       "        <td class=\"number\">1227</td>\n",
       "        <td class=\"number\">73.3%</td>\n",
       "        <td>\n",
       "            <div class=\"bar\" style=\"width:100%\">&nbsp;</div>\n",
       "        </td>\n",
       "</tr><tr class=\"missing\">\n",
       "        <td class=\"fillremaining\">(Missing)</td>\n",
       "        <td class=\"number\">447</td>\n",
       "        <td class=\"number\">26.7%</td>\n",
       "        <td>\n",
       "            <div class=\"bar\" style=\"width:37%\">&nbsp;</div>\n",
       "        </td>\n",
       "</tr>\n",
       "</table>\n",
       "</div>\n",
       "</div><div class=\"row variablerow\">\n",
       "    <div class=\"col-md-3 namecol\">\n",
       "        <p class=\"h4 pp-anchor\" id=\"pp_var_location\">location<br/>\n",
       "            <small>Categorical</small>\n",
       "        </p>\n",
       "    </div><div class=\"col-md-3\">\n",
       "    <table class=\"stats \">\n",
       "        <tr class=\"\">\n",
       "            <th>Distinct count</th>\n",
       "            <td>44</td>\n",
       "        </tr>\n",
       "        <tr>\n",
       "            <th>Unique (%)</th>\n",
       "            <td>2.6%</td>\n",
       "        </tr>\n",
       "        <tr class=\"ignore\">\n",
       "            <th>Missing (%)</th>\n",
       "            <td>0.0%</td>\n",
       "        </tr>\n",
       "        <tr class=\"ignore\">\n",
       "            <th>Missing (n)</th>\n",
       "            <td>0</td>\n",
       "        </tr>\n",
       "    </table>\n",
       "</div>\n",
       "<div class=\"col-md-6 collapse in\" id=\"minifreqtable2324769773767617349\">\n",
       "    <table class=\"mini freq\">\n",
       "        <tr class=\"\">\n",
       "    <th>Grunwald</th>\n",
       "    <td>\n",
       "        <div class=\"bar\" style=\"width:31%\" data-toggle=\"tooltip\" data-placement=\"right\" data-html=\"true\"\n",
       "             data-delay=500 title=\"Percentage: 18.1%\">\n",
       "            303\n",
       "        </div>\n",
       "        \n",
       "    </td>\n",
       "</tr><tr class=\"\">\n",
       "    <th>Winogrady</th>\n",
       "    <td>\n",
       "        <div class=\"bar\" style=\"width:22%\" data-toggle=\"tooltip\" data-placement=\"right\" data-html=\"true\"\n",
       "             data-delay=500 title=\"Percentage: 13.0%\">\n",
       "            217\n",
       "        </div>\n",
       "        \n",
       "    </td>\n",
       "</tr><tr class=\"\">\n",
       "    <th>Rataje</th>\n",
       "    <td>\n",
       "        <div class=\"bar\" style=\"width:17%\" data-toggle=\"tooltip\" data-placement=\"right\" data-html=\"true\"\n",
       "             data-delay=500 title=\"Percentage: 9.8%\">\n",
       "            &nbsp;\n",
       "        </div>\n",
       "        164\n",
       "    </td>\n",
       "</tr><tr class=\"other\">\n",
       "    <th>Other values (41)</th>\n",
       "    <td>\n",
       "        <div class=\"bar\" style=\"width:100%\" data-toggle=\"tooltip\" data-placement=\"right\" data-html=\"true\"\n",
       "             data-delay=500 title=\"Percentage: 59.1%\">\n",
       "            990\n",
       "        </div>\n",
       "        \n",
       "    </td>\n",
       "</tr>\n",
       "    </table>\n",
       "</div>\n",
       "<div class=\"col-md-12 text-right\">\n",
       "    <a role=\"button\" data-toggle=\"collapse\" data-target=\"#freqtable2324769773767617349, #minifreqtable2324769773767617349\"\n",
       "       aria-expanded=\"true\" aria-controls=\"collapseExample\">\n",
       "        Toggle details\n",
       "    </a>\n",
       "</div>\n",
       "<div class=\"col-md-12 extrapadding collapse\" id=\"freqtable2324769773767617349\">\n",
       "    \n",
       "<table class=\"freq table table-hover\">\n",
       "    <thead>\n",
       "    <tr>\n",
       "        <td class=\"fillremaining\">Value</td>\n",
       "        <td class=\"number\">Count</td>\n",
       "        <td class=\"number\">Frequency (%)</td>\n",
       "        <td style=\"min-width:200px\">&nbsp;</td>\n",
       "    </tr>\n",
       "    </thead>\n",
       "    <tr class=\"\">\n",
       "        <td class=\"fillremaining\">Grunwald</td>\n",
       "        <td class=\"number\">303</td>\n",
       "        <td class=\"number\">18.1%</td>\n",
       "        <td>\n",
       "            <div class=\"bar\" style=\"width:100%\">&nbsp;</div>\n",
       "        </td>\n",
       "</tr><tr class=\"\">\n",
       "        <td class=\"fillremaining\">Winogrady</td>\n",
       "        <td class=\"number\">217</td>\n",
       "        <td class=\"number\">13.0%</td>\n",
       "        <td>\n",
       "            <div class=\"bar\" style=\"width:71%\">&nbsp;</div>\n",
       "        </td>\n",
       "</tr><tr class=\"\">\n",
       "        <td class=\"fillremaining\">Rataje</td>\n",
       "        <td class=\"number\">164</td>\n",
       "        <td class=\"number\">9.8%</td>\n",
       "        <td>\n",
       "            <div class=\"bar\" style=\"width:54%\">&nbsp;</div>\n",
       "        </td>\n",
       "</tr><tr class=\"\">\n",
       "        <td class=\"fillremaining\">Jeżyce</td>\n",
       "        <td class=\"number\">138</td>\n",
       "        <td class=\"number\">8.2%</td>\n",
       "        <td>\n",
       "            <div class=\"bar\" style=\"width:46%\">&nbsp;</div>\n",
       "        </td>\n",
       "</tr><tr class=\"\">\n",
       "        <td class=\"fillremaining\">Stare</td>\n",
       "        <td class=\"number\">128</td>\n",
       "        <td class=\"number\">7.6%</td>\n",
       "        <td>\n",
       "            <div class=\"bar\" style=\"width:42%\">&nbsp;</div>\n",
       "        </td>\n",
       "</tr><tr class=\"\">\n",
       "        <td class=\"fillremaining\">Centrum</td>\n",
       "        <td class=\"number\">116</td>\n",
       "        <td class=\"number\">6.9%</td>\n",
       "        <td>\n",
       "            <div class=\"bar\" style=\"width:38%\">&nbsp;</div>\n",
       "        </td>\n",
       "</tr><tr class=\"\">\n",
       "        <td class=\"fillremaining\">Nowe</td>\n",
       "        <td class=\"number\">92</td>\n",
       "        <td class=\"number\">5.5%</td>\n",
       "        <td>\n",
       "            <div class=\"bar\" style=\"width:31%\">&nbsp;</div>\n",
       "        </td>\n",
       "</tr><tr class=\"\">\n",
       "        <td class=\"fillremaining\">Piątkowo</td>\n",
       "        <td class=\"number\">76</td>\n",
       "        <td class=\"number\">4.5%</td>\n",
       "        <td>\n",
       "            <div class=\"bar\" style=\"width:25%\">&nbsp;</div>\n",
       "        </td>\n",
       "</tr><tr class=\"\">\n",
       "        <td class=\"fillremaining\">Wilda</td>\n",
       "        <td class=\"number\">75</td>\n",
       "        <td class=\"number\">4.5%</td>\n",
       "        <td>\n",
       "            <div class=\"bar\" style=\"width:25%\">&nbsp;</div>\n",
       "        </td>\n",
       "</tr><tr class=\"\">\n",
       "        <td class=\"fillremaining\">Naramowice</td>\n",
       "        <td class=\"number\">69</td>\n",
       "        <td class=\"number\">4.1%</td>\n",
       "        <td>\n",
       "            <div class=\"bar\" style=\"width:23%\">&nbsp;</div>\n",
       "        </td>\n",
       "</tr><tr class=\"other\">\n",
       "        <td class=\"fillremaining\">Other values (34)</td>\n",
       "        <td class=\"number\">296</td>\n",
       "        <td class=\"number\">17.7%</td>\n",
       "        <td>\n",
       "            <div class=\"bar\" style=\"width:97%\">&nbsp;</div>\n",
       "        </td>\n",
       "</tr>\n",
       "</table>\n",
       "</div>\n",
       "</div><div class=\"row variablerow\">\n",
       "    <div class=\"col-md-3 namecol\">\n",
       "        <p class=\"h4 pp-anchor\" id=\"pp_var_price\">price<br/>\n",
       "            <small>Numeric</small>\n",
       "        </p>\n",
       "    </div><div class=\"col-md-6\">\n",
       "    <div class=\"row\">\n",
       "        <div class=\"col-sm-6\">\n",
       "            <table class=\"stats \">\n",
       "                <tr>\n",
       "                    <th>Distinct count</th>\n",
       "                    <td>706</td>\n",
       "                </tr>\n",
       "                <tr>\n",
       "                    <th>Unique (%)</th>\n",
       "                    <td>42.2%</td>\n",
       "                </tr>\n",
       "                <tr class=\"ignore\">\n",
       "                    <th>Missing (%)</th>\n",
       "                    <td>0.0%</td>\n",
       "                </tr>\n",
       "                <tr class=\"ignore\">\n",
       "                    <th>Missing (n)</th>\n",
       "                    <td>0</td>\n",
       "                </tr>\n",
       "                <tr class=\"ignore\">\n",
       "                    <th>Infinite (%)</th>\n",
       "                    <td>0.0%</td>\n",
       "                </tr>\n",
       "                <tr class=\"ignore\">\n",
       "                    <th>Infinite (n)</th>\n",
       "                    <td>0</td>\n",
       "                </tr>\n",
       "            </table>\n",
       "\n",
       "        </div>\n",
       "        <div class=\"col-sm-6\">\n",
       "            <table class=\"stats \">\n",
       "\n",
       "                <tr>\n",
       "                    <th>Mean</th>\n",
       "                    <td>367280</td>\n",
       "                </tr>\n",
       "                <tr>\n",
       "                    <th>Minimum</th>\n",
       "                    <td>100000</td>\n",
       "                </tr>\n",
       "                <tr>\n",
       "                    <th>Maximum</th>\n",
       "                    <td>2700000</td>\n",
       "                </tr>\n",
       "                <tr class=\"ignore\">\n",
       "                    <th>Zeros (%)</th>\n",
       "                    <td>0.0%</td>\n",
       "                </tr>\n",
       "            </table>\n",
       "        </div>\n",
       "    </div>\n",
       "</div>\n",
       "<div class=\"col-md-3 collapse in\" id=\"minihistogram2387984939501039598\">\n",
       "    <img src=\"data:image/png;base64,iVBORw0KGgoAAAANSUhEUgAAAMgAAABLCAYAAAA1fMjoAAAABHNCSVQICAgIfAhkiAAAAAlwSFlzAAAPYQAAD2EBqD%2BnaQAAADl0RVh0U29mdHdhcmUAbWF0cGxvdGxpYiB2ZXJzaW9uIDMuMC4zLCBodHRwOi8vbWF0cGxvdGxpYi5vcmcvnQurowAAARZJREFUeJzt3MEJAjEQQFEVS7IIe/JsTxZhT/Eu8nEDyy763j0wl8/kkhzHGOMAfHTaegDYs/PWA7y73B6Lzzzv1xUmARsEkkAgCASCQCAIBIJAIAgEgkAgCASCQCAIBIJAIAgEgkAgCASCQCAIBIJAIAgEgkAgCASCQCAIBMLu/sWa4S8t1mKDQBAIBIFAEAgEgUAQCASBQBAIBIFAEAgEgUAQCASBQBAIBIFAEAgEgUAQCASBQPiJN%2BkzvGPnGzYIhL/dIDNmts5SttS%2BHMcYY%2BshYK9csSAIBIJAIAgEgkAgCASCQCAIBIJAIAgEgkAgCASCQCAIBIJAIAgEgkAgCASCQCAIBIJAIAgEgkAgCASCQCC8AC%2BeFJVc4jMZAAAAAElFTkSuQmCC\">\n",
       "\n",
       "</div>\n",
       "<div class=\"col-md-12 text-right\">\n",
       "    <a role=\"button\" data-toggle=\"collapse\" data-target=\"#descriptives2387984939501039598,#minihistogram2387984939501039598\"\n",
       "       aria-expanded=\"false\" aria-controls=\"collapseExample\">\n",
       "        Toggle details\n",
       "    </a>\n",
       "</div>\n",
       "<div class=\"row collapse col-md-12\" id=\"descriptives2387984939501039598\">\n",
       "    <ul class=\"nav nav-tabs\" role=\"tablist\">\n",
       "        <li role=\"presentation\" class=\"active\"><a href=\"#quantiles2387984939501039598\"\n",
       "                                                  aria-controls=\"quantiles2387984939501039598\" role=\"tab\"\n",
       "                                                  data-toggle=\"tab\">Statistics</a></li>\n",
       "        <li role=\"presentation\"><a href=\"#histogram2387984939501039598\" aria-controls=\"histogram2387984939501039598\"\n",
       "                                   role=\"tab\" data-toggle=\"tab\">Histogram</a></li>\n",
       "        <li role=\"presentation\"><a href=\"#common2387984939501039598\" aria-controls=\"common2387984939501039598\"\n",
       "                                   role=\"tab\" data-toggle=\"tab\">Common Values</a></li>\n",
       "        <li role=\"presentation\"><a href=\"#extreme2387984939501039598\" aria-controls=\"extreme2387984939501039598\"\n",
       "                                   role=\"tab\" data-toggle=\"tab\">Extreme Values</a></li>\n",
       "\n",
       "    </ul>\n",
       "\n",
       "    <div class=\"tab-content\">\n",
       "        <div role=\"tabpanel\" class=\"tab-pane active row\" id=\"quantiles2387984939501039598\">\n",
       "            <div class=\"col-md-4 col-md-offset-1\">\n",
       "                <p class=\"h4\">Quantile statistics</p>\n",
       "                <table class=\"stats indent\">\n",
       "                    <tr>\n",
       "                        <th>Minimum</th>\n",
       "                        <td>100000</td>\n",
       "                    </tr>\n",
       "                    <tr>\n",
       "                        <th>5-th percentile</th>\n",
       "                        <td>225290</td>\n",
       "                    </tr>\n",
       "                    <tr>\n",
       "                        <th>Q1</th>\n",
       "                        <td>280060</td>\n",
       "                    </tr>\n",
       "                    <tr>\n",
       "                        <th>Median</th>\n",
       "                        <td>330130</td>\n",
       "                    </tr>\n",
       "                    <tr>\n",
       "                        <th>Q3</th>\n",
       "                        <td>399000</td>\n",
       "                    </tr>\n",
       "                    <tr>\n",
       "                        <th>95-th percentile</th>\n",
       "                        <td>645570</td>\n",
       "                    </tr>\n",
       "                    <tr>\n",
       "                        <th>Maximum</th>\n",
       "                        <td>2700000</td>\n",
       "                    </tr>\n",
       "                    <tr>\n",
       "                        <th>Range</th>\n",
       "                        <td>2600000</td>\n",
       "                    </tr>\n",
       "                    <tr>\n",
       "                        <th>Interquartile range</th>\n",
       "                        <td>118940</td>\n",
       "                    </tr>\n",
       "                </table>\n",
       "            </div>\n",
       "            <div class=\"col-md-4 col-md-offset-2\">\n",
       "                <p class=\"h4\">Descriptive statistics</p>\n",
       "                <table class=\"stats indent\">\n",
       "                    <tr>\n",
       "                        <th>Standard deviation</th>\n",
       "                        <td>163980</td>\n",
       "                    </tr>\n",
       "                    <tr>\n",
       "                        <th>Coef of variation</th>\n",
       "                        <td>0.44647</td>\n",
       "                    </tr>\n",
       "                    <tr>\n",
       "                        <th>Kurtosis</th>\n",
       "                        <td>36.989</td>\n",
       "                    </tr>\n",
       "                    <tr>\n",
       "                        <th>Mean</th>\n",
       "                        <td>367280</td>\n",
       "                    </tr>\n",
       "                    <tr>\n",
       "                        <th>MAD</th>\n",
       "                        <td>99311</td>\n",
       "                    </tr>\n",
       "                    <tr class=\"\">\n",
       "                        <th>Skewness</th>\n",
       "                        <td>4.326</td>\n",
       "                    </tr>\n",
       "                    <tr>\n",
       "                        <th>Sum</th>\n",
       "                        <td>614830000</td>\n",
       "                    </tr>\n",
       "                    <tr>\n",
       "                        <th>Variance</th>\n",
       "                        <td>26890000000</td>\n",
       "                    </tr>\n",
       "                    <tr>\n",
       "                        <th>Memory size</th>\n",
       "                        <td>13.2 KiB</td>\n",
       "                    </tr>\n",
       "                </table>\n",
       "            </div>\n",
       "        </div>\n",
       "        <div role=\"tabpanel\" class=\"tab-pane col-md-8 col-md-offset-2\" id=\"histogram2387984939501039598\">\n",
       "            <img src=\"data:image/png;base64,iVBORw0KGgoAAAANSUhEUgAAAlgAAAGQCAYAAAByNR6YAAAABHNCSVQICAgIfAhkiAAAAAlwSFlzAAAPYQAAD2EBqD%2BnaQAAADl0RVh0U29mdHdhcmUAbWF0cGxvdGxpYiB2ZXJzaW9uIDMuMC4zLCBodHRwOi8vbWF0cGxvdGxpYi5vcmcvnQurowAAIABJREFUeJzt3Xl0VGWC/vEnixAIJKkowSNqDwpmISQsIovs2GQQoiyBmDPK2CAoRmgQlGVQYKRFRboRYRDEMWo7DYRWVOwIw2BAEI/TIpKEZQ6gKJsJkMoCIZDk/f3hzxrKBIjDm1uk%2BH7O4XDqfW/Vfe%2BTMj6591IJMMYYAQAAwJpAXy8AAADA31CwAAAALKNgAQAAWEbBAgAAsIyCBQAAYBkFCwAAwDIKFgAAgGUULAAAAMsoWAAAAJZRsAAAACyjYAEAAFhGwQIAALCMggUAAGAZBQsAAMAyChYAAIBlFCwAAADLKFgAAACWUbAAAAAso2ABAABYRsECAACwjIIFAABgGQULAADAMgoWAACAZRQsAAAAyyhYAAAAllGwAAAALKNgAQAAWEbBAgAAsIyCBQAAYBkFCwAAwDIKFgAAgGUULAAAAMsoWAAAAJZRsAAAACyjYAEAAFhGwQIAALCMggUAAGAZBQsAAMAyChYAAIBlwb5ewLWioKDE63FgYIAiI0N16tRpVVUZH63Kf5CnXeRpF3naRZ52%2BXuezZo19cl%2BOYPlI4GBAQoICFBgYICvl%2BIXyNMu8rSLPO0iT7vIs25QsAAAACyjYAEAAFhGwQIAALCMggUAAGAZBQsAAMAyChYAAIBlFCwAAADLKFgAAACWUbAAAAAso2ABAABYRsECAACwjIIFAABgGQULAADAsmBfLwBXZsDCbb5eQq1lTbzb10sAAMARnMECAACwjIIFAABgGQULAADAMgoWAACAZRQsAAAAyyhYAAAAllGwAAAALKNgAQAAWEbBAgAAsIyCBQAAYBkFCwAAwLJ6XbA%2B%2B%2BwzdevWTZMmTao2t27dOiUnJ6t9%2B/YaOnSotmzZ4pmrqqrSggUL1K9fP3Xq1EmjR4/WoUOHPPOFhYX6/e9/r27duql79%2B6aPn26ysrKHDkmAABQ/9XbgvX6669r7ty5%2Bs1vflNtbvfu3Zo%2BfbqmTJmiL774QqNGjdL48eN17NgxSdI777yjjz/%2BWMuXL1d2drZuu%2B02PfHEEzLGSJJmzpyps2fPat26dXrvvfd06NAhzZ8/39HjAwAA9Ve9LVgNGzbUmjVraixYa9asUa9evdSrVy81bNhQgwYNUkxMjD766CNJUmZmph5%2B%2BGHdfvvtCg0N1cSJE/Xtt9/qm2%2B%2B0YkTJ7Rp0yZNmjRJkZGRioqK0rhx4/T%2B%2B%2B/r/PnzTh8mAACoh%2BptwRo5cqSaNm1a41xeXp7i4uK8xmJjY5WTk6OzZ89q//79XvOhoaG69dZblZOToz179igoKEjR0dGe%2Bbi4OJ05c0YHDx6sm4MBAAB%2BJdjXC6gLbrdb4eHhXmPh4eHav3%2B/ioqKZIypcb6wsFARERFq0qSJAgICvOakn%2B7Nqo38/HwVFBR4jQUHN1ZUVJTncVBQoNff14Lg4Lo71msxz7pEnnaRp13kaRd51g2/LFgXc2Fp%2BiVjzCXnL/f8C61atUqLFy/2GktPT9eECROqbRsW1qhWr%2BkPXK7QOt/HtZSnE8jTLvK0izztIk%2B7/LJguVyuameb3G63XC6XIiIiFBgYWG2%2BqKhIkZGRioyMVElJiSorKxUUFOR5riRFRkbWav%2Bpqanq27ev11hwcGMVFp72PA4KClRYWCMVF5epsrLqVx9jfXTh8dt2LeZZl8jTLvK0izzt8vc8nfjhviZ%2BWbDi4%2BOVm5vrNZaTk6OBAweqYcOGat26tfLy8nTXXXdJkoqLi/X9998rISFBLVq0kDFGe/fuVZs2bTzPDQsLU8uWLWu1/6ioKK/LgZJUUFCiiorqb9zKyqoax/2RE8d5LeXpBPK0izztIk%2B7yNMuv7zgOmLECH3%2B%2BefKzs5WeXm51qxZo%2B%2B%2B%2B0733XefJCktLU1vv/22Dhw4oNLSUr388suKjY1V27ZtFRkZqaSkJC1cuFCnTp3S8ePHtWTJEqWkpCg42C/7KAAAsKzeNoa2bdtKkioqKiRJGzdulPTT2aY77rhDL7/8sv74xz/q8OHDatWqlZYtW6ZmzZpJkh544AGdOHFCY8aM0enTp9W%2BfXuve6b%2B9V//VbNnz9agQYMUHByse%2B65p8YPMwUAAKhJgPn50zVRpwoKSrweBwcHyuUKVWHh6Ss6JTtg4bYrXZpjsibeXWevbStP/IQ87SJPu8jTLn/Ps1mzmj/Sqa755SVCAAAAX6JgAQAAWEbBAgAAsIyCBQAAYBkFCwAAwDIKFgAAgGUULAAAAMsoWAAAAJZRsAAAACyjYAEAAFhGwQIAALCMggUAAGAZBQsAAMAyChYAAIBlFCwAAADLKFgAAACWUbAAAAAso2ABAABYRsECAACwjIIFAABgGQULAADAMgoWAACAZRQsAAAAyyhYAAAAllGwAAAALKNgAQAAWEbBAgAAsIyCBQAAYBkFCwAAwDIKFgAAgGUULAAAAMsoWAAAAJZRsAAAACyjYAEAAFhGwQIAALCMggUAAGAZBQsAAMAyChYAAIBlFCwAAADLKFgAAACWUbAAAAAso2ABAABYRsECAACwjIIFAABgGQULAADAMgoWAACAZRQsAAAAy/y2YO3Zs0cjR47UnXfeqbvvvltTpkzRqVOnJEnbtm1TSkqKOnTooIEDB2rt2rVez83IyFBSUpI6duyotLQ07dq1yxeHAAAA6im/LFiVlZUaM2aM2rZtq61bt%2BrDDz/UiRMnNHv2bP34449KT0/XAw88oO3bt2vmzJmaNWuWp0Rt3LhRS5Ys0UsvvaRt27apX79%2BGjdunE6fPu3jowIAAPWFXxas/Px8FRQUaOjQoQoJCdH111%2BvpKQk7dmzR%2BvWrVPLli2VkpKihg0bqmvXrurXr5/WrFkjScrMzNTQoUOVmJiokJAQjR49WoGBgcrOzvbtQQEAgHrDLwtW8%2BbNFRsbq5UrV%2Br06dM6efKk1q9fr969eysvL09xcXFe28fGxio3N1eSqs0HBAQoJiZGOTk5jh4DAACov4J9vYC6EBgYqEWLFmnUqFF6%2B%2B23JUmdOnXS5MmT9fjjj6t58%2BZe20dERKiwsFCS5Ha7FR4e7jUfHh7uma%2BNn8%2BgXSg4uLGioqI8j4OCAr3%2BvhYEB9fdsV6LedYl8rSLPO0iT7vIs274ZcE6d%2B6cxo0bp6SkJD322GM6c%2BaM5syZoylTptS4vTFGAQEBF329y83/0qpVq7R48WKvsfT0dE2YMKHatmFhjWr9uvWdyxVa5/u4lvJ0AnnaRZ52kadd5GmXXxas7du36/Dhw3ryyScVFBSkpk2basKECbr//vvVo0cPud1ur%2B3dbrdcLpckyeVyVTtbVVRUpNatW9d6/6mpqerbt6/XWHBwYxUW/u%2BN8kFBgQoLa6Ti4jJVVlb92kOsly48ftuuxTzrEnnaRZ52kadd/p6nEz/c18QvC1ZlZaWqqqpkjPGMVVRUSJK6deum999/32v73NxcJSYmSpLi4%2BOVl5enIUOGeF5r9%2B7dSklJqfX%2Bo6KivC4HSlJBQYkqKqq/cSsrq2oc90dOHOe1lKcTyNMu8rSLPO0iT7v88oJr%2B/bt1bhxY7366qsqKytTYWGhXnvtNXXq1En333%2B/jhw5oszMTJWXl2vz5s3avHmzRowYIUlKS0vT2rVrtXPnTpWVlWnp0qVq0KCBevfu7duDAgAA9YZfFiyXy6U33nhDO3bsUM%2BePTVo0CBdd911WrBgga6//notW7ZMq1evVteuXbVgwQLNnz9fMTExkqSePXvqySef1LRp09S9e3d9%2BeWXWr58uUJCQnx8VAAAoL4IMBdeR0OdKSgo8XocHBwolytUhYWnr%2BiU7ICF2650aY7Jmnh3nb22rTzxE/K0izztIk%2B7/D3PZs2a%2BmS/fnkGCwAAwJcoWAAAAJZRsAAAACyjYAEAAFhGwQIAALCMggUAAGAZBQsAAMAyChYAAIBlFCwAAADLKFgAAACWUbAAAAAso2ABAABYRsECAACwjIIFAABgGQULAADAMgoWAACAZRQsAAAAyyhYAAAAllGwAAAALKNgAQAAWEbBAgAAsIyCBQAAYBkFCwAAwDIKFgAAgGUULAAAAMsoWAAAAJZRsAAAACyjYAEAAFhGwQIAALCMggUAAGCZ4wWrpKTE6V0CAAA4yvGC1b17d02dOlV///vfnd41AACAIxwvWHPmzNHJkyf18MMPa8CAAXrzzTd16tQpp5cBAABQZxwvWIMHD9aKFSu0ZcsW/dM//ZM2bNig3r17a9KkSdq%2BfbvTywEAALDOZze5R0ZG6sEHH9Rf/vIXzZs3T1u3btWoUaN07733asOGDb5aFgAAwBUL9tWOT506pffee09//etf9f333%2Bvuu%2B9Wamqq8vPz9eyzz%2BrIkSP63e9%2B56vlAQAA/J85XrA%2B%2B%2BwzZWZmatOmTYqIiNCwYcM0YsQItWjRwrNNmzZtlJ6eTsECAAD1kuMFa%2BzYsercubNefvll3XPPPQoOrr6EhIQENW3a1OmlAQAAWOF4wfrkk0/0m9/8RufOnfOUq9LSUjVp0sRru7/97W9OLw0AAMAKx29yDwwM1L333qtNmzZ5xlavXq17771XP/zwg9PLAQAAsM7xgvWHP/xB0dHR6tixo2fsvvvuU0JCgubNm%2Bf0cgAAAKxz/BLh119/rezsbDVq1MgzdsMNN%2BjZZ59Vnz59nF4OAACAdY6fwTLG6Ny5c9XGS0tLVVlZ6fRyAAAArHO8YPXo0UNTp07V3r17VVpaquLiYu3YsUOTJ09W7969nV4OAACAdY5fIpwxY4bS09M1ePBgBQQEeMbvvPNOzZo1y%2BnlAAAAWOd4wbr%2B%2Buu1cuVK7d27V4cOHVJQUJD%2B4R/%2BQa1atXJ6KQAAAHXCZ78qJyYmRjExMb7aPQAAQJ1x/B6snJwcpaamqn379oqNja32x6alS5eqe/fuateunR5%2B%2BGHP52xt27ZNKSkp6tChgwYOHKi1a9d6PS8jI0NJSUnq2LGj0tLStGvXLqvrAgAA/s3xM1jPPPOMGjdurPHjx6tx48Z1tp93331Xa9eu1VtvvaWoqCgtXLhQGRkZGjt2rNLT0zVz5kwlJydrx44deuyxx3TbbbcpISFBGzdu1JIlS7RixQpFR0frz3/%2Bs8aNG6cNGzYoNDS0ztYLAAD8h%2BMF67vvvtPWrVur/Woc2/793/9dTz31lG6//XZJPxU7SXrjjTfUsmVLpaSkSJK6du2qfv36ac2aNUpISFBmZqaGDh2qxMRESdLo0aP11ltvKTs7WwMHDqzTNQMAAP/geMG66aab6nwfP/74ow4fPqzS0lLde%2B%2B9OnnypDp37qzZs2crLy9PcXFxXtvHxsYqKytLkpSXl6d7773XMxcQEKCYmBjl5OTUumDl5%2BeroKDAayw4uLGioqI8j4OCAr3%2BvhYEB9fdsV6LedYl8rSLPO0iT7vIs244XrAmTZqk559/XjNmzKizs1jHjx%2BXJGVlZenNN9%2BUMUYTJ07Us88%2BqzNnzqh58%2BZe20dERKiwsFCS5Ha7FR4e7jUfHh7uma%2BNVatWafHixV5j6enpmjBhQrVtw8IaVRvzVy5X3V9ivZbydAJ52kWedpGnXeRpl%2BMFa%2BnSpTp8%2BLDWrl2riIgIBQZ6N%2BatW7de8T6MMZKkRx55xFOmnnjiCY0ZM0Zdu3atcfsLP5Pr187/Umpqqvr27es1FhzcWIWFpz2Pg4ICFRbWSMXFZaqsrKr1a9dnFx6/bddinnWJPO0iT7vI0y5/z9OJH%2B5r4njB%2BmXxqAs33HCDJCksLMwzdtNNN6mqqkrnz5%2BX2%2B322t7tdsvlckmSXC5XtbNVRUVFat26da33HxUV5XU5UJIKCkpUUVH9jVtZWVXjuD9y4jivpTydQJ52kadd5GkXedrleMF64okn6nwfN954oyIjI7Vnzx61adNGknTkyBFdd9116tWrlz744AOv7XNzcz03tcfHxysvL09DhgyRJFVWVmr37t2em%2BIBAAAuxyd3tO3YsUNTp07VQw89JEmqqqrS3/72N2uvHxwcrNTUVL322ms6dOiQTp48qSVLlig5OVlDhgzRkSNHlJmZqfLycm3evFmbN2/WiBEjJElpaWlau3atdu7cqbKyMi1dulQNGjTg9yQCAIBac/wM1scff6ynn35aPXr00M6dOyX9dFP6rFmzdObMGWtnih5//HEVFRVp%2BPDhOn/%2BvJKSkjRz5kyFhoZq2bJleumllzRv3jzdfPPNmj9/vudT5Xv27Kknn3xS06ZNU0FBgdq0aaPly5crJCTEyroAAID/CzA/3xHukPvuu0/jxo3TgAEDlJCQ4PmU9O3bt%2Bv555/XRx995ORyHFNQUOL1ODg4UC5XqAoLT1/RNe8BC7dd6dIckzXx7jp7bVt54ifkaRd52kWedvl7ns2aNfXJfh2/RPj999%2Brf//%2BkuT1L/M6d%2B6sw4cPO70cAAAA6xwvWC6XS6dOnao2/u2333IZDgAA%2BAXHC1aXLl30L//yLzpw4ICknz4iYevWrZo4cSI3kgMAAL/geMGaOnWqysrKNHDgQJWXl6tr16565JFH1KJFC02bNs3p5QAAAFjn%2BL8ijIiI0DvvvKO9e/fq4MGDCgkJUcuWLdWyZUunlwIAAFAnHC9YP4uJifF8NAIAAIA/cbxgxcTEXPL3%2Bu3Zs8fB1QAAANjneMGaNWuWV8GqrKzUt99%2Bqy1btmjcuHFOLwcAAMA6xwtWWlpajeNffvmlVq1a5fkdgAAAAPWVT34XYU06deqkzZs3%2B3oZAAAAV%2ByqKVibNm1ScLDP7rkHAACwxvFG071792pj5eXlKi0tvejlQwAAgPrE8YKVmppa7V8RNmzYULfffrv69u3r9HIAAACsc7xgjR8/3uldAgAAOMrxgrV48eJabRcQEKD09PQ6Xg0AAIB9jhes999/XydOnFB5ebkaNWqk4OBglZSUKCQkRE2aNPHaloIFAADqI8cL1uTJk/Vf//Vfeuqpp3TjjTdKkn744QfNnz9fAwYM0IABA5xeEhwyYOE2Xy/hV8maeLevlwAAqKccL1ivvPKKVq9erfDwcM/YLbfcotmzZys1NZWCBQAA6j3HPwfr2LFjCgoKqjZ%2B3XXX6cSJE04vBwAAwDrHC1br1q01depU5eXlqbi4WKWlpdq7d69mzJih6Ohop5cDAABgneOXCJ977jlNnjxZw4YN83weljFGN910k/7t3/7N6eUAAABY53jBiouLU1ZWlnJzc3Xs2DEZY3TjjTcqPj5egYFXzW/uAQAA%2BD/z2S//Cw8PV0lJibp27eqrJQAAANQJx08ZnTp1SqNHj9Zvf/tbjRkzRpJUUFCgQYMG6fjx404vBwAAwDrHC9YLL7ygqqoqZWZmei4JNm3aVHFxcXrhhRecXg4AAIB1jl8i3LJliz744AM1b97cc5N7SEiIpk%2BfruTkZKeXAwAAYJ3jZ7DOnz%2BvqKioauMhISEqLS11ejkAAADWOV6wbr/9dm3YsKHa%2BKpVq9SyZUunlwMAAGCd45cIR40apaeeekpZWVmqrKzUc889p7y8PO3atUsLFy50ejkAAADWOX4G6x//8R%2B1bNkyVVRU6NZbb9XXX3%2BtFi1aaOXKlerfv7/TywEAALDO8TNYOTk56tq1K59/BQAA/JbjZ7BGjhypyspKp3cLAADgGMcL1sCBA5WRkSFjjNO7BgAAcITjlwhPnDihTZs26fXXX9dNN92kBg0aeM2vXLnS6SUBAABY5XjBcrlc6tWrl9O7BQAAcIxjBWvChAlatGiR5s2b5xlbtGiRJkyY4NQSAAAAHOHYPVibN2%2BuNvbGG284tXsAAADHOH6T%2B4W40R0AAPgjnxasn3/ZMwAAgD/xacECAADwRxQsAAAAyxz7V4Tnz5/X5MmTLzu2YMECp5YEAABQJxwrWB07dlR%2Bfv5lxwAAAOo7xwrWO%2B%2B849SuAAAAfIp7sAAAACyjYAEAAFh2TRSs559/XtHR0Z7H27ZtU0pKijp06KCBAwdq7dq1XttnZGQoKSlJHTt2VFpamnbt2uX0kgEAQD3m9wVrz549XgXqxx9/VHp6uh544AFt375dM2fO1KxZszwlauPGjVqyZIleeuklbdu2Tf369dO4ceN0%2BvRpXx0CAACoZ/y6YFVVVWnWrFn653/%2BZ8/YunXr1LJlS6WkpKhhw4bq2rWr%2BvXrpzVr1kiSMjMzNXToUCUmJiokJESjR49WYGCgsrOzfXQUAACgvvHrgrVy5Uo1aNBA999/v2csLy9PcXFxXtvFxsYqNze3xvmAgADFxMQoJyfHmUUDAIB6z7GPaXDaiRMn9Oqrr%2Brtt9/2Gne73WrevLnXWEREhAoLCz3z4eHhXvPh4eGe%2BdrIz89XQUGB11hwcGNFRUV5HgcFBXr9jatPcPC1%2B7Xh/WkXedpFnnaRZ93w24I1b948DRs2TK1bt9bhw4cvua0x5pK/ePpy87%2B0atUqLV682GssPT1dEyZMqLZtWFijWr8unOVyhfp6CT7H%2B9Mu8rSLPO0iT7v8smBt375dX3/9tebOnVttzuVyye12e4253W65XC7P/C/PVhUVFal169a13n9qaqr69u3rNRYc3FiFhf97o3xQUKDCwhqpuLhMlZVVtX5tOOfCr9e1hvenXeRpF3na5e95%2BuqHZb8sWB9%2B%2BKFOnjyp3r17S/rpDJQkde7cWaNGjdK6deu8ts/NzVViYqIkKT4%2BXnl5eRoyZIgkqbKyUrt371ZKSkqt9x8VFeV1OVCSCgpKVFFR/Y1bWVlV4zh8j68L70/byNMu8rSLPO3yywuu06ZN0/r16/XBBx/ogw8%2B0PLlyyVJH3zwgZKTk3XkyBFlZmaqvLxcmzdv1ubNmzVixAhJUlpamtauXaudO3eqrKxMS5cuVYMGDTxlDQAA4HL88gxWeHi4143qFRUVkqQbb7xRkrRs2TK99NJLmjdvnm6%2B%2BWbNnz9fMTExkqSePXvqySef1LRp01RQUKA2bdpo%2BfLlCgkJcf5AAABAvRRgfr5%2BhjpVUFDi9Tg4OFAuV6gKC09f0SnZAQu3XenScBFZE%2B/29RJ8xtb7Ez8hT7vI0y5/z7NZs6Y%2B2a9fXiIEAADwJQoWAACAZRQsAAAAyyhYAAAAllGwAAAALKNgAQAAWEbBAgAAsIyCBQAAYBkFCwAAwDIKFgAAgGUULAAAAMsoWAAAAJZRsAAAACyjYAEAAFhGwQIAALCMggUAAGAZBQsAAMAyChYAAIBlFCwAAADLKFgAAACWUbAAAAAso2ABAABYRsECAACwjIIFAABgGQULAADAMgoWAACAZRQsAAAAyyhYAAAAllGwAAAALKNgAQAAWEbBAgAAsIyCBQAAYBkFCwAAwDIKFgAAgGUULAAAAMsoWAAAAJZRsAAAACyjYAEAAFhGwQIAALCMggUAAGAZBQsAAMAyChYAAIBlFCwAAADLKFgAAACWUbAAAAAso2ABAABYRsECAACwzG8L1pEjR5Senq7OnTurS5cuevrpp1VcXCxJysvL04MPPqiOHTuqf//%2BWrFihddz161bp%2BTkZLVv315Dhw7Vli1bfHEIAACgnvLbgvX4448rLCxMmzZt0kcffaSDBw/qxRdf1NmzZ/XYY4%2BpS5cu%2Buyzz7Rw4UKtWLFCn3zyiSRp9%2B7dmj59uqZMmaIvvvhCo0aN0vjx43Xs2DEfHxEAAKgv/LJgFRcXKy4uTpMnT1ZoaKiaNWumwYMH6%2B9//7uys7NVUVGhcePGqXHjxoqLi9Pw4cOVmZkpSVqzZo169eqlXr16qWHDhho0aJBiYmL00Ucf%2BfioAABAfRHs6wXUhbCwMM2bN89r7OjRo4qKilJeXp6io6MVFBTkmYuNjdXq1asl/XT5sFevXl7PjY2NVU5OTq33n5%2Bfr4KCAq%2Bx4ODGioqK8jwOCgr0%2BhtXn%2BDga/drw/vTLvK0izztIs%2B64ZcF65dycnL07rvvaunSpcrKylJYWJjXfEREhNxut6qqquR2uxUeHu41Hx4erv3799d6f6tWrdLixYu9xtLT0zVhwoRq24aFNfoVRwInuVyhvl6Cz/H%2BtIs87SJPu8jTLr8vWF999ZXGjRunyZMnq1u3bsrKyqq2jTFGAQEBl3ydy81fKDU1VX379vUaCw5urMLC057HQUGBCgtrpOLiMlVWVtX6teGcC79e1xren3aRp13kaZe/5%2BmrH5b9umB9%2BumnmjJlip555hkNHjxYkhQZGanvvvvOa7uioiJFREQoMDBQLpdLhYWFXvNut1sul6vW%2B42KivK6HChJBQUlqqio/satrKyqcRy%2Bx9eF96dt5GkXedpFnnb57QXXHTt26Omnn9Yrr7ziKVeSFB8fr3379qmiosIzlpOTo8TERM98bm6u12tdOA8AAHA5flmwKioqNHPmTE2ZMkXdu3f3muvVq5eaNGmipUuXqqysTN98843WrFmjtLQ0SdKIESP0%2BeefKzs7W%2BXl5VqzZo2%2B%2B%2B473Xfffb44FAAAUA/55SXCnTt36sCBA5o7d67mzp3rNffJJ5/otdde03PPPaeMjAw1a9ZMkyZNUu/evSVJd9xxh15%2B%2BWX98Y9/1OHDh9WqVSstW7ZMzZo188GRAACA%2BsgvC9add96pffv2XXKbd95556Jz/fv3V//%2B/W0vCwAAXCP88hIhAACAL1GwAAAALKNgAQAAWEbBAgAAsIyCBQAAYBkFCwAAwDIKFgAAgGUULAAAAMsoWAAAAJZRsAAAACyjYAEAAFhGwQIAALCMggUAAGAZBQsAAMAyChYAAIBlFCwAAADLKFgAAACWUbAAAAAso2ABAABYRsECAACwjIIFAABgGQULAADAMgoWAACAZRQsAAAAyyhYAAAAllGwAAAALKNgAQAAWEbBAgAAsIyCBQAAYBkFCwAAwDIKFgAAgGUULAAAAMsoWAAAAJYF%2B3oBwNVqwMJtvl7Cr5I18W5fLwEA8P9xBgsAAMAyChYAAIClHdLRAAANcElEQVRlFCwAAADLKFgAAACWUbAAAAAso2ABAABYRsECAACwjIIFAABgGQULAADAMgoWAACAZRQsAAAAy/hdhICfqE%2B/O5HfmwjA33EGCwAAwDIKVg1%2B%2BOEHjRkzRp07d1afPn304osvqrKy0tfLAgAA9QQFqwYTJkzQjTfeqI0bNyojI0ObNm1SRkaGr5cFAADqCe7B%2BoWcnBzt27dPGRkZatq0qZo2barf/e53ysjI0OjRo329PMAv1Kf7xSTuGQPw61GwfiEvL08tWrRQeHi4ZywuLk7ffvutSktL1aRJk8u%2BRn5%2BvgoKCrzGgoMbKyoqyvM4KCjQ628AV6/g4Cv779Tp/95/%2B/JnjuzHhv%2Bc0uNXP4fvn3aRZ92gYP2C2%2B1WWFiY19jPZauwsLBWBWvVqlVavHix19gTTzyh8ePHex7n5%2BfrrbdWKDU11at4/Vp//8M//p%2Bf60/y8/O1atWqK84TPyFPu2z9915b/v59wek8/R151g3qai0YYyRJAQEBtdo%2BNTVV7733ntef1NRUr20KCgq0ePHiame68H9DnnaRp13kaRd52kWedYMzWL8QGRmpwsJCr7GioiIFBATI5XLV6jWioqL4KQAAgGsYZ7B%2BIT4%2BXkePHtWpU6c8Yzk5OWrVqpVCQ0N9uDIAAFBfULB%2BIS4uTgkJCVqwYIFKS0t14MABvfnmm0pLS/P10gAAQD0RNHv27Nm%2BXsTVpkePHsrKytILL7ygDRs2aPDgwRo9enSt78GqrdDQUN11112cGbOEPO0iT7vI0y7ytIs87QswP9/BDQAAACu4RAgAAGAZBQsAAMAyChYAAIBlFCwAAADLKFgAAACWUbAAAAAso2ABAABYRsECAACwjIIFAABgGQXLB3744QeNGTNGnTt3Vp8%2BffTiiy%2BqsrLS18tyTJ8%2BfRQfH6%2B2bdt6/jz33HOSpG3btiklJUUdOnTQwIEDtXbtWq/nZmRkKCkpSR07dlRaWpp27drlmSsvL9czzzyjnj17qkuXLho/frzXL%2B2%2BXO6X2/fV5LPPPlO3bt00adKkanPr1q1TcnKy2rdvr6FDh2rLli2euaqqKi1YsED9%2BvVTp06dNHr0aB06dMgzX1hYqN///vfq1q2bunfvrunTp6usrMwzn5eXpwcffFAdO3ZU//79tWLFCmv79qWL5fnFF18oOjra673atm1bz/uOPKs7cuSI0tPT1blzZ3Xp0kVPP/20iouLJdXt8dZl1r50sTyrqqoUExNT7XvpG2%2B84XmuL/O81Pfqa4aB4wYPHmxmzpxpiouLzXfffWf69%2B9vVqxY4etlOaZDhw7mq6%2B%2BqjZ%2B/Phxk5iYaDIzM83Zs2fN559/bhISEsw333xjjDHmP//zP82dd95pdu7cacrKyszrr79uunXrZkpLS40xxvzhD38wQ4cONUePHjVut9uMHz/ejB071vP6l8r9cvu%2Bmixfvtz079/fPPDAA2bixIlec3l5eSY%2BPt5kZ2ebs2fPmo8%2B%2BsgkJCSYo0ePGmOMycjIMH369DH79%2B83paWlZu7cuWbQoEGmqqrKGGPM448/bsaOHWtOnjxpfvzxR5OWlmbmzJljjDGmrKzMdO/e3bz66qvm9OnTJi8vz3Tu3NlkZWVZ2bevXCrPDRs2mP79%2B1/0ueRZ3X333WemTZtmSktLTX5%2Bvhk2bJiZMWNGnR9vXWbtSxfL0%2B12mzvuuMMcP368xuf5Ms/Lfa%2B%2BVlCwHLZr1y4TGxtr3G63Z%2Bwvf/mLSUpK8uGqnFNRUWGio6PN/v37q82tWLHCDB482Gts0qRJ5plnnjHGGDN27Fjz/PPPe%2BaqqqpM9%2B7dzbp160xFRYXp2LGj2bhxo2f%2BwIEDJjo62hw/fvyyuV9u31eTt956yxQXF5upU6dWKwRz5swx6enpXmMjRowwy5YtM8YYM3DgQPPWW2955kpLS02bNm3M119/bQoKCkxMTIzZs2ePZ37Lli2mXbt25ty5cyYrK8t06dLFVFRUeOZffvllM2rUqCvety9dKs/MzEwzfPjwiz6XPL0VFRWZadOmmYKCAs/YO%2B%2B8Y/r371%2Bnx1vXWfvKpfL8/vvvzR133GHOnj1b43N9meelvldfS7hE6LC8vDy1aNFC4eHhnrG4uDh9%2B%2B23Ki0t9eHKnFFcXCxjjF599VX17NlTPXr00KxZs3T69Gnl5eUpLi7Oa/vY2Fjl5uZKUrX5gIAAxcTEKCcnR4cOHVJJSYnatGnjmb/tttsUEhKivLy8y%2BZ%2BuX1fTUaOHKmmTZvWOHex48jJydHZs2e1f/9%2Br/nQ0FDdeuutysnJ0Z49exQUFKTo6GjPfFxcnM6cOaODBw8qLy9P0dHRCgoK8nrti319fs2%2BfelSeRYXF6uoqEgPPfSQOnXqpOTkZH344YeSRJ41CAsL07x583TDDTd4xo4ePaqoqKg6Pd66zNqXLpVnUVGRgoKCNH36dHXr1k19%2B/bVn/70J50/f17S1ZXnhd%2BrryUULIe53W6FhYV5jf38P/3CwkJfLMlR586dU5s2bdShQwetX79eb775pnbs2KHZs2fXmE1ERIQnF7fb7VWQpJ%2ByKywslNvtlqRqzw8LC/PMXyr3y%2B27vrhURkVFRTLGXDLDJk2aKCAgwGtOunRGbrdbVVVVV7Tvq1Xjxo3VvHlzTZ48WVu3btXYsWM1ffp0bd%2B%2BnTxrIScnR%2B%2B%2B%2B67GjRtXp8dbl1lfTS7M0xij2NhY9enTR9nZ2frTn/6ktWvXasmSJZKu3u8F1xIK1lXAGCNJXm9mf9W8eXO99957GjlypBo1aqRWrVppypQp%2Bvjjjz0/eV3IGHPJXK5k/nK5X%2B6165MryfBSz7%2BS59b2%2Bb70wAMP6O2331a7du3UsGFDJScn65577tF777130eeQ50%2B%2B%2BuorjR49WpMnT1a3bt1q3MaJ462rrJ32yzzbtm2rv/71r0pOTlaDBg2UmJiosWPH6v3337/k6/gqz6vpvekUCpbDIiMjq7X4oqIiBQQEyOVy%2BWhVvnXzzTersrJSgYGBnjNRP3O73Z5cXC5Xjdm5XC5FRkZKqn4WsLi4WJGRkZfN3eVyXXLf9UVNGf18HBEREQoMDKwxh58zKikp8fqXlT9ncqkMf37dK9l3fXLzzTcrPz%2BfPC/h008/1dixYzVjxgyNHDlS0sW/99k43rrM%2BmpQU541ufnmm3XixAkZY666PH/%2BXn0toWA5LD4%2BXkePHvX6%2BICcnBy1atVKoaGhPlyZM/bu3av58%2Bd7jR04cEANGjRQr169qt3zlJubq8TEREk/ZZeXl%2BeZq6ys1O7du5WYmKhbbrlF4eHhXvP/8z//o3Pnzik%2BPv6yubdt2/aS%2B64v4uPjqx1HTk6OEhMT1bBhQ7Vu3doro%2BLiYn3//fdKSEhQbGysjDHau3ev13PDwsLUsmVLxcfHa9%2B%2BfaqoqKj22le676vV6tWrtX79eq%2BxAwcO6JZbbiHPi9ixY4eefvppvfLKKxo8eLBnvC6Pty6z9rWL5fnFF19o%2BfLlXtsePHhQLVq0UEBAgM/zvNj36muKAzfS4xeGDx9uZsyYYUpKSsz%2B/ftN3759zZ///GdfL8sRx48fN%2B3atTOvv/66KS8vNwcPHjSDBg0yc%2BfONSdOnDDt27c3q1evNmfPnjXZ2dkmISHB8y9ZNm/ebDp27Gi%2B/vprc%2BbMGfPqq6%2BaXr16mbKyMmOMMfPnzzdDhgwxR48eNadOnTKPPvqoGT9%2BvGffl8r9cvu%2BGtX0r9727dtn2rZtaz799FNz9uxZk5mZadq3b2/y8/ONMcb8x3/8h%2Bndu7fZv3%2B/KSkpMc8884wZNmyY5/kTJ040jzzyiDl58qQ5duyYGTZsmHnhhReMMcaUl5ebPn36mEWLFpkzZ86YnTt3mjvvvNN8%2BumnVvbtazXlmZGRYbp162ZycnLMuXPnzMcff2zi4uJMbm6uMYY8f%2Bn8%2BfNmwIABZuXKldXm6vp46zJrX7lUnjk5OaZNmzbmww8/NOfOnTM5OTmme/fu5s033zTG%2BDbPy32vvlZQsHzg2LFj5tFHHzWdOnUyffv2NYsWLfL5Z9c46csvvzTDhw837dq1M3369DEvvviiKS8v98ylpKSY9u3bm%2BTkZLN%2B/Xqv57777rsmKSnJdOjQwTz00ENm3759nrny8nIzZ84c06NHD9O1a1czefJkU1xc7Jm/XO6X2/fVIj4%2B3sTHx5uYmBgTExPjefyz9evXm%2BTkZNO%2BfXszfPhw8%2BWXX3rmqqqqzKJFi0yfPn3MXXfdZR599FFz7Ngxz3xxcbF58sknTdeuXU2PHj3MnDlzPF8bY376pv3ggw%2BaDh06mKSkJPPuu%2B96re1K9u0rl8qzqqrKLF682PTp08e0a9fODBkyxGRnZ3ueS57e/vu//9vccccdngwv/HP48OE6Pd66zNpXLpfnhg0bTHJysmnXrp357W9/a5YvX24qKys9z/dlnpf6Xn2tCDDm/9/pCwAAACu4BwsAAMAyChYAAIBlFCwAAADLKFgAAACWUbAAAAAso2ABAABYRsECAACwjIIFAABgGQULAADAMgoWAACAZRQsAAAAyyhYAAAAllGwAAAALPt/34P3POokY%2BEAAAAASUVORK5CYII%3D\"/>\n",
       "        </div>\n",
       "        <div role=\"tabpanel\" class=\"tab-pane col-md-12\" id=\"common2387984939501039598\">\n",
       "            \n",
       "<table class=\"freq table table-hover\">\n",
       "    <thead>\n",
       "    <tr>\n",
       "        <td class=\"fillremaining\">Value</td>\n",
       "        <td class=\"number\">Count</td>\n",
       "        <td class=\"number\">Frequency (%)</td>\n",
       "        <td style=\"min-width:200px\">&nbsp;</td>\n",
       "    </tr>\n",
       "    </thead>\n",
       "    <tr class=\"\">\n",
       "        <td class=\"fillremaining\">270000.0</td>\n",
       "        <td class=\"number\">29</td>\n",
       "        <td class=\"number\">1.7%</td>\n",
       "        <td>\n",
       "            <div class=\"bar\" style=\"width:2%\">&nbsp;</div>\n",
       "        </td>\n",
       "</tr><tr class=\"\">\n",
       "        <td class=\"fillremaining\">350000.0</td>\n",
       "        <td class=\"number\">25</td>\n",
       "        <td class=\"number\">1.5%</td>\n",
       "        <td>\n",
       "            <div class=\"bar\" style=\"width:2%\">&nbsp;</div>\n",
       "        </td>\n",
       "</tr><tr class=\"\">\n",
       "        <td class=\"fillremaining\">399000.0</td>\n",
       "        <td class=\"number\">24</td>\n",
       "        <td class=\"number\">1.4%</td>\n",
       "        <td>\n",
       "            <div class=\"bar\" style=\"width:2%\">&nbsp;</div>\n",
       "        </td>\n",
       "</tr><tr class=\"\">\n",
       "        <td class=\"fillremaining\">329000.0</td>\n",
       "        <td class=\"number\">23</td>\n",
       "        <td class=\"number\">1.4%</td>\n",
       "        <td>\n",
       "            <div class=\"bar\" style=\"width:2%\">&nbsp;</div>\n",
       "        </td>\n",
       "</tr><tr class=\"\">\n",
       "        <td class=\"fillremaining\">299000.0</td>\n",
       "        <td class=\"number\">19</td>\n",
       "        <td class=\"number\">1.1%</td>\n",
       "        <td>\n",
       "            <div class=\"bar\" style=\"width:2%\">&nbsp;</div>\n",
       "        </td>\n",
       "</tr><tr class=\"\">\n",
       "        <td class=\"fillremaining\">289000.0</td>\n",
       "        <td class=\"number\">18</td>\n",
       "        <td class=\"number\">1.1%</td>\n",
       "        <td>\n",
       "            <div class=\"bar\" style=\"width:2%\">&nbsp;</div>\n",
       "        </td>\n",
       "</tr><tr class=\"\">\n",
       "        <td class=\"fillremaining\">250000.0</td>\n",
       "        <td class=\"number\">17</td>\n",
       "        <td class=\"number\">1.0%</td>\n",
       "        <td>\n",
       "            <div class=\"bar\" style=\"width:2%\">&nbsp;</div>\n",
       "        </td>\n",
       "</tr><tr class=\"\">\n",
       "        <td class=\"fillremaining\">279000.0</td>\n",
       "        <td class=\"number\">17</td>\n",
       "        <td class=\"number\">1.0%</td>\n",
       "        <td>\n",
       "            <div class=\"bar\" style=\"width:2%\">&nbsp;</div>\n",
       "        </td>\n",
       "</tr><tr class=\"\">\n",
       "        <td class=\"fillremaining\">285000.0</td>\n",
       "        <td class=\"number\">16</td>\n",
       "        <td class=\"number\">1.0%</td>\n",
       "        <td>\n",
       "            <div class=\"bar\" style=\"width:2%\">&nbsp;</div>\n",
       "        </td>\n",
       "</tr><tr class=\"\">\n",
       "        <td class=\"fillremaining\">240000.0</td>\n",
       "        <td class=\"number\">15</td>\n",
       "        <td class=\"number\">0.9%</td>\n",
       "        <td>\n",
       "            <div class=\"bar\" style=\"width:2%\">&nbsp;</div>\n",
       "        </td>\n",
       "</tr><tr class=\"other\">\n",
       "        <td class=\"fillremaining\">Other values (696)</td>\n",
       "        <td class=\"number\">1471</td>\n",
       "        <td class=\"number\">87.9%</td>\n",
       "        <td>\n",
       "            <div class=\"bar\" style=\"width:100%\">&nbsp;</div>\n",
       "        </td>\n",
       "</tr>\n",
       "</table>\n",
       "        </div>\n",
       "        <div role=\"tabpanel\" class=\"tab-pane col-md-12\"  id=\"extreme2387984939501039598\">\n",
       "            <p class=\"h4\">Minimum 5 values</p>\n",
       "            \n",
       "<table class=\"freq table table-hover\">\n",
       "    <thead>\n",
       "    <tr>\n",
       "        <td class=\"fillremaining\">Value</td>\n",
       "        <td class=\"number\">Count</td>\n",
       "        <td class=\"number\">Frequency (%)</td>\n",
       "        <td style=\"min-width:200px\">&nbsp;</td>\n",
       "    </tr>\n",
       "    </thead>\n",
       "    <tr class=\"\">\n",
       "        <td class=\"fillremaining\">100000.0</td>\n",
       "        <td class=\"number\">1</td>\n",
       "        <td class=\"number\">0.1%</td>\n",
       "        <td>\n",
       "            <div class=\"bar\" style=\"width:100%\">&nbsp;</div>\n",
       "        </td>\n",
       "</tr><tr class=\"\">\n",
       "        <td class=\"fillremaining\">105000.0</td>\n",
       "        <td class=\"number\">1</td>\n",
       "        <td class=\"number\">0.1%</td>\n",
       "        <td>\n",
       "            <div class=\"bar\" style=\"width:100%\">&nbsp;</div>\n",
       "        </td>\n",
       "</tr><tr class=\"\">\n",
       "        <td class=\"fillremaining\">114642.0</td>\n",
       "        <td class=\"number\">1</td>\n",
       "        <td class=\"number\">0.1%</td>\n",
       "        <td>\n",
       "            <div class=\"bar\" style=\"width:100%\">&nbsp;</div>\n",
       "        </td>\n",
       "</tr><tr class=\"\">\n",
       "        <td class=\"fillremaining\">120000.0</td>\n",
       "        <td class=\"number\">1</td>\n",
       "        <td class=\"number\">0.1%</td>\n",
       "        <td>\n",
       "            <div class=\"bar\" style=\"width:100%\">&nbsp;</div>\n",
       "        </td>\n",
       "</tr><tr class=\"\">\n",
       "        <td class=\"fillremaining\">139000.0</td>\n",
       "        <td class=\"number\">1</td>\n",
       "        <td class=\"number\">0.1%</td>\n",
       "        <td>\n",
       "            <div class=\"bar\" style=\"width:100%\">&nbsp;</div>\n",
       "        </td>\n",
       "</tr>\n",
       "</table>\n",
       "            <p class=\"h4\">Maximum 5 values</p>\n",
       "            \n",
       "<table class=\"freq table table-hover\">\n",
       "    <thead>\n",
       "    <tr>\n",
       "        <td class=\"fillremaining\">Value</td>\n",
       "        <td class=\"number\">Count</td>\n",
       "        <td class=\"number\">Frequency (%)</td>\n",
       "        <td style=\"min-width:200px\">&nbsp;</td>\n",
       "    </tr>\n",
       "    </thead>\n",
       "    <tr class=\"\">\n",
       "        <td class=\"fillremaining\">1366410.0</td>\n",
       "        <td class=\"number\">1</td>\n",
       "        <td class=\"number\">0.1%</td>\n",
       "        <td>\n",
       "            <div class=\"bar\" style=\"width:100%\">&nbsp;</div>\n",
       "        </td>\n",
       "</tr><tr class=\"\">\n",
       "        <td class=\"fillremaining\">1612000.0</td>\n",
       "        <td class=\"number\">1</td>\n",
       "        <td class=\"number\">0.1%</td>\n",
       "        <td>\n",
       "            <div class=\"bar\" style=\"width:100%\">&nbsp;</div>\n",
       "        </td>\n",
       "</tr><tr class=\"\">\n",
       "        <td class=\"fillremaining\">1725000.0</td>\n",
       "        <td class=\"number\">1</td>\n",
       "        <td class=\"number\">0.1%</td>\n",
       "        <td>\n",
       "            <div class=\"bar\" style=\"width:100%\">&nbsp;</div>\n",
       "        </td>\n",
       "</tr><tr class=\"\">\n",
       "        <td class=\"fillremaining\">1850000.0</td>\n",
       "        <td class=\"number\">1</td>\n",
       "        <td class=\"number\">0.1%</td>\n",
       "        <td>\n",
       "            <div class=\"bar\" style=\"width:100%\">&nbsp;</div>\n",
       "        </td>\n",
       "</tr><tr class=\"\">\n",
       "        <td class=\"fillremaining\">2700000.0</td>\n",
       "        <td class=\"number\">1</td>\n",
       "        <td class=\"number\">0.1%</td>\n",
       "        <td>\n",
       "            <div class=\"bar\" style=\"width:100%\">&nbsp;</div>\n",
       "        </td>\n",
       "</tr>\n",
       "</table>\n",
       "        </div>\n",
       "    </div>\n",
       "</div>\n",
       "</div><div class=\"row variablerow\">\n",
       "    <div class=\"col-md-3 namecol\">\n",
       "        <p class=\"h4 pp-anchor\" id=\"pp_var_rooms\">rooms<br/>\n",
       "            <small>Numeric</small>\n",
       "        </p>\n",
       "    </div><div class=\"col-md-6\">\n",
       "    <div class=\"row\">\n",
       "        <div class=\"col-sm-6\">\n",
       "            <table class=\"stats \">\n",
       "                <tr>\n",
       "                    <th>Distinct count</th>\n",
       "                    <td>6</td>\n",
       "                </tr>\n",
       "                <tr>\n",
       "                    <th>Unique (%)</th>\n",
       "                    <td>0.4%</td>\n",
       "                </tr>\n",
       "                <tr class=\"ignore\">\n",
       "                    <th>Missing (%)</th>\n",
       "                    <td>0.0%</td>\n",
       "                </tr>\n",
       "                <tr class=\"ignore\">\n",
       "                    <th>Missing (n)</th>\n",
       "                    <td>0</td>\n",
       "                </tr>\n",
       "                <tr class=\"ignore\">\n",
       "                    <th>Infinite (%)</th>\n",
       "                    <td>0.0%</td>\n",
       "                </tr>\n",
       "                <tr class=\"ignore\">\n",
       "                    <th>Infinite (n)</th>\n",
       "                    <td>0</td>\n",
       "                </tr>\n",
       "            </table>\n",
       "\n",
       "        </div>\n",
       "        <div class=\"col-sm-6\">\n",
       "            <table class=\"stats \">\n",
       "\n",
       "                <tr>\n",
       "                    <th>Mean</th>\n",
       "                    <td>2.6846</td>\n",
       "                </tr>\n",
       "                <tr>\n",
       "                    <th>Minimum</th>\n",
       "                    <td>2</td>\n",
       "                </tr>\n",
       "                <tr>\n",
       "                    <th>Maximum</th>\n",
       "                    <td>7</td>\n",
       "                </tr>\n",
       "                <tr class=\"ignore\">\n",
       "                    <th>Zeros (%)</th>\n",
       "                    <td>0.0%</td>\n",
       "                </tr>\n",
       "            </table>\n",
       "        </div>\n",
       "    </div>\n",
       "</div>\n",
       "<div class=\"col-md-3 collapse in\" id=\"minihistogram3964617827830345359\">\n",
       "    <img src=\"data:image/png;base64,iVBORw0KGgoAAAANSUhEUgAAAMgAAABLCAYAAAA1fMjoAAAABHNCSVQICAgIfAhkiAAAAAlwSFlzAAAPYQAAD2EBqD%2BnaQAAADl0RVh0U29mdHdhcmUAbWF0cGxvdGxpYiB2ZXJzaW9uIDMuMC4zLCBodHRwOi8vbWF0cGxvdGxpYi5vcmcvnQurowAAARRJREFUeJzt3LENwkAQAEGMKIki6ImYniiCnp4coZUdYBuYyV%2B6ZHXJ6acxxjgAbx23HgD27LT1AK/O1/viN4/b5QOTgA0CSSAQBAJBIBAEAkEgEAQCQSAQBAJBIBAEAmF3t1hrcfPFHDYIBIFAEAgEgUAQCASBQBAIBIFAEAgEgUAQCASBQBAIBIFAEAgEgUAQCASBQBAIBIFAEAiEv/3VZA1%2BTvl%2BNggEgUAQCASBQBAIBIFAEAgEgUAQCASBQHBq8gOWnrQ4Z5nPBoEwjTHG1kPAXtkgEAQCQSAQBAJBIBAEAkEgEAQCQSAQBAJBIBAEAkEgEAQCQSAQBAJBIBAEAkEgEAQCQSAQBAJBIBAEAkEgEJ50GxSV4xlV0QAAAABJRU5ErkJggg%3D%3D\">\n",
       "\n",
       "</div>\n",
       "<div class=\"col-md-12 text-right\">\n",
       "    <a role=\"button\" data-toggle=\"collapse\" data-target=\"#descriptives3964617827830345359,#minihistogram3964617827830345359\"\n",
       "       aria-expanded=\"false\" aria-controls=\"collapseExample\">\n",
       "        Toggle details\n",
       "    </a>\n",
       "</div>\n",
       "<div class=\"row collapse col-md-12\" id=\"descriptives3964617827830345359\">\n",
       "    <ul class=\"nav nav-tabs\" role=\"tablist\">\n",
       "        <li role=\"presentation\" class=\"active\"><a href=\"#quantiles3964617827830345359\"\n",
       "                                                  aria-controls=\"quantiles3964617827830345359\" role=\"tab\"\n",
       "                                                  data-toggle=\"tab\">Statistics</a></li>\n",
       "        <li role=\"presentation\"><a href=\"#histogram3964617827830345359\" aria-controls=\"histogram3964617827830345359\"\n",
       "                                   role=\"tab\" data-toggle=\"tab\">Histogram</a></li>\n",
       "        <li role=\"presentation\"><a href=\"#common3964617827830345359\" aria-controls=\"common3964617827830345359\"\n",
       "                                   role=\"tab\" data-toggle=\"tab\">Common Values</a></li>\n",
       "        <li role=\"presentation\"><a href=\"#extreme3964617827830345359\" aria-controls=\"extreme3964617827830345359\"\n",
       "                                   role=\"tab\" data-toggle=\"tab\">Extreme Values</a></li>\n",
       "\n",
       "    </ul>\n",
       "\n",
       "    <div class=\"tab-content\">\n",
       "        <div role=\"tabpanel\" class=\"tab-pane active row\" id=\"quantiles3964617827830345359\">\n",
       "            <div class=\"col-md-4 col-md-offset-1\">\n",
       "                <p class=\"h4\">Quantile statistics</p>\n",
       "                <table class=\"stats indent\">\n",
       "                    <tr>\n",
       "                        <th>Minimum</th>\n",
       "                        <td>2</td>\n",
       "                    </tr>\n",
       "                    <tr>\n",
       "                        <th>5-th percentile</th>\n",
       "                        <td>2</td>\n",
       "                    </tr>\n",
       "                    <tr>\n",
       "                        <th>Q1</th>\n",
       "                        <td>2</td>\n",
       "                    </tr>\n",
       "                    <tr>\n",
       "                        <th>Median</th>\n",
       "                        <td>3</td>\n",
       "                    </tr>\n",
       "                    <tr>\n",
       "                        <th>Q3</th>\n",
       "                        <td>3</td>\n",
       "                    </tr>\n",
       "                    <tr>\n",
       "                        <th>95-th percentile</th>\n",
       "                        <td>4</td>\n",
       "                    </tr>\n",
       "                    <tr>\n",
       "                        <th>Maximum</th>\n",
       "                        <td>7</td>\n",
       "                    </tr>\n",
       "                    <tr>\n",
       "                        <th>Range</th>\n",
       "                        <td>5</td>\n",
       "                    </tr>\n",
       "                    <tr>\n",
       "                        <th>Interquartile range</th>\n",
       "                        <td>1</td>\n",
       "                    </tr>\n",
       "                </table>\n",
       "            </div>\n",
       "            <div class=\"col-md-4 col-md-offset-2\">\n",
       "                <p class=\"h4\">Descriptive statistics</p>\n",
       "                <table class=\"stats indent\">\n",
       "                    <tr>\n",
       "                        <th>Standard deviation</th>\n",
       "                        <td>0.77524</td>\n",
       "                    </tr>\n",
       "                    <tr>\n",
       "                        <th>Coef of variation</th>\n",
       "                        <td>0.28877</td>\n",
       "                    </tr>\n",
       "                    <tr>\n",
       "                        <th>Kurtosis</th>\n",
       "                        <td>0.65567</td>\n",
       "                    </tr>\n",
       "                    <tr>\n",
       "                        <th>Mean</th>\n",
       "                        <td>2.6846</td>\n",
       "                    </tr>\n",
       "                    <tr>\n",
       "                        <th>MAD</th>\n",
       "                        <td>0.66332</td>\n",
       "                    </tr>\n",
       "                    <tr class=\"\">\n",
       "                        <th>Skewness</th>\n",
       "                        <td>0.95812</td>\n",
       "                    </tr>\n",
       "                    <tr>\n",
       "                        <th>Sum</th>\n",
       "                        <td>4494</td>\n",
       "                    </tr>\n",
       "                    <tr>\n",
       "                        <th>Variance</th>\n",
       "                        <td>0.60099</td>\n",
       "                    </tr>\n",
       "                    <tr>\n",
       "                        <th>Memory size</th>\n",
       "                        <td>13.2 KiB</td>\n",
       "                    </tr>\n",
       "                </table>\n",
       "            </div>\n",
       "        </div>\n",
       "        <div role=\"tabpanel\" class=\"tab-pane col-md-8 col-md-offset-2\" id=\"histogram3964617827830345359\">\n",
       "            <img src=\"data:image/png;base64,iVBORw0KGgoAAAANSUhEUgAAAlgAAAGQCAYAAAByNR6YAAAABHNCSVQICAgIfAhkiAAAAAlwSFlzAAAPYQAAD2EBqD%2BnaQAAADl0RVh0U29mdHdhcmUAbWF0cGxvdGxpYiB2ZXJzaW9uIDMuMC4zLCBodHRwOi8vbWF0cGxvdGxpYi5vcmcvnQurowAAIABJREFUeJzt3XtYVWXe//EPsEMUBbYHMLUpUxOQpDTHw5iYzkhJppmJODPVaM5EJHmqrNFwLisaDx08jGLNaEc1eHrQNKzHcaAy56rGTEDtKUsLSoFkgzqEseH3Rz95Zocm1lqtvRbv13X5h/e9uPf3/o40n32vxSagoaGhQQAAADBMoNUFAAAAOA0BCwAAwGAELAAAAIMRsAAAAAxGwAIAADAYAQsAAMBgBCwAAACDEbAAAAAMRsACAAAwGAELAADAYAQsAAAAgxGwAAAADEbAAgAAMBgBCwAAwGAELAAAAIMRsAAAAAxGwAIAADAYAQsAAMBgBCwAAACDEbAAAAAMRsACAAAwGAELAADAYAQsAAAAgxGwAAAADEbAAgAAMBgBCwAAwGAELAAAAIMRsAAAAAxGwAIAADAYAQsAAMBgBCwAAACDEbAAAAAMRsACAAAwGAELAADAYAQsAAAAgxGwAAAADEbAAgAAMBgBCwAAwGAELAAAAIO5rC6gpSgvP274moGBAWrfPlTHjp1UfX2D4eu3ZPTWPPTWXPTXPPTWPGb2tlOndoau11ycYNlYYGCAAgICFBgYYHUpjkNvzUNvzUV/zUNvzePE3hKwAAAADEbAAgAAMBgBCwAAwGAELAAAAIMRsAAAAAxGwAIAADAYAQsAAMBgBCwAAACDEbAAAAAMRsACAAAwGAELAADAYAQsAAAAgxGwAAAADOayugCz7N%2B/X5mZmdq3b59atWqlwYMH64EHHlD79u21c%2BdOPf744/rkk0904YUXatq0aRo3blzj165bt07r169XRUWFLrvsMt1///3q27evhbs5u6v%2BuM3qEpotb8YvrC4BAICfhCNPsLxer6ZNm6bLL79cb731ljZv3qyKigotWLBAR48eVVpamiZNmqRdu3Zp3rx5ysjI0N69eyVJ27dv18qVK7Vo0SLt3LlTI0eOVGpqqk6ePGnxrgAAgF04MmCVlZWpvLxc48ePV0hIiDp06KDExETt379fW7ZsUffu3TVhwoTGk62RI0cqJydHkpSdna3x48crPj5eISEhmjp1qgIDA5Wfn2/tpgAAgG048hZhVFSUYmJitGHDBs2YMUNff/21XnvtNQ0fPlzFxcWKjY31uT4mJkZ5eXmSpOLiYo0ePbpxLiAgQNHR0SosLFRSUlKzXv90wPtPLlcbRUZG/sid%2BQoKslc%2BdrnsU%2B/p3tqtx3ZAb81Ff81Db83jxN46MmAFBgZq2bJlmjJlip599llJ0oABAzR79mzdeeedioqK8rk%2BIiJClZWVkiSPx6Pw8HCf%2BfDw8Mb55ti4caNWrFjhM5aWlqb09PQfsh3HcLtDrS7hvIWFtba6BMeit%2Baiv%2Baht%2BZxUm8dGbBOnTql1NRUJSYm6o477tC///1v/elPf9KcOXPOeH1DQ4MCAgLOut655r8rOTlZI0aM8BlzudqostLY57jslvSN3r%2BZgoICFRbWWtXVNfJ6660ux1Horbnor3norXnM7K1Vb%2B4dGbB27dqlkpISzZo1S0FBQWrXrp3S09M1duxYXX311fJ4PD7Xezweud1uSZLb7W5yWlVVVaVevXo1%2B/UjIyOb3A4sLz%2BuurqW/Q1px/17vfW2rNsO6K256K956K15nNRbex2BNJPX61V9fb0aGhoax%2Brq6iRJQ4YMUVFRkc/1RUVFio%2BPlyTFxcWpuLjYZ619%2B/Y1zgMAAJyLIwPWlVdeqTZt2mj58uWqqalRZWWlVq9erQEDBmjs2LEqLS1Vdna2amtrVVBQoIKCAk2cOFGSlJKSotzcXO3Zs0c1NTVatWqVgoODNXz4cGs3BQAAbMORAcvtduuvf/2rdu/erWHDhun666/XBRdcoKVLl6pDhw7KysrSSy%2B9pMGDB2vp0qVavHixoqOjJUnDhg3TrFmzNHfuXA0dOlTvvPOO1qxZo5CQEIt3BQAA7CKg4T/vo8E05eXHDV/T5QrUr5a8afi6ZrHTJ7m7XIFyu0NVWXnSMc8D%2BAt6ay76ax56ax4ze9upUztD12suR55gAQAAWImABQAAYDACFgAAgMEIWAAAAAYjYAEAABiMgAUAAGAwAhYAAIDBCFgAAAAGI2ABAAAYjIAFAABgMAIWAACAwQhYAAAABiNgAQAAGIyABQAAYDACFgAAgMEIWAAAAAYjYAEAABiMgAUAAGAwAhYAAIDBCFgAAAAGI2ABAAAYjIAFAABgMAIWAACAwQhYAAAABiNgAQAAGIyABQAAYDCX1QWY4d1339WUKVOajJ86dUo7duyQx%2BNRZmam9u/frw4dOmjixIm6/fbbG6/bsmWLsrKyVFJSou7du2vGjBkaNmzYT7kFAABgY44MWAMGDFBhYaHP2Pr167V582Z16NBBkyZNUnJystasWaNDhw5pypQp6tatm6699lrt27dP999/v1asWKFBgwbpf/7nfzR9%2BnRt27ZNF154oUU7AgAAdtIibhFWVFToySefVEZGhvLz81VXV6fU1FS1adNGsbGxuvnmm5WdnS1JysnJUUJCghISEtSqVStdf/31io6O1iuvvGLxLgAAgF20iIC1bNkyjRo1StHR0SouLlbv3r0VFBTUOB8TE6OioiJJUnFxsWJjY32%2BPiYmpsmJGAAAwNk48hbhfzpy5Ig2b97ceALl8XgUFhbmc01ERIQ8Ho/q6%2Bvl8XgUHh7uMx8eHq6PP/642a9ZVlam8vJynzGXq40iIyN/4C7OLCjIXvnY5bJPvad7a7ce2wG9NRf9NQ%2B9NY8Te%2Bv4gPX8889r2LBhuuiii856TUNDgwICAr53nXPN/6eNGzdqxYoVPmNpaWlKT09v9hpO5HaHWl3CeQsLa211CY5Fb81Ff81Db83jpN46PmDl5eXp7rvvbvx7%2B/btdejQIZ9rqqqqFBERocDAQLndblVWVvrMezweud3uZr9mcnKyRowY4TPmcrVRZeXJ89/A97Bb0jd6/2YKCgpUWFhrVVfXyOutt7ocR6G35qK/5qG35jGzt1a9uXd0wDpw4IBKSkp8PmIhLi5O69evV11dnVyub7dfWFio%2BPj4xvnTz2OdVlhYqKSkpGa/bmRkZJPbgeXlx1VX17K/Ie24f6%2B33pZ12wG9NRf9NQ%2B9NY%2BTemuvI5DzVFxcrLCwMEVERDSOJSQkqG3btlq1apVqamr0wQcfKCcnRykpKZKkiRMn6u2331Z%2Bfr5qa2uVk5OjQ4cO6YYbbrBqGwAAwGYcfYJVUVHR5CQpODhYq1ev1sKFC7Vu3Tp16tRJM2fO1PDhwyVJl112mZYsWaLHHntMJSUl6tmzp7KystSpUycLdgAAAOwooKGhocHqIlqC8vLjhq/pcgXqV0veNHxds%2BTN%2BIXVJTSbyxUotztUlZUnHXNc7S/orbnor3norXnM7G2nTu0MXa%2B5HH2LEAAAwAoELAAAAIMRsAAAAAxGwAIAADAYAQsAAMBgBCwAAACDEbAAAAAMRsACAAAwGAELAADAYAQsAAAAgxGwAAAADEbAAgAAMBgBCwAAwGAELAAAAIMRsAAAAAxGwAIAADAYAQsAAMBgBCwAAACDEbAAAAAMRsACAAAwGAELAADAYAQsAAAAgxGwAAAADEbAAgAAMBgBCwAAwGAELAAAAIO5rC4A8FdX/XGb1SWcl7wZv7C6BADA/%2BfoE6xVq1Zp6NChuuKKK3Tbbbfp888/lyTt3LlTEyZMUL9%2B/ZSUlKTc3Fyfr1u3bp0SExPVv39/paSkaO/evVaUDwAAbMqxAeuFF15Qbm6unnnmGb355pvq0aOH1q1bp6NHjyotLU2TJk3Srl27NG/ePGVkZDSGqO3bt2vlypVatGiRdu7cqZEjRyo1NVUnT560eEcAAMAuHBuw/va3v2nmzJnq0aOH2rVrp/nz52v%2B/PnasmWLunfvrgkTJqhVq1YaPHiwRo4cqZycHElSdna2xo8fr/j4eIWEhGjq1KkKDAxUfn6%2BtRsCAAC24ciAdfToUZWUlOjEiRMaPXq0Bg4cqPT0dB07dkzFxcWKjY31uT4mJkZFRUWS1GQ%2BICBA0dHRKiws/En3AAAA7MuRD7kfOXJEkpSXl6e1a9eqoaFBM2bM0IMPPqh///vfioqK8rk%2BIiJClZWVkiSPx6Pw8HCf%2BfDw8Mb55igrK1N5ebnPmMvVRpGRkT9kO2cVFGSvfOxy2adeu/VWsk9/T/fWjj22A/prHnprHif21pEBq6GhQZJ0%2B%2B23N4apu%2B66S9OmTdPgwYPPeH1AQMD3rvd989%2B1ceNGrVixwmcsLS1N6enpzV7DidzuUKtLcDS79TcsrLXVJTga/TUPvTWPk3rryIDVsWNHSVJYWFjjWJcuXVRfX69vvvlGHo/H53qPxyO32y1JcrvdTU6rqqqq1KtXr2a/fnJyskaMGOEz5nK1UWWlsQ/K2y3pG71/M9mtt5J9%2BhsUFKiwsNaqrq6R11tvdTmOQ3/NQ2/NY2ZvrXrz6ciA1blzZ7Vv31779%2B9Xnz59JEmlpaW64IILlJCQoE2bNvlcX1RUpPj4eElSXFyciouLdeONN0qSvF6v9u3bpwkTJjT79SMjI5vcDiwvP666upb9DdnS9282u/XX6623Xc12Qn/NQ2/N46Te2u9tejO4XC4lJydr9erVOnz4sL766iutXLlSY8aM0Y033qjS0lJlZ2ertrZWBQUFKigo0MSJEyVJKSkpys3N1Z49e1RTU6NVq1YpODhYw4cPt3ZTAADANhx5giVJd955p6qqqnTzzTfrm2%2B%2BUWJioubNm6fQ0FBlZWVp0aJFyszMVLdu3bR48WJFR0dLkoYNG6ZZs2Zp7ty5Ki8vV58%2BfbRmzRqFhIRYvCMAAGAXAQ2nnwiHqcrLjxu%2BpssVqF8tedPwdc1ip1/lYrfeSvbpr8sVKLc7VJWVJx1zK8Cf0F/z0FvzmNnbTp3aGbpecznyFiEAAICVCFgAAAAGI2ABAAAYjIAFAABgMAIWAACAwQhYAAAABiNgAQAAGIyABQAAYDACFgAAgMEIWAAAAAYjYAEAABiMgAUAAGAwAhYAAIDBCFgAAAAGI2ABAAAYjIAFAABgMAIWAACAwQhYAAAABiNgAQAAGIyABQAAYDACFgAAgMEIWAAAAAYjYAEAABiMgAUAAGAwAhYAAIDB/C5gHT9%2B3OoSAAAAfhS/C1hDhw7Vfffdp/fee8/qUgAAAH4QvwtYf/rTn/TVV1/ptttu03XXXae1a9fq2LFj573ONddco7i4OF1%2B%2BeWNfxYuXChJ2rlzpyZMmKB%2B/fopKSlJubm5Pl%2B7bt06JSYmqn///kpJSdHevXsN2RsAAGgZXFYX8F3jxo3TuHHjdOzYMb366qvaunWrHn/8cY0cOVITJ07U4MGDm7VOdXW1nn32WfXr189n/OjRo0pLS9O8efM0ZswY7d69W3fccYcuvfRS9e3bV9u3b9fKlSv19NNPq3fv3nr%2B%2BeeVmpqq119/XaGhoWZsGQAAOIzfnWCd1r59e/3mN7/R%2BvXrlZmZqbfeektTpkzR6NGj9frrr3/v13q9Xp08eVLh4eFN5rZs2aLu3btrwoQJatWqlQYPHqyRI0cqJydHkpSdna3x48crPj5eISEhmjp1qgIDA5Wfn2/GNgEAgAP53QnWaceOHdPLL7%2Bs//qv/9Jnn32mX/ziF0pOTlZZWZkefPBBlZaW6ne/%2B90Zv7a6uloNDQ1avny5du/erYaGBo0YMUL33nuviouLFRsb63N9TEyM8vLyJEnFxcUaPXp041xAQICio6NVWFiopKSkZtVeVlam8vJynzGXq40iIyPPpwXnFBTkt/n4jFwu%2B9Rrt95K9unv6d7ascd2QH/NQ2/N48Te%2Bl3AevPNN5Wdna0dO3YoIiJCN910kyZOnKiuXbs2XtOnTx%2BlpaWdNWCdOnVKffr0Ub9%2B/ZSZmanS0lLNnDlTCxYskMfjUVRUlM/1ERERqqyslCR5PJ4mJ1/h4eGN882xceNGrVixwmcsLS1N6enpzV7DidxubrGayW79DQtrbXUJjkZ/zUNvzeOk3vpdwPr973%2BvgQMHasmSJfrlL38pl6tpiX379lW7du3OukZUVJRefvnlxr/37NlTc%2BbMUWpqqvr379/k%2BoaGBgUEBJx1vXPNf1dycrJGjBjhM%2BZytVFl5clmr9Ecdkv6Ru/fTHbrrWSf/gYFBSosrLWqq2vk9dZbXY7j0F/z0FvzmNlbq958%2Bl3A2rZtmy6%2B%2BGKdOnWqMVydOHFCbdu29bnu1VdfPa91u3XrJq/Xq8DAQHk8Hp85j8cjt9stSXK73U1Oq6qqqtSrV69mv1ZkZGST24Hl5cdVV9eyvyFb%2Bv7NZrf%2Ber31tqvZTuiveeiteZzUW797mx4YGKjRo0drx44djWMvvfSSRo8erc8//7xZaxw4cECLFy/2GTt48KCCg4OVkJCgoqIin7mioiLFx8dLkuLi4lRcXNw45/V6tW/fvsZ5AACAc/G7gPXwww%2Brd%2B/ePrfybrjhBvXt21eZmZnNWsPtduvFF1/U008/rVOnTunTTz/V8uXLNWnSJI0dO1alpaXKzs5WbW2tCgoKVFBQoIkTJ0qSUlJSlJubqz179qimpkarVq1ScHCwhg8fbsZ2AQCAA/ndLcL3339f%2Bfn5at36/x5069ixox588EFdc801zVojKipKa9as0eLFi7Vy5Uq53W5de%2B21mjFjhoKDg5WVlaVFixYpMzNT3bp10%2BLFixUdHS1JGjZsmGbNmqW5c%2BeqvLxcffr00Zo1axQSEmLKfgEAgPP4XcBqaGjQqVOnfAKW9O1zWF6vt9nrDBgwQC%2B99NJZ57Kzs8/6tZMnT9bkyZOb/VoAAAD/ye9uEV599dW67777dODAAZ04cULV1dXavXu3Zs%2BezW06AABgC353gvXAAw8oLS1N48aN8/lohKuuukoZGRkWVgYAANA8fhewOnTooA0bNujAgQM6fPiwgoKCdMkll6hnz55WlwYAANAsfhewTouOjm588BwAAMBO/C5gFRYW6qGHHtL//u//6uuvv24yv3//fguqAgAAaD6/C1jz589XmzZtNH36dLVp08bqcgAAAM6b3wWsQ4cO6a233mryq3EAAADswu8%2BpqFLly5WlwAAAPCj%2BF3Amjlzph555BGdOHHC6lIAAAB%2BEL%2B7Rbhq1SqVlJQoNzdXERERCgz0zYBvvfWWRZUBAAA0j98FrBEjRlhdAgAAwI/idwHrrrvusroEAACAH8XvnsGSpN27d%2Bu%2B%2B%2B7Tb3/7W0lSfX29Xn31VYurAgAAaB6/C1hbt27Vb3/7W1VVVWnPnj2SpCNHjigjI0M5OTkWVwcAAHBufhewsrKytGTJEq1evbrxlz136dJFy5Yt0zPPPGNxdQAAAOfmdwHrs88%2B06hRoySpMWBJ0sCBA1VSUmJVWQAAAM3mdwHL7Xbr2LFjTcY//fRThYSEWFARAADA%2BfG7gDVo0CD98Y9/1MGDByVJHo9Hb731lmbMmKHhw4dbWxwAAEAz%2BF3Auu%2B%2B%2B1RTU6OkpCTV1tZq8ODBuv3229W1a1fNnTvX6vIAAADOye8%2BBysiIkLPPfecDhw4oE8%2B%2BUQhISHq3r27unfvbnVpAAAAzeJ3Aeu06OhoRUdHW10GAADAefO7gBUdHe3z04PftX///p%2BwGgAAgPPndwErIyPDJ2B5vV59%2BumneuONN5SammphZQAAAM3jdwErJSXljOPvvPOONm7cqBtvvPEnrggAAOD8%2BN1PEZ7NgAEDVFBQYHUZAAAA52SbgLVjxw65XH534AYAANCE3yWWoUOHNhmrra3ViRMnznr78FweeeQRPfPMM/rwww8lSTt37tTjjz%2BuTz75RBdeeKGmTZumcePGNV6/bt06rV%2B/XhUVFbrssst0//33q2/fvj9sQwAAoMXxu4CVnJzc5KcIW7VqpR49emjEiBHnvd7%2B/fuVm5vb%2BPejR48qLS1N8%2BbN05gxY7R7927dcccduvTSS9W3b19t375dK1eu1NNPP63evXvr%2BeefV2pqql5//XWFhob%2B6P0BAADn87uANX36dMPWqq%2BvV0ZGhm699VYtW7ZMkrRlyxZ1795dEyZMkCQNHjxYI0eOVE5Ojvr27avs7GyNHz9e8fHxkqSpU6fqmWeeUX5%2BvpKSkgyrDQAAOJffBawVK1Y067qAgAClpaV97zUbNmxQcHCwxo4d2xiwiouLFRsb63NdTEyM8vLyGudHjx7t8zrR0dEqLCwkYAEAgGbxu4D13//936qoqFBtba1at24tl8ul48ePKyQkRG3btvW59vsCVkVFhZYvX65nn33WZ9zj8SgqKspnLCIiQpWVlY3z4eHhPvPh4eGN881RVlam8vJynzGXq40iIyObvUZzBAXZ5mcUJEkul33qtVtvJfv093Rv7dhjO6C/5qG35nFib/0uYM2ePVt///vfdc8996hz586SpM8//1yLFy/Wddddp%2Buuu65Z62RmZuqmm25Sr169VFJS8r3XNjQ0fO%2Bnx59r/rs2btzY5CQuLS1N6enpzV7DidxunmEzk936GxbW2uoSHI3%2BmofemsdJvfW7gPXkk0/qpZde8jlFuuiii7RgwQIlJyc3K2Dt2rVL77//vh566KEmc263Wx6Px2fM4/HI7XY3zn/3tKqqqkq9evVq9h6Sk5ObPJDvcrVRZeXJZq/RHHZL%2Bkbv30x2661kn/4GBQUqLKy1qqtr5PXWW12O49Bf89Bb85jZW6vefPpdwPryyy8VFBTUZPyCCy5QRUVFs9bYvHmzvvrqKw0fPlzStydQkjRw4EBNmTJFW7Zs8bm%2BqKio8aH2uLg4FRcXN35ivNfr1b59%2Bxofim%2BOyMjIJrcDy8uPq66uZX9DtvT9m81u/fV6621Xs53QX/PQW/M4qbd%2B9za9V69euu%2B%2B%2B1RcXKzq6mqdOHFCBw4c0AMPPKDevXs3a425c%2Bfqtdde06ZNm7Rp0yatWbNGkrRp0yaNGTNGpaWlys7OVm1trQoKClRQUKCJEydK%2BvZX9eTm5mrPnj2qqanRqlWrFBwc3BjWAAAAzsXvTrAWLlyo2bNn66abbmp87qmhoUFdunTRX/7yl2atER4e7nOLsa6uTpIan%2BnKysrSokWLlJmZqW7dumnx4sWKjo6WJA0bNkyzZs3S3LlzVV5erj59%2BmjNmjUKCQkxcpsAAMDB/C5gxcbGKi8vT0VFRfryyy/V0NCgzp07Ky4uToGBP%2BzArVu3bo2f4i59%2B3sNs7Ozz3r95MmTNXny5B/0WgAAAH4XsE4LDw/X8ePHNXjwYKtLAQAAOC9%2B9wzWsWPHNHXqVP3qV7/StGnTJEnl5eW6/vrrdeTIEYurAwAAODe/C1iPPvqo6uvrlZ2d3XhLsF27doqNjdWjjz5qcXUAAADn5ne3CN944w1t2rRJUVFRjQ%2B5h4SE6P7779eYMWMsrg4AAODc/O4E65tvvjnjr5QJCQnRiRMnLKgIAADg/PhdwOrRo4def/31JuMbN25U9%2B7dLagIAADg/PjdLcIpU6bonnvuUV5enrxerxYuXKji4mLt3btXTzzxhNXlAQAAnJPfnWBde%2B21ysrKUl1dnX72s5/p/fffV9euXbVhwwaNGjXK6vIAAADOye9OsAoLCzV48GA%2B/woAANiW351g3XLLLfJ6vVaXAQAA8IP5XcBKSkrSunXr1NDQYHUpAAAAP4jf3SKsqKjQjh079NRTT6lLly4KDg72md%2BwYYNFlQEAADSP3wUst9uthIQEq8sAAAD4wfwmYKWnp2vZsmXKzMxsHFu2bJnS09MtrAoAAOD8%2Bc0zWAUFBU3G/vrXv1pQCQAAwI/jNwHrTHjQHQAA2JFfB6zTv%2BwZAADATvw6YAEAANgRAQsAAMBgfvNThN98841mz559zrGlS5f%2BlGUBAACcN78JWP3791dZWdk5xwAAAPyd3wSs5557zuoSAAAADMEzWAAAAAYjYAEAABiMgAUAAGAwAhYAAIDBCFgAAAAGc2zAOnDggG699Vb1799fQ4YM0YwZM1ReXi5J2rlzpyZMmKB%2B/fopKSlJubm5Pl%2B7bt06JSYmqn///kpJSdHevXut2AIAALApRwasU6dOacqUKfr5z3%2BuXbt2afPmzSovL9eCBQt09OhRpaWladKkSdq1a5fmzZunjIyMxhC1fft2rVy5UosWLdLOnTs1cuRIpaam6uTJkxbvCgAA2IUjA1ZNTY1mzpypP/zhDwoODlbHjh2VmJiojz76SFu2bFH37t01YcIEtWrVSoMHD9bIkSOVk5MjScrOztb48eMVHx%2BvkJAQTZ06VYGBgcrPz7d2UwAAwDb85oNGjRQeHq6bb7658e%2BHDx9Wbm6uRo8ereLiYsXGxvpcHxMTo7y8PElScXGxRo8e3TgXEBCg6OhoFRYWKikpqVmvX1ZW1ng78jSXq40iIyN/6JbOKCjIXvnY5bJPvXbrrWSf/p7urR17bAf01zz01jxO7K0jA9ZppaWlSkxMVF1dnSZNmqT09HTdfvvtioqK8rkuIiJClZWVkiSPx6Pw8HCf%2BfDw8Mb55ti4caNWrFjhM5aWlqb09PQfuBNncLtDrS7B0ezW37Cw1laX4Gj01zz01jxO6q2jA1bXrl1VWFiow4cP68EHH9Q999xzxusaGhoUEBBw1nXONf9dycnJGjFihM%2BYy9VGlZXGPsdlt6Rv9P7NZLfeSvbpb1BQoMLCWqu6ukZeb73V5TgO/TUPvTWPmb216s2nowOW9O0tvksuuUQzZ87UpEmTlJCQII/H43ONx%2BOR2%2B2WJLnd7ianVVVVVerVq1ezXzMyMrLJ7cDy8uOqq2vZ35Atff9ms1t/vd5629VsJ/TXPPTWPE7qrf3epjfDzp07lZiYqPr6//sfKTDw260OGTJERUVFPtcXFRUpPj5ekhQXF6fi4uLGOa/Xq3379jXOAwAAnIsjA1ZcXJyqq6u1ZMkS1dTU6NixY1r2Da/DAAARNklEQVS%2BfLmuuuoqjRkzRqWlpcrOzlZtba0KCgpUUFCgiRMnSpJSUlKUm5urPXv2qKamRqtWrVJwcLCGDx9u7aYAAIBtODJghYeHa%2B3atSosLNSgQYOUlJSkdu3a6bHHHlOHDh2UlZWll156SYMHD9bSpUu1ePFiRUdHS5KGDRumWbNmae7cuRo6dKjeeecdrVmzRiEhIRbvCgAA2IVjn8GKjo7Wc889d8a5AQMGKDs7%2B6xfO3nyZE2ePNms0gAAgMM58gQLAADASgQsAAAAgxGwAAAADEbAAgAAMBgBCwAAwGAELAAAAIMRsAAAAAxGwAIAADAYAQsAAMBgBCwAAACDEbAAAAAMRsACAAAwGAELAADAYAQsAAAAgxGwAAAADEbAAgAAMBgBCwAAwGAELAAAAIMRsAAAAAxGwAIAADAYAQsAAMBgBCwAAACDEbAAAAAMRsACAAAwmMvqAgC0PFf9cZvVJZyXvBm/sLoEADbDCRYAAIDBWmTAKi0tVVpamgYOHKhBgwbp3nvvVXV1tSSpuLhYv/nNb9S/f3%2BNGjVKTz/9tM/XbtmyRWPGjNGVV16p8ePH64033rBiCwAAwI%2B1yIB15513KiwsTDt27NArr7yiTz75RH/%2B85/19ddf64477tCgQYP05ptv6oknntDTTz%2Btbdu%2BvZ2xb98%2B3X///ZozZ47%2B%2Bc9/asqUKZo%2Bfbq%2B/PJLi3cEAAD8SYsLWNXV1YqNjdXs2bMVGhqqTp06ady4cXrvvfeUn5%2Bvuro6paamqk2bNoqNjdXNN9%2Bs7OxsSVJOTo4SEhKUkJCgVq1a6frrr1d0dLReeeUVi3cFAAD8SYsLWGFhYcrMzFTHjh0bx7744gtFRkaquLhYvXv3VlBQUONcTEyMioqKJH17%2BzA2NtZnvZiYGBUWFv40xQMAAFto8T9FWFhYqBdeeEGrVq1SXl6ewsLCfOYjIiLk8XhUX18vj8ej8PBwn/nw8HB9/PHHPmNlZWUqLy/3GXO52igyMtLQ2oOC7JWPXS771Gu33kr26S%2B9Ndfp/tqxz/6O3prHib1t0QHrX//6l1JTUzV79mwNGTJEeXl5Ta5paGhQQEDA967z3fmNGzdqxYoVPmNpaWlKT0//8UXbmNsdanUJjkZ/zWPH3oaFtba6BMeit%2BZxUm9bbMD6xz/%2BoTlz5mj%2B/PkaN26cJKl9%2B/Y6dOiQz3VVVVWKiIhQYGCg3G63KisrfeY9Ho/cbrfPWHJyskaMGOEz5nK1UWXlSUP3YLekb/T%2BzWS33kr26S%2B9NVdQUKDCwlqrurpGXm%2B91eU4Cr01j5m9teoNUosMWLt379a9996rJ598UkOHDm0cj4uL0/r161VXVyeX69vWFBYWKj4%2BvnH%2B9PNYpxUWFiopKclnLDIyssntwPLy46qra9nfkC19/2ajv%2BaxY2%2B93npb1m0H9NY8Tuqt/d5K/kh1dXWaN2%2Be5syZ4xOuJCkhIUFt27bVqlWrVFNTow8%2B%2BEA5OTlKSUmRJE2cOFFvv/228vPzVVtbq5ycHB06dEg33HCDFVsBAAB%2BqsWdYO3Zs0cHDx7UQw89pIceeshnbtu2bVq9erUWLlyodevWqVOnTpo5c6aGDx8uSbrsssu0ZMkSPfbYYyopKVHPnj2VlZWlTp06WbATAADgr1pcwLrqqqv04Ycffu81zz333FnnRo0apVGjRhldFgAAcJAWd4sQAADAbAQsAAAAgxGwAAAADEbAAgAAMBgBCwAAwGAELAAAAIMRsAAAAAxGwAIAADAYAQsAAMBgBCwAAACDEbAAAAAMRsACAAAwGAELAADAYAQsAAAAgxGwAAAADEbAAgAAMBgBCwAAwGAELAAAAIMRsAAAAAxGwAIAADAYAQsAAMBgBCwAAACDEbAAAAAMRsACAAAwGAELAADAYAQsAAAAgxGwAAAADObYgPXmm29qyJAhmjlzZpO5LVu2aMyYMbryyis1fvx4vfHGG41z9fX1Wrp0qUaOHKkBAwZo6tSpOnz48E9ZOgAAsDlHBqynnnpKDz30kC6%2B%2BOImc/v27dP999%2BvOXPm6J///KemTJmi6dOn68svv5QkPffcc9q6davWrFmj/Px8XXrppbrrrrvU0NDwU28DAADYlCMDVqtWrZSTk3PGgJWTk6OEhAQlJCSoVatWuv766xUdHa1XXnlFkpSdna3bbrtNPXr0UGhoqGbMmKFPP/1UH3zwwU%2B9DQAAYFMuqwswwy233HLWueLiYiUkJPiMxcTEqLCwUF9//bU%2B/vhjxcbGNs6FhobqZz/7mQoLC3XFFVc06/XLyspUXl7uM%2BZytVFkZOR57OLcgoLslY9dLvvUa7feSvbpL7011%2Bn%2B2rHP/o7emseJvXVkwPo%2BHo9H4eHhPmPh4eH6%2BOOPVVVVpYaGhjPOV1ZWNvs1Nm7cqBUrVviMpaWlKT09/YcX7gBud6jVJTga/TWPHXsbFtba6hIci96ax0m9bXEB62wCAgLOOtfQ0PC989%2BVnJysESNG%2BIy5XG1UWXnyB9d3JnZL%2Bkbv30x2661kn/7SW3MFBQUqLKy1qqtr5PXWW12Oo9Bb85jZW6veILW4gOV2u5ucRnk8HrndbkVERCgwMLDJfFVVldq3b9/s14iMjGxyO7C8/Ljq6lr2N2RL37/Z6K957Nhbr7felnXbAb01j5N6a7%2B3kj9SXFycioqKfMYKCwsVHx%2BvVq1aqVevXiouLm6cq66u1meffaa%2Bffv%2B1KUCAACbanEBa%2BLEiXr77beVn5%2Bv2tpa5eTk6NChQ7rhhhskSSkpKXr22Wd18OBBnThxQkuWLFFMTIwuv/xyiysHAAB24chbhKfDUF1dnSRp%2B/btkr49qbrsssu0ZMkSPfbYYyopKVHPnj2VlZWlTp06SZImTZqkiooKTZs2TSdPntSVV17Z5IF1AACA7%2BPIgFVYWPi986NGjdKoUaPOOBcQEKDp06dr%2BvTpZpQGAABagBZ3ixAAAMBsBCwAAACDEbAAAAAMRsACAAAwGAELAADAYAQsAAAAgxGwAAAADEbAAgAAMBgBCwAAwGAELAAAAIMRsAAAAAxGwAIAADAYAQsAAMBgBCwAAACDEbAAAAAMRsACAAAwGAELAADAYAQsAAAAgxGwAAAADEbAAgAAMBgBCwAAwGAuqwsAABjrqj9us7qEZsub8QurSwBMwQkWAACAwQhYAAAABiNgAQAAGIyABQAAYDACFgAAgMEIWGfw%2Beefa9q0aRo4cKCuueYa/fnPf5bX67W6LAAAYBMErDNIT09X586dtX37dq1bt047duzQunXrrC4LAADYBAHrOwoLC/Xhhx9qzpw5ateunS6%2B%2BGL97ne/U3Z2ttWlAQAAm%2BCDRr%2BjuLhYXbt2VXh4eONYbGysPv30U504cUJt27Y95xplZWUqLy/3GXO52igyMtLQWoOC7JWPXS771Gu33kr26S%2B9NZfd%2Bmu33trpQ1wl6X/mXG11Cc1y%2Bt%2Bt3f79fh8C1nd4PB6FhYX5jJ0OW5WVlc0KWBs3btSKFSt8xu666y5Nnz7duEL1bZC7tfNHSk5ONjy8tXT01jz01lz01zz01jxlZWV65pmnHdVb50RFEzU0NEiSAgICmnV9cnKyXn75ZZ8/ycnJhtdVXl6uFStWNDktw49Hb81Db81Ff81Db83jxN5ygvUd7du3V2Vlpc9YVVWVAgIC5Ha7m7VGZGSkYxI4AAA4f5xgfUdcXJy%2B%2BOILHTt2rHGssLBQPXv2VGhoqIWVAQAAuyBgfUdsbKz69u2rpUuX6sSJEzp48KDWrl2rlJQUq0sDAAA2EbRgwYIFVhfhb66%2B%2Bmrl5eXp0Ucf1euvv65x48Zp6tSpzX4G66cUGhqqn//855yumYDemofemov%2BmofemsdpvQ1oOP0ENwAAAAzBLUIAAACDEbAAAAAMRsACAAAwGAELAADAYAQsAAAAgxGwAAAADEbAAgAAMBgBCwAAwGAELAAAAIMRsGyqtLRUaWlpGjhwoAYNGqR7771X1dXVVpflCAcOHNCtt96q/v37a8iQIZoxY4bKy8utLstxHnnkEfXu3dvqMhzjmmuuUVxcnC6//PLGPwsXLrS6LEdZtWqVhg4dqiuuuEK33XabPv/8c6tLsr13333X59/s6T%2B9e/dWaWmp1eX9KPyqHJsaO3asYmNjNW/ePP373/9WamqqevfurYcfftjq0mzt1KlTGj58uH79619r2rRpqq6u1t13362IiAitXLnS6vIcY//%2B/br11ltVVVWlDz/80OpyHKF///566qmn1K9fP6tLcaQXXnhBzz77rP7yl78oMjJSTzzxhCRp/vz5FlfmPOvXr9fmzZv14osv%2BuXvAG4uTrBsqLq6WrGxsZo9e7ZCQ0PVqVMnjRs3Tu%2B9957VpdleTU2NZs6cqT/84Q8KDg5Wx44dlZiYqI8%2B%2Bsjq0hyjvr5eGRkZuvXWW60uxTG8Xq9Onjyp8PBwq0txrL/97W%2BaOXOmevTooXbt2mn%2B/PmEKxNUVFToySefVEZGhq3DlUTAsqWwsDBlZmaqY8eOjWNffPGFIiMjLazKGcLDw3XzzTfL5XJJkg4fPqzc3FyNHj3a4sqcY8OGDQoODtbYsWOtLsUxqqur1dDQoOXLl2vYsGG6%2BuqrlZGRoZMnT1pdmiMcPXpUJSUlOnHihEaPHq2BAwcqPT1dx44ds7o0x1m2bJlGjRql6Ohoq0v50QhYDlBYWKgXXnhBqampVpfiGKWlpYqLi1NiYqL69u2r9PR0q0tyhIqKCi1fvlwZGRlWl%2BIop06dUp8%2BfdSvXz%2B99tprWrt2rXbv3q0FCxZYXZojHDlyRJKUl5entWvXatOmTSorK9ODDz5ocWXOcuTIEW3evFnTpk2zuhRDELBs7l//%2BpemTp2q2bNna8iQIVaX4xhdu3ZVYWGhtm3bpk8%2B%2BUT33HOP1SU5QmZmpm666Sb16tXL6lIcJSoqSi%2B//LJuueUWtW7dWj179tScOXO0detWnTp1yurybO/0o8q33367oqKi1LlzZ9111136%2B9//rtraWourc47nn39ew4YN00UXXWR1KYYgYNnYP/7xD/3%2B97/XAw88oFtuucXqchwnICBAl1xyiWbOnKktW7ZwO%2BBH2rVrl95//32lpaVZXUqL0K1bN3m9Xn311VdWl2J7px/HCAsLaxzr0qWL6uvr6a%2BB8vLy9Mtf/tLqMgxDwLKp3bt3695779WTTz6pcePGWV2OY%2BzcuVOJiYmqr69vHAsM/Pbb5PRzWfhhNm/erK%2B%2B%2BkrDhw/XwIEDNX78eEnSwIEDtXXrVours7cDBw5o8eLFPmMHDx5UcHAwz2YaoHPnzmrfvr3279/fOFZaWqoLLriA/hrkwIEDKikp0bBhw6wuxTD8P4YN1dXVad68eZozZ46GDh1qdTmOEhcXp%2Brqai1ZskTTp09XTU2Nli9frquuusrn3SvO39y5c3X33Xc3/v3IkSNKTk7Wpk2b%2BOm3H8ntduvFF1%2BU2%2B3WLbfcotLSUi1fvlyTJk1SUFCQ1eXZnsvlUnJyslavXq0BAwaobdu2WrlypcaMGcMbL4MUFxcrLCxMERERVpdiGD4Hy4bee%2B89/frXv1ZwcHCTuW3btqlr164WVOUcBw4c0MMPP6y9e/eqTZs2GjRokObOnauoqCirS3OUkpISjRw5ks/BMsi7776rxYsX66OPPpLb7da1116rGTNmnPG/Ezh/p06dUmZmprZu3apvvvlGiYmJmj9/vkJDQ60uzRGysrK0efNmR51mE7AAAAAMxjNYAAAABiNgAQAAGIyABQAAYDACFgAAgMEIWAAAAAYjYAEAABiMgAUAAGAwAhYAAIDBCFgAAAAGI2ABAAAYjIAFAABgMAIWAACAwQhYAAAABvt/fYz%2BhP%2BIfxwAAAAASUVORK5CYII%3D\"/>\n",
       "        </div>\n",
       "        <div role=\"tabpanel\" class=\"tab-pane col-md-12\" id=\"common3964617827830345359\">\n",
       "            \n",
       "<table class=\"freq table table-hover\">\n",
       "    <thead>\n",
       "    <tr>\n",
       "        <td class=\"fillremaining\">Value</td>\n",
       "        <td class=\"number\">Count</td>\n",
       "        <td class=\"number\">Frequency (%)</td>\n",
       "        <td style=\"min-width:200px\">&nbsp;</td>\n",
       "    </tr>\n",
       "    </thead>\n",
       "    <tr class=\"\">\n",
       "        <td class=\"fillremaining\">2</td>\n",
       "        <td class=\"number\">811</td>\n",
       "        <td class=\"number\">48.4%</td>\n",
       "        <td>\n",
       "            <div class=\"bar\" style=\"width:100%\">&nbsp;</div>\n",
       "        </td>\n",
       "</tr><tr class=\"\">\n",
       "        <td class=\"fillremaining\">3</td>\n",
       "        <td class=\"number\">614</td>\n",
       "        <td class=\"number\">36.7%</td>\n",
       "        <td>\n",
       "            <div class=\"bar\" style=\"width:75%\">&nbsp;</div>\n",
       "        </td>\n",
       "</tr><tr class=\"\">\n",
       "        <td class=\"fillremaining\">4</td>\n",
       "        <td class=\"number\">219</td>\n",
       "        <td class=\"number\">13.1%</td>\n",
       "        <td>\n",
       "            <div class=\"bar\" style=\"width:27%\">&nbsp;</div>\n",
       "        </td>\n",
       "</tr><tr class=\"\">\n",
       "        <td class=\"fillremaining\">5</td>\n",
       "        <td class=\"number\">27</td>\n",
       "        <td class=\"number\">1.6%</td>\n",
       "        <td>\n",
       "            <div class=\"bar\" style=\"width:4%\">&nbsp;</div>\n",
       "        </td>\n",
       "</tr><tr class=\"\">\n",
       "        <td class=\"fillremaining\">6</td>\n",
       "        <td class=\"number\">2</td>\n",
       "        <td class=\"number\">0.1%</td>\n",
       "        <td>\n",
       "            <div class=\"bar\" style=\"width:1%\">&nbsp;</div>\n",
       "        </td>\n",
       "</tr><tr class=\"\">\n",
       "        <td class=\"fillremaining\">7</td>\n",
       "        <td class=\"number\">1</td>\n",
       "        <td class=\"number\">0.1%</td>\n",
       "        <td>\n",
       "            <div class=\"bar\" style=\"width:1%\">&nbsp;</div>\n",
       "        </td>\n",
       "</tr>\n",
       "</table>\n",
       "        </div>\n",
       "        <div role=\"tabpanel\" class=\"tab-pane col-md-12\"  id=\"extreme3964617827830345359\">\n",
       "            <p class=\"h4\">Minimum 5 values</p>\n",
       "            \n",
       "<table class=\"freq table table-hover\">\n",
       "    <thead>\n",
       "    <tr>\n",
       "        <td class=\"fillremaining\">Value</td>\n",
       "        <td class=\"number\">Count</td>\n",
       "        <td class=\"number\">Frequency (%)</td>\n",
       "        <td style=\"min-width:200px\">&nbsp;</td>\n",
       "    </tr>\n",
       "    </thead>\n",
       "    <tr class=\"\">\n",
       "        <td class=\"fillremaining\">2</td>\n",
       "        <td class=\"number\">811</td>\n",
       "        <td class=\"number\">48.4%</td>\n",
       "        <td>\n",
       "            <div class=\"bar\" style=\"width:100%\">&nbsp;</div>\n",
       "        </td>\n",
       "</tr><tr class=\"\">\n",
       "        <td class=\"fillremaining\">3</td>\n",
       "        <td class=\"number\">614</td>\n",
       "        <td class=\"number\">36.7%</td>\n",
       "        <td>\n",
       "            <div class=\"bar\" style=\"width:75%\">&nbsp;</div>\n",
       "        </td>\n",
       "</tr><tr class=\"\">\n",
       "        <td class=\"fillremaining\">4</td>\n",
       "        <td class=\"number\">219</td>\n",
       "        <td class=\"number\">13.1%</td>\n",
       "        <td>\n",
       "            <div class=\"bar\" style=\"width:27%\">&nbsp;</div>\n",
       "        </td>\n",
       "</tr><tr class=\"\">\n",
       "        <td class=\"fillremaining\">5</td>\n",
       "        <td class=\"number\">27</td>\n",
       "        <td class=\"number\">1.6%</td>\n",
       "        <td>\n",
       "            <div class=\"bar\" style=\"width:4%\">&nbsp;</div>\n",
       "        </td>\n",
       "</tr><tr class=\"\">\n",
       "        <td class=\"fillremaining\">6</td>\n",
       "        <td class=\"number\">2</td>\n",
       "        <td class=\"number\">0.1%</td>\n",
       "        <td>\n",
       "            <div class=\"bar\" style=\"width:1%\">&nbsp;</div>\n",
       "        </td>\n",
       "</tr>\n",
       "</table>\n",
       "            <p class=\"h4\">Maximum 5 values</p>\n",
       "            \n",
       "<table class=\"freq table table-hover\">\n",
       "    <thead>\n",
       "    <tr>\n",
       "        <td class=\"fillremaining\">Value</td>\n",
       "        <td class=\"number\">Count</td>\n",
       "        <td class=\"number\">Frequency (%)</td>\n",
       "        <td style=\"min-width:200px\">&nbsp;</td>\n",
       "    </tr>\n",
       "    </thead>\n",
       "    <tr class=\"\">\n",
       "        <td class=\"fillremaining\">3</td>\n",
       "        <td class=\"number\">614</td>\n",
       "        <td class=\"number\">36.7%</td>\n",
       "        <td>\n",
       "            <div class=\"bar\" style=\"width:100%\">&nbsp;</div>\n",
       "        </td>\n",
       "</tr><tr class=\"\">\n",
       "        <td class=\"fillremaining\">4</td>\n",
       "        <td class=\"number\">219</td>\n",
       "        <td class=\"number\">13.1%</td>\n",
       "        <td>\n",
       "            <div class=\"bar\" style=\"width:36%\">&nbsp;</div>\n",
       "        </td>\n",
       "</tr><tr class=\"\">\n",
       "        <td class=\"fillremaining\">5</td>\n",
       "        <td class=\"number\">27</td>\n",
       "        <td class=\"number\">1.6%</td>\n",
       "        <td>\n",
       "            <div class=\"bar\" style=\"width:5%\">&nbsp;</div>\n",
       "        </td>\n",
       "</tr><tr class=\"\">\n",
       "        <td class=\"fillremaining\">6</td>\n",
       "        <td class=\"number\">2</td>\n",
       "        <td class=\"number\">0.1%</td>\n",
       "        <td>\n",
       "            <div class=\"bar\" style=\"width:1%\">&nbsp;</div>\n",
       "        </td>\n",
       "</tr><tr class=\"\">\n",
       "        <td class=\"fillremaining\">7</td>\n",
       "        <td class=\"number\">1</td>\n",
       "        <td class=\"number\">0.1%</td>\n",
       "        <td>\n",
       "            <div class=\"bar\" style=\"width:1%\">&nbsp;</div>\n",
       "        </td>\n",
       "</tr>\n",
       "</table>\n",
       "        </div>\n",
       "    </div>\n",
       "</div>\n",
       "</div><div class=\"row variablerow\">\n",
       "    <div class=\"col-md-3 namecol\">\n",
       "        <p class=\"h4 pp-anchor\" id=\"pp_var_sqrMeters\">sqrMeters<br/>\n",
       "            <small>Numeric</small>\n",
       "        </p>\n",
       "    </div><div class=\"col-md-6\">\n",
       "    <div class=\"row\">\n",
       "        <div class=\"col-sm-6\">\n",
       "            <table class=\"stats \">\n",
       "                <tr>\n",
       "                    <th>Distinct count</th>\n",
       "                    <td>115</td>\n",
       "                </tr>\n",
       "                <tr>\n",
       "                    <th>Unique (%)</th>\n",
       "                    <td>6.9%</td>\n",
       "                </tr>\n",
       "                <tr class=\"ignore\">\n",
       "                    <th>Missing (%)</th>\n",
       "                    <td>0.0%</td>\n",
       "                </tr>\n",
       "                <tr class=\"ignore\">\n",
       "                    <th>Missing (n)</th>\n",
       "                    <td>0</td>\n",
       "                </tr>\n",
       "                <tr class=\"ignore\">\n",
       "                    <th>Infinite (%)</th>\n",
       "                    <td>0.0%</td>\n",
       "                </tr>\n",
       "                <tr class=\"ignore\">\n",
       "                    <th>Infinite (n)</th>\n",
       "                    <td>0</td>\n",
       "                </tr>\n",
       "            </table>\n",
       "\n",
       "        </div>\n",
       "        <div class=\"col-sm-6\">\n",
       "            <table class=\"stats \">\n",
       "\n",
       "                <tr>\n",
       "                    <th>Mean</th>\n",
       "                    <td>57.878</td>\n",
       "                </tr>\n",
       "                <tr>\n",
       "                    <th>Minimum</th>\n",
       "                    <td>12</td>\n",
       "                </tr>\n",
       "                <tr>\n",
       "                    <th>Maximum</th>\n",
       "                    <td>196</td>\n",
       "                </tr>\n",
       "                <tr class=\"ignore\">\n",
       "                    <th>Zeros (%)</th>\n",
       "                    <td>0.0%</td>\n",
       "                </tr>\n",
       "            </table>\n",
       "        </div>\n",
       "    </div>\n",
       "</div>\n",
       "<div class=\"col-md-3 collapse in\" id=\"minihistogram-7711335640599560345\">\n",
       "    <img src=\"data:image/png;base64,iVBORw0KGgoAAAANSUhEUgAAAMgAAABLCAYAAAA1fMjoAAAABHNCSVQICAgIfAhkiAAAAAlwSFlzAAAPYQAAD2EBqD%2BnaQAAADl0RVh0U29mdHdhcmUAbWF0cGxvdGxpYiB2ZXJzaW9uIDMuMC4zLCBodHRwOi8vbWF0cGxvdGxpYi5vcmcvnQurowAAASdJREFUeJzt3dEJwjAUQFErjuQQ7uS3OzmEO8UF5KKCNi3n/Bfyc3k0JO0yxhgH4KXj2guAmZ3WXsBaztf7x888bpcfrISZmSAQBAJBIBAEAkEgEAQCQSAQBAJBIBAEAkEgEAQCQSAQBAJBIBAEAkEgEHZxo/Cb24HwDhMEgkAgCASCQCAIBIJAIOxim/dfPt1O9qG57TNBIAgEgkAgCASCQCAIBMJ027xO5jITEwTCdBNkT/zFavtMEAgCgSAQCAKBIBAIAoEgEAgCgSAQCAKB4KjJZBxPmYtAdsDHJH5nGWOMtRcBs/IOAkEgEAQCQSAQBAJBIBAEAkEgEAQCQSAQBAJBIBAEAkEgEAQCQSAQBAJBIBAEAkEgEAQCQSAQBAJBIBAEAuEJLwQaaaUvZHIAAAAASUVORK5CYII%3D\">\n",
       "\n",
       "</div>\n",
       "<div class=\"col-md-12 text-right\">\n",
       "    <a role=\"button\" data-toggle=\"collapse\" data-target=\"#descriptives-7711335640599560345,#minihistogram-7711335640599560345\"\n",
       "       aria-expanded=\"false\" aria-controls=\"collapseExample\">\n",
       "        Toggle details\n",
       "    </a>\n",
       "</div>\n",
       "<div class=\"row collapse col-md-12\" id=\"descriptives-7711335640599560345\">\n",
       "    <ul class=\"nav nav-tabs\" role=\"tablist\">\n",
       "        <li role=\"presentation\" class=\"active\"><a href=\"#quantiles-7711335640599560345\"\n",
       "                                                  aria-controls=\"quantiles-7711335640599560345\" role=\"tab\"\n",
       "                                                  data-toggle=\"tab\">Statistics</a></li>\n",
       "        <li role=\"presentation\"><a href=\"#histogram-7711335640599560345\" aria-controls=\"histogram-7711335640599560345\"\n",
       "                                   role=\"tab\" data-toggle=\"tab\">Histogram</a></li>\n",
       "        <li role=\"presentation\"><a href=\"#common-7711335640599560345\" aria-controls=\"common-7711335640599560345\"\n",
       "                                   role=\"tab\" data-toggle=\"tab\">Common Values</a></li>\n",
       "        <li role=\"presentation\"><a href=\"#extreme-7711335640599560345\" aria-controls=\"extreme-7711335640599560345\"\n",
       "                                   role=\"tab\" data-toggle=\"tab\">Extreme Values</a></li>\n",
       "\n",
       "    </ul>\n",
       "\n",
       "    <div class=\"tab-content\">\n",
       "        <div role=\"tabpanel\" class=\"tab-pane active row\" id=\"quantiles-7711335640599560345\">\n",
       "            <div class=\"col-md-4 col-md-offset-1\">\n",
       "                <p class=\"h4\">Quantile statistics</p>\n",
       "                <table class=\"stats indent\">\n",
       "                    <tr>\n",
       "                        <th>Minimum</th>\n",
       "                        <td>12</td>\n",
       "                    </tr>\n",
       "                    <tr>\n",
       "                        <th>5-th percentile</th>\n",
       "                        <td>20</td>\n",
       "                    </tr>\n",
       "                    <tr>\n",
       "                        <th>Q1</th>\n",
       "                        <td>44</td>\n",
       "                    </tr>\n",
       "                    <tr>\n",
       "                        <th>Median</th>\n",
       "                        <td>54</td>\n",
       "                    </tr>\n",
       "                    <tr>\n",
       "                        <th>Q3</th>\n",
       "                        <td>71</td>\n",
       "                    </tr>\n",
       "                    <tr>\n",
       "                        <th>95-th percentile</th>\n",
       "                        <td>98</td>\n",
       "                    </tr>\n",
       "                    <tr>\n",
       "                        <th>Maximum</th>\n",
       "                        <td>196</td>\n",
       "                    </tr>\n",
       "                    <tr>\n",
       "                        <th>Range</th>\n",
       "                        <td>184</td>\n",
       "                    </tr>\n",
       "                    <tr>\n",
       "                        <th>Interquartile range</th>\n",
       "                        <td>27</td>\n",
       "                    </tr>\n",
       "                </table>\n",
       "            </div>\n",
       "            <div class=\"col-md-4 col-md-offset-2\">\n",
       "                <p class=\"h4\">Descriptive statistics</p>\n",
       "                <table class=\"stats indent\">\n",
       "                    <tr>\n",
       "                        <th>Standard deviation</th>\n",
       "                        <td>23.091</td>\n",
       "                    </tr>\n",
       "                    <tr>\n",
       "                        <th>Coef of variation</th>\n",
       "                        <td>0.39897</td>\n",
       "                    </tr>\n",
       "                    <tr>\n",
       "                        <th>Kurtosis</th>\n",
       "                        <td>2.0482</td>\n",
       "                    </tr>\n",
       "                    <tr>\n",
       "                        <th>Mean</th>\n",
       "                        <td>57.878</td>\n",
       "                    </tr>\n",
       "                    <tr>\n",
       "                        <th>MAD</th>\n",
       "                        <td>17.733</td>\n",
       "                    </tr>\n",
       "                    <tr class=\"\">\n",
       "                        <th>Skewness</th>\n",
       "                        <td>0.74524</td>\n",
       "                    </tr>\n",
       "                    <tr>\n",
       "                        <th>Sum</th>\n",
       "                        <td>96887</td>\n",
       "                    </tr>\n",
       "                    <tr>\n",
       "                        <th>Variance</th>\n",
       "                        <td>533.21</td>\n",
       "                    </tr>\n",
       "                    <tr>\n",
       "                        <th>Memory size</th>\n",
       "                        <td>13.2 KiB</td>\n",
       "                    </tr>\n",
       "                </table>\n",
       "            </div>\n",
       "        </div>\n",
       "        <div role=\"tabpanel\" class=\"tab-pane col-md-8 col-md-offset-2\" id=\"histogram-7711335640599560345\">\n",
       "            <img src=\"data:image/png;base64,iVBORw0KGgoAAAANSUhEUgAAAlgAAAGQCAYAAAByNR6YAAAABHNCSVQICAgIfAhkiAAAAAlwSFlzAAAPYQAAD2EBqD%2BnaQAAADl0RVh0U29mdHdhcmUAbWF0cGxvdGxpYiB2ZXJzaW9uIDMuMC4zLCBodHRwOi8vbWF0cGxvdGxpYi5vcmcvnQurowAAIABJREFUeJzt3XtcVXW%2B//E3sAcQFNhOoCedGvOGiJKa4yUT00ZLxcxUpIunspoc0tG00sbSGS06alN5GdMs7R5BZWlRjsdBzeqczErYZmcyM7UMTDYIgyiwfn808pstKohfXPvyej4ePnjw/a699ufTd%2B32e6%2B1gCDLsiwBAADAmGC7CwAAAPA3BCwAAADDCFgAAACGEbAAAAAMI2ABAAAYRsACAAAwjIAFAABgGAELAADAMAIWAACAYQQsAAAAwwhYAAAAhhGwAAAADCNgAQAAGEbAAgAAMIyABQAAYBgBCwAAwDACFgAAgGEELAAAAMMIWAAAAIYRsAAAAAwjYAEAABhGwAIAADCMgAUAAGAYAQsAAMAwAhYAAIBhBCwAAADDCFgAAACGEbAAAAAMI2ABAAAYRsACAAAwjIAFAABgGAELAADAMAIWAACAYQQsAAAAwwhYAAAAhhGwAAAADCNgAQAAGEbAAgAAMIyABQAAYJjD7gICRWHhEbtLMCo4OEjNm0fq8OEyVVdbdpfTqOjVfwVSv/TqnwKpV6lh/cbGNmvkqk6NM1hokODgIAUFBSk4OMjuUhodvfqvQOqXXv1TIPUq%2BVa/BCwAAADDCFgAAACGEbAAAAAMI2ABAAAYRsACAAAwjIAFAABgGAELAADAMAIWAACAYQQsAAAAwwhYAAAAhhGwAAAADCNgAQAAGEbAAgAAMMxhdwGAt7rmia12l3BWcqZcbncJAIB/8eszWMuWLVO/fv106aWX6pZbbtG%2BffskSVu3btXo0aPVvXt3DRs2TGvWrPF43OrVqzVkyBD16NFDaWlp2rFjhx3lAwAAH%2BW3Aeull17SmjVr9Nxzz2nLli1q27atVq9erR9//FHp6ekaN26cPvroI82aNUuzZ8%2BuCVEbNmzQ0qVLNX/%2BfG3dulWDBg3SxIkTVVZWZnNHAADAV/htwHr22Wc1depUtW3bVs2aNdODDz6oBx98UOvWrVObNm00evRohYWFqU%2BfPho0aJCys7MlSVlZWRo1apSSkpIUHh6uCRMmKDg4WLm5ufY2BAAAfIZfBqwff/xR%2B/fvV2lpqYYOHapevXpp8uTJOnz4sFwulxISEjy279Spk/Lz8yWp1nxQUJDi4%2BOVl5d3XnsAAAC%2Byy9vcj948KAkKScnR6tWrZJlWZoyZYoeeugh/fOf/1SLFi08to%2BJiVFRUZEkye12Kzo62mM%2BOjq6Zr4%2BCgoKVFhY6DHmcEQoLi6uIe14pZCQYI%2BvsJ/Dce5rEWjrGkj90qt/CqReJd/q1y8DlmVZkqTbb7%2B9JkzdfffduuOOO9SnT59Tbh8UFHTG/Z1p/mSZmZlasmSJx1h6eromT55c7334iqioJnaXgH9xOiON7SvQ1jWQ%2BqVX/xRIvUq%2B0a9fBqwLLrhAkhQVFVUzduGFF6q6ulrHjx%2BX2%2B322N7tdsvpdEqSnE5nrbNVxcXFat%2B%2Bfb2fPzU1VQMHDvQYczgiVFTkPzfKh4QEKyqqiUpKylVVVW13OZCMHF%2BBtq6B1C%2B9%2BqdA6lVqWL8mP3yeDb8MWC1btlTz5s315ZdfqnPnzpKkAwcO6Be/%2BIWSk5P11ltveWyfn5%2BvpKQkSVJiYqJcLpeuu%2B46SVJVVZV27typ0aNH1/v54%2BLial0OLCw8ospK/zv4q6qq/bIvX2RyHQJtXQOpX3r1T4HUq%2BQb/Xr/RcwGcDgcSk1N1VNPPaW9e/fqp59%2B0tKlS5WSkqLrrrtOBw4cUFZWlioqKrRp0yZt2rRJY8eOlSSlpaVpzZo1%2Bvzzz1VeXq5ly5YpNDRUAwYMsLcpAADgM/zyDJYk/f73v1dxcbHGjBmj48ePa8iQIZo1a5YiIyO1fPlyzZ8/XxkZGWrdurUWLFig%2BPh4SVL//v11zz33aMaMGSosLFTnzp21YsUKhYeH29wRAADwFUHWiTvC0agKC4/YXYJRDkewnM5IFRWVef1p2oYKxD%2BVEwjr%2Bu8CqV969U%2BB1KvUsH5jY5s1clWn5peXCAEAAOxEwAIAADCMgAUAAGAYAQsAAMAwAhYAAIBhBCwAAADDCFgAAACGEbAAAAAMI2ABAAAYRsACAAAwjIAFAABgGAELAADAMAIWAACAYQQsAAAAwwhYAAAAhhGwAAAADCNgAQAAGEbAAgAAMIyABQAAYBgBCwAAwDACFgAAgGEELAAAAMMIWAAAAIYRsAAAAAwjYAEAABhGwAIAADCMgAUAAGAYAQsAAMAwAhYAAIBhBCwAAADDCFgAAACGEbAAAAAMI2ABAAAYRsACAAAwjIAFAABgGAELAADAMAIWAACAYQQsAAAAwwhYAAAAhvltwLryyiuVmJioLl261PybO3euJGnr1q0aPXq0unfvrmHDhmnNmjUej129erWGDBmiHj16KC0tTTt27LCjBQAA4KMcdhfQWEpKSvT888%2Bre/fuHuM//vij0tPTNWvWLKWkpGj79u266667dMkll6hr167asGGDli5dqpUrV6pjx4568cUXNXHiRK1fv16RkZE2dQMAAHyJX57BqqqqUllZmaKjo2vNrVu3Tm3atNHo0aMVFhamPn36aNCgQcrOzpYkZWVladSoUUpKSlJ4eLgmTJig4OBg5ebmnucuAACAr/LLgFVSUiLLsrR48WL1799fV1xxhWbPnq2ysjK5XC4lJCR4bN%2BpUyfl5%2BdLUq35oKAgxcfHKy8v77z2AAAAfJdfXiI8duyYOnfurO7duysjI0MHDhzQ1KlTNWfOHLndbrVo0cJj%2B5iYGBUVFUmS3G53rTNf0dHRNfP1UVBQoMLCQo8xhyNCcXFxDezI%2B4SEBHt8hf0cjnNfi0Bb10Dql179UyD1KvlWv34ZsFq0aKE33nij5vt27dpp%2BvTpmjhxonr06FFre8uyFBQUdNr91TV/sszMTC1ZssRjLD09XZMnT673PnxFVFQTu0vAvzid5u4RDLR1DaR%2B6dU/BVKvkm/065cB61Rat26tqqoqBQcHy%2B12e8y53W45nU5JktPprHW2qri4WO3bt6/3c6WmpmrgwIEeYw5HhIqKyhpYvfcJCQlWVFQTlZSUq6qq2u5yIBk5vgJtXQOpX3r1T4HUq9Swfk1%2B%2BDwbfhmwdu3apbVr1%2Bree%2B%2BtGdu9e7dCQ0OVnJysN99802P7/Px8JSUlSZISExPlcrl03XXXSfr5hvmdO3dq9OjR9X7%2BuLi4WpcDCwuPqLLS/w7%2Bqqpqv%2BzLF5lch0Bb10Dql179UyD1KvlGv95/EbMBnE6nXn75Za1cuVLHjh3Tnj17tHjxYo0bN07XXnutDhw4oKysLFVUVGjTpk3atGmTxo4dK0lKS0vTmjVr9Pnnn6u8vFzLli1TaGioBgwYYG9TAADAZ/jlGawWLVpoxYoVWrBggZYuXSqn06mrr75aU6ZMUWhoqJYvX6758%2BcrIyNDrVu31oIFCxQfHy9J6t%2B/v%2B655x7NmDFDhYWF6ty5s1asWKHw8HCbuwIAAL7CLwOWJPXs2VOvvfbaaeeysrJO%2B9gbbrhBN9xwQ2OVBgAA/JxfXiIEAACwEwELAADAMAIWAACAYQQsAAAAwwhYAAAAhhGwAAAADCNgAQAAGEbAAgAAMIyABQAAYBgBCwAAwDACFgAAgGEELAAAAMMIWAAAAIYRsAAAAAwjYAEAABhGwAIAADCMgAUAAGAYAQsAAMAwAhYAAIBhBCwAAADDCFgAAACGEbAAAAAMI2ABAAAYRsACAAAwjIAFAABgGAELAADAMAIWAACAYQQsAAAAwwhYAAAAhhGwAAAADCNgAQAAGEbAAgAAMIyABQAAYBgBCwAAwDACFgAAgGEELAAAAMMIWAAAAIYRsAAAAAwjYAEAABgWEAHrkUceUceOHWu%2B37p1q0aPHq3u3btr2LBhWrNmjcf2q1ev1pAhQ9SjRw%2BlpaVpx44d57tkAADgw/w%2BYH355ZceAerHH39Uenq6xo0bp48%2B%2BkizZs3S7Nmza0LUhg0btHTpUs2fP19bt27VoEGDNHHiRJWVldnVAgAA8DF%2BHbCqq6s1e/Zs/ed//mfN2Lp169SmTRuNHj1aYWFh6tOnjwYNGqTs7GxJUlZWlkaNGqWkpCSFh4drwoQJCg4OVm5urk1dAAAAX%2BOwu4DG9Oqrryo0NFTXXnutFi1aJElyuVxKSEjw2K5Tp07KycmpmR86dGjNXFBQkOLj45WXl6dhw4bV63kLCgpUWFjoMeZwRCguLu5c2vEqISHBHl9hP4fj3Nci0NY1kPqlV/8USL1KvtWv3wasQ4cOafHixXr%2B%2Bec9xt1ut1q0aOExFhMTo6Kiopr56Ohoj/no6Oia%2BfrIzMzUkiVLPMbS09M1efLks2nBJ0RFNbG7BPyL0xlpbF%2BBtq6B1C%2B9%2BqdA6lXyjX79NmBlZGTo%2BuuvV/v27bV///4zbmtZloKCgho8f7LU1FQNHDjQY8zhiFBRkf/cxxUSEqyoqCYqKSlXVVW13eVAMnJ8Bdq6BlK/9OqfAqlXqWH9mvzweTb8MmB99NFH%2BuyzzzRv3rxac06nU26322PM7XbL6XTWzJ98tqq4uFjt27ev9/PHxcXVuhxYWHhElZX%2Bd/BXVVX7ZV%2B%2ByOQ6BNq6BlK/9OqfAqlXyTf69f6LmA3w9ttv66efftKAAQPUq1cvjRo1SpLUq1cvdejQQfn5%2BR7b5%2BfnKykpSZKUmJgol8tVM1dVVaWdO3fWzAMAANTFLwPWjBkz9P777%2Butt97SW2%2B9pRUrVkiS3nrrLaWkpOjAgQPKyspSRUWFNm3apE2bNmns2LGSpLS0NK1Zs0aff/65ysvLtWzZMoWGhmrAgAE2dgQAAHyJX14ijI6O9rhRvbKyUpLUsmVLSdLy5cs1f/58ZWRkqHXr1lqwYIHi4%2BMlSf3799c999yjGTNmqLCwUJ07d9aKFSsUHh5%2B/hsBAAA%2ByesC1pEjR9SsWTOj%2B2zdurW%2B%2Buqrmu979uyprKys025/ww036IYbbjBaAwAACBxed4mwX79%2Buv/%2B%2B7Vt2za7SwEAAGgQrwtYf/rTn/TTTz/plltu0TXXXKNVq1bp8OHDdpcFAABQb14XsEaOHKmVK1dq8%2BbNuvHGG7V%2B/XoNGDBAU6dO1UcffWR3eQAAAHXyuoB1QvPmzXXTTTfplVdeUUZGhj744APddtttGjp0qNavX293eQAAAKfldTe5n3D48GG98cYbev311/Xdd9/p8ssvV2pqqgoKCvTQQw/pwIEDuvXWW%2B0uEwAAoBavC1hbtmxRVlaWNm7cqJiYGF1//fUaO3asWrVqVbNN586dlZ6eTsACAABeyesC1p133qlevXpp4cKFuuqqq%2BRw1C6xa9euxn%2BVAxrfNU9stbsEAADOC68LWO%2B9954uvvhiHTt2rCZclZaWqmnTph7bvfvuu3aUBwAAUCevu8k9ODhYQ4cO1caNG2vGXnvtNQ0dOlT79u2zsTIAAID68bqA9fDDD6tjx47q0aNHzdiIESPUtWtXZWRk2FgZAABA/XjdJcLPPvtMubm5atKkSc3YBRdcoIceekhXXnmljZUBAADUj9edwbIsS8eOHas1XlpaqqqqKhsqAgAAODteF7CuuOIK3X///dq1a5dKS0tVUlKi7du3a9q0aRowYIDd5QEAANTJ6y4RPvDAA0pPT9fIkSMVFBRUM37ZZZdp9uzZNlYGAABQP14XsH75y1/q1Vdf1a5du7R3716FhITo17/%2Btdq1a2d3aQAAAPXidQHrhPj4eMXHx9tdBgAAwFnzuoCVl5enefPm6f/%2B7/909OjRWvNffvmlDVUBAADUn9cFrAcffFARERGaNGmSIiIi7C4HAADgrHldwPr222/1wQcf1PrTOAAAAL7C635Nw4UXXmh3CQAAAOfE6wLW1KlT9cgjj6i0tNTuUgAAABrE6y4RLlu2TPv379eaNWsUExOj4GDPDPjBBx/YVBkAAED9eF3AGjhwoN0lAAAAnBOvC1h333233SUAAACcE6%2B7B0uStm/frvvvv18333yzJKm6ulrvvvuuzVUBAADUj9cFrHfeeUc333yziouL9fnnn0uSDh48qNmzZys7O9vm6gAAAOrmdQFr%2BfLlWrhwoZ566qmaP/Z84YUXatGiRXruuedsrg4AAKBuXhewvvvuOw0ePFiSagKWJPXq1Uv79%2B%2B3qywAAIB687qA5XQ6dfjw4Vrje/bsUXh4uA0VAQAAnB2vC1i9e/fWH//4R%2B3evVuS5Ha79cEHH2jKlCkaMGCAvcUBAADUg9cFrPvvv1/l5eUaNmyYKioq1KdPH91%2B%2B%2B1q1aqVZsyYYXd5AAAAdfK634MVExOjF154Qbt27dI333yj8PBwtWnTRm3atLG7NAAAgHrxuoB1Qnx8vOLj4%2B0uAwAA4Kx5XcCKj4/3%2BOnBk3355ZfnsRoAAICz53UBa/bs2R4Bq6qqSnv27NHmzZs1ceJEGysDAACoH68LWGlpaacc/9///V9lZmbquuuuO88VAQAAnB2v%2BynC0%2BnZs6c2bdpkdxkAAAB18pmAtXHjRjkcXnfCDQAAoBavSyz9%2BvWrNVZRUaHS0tLTXj4EAADwJl4XsFJTU2v9FGFYWJjatm2rgQMH1ns/u3btUkZGhvLz8xUWFqbf/OY3%2BuMf/6jY2Fht3bpVjz/%2BuL755hv9x3/8h%2B644w6NHDmy5rGrV6/WK6%2B8okOHDqlDhw6aOXOmunbtaqxHAADg37wuYE2aNOmc93Hs2DHddtttuvHGG/X000%2BrpKREf/jDHzRnzhw99NBDSk9P16xZs5SSkqLt27frrrvu0iWXXKKuXbtqw4YNWrp0qVauXKmOHTvqxRdf1MSJE7V%2B/XpFRkYa6BAAAPg7rwtYS5Ysqdd2QUFBSk9PP%2BVceXm5pk6dquuuu04Oh0MXXHCBhgwZohdffFHr1q1TmzZtNHr0aElSnz59NGjQIGVnZ6tr167KysrSqFGjlJSUJEmaMGGCnnvuOeXm5mrYsGFmmgQAAH7N6wLWm2%2B%2BqUOHDqmiokJNmjSRw%2BHQkSNHFB4erqZNm3pse7qAFR0drTFjxtR8v3fvXq1Zs0ZDhw6Vy%2BVSQkKCx/adOnVSTk6OJMnlcmno0KE1c0FBQYqPj1deXl69A1ZBQYEKCws9xhyOCMXFxdXr8b4gJCTY4yvs53Cc%2B1oE2roGUr/06p8CqVfJt/r1uoA1bdo0/fd//7fuvfdetWzZUpK0b98%2BLViwQNdcc42uueaaeu/rwIEDGjJkiCorKzVu3DhNnjxZt99%2Bu1q0aOGxXUxMjIqKiiRJbrdb0dHRHvPR0dE18/WRmZlZ60xcenq6Jk%2BeXO99%2BIqoqCZ2l4B/cTrNXcIOtHUNpH7p1T8FUq%2BSb/TrdQHrySef1GuvveYRcn71q19pzpw5Sk1NPauA1apVK%2BXl5Wnv3r166KGHdO%2B9955yO8uyzvjneeqaP1lqamqtG/IdjggVFZXVex/eLiQkWFFRTVRSUq6qqmq7y4Fk5PgKtHUNpH7p1T8FUq9Sw/o1%2BeHzbHhdwPrhhx8UEhJSa/wXv/iFDh06dNb7CwoK0q9//WtNnTpV48aNU3Jystxut8c2brdbTqdTkuR0OmudrSouLlb79u3r/ZxxcXG1LgcWFh5RZaX/HfxVVdV%2B2ZcvMrkOgbaugdQvvfqnQOpV8o1%2Bve4iZvv27XX//ffL5XKppKREpaWl2rVrlx544AF17NixXvvYunWrhgwZourq//8fPzj451b79u2r/Px8j%2B3z8/NrbmpPTEyUy%2BWqmauqqtLOnTtr5gEAAOridWew5s6dq2nTpun666%2BvuSxnWZYuvPBC/fWvf63XPhITE1VSUqKFCxdq0qRJKi8v1%2BLFi3XZZZcpJSVFixYtUlZWlkaMGKGPP/5YmzZtUmZmpqSf/xbiPffco%2BHDh6tjx4565plnFBoaqgEDBjRWy4AR1zyx1e4S6i1nyuV2lwAAjcrrAlZCQoJycnKUn5%2BvH374QZZlqWXLlkpMTKw5C1WX6OhorVq1Sg8//LB69%2B6tiIgI9e7dWw8//LB%2B%2Bctfavny5Zo/f74yMjLUunVrLViwQPHx8ZKk/v3765577tGMGTNUWFiozp07a8WKFQoPD2/MtgEAgB8JsizLsruIU9m3b5/279%2BvPn362F2KEYWFR%2BwuwSiHI1hOZ6SKisrqfR3cl86woHF5yxmshhzHvope/VMg9So1rN/Y2GaNXNWped09WIcPH9aECRP029/%2BVnfccYckqbCwUMOHD9fBgwdtrg4AAKBuXhewHn30UVVXVysrK6vmkmCzZs2UkJCgRx991ObqAAAA6uZ192Bt3rxZb731llq0aFFzk3t4eLhmzpyplJQUm6sDAACom9edwTp%2B/Pgp/6RMeHi4SktLbagIAADg7HhdwGrbtq3Wr19fazwzM1Nt2rSxoSIAAICz43WXCG%2B77Tbde%2B%2B9ysnJUVVVlebOnSuXy6UdO3boiSeesLs8AACAOnndGayrr75ay5cvV2VlpS666CJ99tlnatWqlV599VUNHjzY7vIAAADq5HVnsPLy8tSnTx%2B/%2Bf1XAAAg8HjdGazx48erqqrK7jIAAAAazOsC1rBhw7R69Wp56S%2BYBwAAqJPXXSI8dOiQNm7cqKeffloXXnihQkNDPeZfffVVmyoDAACoH68LWE6nU8nJyXaXAQAA0GBeE7AmT56sRYsWKSMjo2Zs0aJFmjx5so1VAQAAnD2vuQdr06ZNtcaeeeYZGyoBAAA4N14TsE6FG90BAIAv8uqAdeKPPQMAAPgSrw5YAAAAvoiABQAAYJjX/BTh8ePHNW3atDrHHnvssfNZFgAAwFnzmoDVo0cPFRQU1DkGAADg7bwmYL3wwgt2lwAAAGAE92ABAAAYRsACAAAwjIAFAABgGAELAADAMAIWAACAYQQsAAAAwwhYAAAAhhGwAAAADCNgAQAAGEbAAgAAMIyABQAAYBgBCwAAwDACFgAAgGEELAAAAMMIWAAAAIYRsAAAAAwjYAEAABhGwAIAADDMbwPWgQMHlJ6erl69eql379667777VFJSIklyuVy66aab1KNHDw0ePFgrV670eOy6deuUkpKibt26adSoUdq8ebMdLQAAAB/ltwHr97//vaKiorRx40atXbtW33zzjf7rv/5LR48e1V133aXevXtry5YteuKJJ7Ry5Uq99957kqSdO3dq5syZmj59uj7%2B%2BGPddtttmjRpkn744QebOwIAAL7CLwNWSUmJEhISNG3aNEVGRio2NlYjR47Utm3blJubq8rKSk2cOFERERFKSEjQmDFjlJWVJUnKzs5WcnKykpOTFRYWpuHDhys%2BPl5r1661uSsAAOArHHYX0BiioqKUkZHhMfb9998rLi5OLpdLHTt2VEhISM1cp06d9Nprr0n6%2BfJhcnKyx2M7deqkvLy8ej9/QUGBCgsLPcYcjgjFxcWdbSteKyQk2OMrcDYcDu84bgLpOKZX/xRIvUq%2B1a9fBqyT5eXl6aWXXtKyZcuUk5OjqKgoj/mYmBi53W5VV1fL7XYrOjraYz46Olpff/11vZ8vMzNTS5Ys8RhLT0/X5MmTG96El4qKamJ3CfBBTmek3SV4CKTjmF79UyD1KvlGv34fsD799FNNnDhR06ZNU9%2B%2BfZWTk1NrG8uyFBQUdMb91DX/71JTUzVw4ECPMYcjQkVFZfXeh7cLCQlWVFQTlZSUq6qq2u5y4GO85bUQSMcxvfqnQOpVali/dn2g8%2BuA9fe//13Tp0/Xgw8%2BqJEjR0qSmjdvrm%2B//dZju%2BLiYsXExCg4OFhOp1NFRUUe8263W06ns97PGxcXV%2BtyYGHhEVVW%2Bt/BX1VV7Zd9oXF52zETSMcxvfqnQOpV8o1%2Bvf8iZgNt375d9913n5588smacCVJiYmJ%2Buqrr1RZWVkzlpeXp6SkpJr5/Px8j339%2BzwAAEBd/DJgVVZWatasWZo%2Bfbr69evnMZecnKymTZtq2bJlKi8v1xdffKHs7GylpaVJksaOHasPP/xQubm5qqioUHZ2tr799luNGDHCjlYAAIAP8stLhJ9//rl2796tefPmad68eR5z7733np566inNnTtXq1evVmxsrKZOnaoBAwZIkjp06KCFCxfqL3/5i/bv36927dpp%2BfLlio2NtaETAADgi4Isy7LsLiIQFBYeaZT9XvPE1kbZL9CYcqZcbncJkn7%2BdRFOZ6SKisq8/n6Oc0Wv/imQepUa1m9sbLNGrurU/PISIQAAgJ0IWAAAAIYRsAAAAAwjYAEAABhGwAIAADCMgAUAAGAYAQsAAMAwAhYAAIBhBCwAAADDCFgAAACGEbAAAAAM88s/9gzAu/na39D0lr%2BdCMB3cAYLAADAMAIWAACAYQQsAAAAwwhYAAAAhhGwAAAADCNgAQAAGEbAAgAAMIyABQAAYBgBCwAAwDACFgAAgGEELAAAAMMIWAAAAIYRsAAAAAwjYAEAABhGwAIAADCMgAUAAGAYAQsAAMAwAhYAAIBhBCwAAADDCFgAAACGEbAAAAAMI2ABAAAYRsACAAAwjIAFAABgGAELAADAMAIWAACAYQQsAAAAw/w2YG3ZskV9%2B/bV1KlTa82tW7dOKSkp6tatm0aNGqXNmzfXzFVXV%2Buxxx7ToEGD1LNnT02YMEF79%2B49n6UDAAAf55cB6%2Bmnn9a8efN08cUX15rbuXOnZs6cqenTp%2Bvjjz/WbbfdpkmTJumHH36QJL3wwgt65513tGLFCuXm5uqSSy7R3XffLcuyzncbAADAR/llwAoLC1N2dvYpA1Z2draSk5OVnJyssLAwDR8%2BXPHx8Vq7dq0kKSsrS7fccovatm2ryMhITZkyRXv27NEXX3xxvtsAAAA%2BymF3AY1h/Pjxp51zuVxKTk72GOvUqZPy8vJ09OhRff3110pISKiZi4yM1EUXXaS8vDxdeuml9Xr%2BgoICFRYWeow5HBGKi4s7iy7nhn8/AAAPXElEQVQAeAuHw/c/i4aEBHt89Wf06r98qV%2B/DFhn4na7FR0d7TEWHR2tr7/%2BWsXFxbIs65TzRUVF9X6OzMxMLVmyxGMsPT1dkydPbnjhAGzjdEbaXYIxUVFN7C7hvKFX/%2BUL/QZcwDqdoKCg085ZlnXG%2BZOlpqZq4MCBHmMOR4SKisoaXB8A%2B/jDazckJFhRUU1UUlKuqqpqu8tpVPTqvxrSr10fkAIuYDmdzlpno9xut5xOp2JiYhQcHFxrvri4WM2bN6/3c8TFxdW6HFhYeESVlf5/8AP%2ByJ9eu1VV1X7Vz5nQq//yhX69/yKmYYmJicrPz/cYy8vLU1JSksLCwtS%2BfXu5XK6auZKSEn333Xfq2rXr%2BS4VAAD4qIALWGPHjtWHH36o3NxcVVRUKDs7W99%2B%2B61GjBghSUpLS9Pzzz%2Bv3bt3q7S0VAsXLlSnTp3UpUsXmysHAAC%2Bwi8vEZ4IQ5WVlZKkDRs2SPr5TFWHDh20cOFC/eUvf9H%2B/fvVrl07LV%2B%2BXLGxsZKkcePG6dChQ7rjjjtUVlambt261bphHQAA4EyCLH6D5nlRWHikUfZ7zRNbG2W/AP6/nCmX213COXM4guV0RqqoqMzr7105V/TqvxrSb2xss0au6tQC7hIhAABAYyNgAQAAGEbAAgAAMIyABQAAYBgBCwAAwDACFgAAgGEELAAAAMMIWAAAAIYRsAAAAAwjYAEAABhGwAIAADCMgAUAAGAYAQsAAMAwAhYAAIBhBCwAAADDCFgAAACGEbAAAAAMI2ABAAAYRsACAAAwjIAFAABgGAELAADAMAIWAACAYQQsAAAAwwhYAAAAhhGwAAAADCNgAQAAGEbAAgAAMIyABQAAYBgBCwAAwDACFgAAgGEOuwsAAG93zRNb7S7hrORMudzuEoCAxxksAAAAwwhYAAAAhhGwAAAADCNgAQAAGEbAAgAAMIyABQAAYBgBCwAAwDACFgAAgGH8otFT2Ldvn/785z9rx44dioiI0NVXX63p06crJCTE7tIAoE6%2B9ItR%2BaWo8FecwTqFyZMnq2XLltqwYYNWr16tjRs3avXq1XaXBQAAfAQB6yR5eXn66quvNH36dDVr1kwXX3yxbr31VmVlZdldGgAA8BFcIjyJy%2BVSq1atFB0dXTOWkJCgPXv2qLS0VE2bNq1zHwUFBSosLPQYczgiFBcXZ7xeAPBlvnQ5E43rb9OvqHObkJBgj6/ejIB1ErfbraioKI%2BxE2GrqKioXgErMzNTS5Ys8Ri7%2B%2B67NWnSJHOF/su2h682vs/6KCgoUGZmplJTU/0%2BONKr/wqkfunVPwVSr9LP/T733Eqf6Nf7I6AXsCxLkhQUFFSv7VNTU/XGG294/EtNTW3MEs%2B7wsJCLVmypNaZOn9Er/4rkPqlV/8USL1KvtUvZ7BO0rx5cxUVFXmMFRcXKygoSE6ns177iIuL8/pkDQAAGg9nsE6SmJio77//XocPH64Zy8vLU7t27RQZGWljZQAAwFcQsE6SkJCgrl276rHHHlNpaal2796tVatWKS0tze7SAACAjwiZM2fOHLuL8DZXXHGFcnJy9Oijj2r9%2BvUaOXKkJkyYUO97sAJFZGSkfvOb3wTEmT169V%2BB1C%2B9%2BqdA6lXynX6DrBN3cAMAAMAILhECAAAYRsACAAAwjIAFAABgGAELAADAMAIWAACAYQQsAAAAwwhYAAAAhhGwAAAADCNgAQAAGEbAQp0OHDig9PR09erVS71799Z9992nkpISVVdXKz4%2BXomJierSpUvNv2eeecbukhvsyiuvrNXP3LlzJUlbt27V6NGj1b17dw0bNkxr1qyxudqG%2B%2BSTTzx6PPGvY8eOOnDggF%2Bs65YtW9S3b19NnTq11ty6deuUkpKibt26adSoUdq8eXPNXHV1tR577DENGjRIPXv21IQJE7R3797zWfpZO1Ov69ev14gRI9StWzf99re/VWZmZs3c66%2B/rvj4%2BFrHwaFDh85n%2BWftdP1%2B/PHH6tixY61%2BduzYIcm/1nbWrFm1%2BuzcubNuvvlmSb65tqd7r5Ekl8ulm266ST169NDgwYO1cuVKj8ee6TVtGwuow4gRI6wZM2ZYpaWlVkFBgXX99ddbDzzwgOV2u60OHTpYBw8etLtEY7p37259%2BumntcYPHjxoJSUlWVlZWdbRo0etDz/80Oratav1xRdf2FBl43j55ZetcePG%2BcW6rlixwho8eLA1btw4a8qUKR5zLpfLSkxMtHJzc62jR49aa9eutbp27Wp9//33lmVZ1urVq60rr7zS%2Bvrrr63S0lJr3rx51vDhw63q6mo7WqnTmXrdsWOH1aVLF%2Btvf/ubVVlZaW3ZssXq3Lmz9cknn1iWZVmrVq2ybr31VjvKbrAz9bt%2B/Xpr8ODBp32sP63tyaqrq63U1FQrMzPTsizfXNvTvdeUl5db/fr1sxYvXmyVlZVZLpfL6tWrl5WTk2NZVt2vabtwBgtnVFJSooSEBE2bNk2RkZGKjY3VyJEjtW3btppPFjExMTZXaUZVVZXKysoUHR1da27dunVq06aNRo8erbCwMPXp00eDBg1Sdna2DZWad%2BjQIT355JOaPXu2X6xrWFiYsrOzdfHFF9eay87OVnJyspKTkxUWFqbhw4crPj5ea9eulSRlZWXplltuUdu2bRUZGakpU6Zoz549%2BuKLL853G/Vypl6Lior0u9/9TldddZVCQkLUr18/dejQQdu2bZMkFRcXn/J492Zn6reufvxpbU%2BWmZmp6upqjRkzRpLvre2Z3mtyc3NVWVmpiRMnKiIiQgkJCRozZoyysrIk1f2atgsBC2cUFRWljIwMXXDBBTVj33//veLi4lRcXKyQkBDNnDlTffv21cCBA/X444/r%2BPHjNlbccCUlJbIsS4sXL1b//v11xRVXaPbs2SorK5PL5VJCQoLH9p06dVJ%2Bfr5N1Zq1aNEiDR48WPHx8X6xruPHj1ezZs1OOXe6tczLy9PRo0f19ddfe8xHRkbqoosuUl5eXqPW3FBn6rV///5KT0%2Bv%2Bb6yslKFhYVq0aKFpJ%2BP%2Bb1792rMmDG67LLLdP3112vr1q3npe6GOlO/JSUlKi4u1s0336yePXsqJSVFb7/9tiT53dr%2Bu7KyMj3%2B%2BOOaMWOGgoKCJPne2p7pvcblcqljx44KCQmpmfv3//%2Be6TVtJwIWzkpeXp5eeuklTZw4UZZlqVOnTrryyiuVm5urxx9/XGvWrNHSpUvtLrNBjh07ps6dO6t79%2B56//33tWrVKm3fvl1z5syR2%2B1WVFSUx/YxMTEqKiqyqVpzDh48qLffflt33HGHJPndup7M7XbX%2BmQfHR2toqIiFRcXy7Ks0877uoULFyoiIkJDhw6V9PMxHBcXp4yMDG3evFnDhw/X7373O%2B3evdvmShsmIiJCLVq00LRp0/TBBx/ozjvv1MyZM/XRRx/59dq%2B8sorio%2BPV/fu3WvGfH1t//295nT//3W73aqurj7ja9pOBCzU26effqoJEyZo2rRp6tu3r7p06aLXX39dKSkpCg0NVVJSku688069%2BeabdpfaIC1atNAbb7yh8ePHq0mTJmrXrp2mT5%2Bud95555RnbyzLqvm06MtefPFF9e/fX7/61a8kye/Wtb7OtJa%2BvtaWZWnBggVat26dli1bprCwMEnSpEmT9NRTT6ldu3aKiIjQrbfe6hWXVhpq3Lhxev7553XppZcqLCxMKSkpuuqqq/TGG2%2Bc9jG%2BvrbV1dV67rnndMstt3iM%2B/Lanvxecyr1WTe715WAhXr5%2B9//rjvvvFMPPPCAxo8ff9rtWrdurUOHDsmyrPNYXeNp3bq1qqqqFBwcLLfb7THndrvldDptqsycnJwcXXXVVWfcxp/W1el01vpke2ItY2JiFBwcXGu%2BuLhYzZs3P59lGlNdXa0ZM2Zo48aNeuWVV3TJJZeccfvWrVuroKDgPFXX%2BE70449rK0nbtm1TaWmpLr/88jq39YW1PdV7TfPmzU%2B5bifW9EyvaTsRsFCn7du367777tOTTz6pkSNH1ox//PHHWrFihce233zzjVq1amX7J4eG2LVrlxYsWOAxtnv3boWGhio5ObnW/Vb5%2BflKSko6nyUat2vXLu3fv1/9%2B/evGfO3dT1ZYmJirbXMy8tTUlKSwsLC1L59e7lcrpq5kpISfffdd%2Bratev5LtWIRx55RP/4xz/0yiuv1JylPGHFihX6n//5H4%2Bx3bt319rOV7z22mt6//33PcZO9OOPaytJGzZsUO/evRUaGuox7otre7r3msTERH311VeqrKysGTvxmj0xf7rXtJ0IWDijyspKzZo1S9OnT1e/fv085po2bapFixZp7dq1On78uPLz8/Xss8/qhhtusKnac%2BN0OvXyyy9r5cqVOnbsmPbs2aPFixdr3Lhxuvbaa3XgwAFlZWWpoqJCmzZt0qZNmzR27Fi7yz4nLpdLUVFRHj8x6G/rerKxY8fqww8/VG5urioqKpSdna1vv/1WI0aMkCSlpaXp%2Beef1%2B7du1VaWqqFCxeqU6dO6tKli82Vn71PP/1Ub7/9tlasWHHKnwo9dOiQ/vSnP2nPnj2qqKjQqlWrtG/fPo0aNcqGas9deXm5/vznPys/P1/Hjx/Xu%2B%2B%2Bqy1btigtLU2Sf63tCTt37jxlaPK1tT3Te01ycrKaNm2qZcuWqby8XF988YWys7Nr1rWu17Rdgix/OOePRrNt2zbdeOONtT4dSdJ7772nnTt3avHixdq3b59iY2M1ZswYTZgwQcHBvpndP/nkEy1YsED/%2BMc/5HQ6dfXVV2vKlCkKDQ3VJ598ovnz52v37t1q3bq17r77bg0ePNjuks/J8uXL9fbbb%2Budd97xGP/b3/7m0%2Bt64g3zxCdeh8MhSTU/VbR%2B/XotWbJE%2B/fvV7t27XTvvfeqZ8%2Bekn6%2Bt2PJkiV68803VVZWpm7dumnOnDlq2bKlDZ3U7Uy9PvDAA3rzzTdrxk7o2bOnnn32WVVUVGjhwoV677339M9//lMdOnTQjBkzbP/kfyZn6teyLP31r3/V66%2B/rqKiIrVp00Z/%2BMMflJycLMm/1vaEIUOGaMyYMbr99ts9Hutra1vXe01ZWZnmzp2rnTt3KjY2VuPHj/f40Hem17RdCFgAAACG%2BcbHUQAAAB9CwAIAADCMgAUAAGAYAQsAAMAwAhYAAIBhBCwAAADDCFgAAACGEbAAAAAMI2ABAAAYRsACAAAwjIAFAABgGAELAADAMAIWAACAYf8P5icWZRjxnCcAAAAASUVORK5CYII%3D\"/>\n",
       "        </div>\n",
       "        <div role=\"tabpanel\" class=\"tab-pane col-md-12\" id=\"common-7711335640599560345\">\n",
       "            \n",
       "<table class=\"freq table table-hover\">\n",
       "    <thead>\n",
       "    <tr>\n",
       "        <td class=\"fillremaining\">Value</td>\n",
       "        <td class=\"number\">Count</td>\n",
       "        <td class=\"number\">Frequency (%)</td>\n",
       "        <td style=\"min-width:200px\">&nbsp;</td>\n",
       "    </tr>\n",
       "    </thead>\n",
       "    <tr class=\"\">\n",
       "        <td class=\"fillremaining\">50</td>\n",
       "        <td class=\"number\">88</td>\n",
       "        <td class=\"number\">5.3%</td>\n",
       "        <td>\n",
       "            <div class=\"bar\" style=\"width:8%\">&nbsp;</div>\n",
       "        </td>\n",
       "</tr><tr class=\"\">\n",
       "        <td class=\"fillremaining\">60</td>\n",
       "        <td class=\"number\">73</td>\n",
       "        <td class=\"number\">4.4%</td>\n",
       "        <td>\n",
       "            <div class=\"bar\" style=\"width:7%\">&nbsp;</div>\n",
       "        </td>\n",
       "</tr><tr class=\"\">\n",
       "        <td class=\"fillremaining\">49</td>\n",
       "        <td class=\"number\">59</td>\n",
       "        <td class=\"number\">3.5%</td>\n",
       "        <td>\n",
       "            <div class=\"bar\" style=\"width:6%\">&nbsp;</div>\n",
       "        </td>\n",
       "</tr><tr class=\"\">\n",
       "        <td class=\"fillremaining\">48</td>\n",
       "        <td class=\"number\">53</td>\n",
       "        <td class=\"number\">3.2%</td>\n",
       "        <td>\n",
       "            <div class=\"bar\" style=\"width:5%\">&nbsp;</div>\n",
       "        </td>\n",
       "</tr><tr class=\"\">\n",
       "        <td class=\"fillremaining\">70</td>\n",
       "        <td class=\"number\">47</td>\n",
       "        <td class=\"number\">2.8%</td>\n",
       "        <td>\n",
       "            <div class=\"bar\" style=\"width:5%\">&nbsp;</div>\n",
       "        </td>\n",
       "</tr><tr class=\"\">\n",
       "        <td class=\"fillremaining\">54</td>\n",
       "        <td class=\"number\">44</td>\n",
       "        <td class=\"number\">2.6%</td>\n",
       "        <td>\n",
       "            <div class=\"bar\" style=\"width:4%\">&nbsp;</div>\n",
       "        </td>\n",
       "</tr><tr class=\"\">\n",
       "        <td class=\"fillremaining\">38</td>\n",
       "        <td class=\"number\">44</td>\n",
       "        <td class=\"number\">2.6%</td>\n",
       "        <td>\n",
       "            <div class=\"bar\" style=\"width:4%\">&nbsp;</div>\n",
       "        </td>\n",
       "</tr><tr class=\"\">\n",
       "        <td class=\"fillremaining\">45</td>\n",
       "        <td class=\"number\">39</td>\n",
       "        <td class=\"number\">2.3%</td>\n",
       "        <td>\n",
       "            <div class=\"bar\" style=\"width:4%\">&nbsp;</div>\n",
       "        </td>\n",
       "</tr><tr class=\"\">\n",
       "        <td class=\"fillremaining\">74</td>\n",
       "        <td class=\"number\">36</td>\n",
       "        <td class=\"number\">2.2%</td>\n",
       "        <td>\n",
       "            <div class=\"bar\" style=\"width:4%\">&nbsp;</div>\n",
       "        </td>\n",
       "</tr><tr class=\"\">\n",
       "        <td class=\"fillremaining\">90</td>\n",
       "        <td class=\"number\">36</td>\n",
       "        <td class=\"number\">2.2%</td>\n",
       "        <td>\n",
       "            <div class=\"bar\" style=\"width:4%\">&nbsp;</div>\n",
       "        </td>\n",
       "</tr><tr class=\"other\">\n",
       "        <td class=\"fillremaining\">Other values (105)</td>\n",
       "        <td class=\"number\">1155</td>\n",
       "        <td class=\"number\">69.0%</td>\n",
       "        <td>\n",
       "            <div class=\"bar\" style=\"width:100%\">&nbsp;</div>\n",
       "        </td>\n",
       "</tr>\n",
       "</table>\n",
       "        </div>\n",
       "        <div role=\"tabpanel\" class=\"tab-pane col-md-12\"  id=\"extreme-7711335640599560345\">\n",
       "            <p class=\"h4\">Minimum 5 values</p>\n",
       "            \n",
       "<table class=\"freq table table-hover\">\n",
       "    <thead>\n",
       "    <tr>\n",
       "        <td class=\"fillremaining\">Value</td>\n",
       "        <td class=\"number\">Count</td>\n",
       "        <td class=\"number\">Frequency (%)</td>\n",
       "        <td style=\"min-width:200px\">&nbsp;</td>\n",
       "    </tr>\n",
       "    </thead>\n",
       "    <tr class=\"\">\n",
       "        <td class=\"fillremaining\">12</td>\n",
       "        <td class=\"number\">1</td>\n",
       "        <td class=\"number\">0.1%</td>\n",
       "        <td>\n",
       "            <div class=\"bar\" style=\"width:7%\">&nbsp;</div>\n",
       "        </td>\n",
       "</tr><tr class=\"\">\n",
       "        <td class=\"fillremaining\">13</td>\n",
       "        <td class=\"number\">6</td>\n",
       "        <td class=\"number\">0.4%</td>\n",
       "        <td>\n",
       "            <div class=\"bar\" style=\"width:40%\">&nbsp;</div>\n",
       "        </td>\n",
       "</tr><tr class=\"\">\n",
       "        <td class=\"fillremaining\">14</td>\n",
       "        <td class=\"number\">15</td>\n",
       "        <td class=\"number\">0.9%</td>\n",
       "        <td>\n",
       "            <div class=\"bar\" style=\"width:100%\">&nbsp;</div>\n",
       "        </td>\n",
       "</tr><tr class=\"\">\n",
       "        <td class=\"fillremaining\">15</td>\n",
       "        <td class=\"number\">5</td>\n",
       "        <td class=\"number\">0.3%</td>\n",
       "        <td>\n",
       "            <div class=\"bar\" style=\"width:34%\">&nbsp;</div>\n",
       "        </td>\n",
       "</tr><tr class=\"\">\n",
       "        <td class=\"fillremaining\">16</td>\n",
       "        <td class=\"number\">12</td>\n",
       "        <td class=\"number\">0.7%</td>\n",
       "        <td>\n",
       "            <div class=\"bar\" style=\"width:80%\">&nbsp;</div>\n",
       "        </td>\n",
       "</tr>\n",
       "</table>\n",
       "            <p class=\"h4\">Maximum 5 values</p>\n",
       "            \n",
       "<table class=\"freq table table-hover\">\n",
       "    <thead>\n",
       "    <tr>\n",
       "        <td class=\"fillremaining\">Value</td>\n",
       "        <td class=\"number\">Count</td>\n",
       "        <td class=\"number\">Frequency (%)</td>\n",
       "        <td style=\"min-width:200px\">&nbsp;</td>\n",
       "    </tr>\n",
       "    </thead>\n",
       "    <tr class=\"\">\n",
       "        <td class=\"fillremaining\">161</td>\n",
       "        <td class=\"number\">1</td>\n",
       "        <td class=\"number\">0.1%</td>\n",
       "        <td>\n",
       "            <div class=\"bar\" style=\"width:100%\">&nbsp;</div>\n",
       "        </td>\n",
       "</tr><tr class=\"\">\n",
       "        <td class=\"fillremaining\">163</td>\n",
       "        <td class=\"number\">1</td>\n",
       "        <td class=\"number\">0.1%</td>\n",
       "        <td>\n",
       "            <div class=\"bar\" style=\"width:100%\">&nbsp;</div>\n",
       "        </td>\n",
       "</tr><tr class=\"\">\n",
       "        <td class=\"fillremaining\">166</td>\n",
       "        <td class=\"number\">1</td>\n",
       "        <td class=\"number\">0.1%</td>\n",
       "        <td>\n",
       "            <div class=\"bar\" style=\"width:100%\">&nbsp;</div>\n",
       "        </td>\n",
       "</tr><tr class=\"\">\n",
       "        <td class=\"fillremaining\">193</td>\n",
       "        <td class=\"number\">1</td>\n",
       "        <td class=\"number\">0.1%</td>\n",
       "        <td>\n",
       "            <div class=\"bar\" style=\"width:100%\">&nbsp;</div>\n",
       "        </td>\n",
       "</tr><tr class=\"\">\n",
       "        <td class=\"fillremaining\">196</td>\n",
       "        <td class=\"number\">1</td>\n",
       "        <td class=\"number\">0.1%</td>\n",
       "        <td>\n",
       "            <div class=\"bar\" style=\"width:100%\">&nbsp;</div>\n",
       "        </td>\n",
       "</tr>\n",
       "</table>\n",
       "        </div>\n",
       "    </div>\n",
       "</div>\n",
       "</div>\n",
       "    <div class=\"row headerrow highlight\">\n",
       "        <h1>Correlations</h1>\n",
       "    </div>\n",
       "    <div class=\"row variablerow\">\n",
       "    <img src=\"data:image/png;base64,iVBORw0KGgoAAAANSUhEUgAAAm0AAAIjCAYAAABRWSyiAAAABHNCSVQICAgIfAhkiAAAAAlwSFlzAAAPYQAAD2EBqD%2BnaQAAADl0RVh0U29mdHdhcmUAbWF0cGxvdGxpYiB2ZXJzaW9uIDMuMC4zLCBodHRwOi8vbWF0cGxvdGxpYi5vcmcvnQurowAAIABJREFUeJzs3XlYlPX%2B//HXAAqpgKCMqamphYigoplmaomWVlpkubaYeawsMS3r2G5mm0uLaaXn5FadDplLuZzTcalOv%2Br0zbTEtURCzBSIYROVbX5/cJzjyOLoDffMnc/HdXEhn3vhPR8Z5s3rXsbmdDqdAgAAgE/z83YBAAAAODOaNgAAAAugaQMAALAAmjYAAAALoGkDAACwAJo2AAAAC6BpAwAAsACaNgAAAAugaQMAALAAmjYAAAALCPB2AQDM165duyqX1alTRw0bNlRMTIwSEhI0YMAA2Ww2E6sDAFTGxnuPAuefk01bx44dFRER4bbsxIkT2r9/vw4dOiRJ6tu3r%2BbOnau6deuaXicA4H9o2oDz0Mmmbf78%2Berfv3%2Bl62zcuFGPPPKICgsLdffdd%2BvPf/6zmSUCAE7DOW0AKtW/f389/PDDkqQPPvhAJ06c8HJFAHB%2B45w2AFW69tpr9dxzz%2BnYsWPatWuX4uLi3JZ/8803ev/99/XDDz8oJydHDRo0UFRUlG655RYNHjy40n3m5ORo8eLF%2BuKLL5SWlqaioiKFhoaqY8eOGjNmjLp3715hm/j4eP3666/6y1/%2BohMnTujVV19Venq6lixZoq5du0qSfvrpJy1atEhbtmzRkSNHFBAQILvdrssvv1y33357pefx5efna%2BnSpdq0aZPS0tJUXFysxo0bq0uXLrrrrrsUGxvrtv7BgwfVr18/SdL27duVkpKit956S9u2bVNOTo7sdrv69eunyZMnq169euc05wBQFZI2AFVq2LCh6995eXluy1599VXddddd2rBhg%2BrXr6/u3bsrPDxc33zzjaZMmaJJkyaptLTUbZvMzEwNGTJEb7/9tvbv36/o6Gj16NFDdevW1WeffabRo0drxYoVVdazf/9%2BTZ48WXXq1FGPHj0UFBQkSfq///s/3XLLLVq1apVOnDihrl27Ki4uTgUFBfrwww81bNgwffPNN277%2BvXXX3XzzTfrjTfe0L59%2BxQVFaW4uDidOHFCa9eu1bBhw7R8%2BfIqa9m6datGjRqlnTt3KioqSq1bt9avv/6qZcuWKTEx0eM5BgCPOQGcdyIjI52RkZHODRs2VLteSkqKa93t27e7xjds2OCMjIx0duvWzfn555%2B7bfN///d/zp49ezojIyOdixcvdlv23HPPOSMjI50DBgxwZmVlucZLSkqczz//vDMyMtLZtWtXZ0FBgdt2ffv2dUZGRjrj4%2BOdb731VoU6hw4d6oyMjHS%2B9NJLztLSUrf9vvrqq87IyEjnoEGD3LYZNWqUMzIy0jlkyBDnkSNHXOOlpaXON954wxkZGemMiYlx7t%2B/37UsPT3dNR9XX321c%2BHChc6ysjLX8g8%2B%2BMC1fPfu3dVNLQCcNZI2AFX617/%2BJUkKDQ1V%2B/btXeNvvvmmJOnPf/6zrrrqKrdtunXrpkcffVSStHTpUjlPudapSZMmuuGGGzRhwgQ1atTINe7v76/JkyfLz89P%2Bfn5%2BuGHHyqtp6ysTPfcc0%2BF8d27d0uShgwZIj%2B///1a8/f318SJEzVx4kTdcccdKioqkiT9%2BOOP2rJliyRp5syZstvtrm38/Pw0YcIEdejQQUVFRfr73/9eaS3NmzfXuHHj3G6HMnz4cIWHh7u%2BBwDUJM5pA1CpL774QgsWLJAk/elPf1JAQPmvi4yMDO3cuVOSdM0111S6bf/%2B/WWz2XTo0CH98ssvat26tSRp3LhxVX6/Cy64QI0aNVJmZqYyMzMrXadHjx5uTdlJISEhysrK0vr16/Xggw%2B6LfPz89MDDzzgNvbll19KKr%2BKtm3btlU%2Bhp07d1Y4rHrS8OHDK4zZbDa1aNFC2dnZcjgclW4HAOeKpg04jy1YsEArV650GysqKtIvv/yi9PR0SeXp1Z/%2B9CfX8r1797r%2BPXXq1Cr3HRAQoOLiYrem7eT%2Bv/jiC%2B3YsUMZGRnKy8tzpXH5%2BfmSyhO1yjRp0qTS8dGjR2vOnDl688039eWXX2rQoEG64oorqryJ8L59%2ByRJl156aZX1t2nTRlL5eXSVadmyZaXjgYGBkqTi4uIq9w0A54KmDTiPbd%2B%2BvcKYv7%2B/wsLC1K9fPw0fPrzC4c/c3FzXvzdt2nTG73GyEZOkPXv26IEHHtDBgwfPqd7Q0NBKx08eMl2wYIGSk5OVnJwsSYqIiNDAgQM1evRotWjRokJNISEhVX6v4OBgSeXN1/Hjx10XPZzEzYYBmI2mDTiPVXdz3aqcPIerTp06Sk5O9vgtro4fP67x48fr0KFDuvjii3X//ffriiuuUFhYmOrUqSPpf7f2ONP3rsw999yjESNGaOPGjfriiy/09ddfKzMzU%2B%2B%2B%2B66SkpI0c%2BZMXXfddR4/zlPPxavskCwAmI2mDcBZOXkbkOLiYjkcDteJ92fy73//W4cOHZLNZtOCBQt08cUXV1jn9NuKnK2QkBANGTJEQ4YMUWlpqb7%2B%2BmvNnz9f27Zt0xNPPKEePXooLCzMldhV9/1OLgsKCiJVA%2BAT%2BPMRwFmJjIx0/fvnn3/2eLtffvlFUvm5YJU1bKmpqW6HUo3y9/dX7969tWzZMjVp0kRHjx51HQ4%2BeS7bTz/9VOX2J5dVd94bAJiJpg3AWYmIiFCHDh0kSR9%2B%2BGGl66Smpuqmm27SW2%2B95Ro7eY5YVW%2BH9fbbb7v%2BffpNeavz448/6vHHH9eiRYsqXV63bl3X9z5%2B/Lgkuc7T%2B%2Bmnnypt3MrKyly3O%2Bndu7fHtQBAbaJpA3DW7rvvPknS2rVrtWTJErfzv9LS0jRx4kTt2bNHv/32m2s8KipKknT48GFt3LjRNX7s2DHNmDFDycnJrrfJquqKzcr4%2B/trxYoVmjt3rj7//PMKyzds2KCUlBTVqVNHXbp0kSRFR0erV69ekqTHH39c2dnZrvVLSko0a9YspaSkKDg4WCNGjPC4FgCoTZzTBuCsXXvttbrnnnu0cOFCvfjii1q2bJnatGkjh8Oh3bt3q7S0VJ07d3a7JUhcXJx69eql//f//p8SExPVqVMnBQYGaseOHQoICNCiRYu0fv16bdu2TcuWLdPevXs1fvx4devWrdpaYmJilJiYqDfeeEP33nuvmjdvrlatWsnPz08HDx50HZadOnWqIiIiXNu98MILGj16tJKTkxUfH6/IyEgFBgbq559/lsPhUFBQkObMmVPlbUYAwGw0bQDOycMPP6wrrrjC9Ybx33zzjQIDAxUTE6Prr79eo0aNqnAC/2uvvabZs2dr06ZN2rFjh%2Bx2uwYMGKD77rtPLVu2VNOmTbVr1y5t3bpVP//8s8dXpk6YMEExMTFauXKlduzYoW3btqmkpEQREREaNGiQbr/99gpvdt%2BkSRN99NFHWrJkiTZs2KCff/5ZJSUlatKkia699lqNHTtWrVq1qrH5AgCjbM5Tj2sAAADAJ3FOGwAAgAXQtAEAAFgATRsAAIAF0LQBAIDz2pdffqmePXtq8uTJ1a5XVlamOXPmqF%2B/furWrZvGjh2rtLQ013KHw6EHH3xQPXv2VK9evfTYY4/p2LFjNVYnTRsAADhv/eUvf9GMGTM8ulr83Xff1bp167Rw4UJ9/vnnatOmjSZMmOC6V%2BWTTz6p48ePa%2B3atVq5cqXS0tI0a9asGquVpg0AAJy3AgMD9dFHH3nUtC1fvlx33XWX2rZtq/r162vSpElKTU3Vjz/%2BqKysLG3evFmTJ09WeHi47Ha7xo8fr1WrVqm4uLhGauU%2BbQAAwLIyMjKUmZnpNhYRESG73e7R9nfeeadH6x0/flz79u1TdHS0a6x%2B/fpq2bKlkpOTlZ%2BfL39/f7Vr1861PDo6WoWFhdq/f7/b%2BLmiaastHt4U1Otat5Z%2B/lm69FIpNdXb1VSvsNDbFXjGZpMCA6UTJyRfvg3iCy94uwLPhIVJkyZJr70mORzerqZajoee83YJHvHzk0JCpLw8qazM29VUL%2By9N7xdgmdCQqQ77pDefbd8Yn1ZYqL3vnctvDYmzZ2refPmuY1NmDBBiTX8OHNzc%2BV0OhUaGuo2HhoaKofDoYYNG6pBgwZuNwU/ua6jhn530bSd7xo2lPz9yz%2Bj5lilabeCoKDyLiMoyNuV/GHYbP/7QA0JDCz/OQ0M9HYl553hw4crPj7ebezUt6yrbU6n84zv3uLpu7ucCU0bAAAwh1/Nn0pvt9s9PhRqRMOGDeXn51chNcvNzVV4eLjCw8OVn5%2Bv0tJS%2Bfv7S5JycnIkSeHh4TVSAxciAAAAnEFgYKAuvfRS7dy50zWWl5enAwcOqGPHjmrfvr2cTqf27NnjWp6cnKyQkBC1bt26RmqgaQMAAObw86v5j1p05MgRDRw4UOnp6ZKkkSNHatmyZUpJSVFBQYFmz56t9u3bKzY2VuHh4RowYIBee%2B01ZWdn6/Dhw5o/f75uvfVWBQTUzIFNDo8CAIDzVmxsrCSppKREkrRx40ZJ5SlZcXGxUlNTVVRUJEkaMWKEsrKyNG7cOB09elRxcXFuF0FMnz5d06ZN06BBgxQQEKD%2B/fuf8Ya9Z4OmDQAAmKOWk7FzkZycXOWyiy66SHv37nV9bbPZlJiYWOWVqcHBwZozZ06N13gSTRsAADCHDzZtVsLsAQAAWABJGwAAMAdJmyE0bQAAwBw0bYYwewAAABZA0gYAAMxB0mYIswcAAGABJG0AAMAcJG2G0LQBAABz0LQZwuwBAABYAEkbAAAwB0mbIcweAACABZC0AQAAc5C0GULTBgAAzEHTZgizBwAAYAEkbQAAwBwkbYYwewAAABZA0gYAAMxB0mYITRsAADAHTZshzB4AAIAFkLQBAABzkLQZwuwBAABYAEkbAAAwB0mbITRtAADAHDRthjB7AAAAFkDSBgAAzEHSZgizBwAAYAEkbQAAwBwkbYbQtAEAAHPQtBnC7AEAAFjAHzZpe/LJJ1VUVKSZM2d6uxQAACCRtBn0h23aZsyY4e0SAAAAaswftmkDAAA%2BhqTNEMvM3sGDB9WuXTt9%2BumnuuGGGxQbG6tRo0YpMzNT3377reLi4rR06VLFxcXpu%2B%2B%2B09SpUzV58mTX9h9//LGuueYade7cWSNGjNDu3btdy9avX6%2BbbrpJnTt3Vr9%2B/bR27VpvPEQAAP7Y/Pxq/uM8Yrmk7b333tM777yjCy64QBMmTNC0adN05513qri4WL/88ou%2B%2BeYbBQYGasWKFa5tduzYoWnTpumtt95S165d9de//lXjx4/Xxo0btWvXLj3%2B%2BOOaO3eurrzySm3btk3jxo1Ts2bN1KVLF49qysjIUGZmpttYROvWsjdsWKOPvVZERbl/9mU2m7cr8MzJOn293qZNvV2BZxo3dv/sw/z9vV2BZ06%2Bzlni9S4iwtsVeCYszP0zUAss17SNGjVKF154oSTprrvu0qRJk3T77beruLhYo0aNUlBQUIVtVq9erSuuuEI9evSQJI0ZM0atWrVSUVGRVq1apb59%2B6pPnz6SpMsuu0zXXXedPv74Y4%2BbtqSkJM2bN89tbMKDDyrxwQeNPFRz/e1v3q7gjycw0NsVVO/%2B%2B71dwdkZNszbFZxRiLcLOEsNGni7Ag%2BMGOHtCs7OgAHersC3WeIvBd9luaatdevWrn83b95cRUVFysnJkSQ1rSI5SE9PV8uWLV1fBwUF6frrr5ckHThwQN98841iY2Ndy51Op3r16uVxTcOHD1d8fLzbWMTgwdLSpR7vw2uiosobtlGjpD17vF1N9b7%2B2tsVeMZmK2/YTpyQnE5vV1O1RYu8XYFnGjcub9g%2B/FDKyvJ2NdXKu90ajbCfX3nDVlAglZV5u5rqhaz/u7dL8ExYWHnD9umnksPh7WqqZ7VGGC6Wa9rKTvkN4/zvC6Ltv4eh6tSpU%2Bk2NpvNte7pgoKCNHLkSD311FPnXJPdbpfdbncfTE095/15xZ490rZt3q6ier7cAFXG6fTtmn/7zdsVnJ2sLJ%2BvubTU2xWcnbIyC9R82qknPs/hsF7NZiJpM8Rys3fgwAHXv3/99VcFBQWp4RnOHWvRooVST2miioqKtHDhQmVnZ6tly5bau3ev2/qHDx9Wqc//JgMAwGK4EMEQyz3a999/X0eOHFFOTo6WLFmiq666ypW0VWXIkCH69ttv9dlnn6m4uFhLly7V%2B%2B%2B/rwYNGujWW2/V1q1btWLFChUVFWn37t0aOnSoPv30U5MeEQAAwJlZ7vBoQkKC7r77bh04cECdO3fWM888o3379lW7Tfv27TV79mw999xzys7OVlRUlBYsWKC6deuqbdu2mjNnjubOnatnn31WdrtdY8eOdZ3zBgAAash5lozVNMs1bZ07d9a6devcxho1alThEOdLL73k9vXAgQM1cODASvd53XXX6brrrqvZQgEAAGqQ5Zo2AABgUT6YtKWnp2v69Onavn276tWrp4EDB2rKlCnyP%2B3Gi3fffbe%2B%2B%2B47t7HS0lLddNNNevHFFzV37ly99dZbCgj4X2sVGBioLVu21FitNG0AAMAcPti0TZw4UTExMXrllVeUnZ2te%2B65R40bN9bYsWPd1lt02m2Sjh8/rhtuuEGDBg2SJOXl5enWW2/Vc889V2u1%2Bt7sVeGiiy7S3r171bZtW2%2BXAgAA/gCSk5O1d%2B9eTZkyRcHBwWrVqpXGjBmj5cuXn3Hb%2BfPnKyYmRldeeaWk8qYtNDS0VuslaQMAAOaohaSt0reSjIioeP/USuzcuVPNmzd3a7aio6OVmpqqgoICNajibUMOHTqk9957z%2B29yvPy8vTbb79p8ODBOnz4sNq1a6epU6cqJibmHB9ZRTRtAADAHLXQtFX6VpITJigxMfGM2%2Bbk5CgkxP0N6E42cA6Ho8qm7S9/%2BYuuu%2B46NW/e3DUWERGh%2BvXr66WXXlJISIjmz5%2Bvu%2B%2B%2BW//85z8VHh5%2Btg%2BrUjRtAADAsip9K8mIiHPe3%2BnvtnS6vLw8ffTRR1qxYoXb%2BOnnsj3yyCNau3atNm3apKFDh55zPaeiaQMAAOaohaSt0reS9FB4eLgcp71XbG5urmw2m8LCwirdZtOmTWratKkiIyOr3be/v7%2BaNm2qjIyMc6qtMpa5EAEAAKAmxcTE6NChQ8rOznaNJScn65JLLlH9%2BvUr3Wbjxo3q06eP25jT6dTMmTPd7hlbXFysAwcOqEWLFjVWL00bAAAwh4%2B992h0dLQ6duyoOXPmqKCgQCkpKVq8eLFGjhwpqfzG/KffZ23Xrl0VGjGbzaa0tDRNnz5dR44c0dGjRzV79mzVrVtX/fv3N1TjqWjaAACAOXysaZOkuXPn6vfff1d8fLzuueceJSQkaNSoUZKk1NRUFRYWuq2fmZlZ6eHY559/XhdddJGGDBmivn37at%2B%2BfVq2bJnq1atnuMaTOKcNAACcty688EK9/fbblS47/S0yJWnHjh2VrtuwYUO9/PLLNVrb6WjaAACAOXzwHRGshNkDAACwAJI2AABgDpI2Q2jaAACAOWjaDGH2AAAALICkDQAAmIOkzRBmDwAAwAJI2gAAgDlI2gyhaQMAAOagaTOE2QMAALAAkjYAAGAOkjZDmD0AAAALIGkDAADmIGkzhKYNAACYg6bNEGYPAADAAkjaAACAOUjaDGH2AAAALICkDQAAmIOkzRCaNgAAYA6aNkOYPQAAAAsgaQMAAOYgaTOE2QMAALAAkjYAAGAOkjZDaNoAAIA5aNoMYfYAAAAsgKStthQWersCz9hs5Z%2B//lpyOr1by5nUq%2BftCjwTFydt3Sr17Clt2%2BbtaqpWUuLtCs7Ovfd6u4Iz8ivwdgWeOfm0t9ksEHyMGOHtCjwT8N%2BX0wEDrPfcMpPP/8D5NmYPAADAAkjaAACAOUjaDKFpAwAA5qBpM4TZAwAAsACSNgAAYA6SNkOYPQAAAAsgaQMAAOYgaTOEpg0AAJiDps0QZg8AAMACSNoAAIA5SNoMoWkDAADmoGkzhNkDAACwAJI2AABgDpI2Q5g9AAAACyBpAwAA5iBpM4SmDQAAmIOmzRBmDwAAnLfS09M1btw4de/eXX379tXLL7%2Bs0tLSCuutWLFCUVFRio2NdfvIysqSJJ04cUJPPfWU%2BvTpox49eigxMVHZ2dk1WitNGwAAMIefX81/GDRx4kRdeOGF2rhxo5YsWaLNmzdryZIlFdbLz89Xz549lZyc7PbRuHFjSdKcOXO0a9cuJSUl6dNPP5XNZtNjjz1muL5T0bQBAIDzUnJysvbu3aspU6YoODhYrVq10pgxY7R8%2BfIK6%2Bbm5io0NLTS/ZSWlmrlypW6//771bRpU4WGhmrSpEn64osvdOTIkRqrl3PaAACAOWrhnLaMjAxlZma6jUVERMhut59x2507d6p58%2BZuzVh0dLRSU1NVUFCgBg0auMbz8vKUlpamoUOHKjU1Va1atdJDDz2kK6%2B8UmlpacrPz1eHDh1c67dp00ZBQUHauXOnmjRpUgOPlKYNAACYpRaatqSkJM2bN89tbMKECUpMTDzjtjk5OQoJCXEbO9nAORwOt6atYcOGstvtmjJlipo1a6akpCTde%2B%2B9%2Bvjjj5WbmytJFfYVEhIih8NxTo%2BrMjRtAADAsoYPH674%2BHi3sYiIiHPen9PplCTZbDa38dObwDFjxmjdunVas2aN%2BvTpU%2BW%2BTt%2BPETRtAADAHLWQtNntdo8OhVYmPDy8QhKWm5srm82msLCwM25/0UUXKSMjQ%2BHh4ZLK07l69eq5lufl5bmW1QQuRAAAAOelmJgYHTp0yO3WHMnJybrkkktUv359t3UXLlyob7/91m0sJSVFLVq0UIsWLRQaGqqdO3e6lv30008qKipSTExMjdVL0wYAAMzhY7f8iI6OVseOHTVnzhwVFBQoJSVFixcv1siRIyVJAwcO1JYtWyRJWVlZevbZZ5WamqoTJ05o8eLFSk9P15AhQ%2BTv769hw4bp7bff1m%2B//SaHw6FXXnlF11xzjeuWIDWBw6MAAMAcPviOCHPnztW0adMUHx%2Bv4OBgJSQkaNSoUZKk1NRUFRYWSpIefvhhOZ1O3XnnnSosLFRkZKSWLl3qujJ04sSJKiws1PDhw1VSUqKePXvqmWeeqdFabc6TZ9yhZh075u0KPGOzSUFB0vHjkq//KJxynoBPi4uTtm6VunSRtm3zdjVVKynxdgWe8/eXKrlDua/JLfD3dgke8fOTgoOl/HyprMzb1VQvtCjzzCv5goAAKSxMcjh8/7ll4CR9w158seb3WcM3sPVlJG0AAMAcPpi0WQmzBwAAYAEkbQAAwBwkbYbQtAEAAHPQtBnC7AEAAFgASRsAADAHSZshzB4AAIAFkLQBAABzkLQZQtMGAADMQdNmiE/N3q%2B//qrY2FilpqZ6uxQAAACf4lNNW/PmzZWcnKzWrVtXu158fLyuuuoq1/uBnfTtt98qPj6%2BNksEAADnysfeMN5qLPtoT5w4oTfffNPbZQAAAJjCp5q2gwcPql27dkpJSdFHH32ka6%2B9Vp07d1Z8fLyWLFnitm5iYqLef//9ag%2Bl/vrrr7rvvvvUvXt3devWTU899ZSOHz%2ButLQ0tW/fXvn5%2BZKkoqIidezYUbNmzXJtO2/ePCUmJtbK4wQA4LxE0maIT16I4HA49NRTT2nRokW64oortGfPHo0ZM0Y9evRQVFSUJOmSSy7RsGHDNGPGDL3zzjsV9uF0OjV%2B/HjFxcXps88%2B07Fjx/TQQw/p%2Beef13PPPacmTZrohx9%2BUO/evbV9%2B3Y1a9ZM33//vWv7LVu26JprrvGo3oyMDGVmZrqNRYSEyB4RYWAWTGKzuX/2ZXFx3q7AM//9GXV9xnnDKq8fJ%2Bu0RL0BPvkyVZG/v/tnVM4SP3S%2ByyefDSEhISorK1P9%2BvUlSVFRUfrqq6/kd9p/dmJiogYOHKgNGzZUaLCSk5O1b98%2BffDBB6pXr57q1aunxMREjR07VtOnT1f37t21bds29e7dW999950GDRqk9957TydOnJC/v79%2B/PFHPf300x7Vm5SUpHnz5rmNTXjgASVOnGhgFkwWGOjtCs5s61ZvV3B2/vY3b1fwx2KBF8PgYG9XcHb%2B%2ByvWx4V5u4CzExLi7QrwB%2BaTTZu/v7%2BGDBmiESNGqGvXrurdu7duueUWNWrUyG29Bg0aaMqUKXrxxRfVu3dvt2Xp6ekqLS1Vjx493MZLS0vlcDjUo0cPffLJJ5LKU7Vx48Zp69atSk5OVt26dRUcHKw2bdp4VO/w4cMrXAARERIiHT9%2Btg/dfDZbecN24oTkdHq7mur17OntCjwTFVXesI0aJe3Z4%2B1qqvbdd96uwHP%2B/lJpqberOKP8Qt9vLKXysKN%2BfenoUamszNvVVC%2B4xOHtEjzj71/esOXl%2Bf7PapgXG2GSNkN8smmTpBdffFF/%2BtOftGnTJq1Zs0bvvPOOli9frpYtW7qtl5CQoKSkJC1YsMCtQQsMDFS9evW0bdu2Svffo0cPPffccyoqKlJycrI6deqkuLg4ff/996pTp46uuOIKj2u12%2B2y2%2B3ug8eO%2BX4TdCqn0/frreL/0mft2WO9mmGIrzdApysrs0DNJSXeruDslJZar2ZYhk%2B2vE6nUzk5OWrbtq3uuecerVq1SqGhodq4cWOl6z/zzDNasmSJDhw44Bpr2bKlCgsLlZ6e7horKCiQw1H%2BV1vTpk3VqFEjrV69Wq1atdIFF1yguLg4bd26VVu2bDmrpg0AAHiACxEM8clHu2nTJt18881KSUmRJKWlpSk3N7dCynZSVFSUEhIS9Prrr7vGIiMjFRcXp%2Beff17Z2dnKy8vTM888o0cffdS1Tvfu3fXOO%2B%2Boa9eukqTOnTtr%2B/bt%2BvHHHyscVgUAAAbRtBnik4%2B2f//%2BuvHGG3XXXXepY8eOGjdunMaMGaP%2B/ftXuc2kSZNUclokPWfOHDmdTvXr10/XXHONSktL9dJLL7mW9%2BjRQ7/88ouraWvQoIEiIiLUoEEDXXjhhbXz4AAAAM6Bzen09ROZLOo2GcF0AAAgAElEQVTYMW9X4BmbTQoKKr9owtd/FOrV83YFnomLK7/StUsX3z6nzUrn3VjkQoTcAutciBAcLOXn%2B/45baFFmWdeyRcEBJSf4O9w%2BP5zy5u3o1q6tOb3OXp0ze/TR/lk0gYAAAB3Pnv1KAAA%2BIM5z85Bq2k0bQAAwBw0bYYwewAAABZA0gYAAMxB0mYIswcAAGABJG0AAMAcJG2G0LQBAABz0LQZwuwBAABYAEkbAAAwB0mbITRtAADAHDRthjB7AAAAFkDSBgAAzEHSZgizBwAAYAEkbQAAwBwkbYbQtAEAAHPQtBnC7AEAAFgASRsAADAHSZshzB4AAIAFkLQBAABzkLQZQtMGAADMQdNmCLMHAADOW%2Bnp6Ro3bpy6d%2B%2Buvn376uWXX1ZpaWml637wwQcaMGCA4uLiNHjwYG3cuNG1bO7cuWrfvr1iY2NdH5dddlmN1krSBgAAzOGDSdvEiRMVExOjV155RdnZ2brnnnvUuHFjjR071m29jRs3as6cOVqwYIE6deqkNWvWaNKkSfrHP/6hFi1aKC8vT7feequee%2B65WqvV92YPAADABMnJydq7d6%2BmTJmi4OBgtWrVSmPGjNHy5csrrFtYWKiHHnpIXbt2VUBAgG6%2B%2BWbVr19fP/zwgyQpLy9PoaGhtVovSRsAADBHLSRtGRkZyszMdBuLiIiQ3W4/47Y7d%2B5U8%2BbN3Zqt6OhopaamqqCgQA0aNHCN33jjjW7b5uXl6ejRo2rSpInr699%2B%2B02DBw/W4cOH1a5dO02dOlUxMTFGHp4bmjYAAGCOWmjakpKSNG/ePLexCRMmKDEx8Yzb5uTkKCQkxG3sZAPncDjcmrZTOZ1OPfnkk%2BrUqZMuv/xySeWNYv369fXSSy8pJCRE8%2BfP1913361//vOfCg8PP5eHVgFNGwAAsKzhw4crPj7ebSwiIuKc9%2Bd0OiVJNput0uXFxcWaOnWq9u3bp2XLlrnGTz%2BX7ZFHHtHatWu1adMmDR069JzrORVNGwAAMEctJG12u92jQ6GVCQ8Pl8PhcBvLzc2VzWZTWFhYhfWPHz%2Bu%2B%2B%2B/X8eOHdP7779f6Ton%2Bfv7q2nTpsrIyDin2irDhQgAAOC8FBMTo0OHDik7O9s1lpycrEsuuUT169d3W9fpdGry5MkKCAjQkiVL3Bo2p9OpmTNnau/eva6x4uJiHThwQC1atKixemnaAACAOfz8av7DgOjoaHXs2FFz5sxRQUGBUlJStHjxYo0cOVKSNHDgQG3ZskWStGbNGu3bt0%2Bvv/66AgMD3fZjs9mUlpam6dOn68iRIzp69Khmz56tunXrqn///oZqPBWHRwEAgDl88D5tc%2BfO1bRp0xQfH6/g4GAlJCRo1KhRkqTU1FQVFhZKklasWKFff/3VdeHBSTfddJNmzJih559/Xi%2B%2B%2BKKGDBmi4uJixcbGatmyZapXr16N1WpznjzjDjXr2DFvV%2BAZm00KCpKOH5d8/UehBn/wa1VcnLR1q9Sli7Rtm7erqVpJibcr8Jy/v1TFHcp9SW6Bv7dL8IifnxQcLOXnS2Vl3q6meqFFmWdeyRcEBEhhYZLD4fvPLQMn6Rv2zTc1v88rrqj5ffookjYAAGAOH0zarITZAwAAsACSNgAAYA6SNkNo2mrLCy94uwLPNG0q3X%2B/tGiR9Ntv3q6mer5%2BnsjpvvvO2xVUL8AiT/%2BT5wh26%2Bbb5whKKsrw8fNC/%2Bvkf31JiQWeVmvXersCzzRqJN14o/Tll9Lvv3u7muqNGeO9703TZgizBwAAYAEW%2BVMbAABYHkmbIcweAACABZC0AQAAc5C0GULTBgAAzEHTZgizBwAAYAEkbQAAwBwkbYYwewAAABZA0gYAAMxB0mYITRsAADAHTZshzB4AAIAFkLQBAABzkLQZwuwBAABYAEkbAAAwB0mbITRtAADAHDRthjB7AAAAFkDSBgAAzEHSZghNGwAAMAdNmyHMHgAAgAWQtAEAAHOQtBnC7AEAAFgASRsAADAHSZshNG0AAMAcNG2GMHsAAAAWQNIGAADMQdJmCLMHAABgASRtAADAHCRthtC0AQAAc9C0GcLsAQAAWABJGwAAMAdJmyHMHgAAgAWQtAEAAHOQtBlC0wYAAMxB02YIswcAAGABJG0AAMAcJG2GMHsAAAAWQNIGAADMQdJmCE0bAAAwB02bIcweAAA4b6Wnp2vcuHHq3r27%2Bvbtq5dfflmlpaWVrrtkyRINGDBAXbt21ciRI7V9%2B3bXshMnTuipp55Snz591KNHDyUmJio7O7tGa6VpAwAA5vDzq/kPgyZOnKgLL7xQGzdu1JIlS7R582YtWbKkwnobN27U/PnzNXPmTH311Vfq16%2Bfxo8fr6NHj0qS5syZo127dikpKUmffvqpbDabHnvsMcP1ncpnmrZ27dppyZIl6tWrl%2BbPny9J2rJli4YNG6YuXbpowIABevXVV1VWVuba5u9//7uuu%2B46denSRTfffLPWr1/vWnbHHXfozTff1IQJE9S5c2cNGjRI%2B/fv14wZM3TZZZfpqquu0r///W9JUmlpqV544QX16tVLnTt31k033aSvv/7a3AkAAACmSk5O1t69ezVlyhQFBwerVatWGjNmjJYvX15h3eXLl2vIkCHq1KmTgoKCNHbsWPn5%2Benzzz9XaWmpVq5cqfvvv19NmzZVaGioJk2apC%2B%2B%2BEJHjhypsXp96py2jRs3avXq1WrUqJGysrI0duxYPfrooxo6dKj27t2rcePGyW6367bbbtOmTZs0a9YsLViwQB07dtT69ev18MMPq23btmrXrp0k6cMPP9Trr7%2Bul156SbfddpvuvvtuTZw4UY8%2B%2BqimTZumWbNmqU%2BfPlq3bp3Wr1%2Bvjz76SHa7XevWrdOjjz6qzz//XAEBZ56ijIwMZWZmuo1F1K0re6NGtTJPNapxY/fPOH/ExXm7As9ERbl/9mEe/LrwCf7%2B7p99mhV%2Bj0pSaKj7Z1SuFs5pq/Q1OCJCdrv9jNvu3LlTzZs3V%2Bgp/2/R0dFKTU1VQUGBGjRo4Lbu9ddf7/raZrMpKipKycnJat%2B%2BvfLz89WhQwfX8jZt2igoKEg7d%2B5UkyZNjDxEF5/6FXPdddep8X%2Bbh7Vr16pZs2a67bbbJEmxsbFKSEjQhg0bdNttt2nFihUaNGiQLrvsMklSQkKCli1bpk2bNrmatq5du6pTp06SpMsvv1yfffaZhgwZIkm6%2BuqrtWbNGklSXl6e/P39FRQUJD8/Pw0ePFg33HCD/Dz84UpKStK8efPcxiY88IAS77/f4IyYaNgwb1fwx%2BPrr4hbt3q7grPzt795u4IzCvN2AWcpJMTbFXjgxhu9XcHZueoqb1fg05yy1fg%2BK30NnjBBiYmJZ9w2JydHIac9EU42cA6Hw61py8nJcWvuTq7rcDiUk5MjSRX2FRISIofD4fmDOQOfatqaNm3q%2BvfBgwfVtm1bt%2BVt2rTRZ5995lreo0cPt%2BWtW7fWb7/95vr61M42MDDQ7eugoCAVFRVJkm644QatXLlSffv21ZVXXqm%2Bfftq8ODBqlu3rkd1Dx8%2BXPHx8W5jEStXSm%2B%2B6dH2XtW4cXnD9uGHUlaWt6up3r33ersCz/n7S1WcyOozunXzdgWeiYoqb9hGjZL27PF2NdVybLJGI%2BzvX96w5eX5/o9p2JefeLsEz4SGljdsX3wh5eZ6u5rqWa0RPoNKX4MjIs55f06nU1J5kubJutWtd6blZ8unmrbTD0We/kCdTqeKi4urXC7JbfnpSVlVyVlYWJhWrFihLVu2aPPmzXrllVf0/vvv68MPP/To8Kjdbq8Yw/7979IpDaTPy8qyVr0wbts2b1dwdvbs8fmaS0q8XcHZKS21QM2//%2B7tCs5Obq71ajbRKael15hKX4M9FB4eXiEJy83Nlc1mU1iYe3YeFhZW6bqXXnqpwsPDJZWnc/Xq1XMtz8vLcy2rCT5zIcLpWrZsqf3797uNpaamqkWLFq7lKSkpVS4/G0VFRTp69Ki6deumP//5z/rwww%2B1c%2BdO7fHxv%2BoBAMC5i4mJ0aFDh9xuzZGcnKxLLrlE9evXr7Duzp07XV%2BXlpZq165d6tSpk1q0aKHQ0FC35T/99JOKiooUExNTY/X6bNPWr18/HThwQElJSSouLtb27du1atUq3XzzzZKk66%2B/XmvWrNEPP/yg4uJirV69Wj/99JNuuOGGs/5eM2bM0KRJk%2BRwOOR0OpWcnKw6deqoWbNmNf2wAAA4b5WV1fyHEdHR0erYsaPmzJmjgoICpaSkaPHixRo5cqQkaeDAgdqyZYskaeTIkVq9erV%2B%2BOEHHTt2TG%2B99Zbq1q2rq6%2B%2BWv7%2B/ho2bJjefvtt/fbbb3I4HHrllVd0zTXXuM7Vrwk%2BdXj0VM2bN9e8efNcV3/a7XZNnDhRCQkJksqbtoMHD%2BrRRx9VVlaW2rRpo0WLFuniiy8%2B6%2B/18MMP65lnntG1116rkpIStWrVSq%2B99lqNRpoAAJzvauPwqFFz587VtGnTFB8fr%2BDgYCUkJGjUqFGSyo/gFRYWSpL69Omjhx56SFOnTlVmZqY6dOighQsXKigoSFL5/d4KCws1fPhwlZSUqGfPnnrmmWdqtFab8%2BQZd6hZTz3l7Qo807SpdP/95RdN%2BPo5bdOmebsCz1nhQgSr3J8iLq78StcuXXz%2BnLbMDGv8Og0IkMLCJIfD989pi1i72NsleKZRo/IT/D/5xPfPaRszxmvf%2BsSJmt9nYGDN79NXWeS3NgAAsDpfTNqsxGfPaQMAAMD/kLQBAABTkLQZQ9MGAABMQdNmDIdHAQAALICkDQAAmIKkzRiSNgAAAAsgaQMAAKYgaTOGpg0AAJiCps0YDo8CAABYAEkbAAAwBUmbMTRtAADAFDRtxnB4FAAAwAJI2gAAgClI2owhaQMAALAAkjYAAGAKkjZjaNoAAIApaNqM4fAoAACABZC0AQAAU5C0GUPSBgAAYAEkbQAAwBQkbcbQtAEAAFPQtBnD4VEAAAALIGkDAACmIGkzhqQNAADAAkjaAACAKUjajKFpAwAApqBpM4bDowAAABZA0gYAAExB0mYMSRsAAIAFkLQBAABTkLQZQ9MGAABMQdNmDIdHAQAALICkDQAAmIKkzRiSNgAAAAuwOZ1Op7eL%2BCNyOLxdgWf8/aWQECkvTyot9XY11fOzyJ8Yfn5ScLCUn%2B/bf1UWFXm7As8EBEhhYeXPqZISb1dTvQi7zdsleCYuTtq6VerSRdq2zdvVVCs3xxovUVZ53ktSaKj3vvf339f8Prt2rfl9%2BioOjwIAAFP4ekPr6yySXQAAAJzfSNoAAIApSNqMIWkDAACwAJI2AABgCpI2Y2jaAACAKWjajOHwKAAAQCUcDocefPBB9ezZU7169dJjjz2mY8eOVbn%2Bv/71L914442Ki4vTNddco6SkJNeyFStWKCoqSrGxsW4fWVlZHtdD0gYAAExhtaTtySefVElJidauXauSkhJNmjRJs2bN0tNPP11h3eTkZE2ZMkWvvPKK%2Bvbtq2%2B%2B%2BUb33Xef2rZtq8suu0z5%2Bfnq2bOnFi1adM71kLQBAACcJisrS5s3b9bkyZMVHh4uu92u8ePHa9WqVSouLq6wvsPh0L333qv%2B/fvL399fvXr1UmRkpLZs2SJJys3NVajBOxuTtAEAAFPURtKWkZGhzMxMt7GIiAjZ7XZD%2B929e7f8/f3Vrl0711h0dLQKCwu1f/9%2Bt3FJ6tOnj/r06eP6uqSkRJmZmWrSpIkkKS8vT2lpaRo6dKhSU1PVqlUrPfTQQ7ryyis9rommDQAAmKI2mrakpCTNmzfPbWzChAlKTEw0tN%2BcnBw1aNBANtv/3p7uZFLm8OC9KmfPnq169erp%2BuuvlyQ1bNhQdrtdU6ZMUbNmzZSUlKR7771XH3/8sdq2betRTTRtAADAsoYPH674%2BHi3sYiICI%2B2Xb16tR5//PFKl73wwgtVbndqI3c6p9Op2bNna%2B3atVq2bJkCAwMlqUITOWbMGK1bt05r1qzRpEmTPKqXpg0AAJiiNpI2u91%2BzodCExISlJCQUOmyr776Svn5%2BSotLZW/v7%2Bk8vRNksLDwyvdpqysTI899pi2b9%2BuDz74QC1atKj2%2B1900UXKyMjwuF4uRAAAADhN%2B/bt5XQ6tWfPHtdYcnKyQkJC1Lp160q3eeGFF/Tzzz9X2rAtXLhQ3377rdtYSkrKGRu7U9G0AQAAU5SV1fxHbQkPD9eAAQP02muvKTs7W4cPH9b8%2BfN16623KiCg/EDl6NGjtX79eknS999/r08%2B%2BUQLFy5Uw4YNK%2BwvKytLzz77rFJTU3XixAktXrxY6enpGjJkiMc1cXgUAACYwmr3aZs%2BfbqmTZumQYMGKSAgQP3799fkyZNdy9PT05Wbmyup/Oa5%2Bfn56tu3r9s%2BunXrpkWLFunhhx%2BW0%2BnUnXfeqcLCQkVGRmrp0qWuq0s9YXM6nc6aeWg4lQcXlvgEf38pJETKy5NKS71dTfX8LJIL%2B/lJwcFSfr5v/4IqKvJ2BZ4JCJDCwsqfUyUl3q6mehH2qk9O9ilxcdLWrVKXLtK2bd6uplq5OdZ4ibLK816SDN4qzJBPP635fQ4YUPP79FUkbQAAwBS%2B3tD6Opo2AABgCpo2YyxywAkAAOD8RtIGAABMQdJmDEkbAACABZC0AQAAU5C0GUPTBgAATEHTZgyHRwEAACyApA0AAJiCpM0YkjYAAAALIGkDAACmIGkzhqYNAACYgqbNGA6PAgAAWABJGwAAMAVJmzEkbQAAABZA0gYAAExB0mYMTRsAADAFTZsxHB4FAACwAJI2AABgCpI2YyybtP3nP/9Rnz59dP3116tdu3Y6ceKEt0sCAACoNZZt2t5991117txZTz31lLdLAQAAHigrq/mP84llD4/m5eWpU6dO8vOzbN8JAMB55XxrsmqaJZu222%2B/XVu2bNH333%2BvDRs2uC07fPiwnn32WW3dulWBgYHq1q2bnnrqKTVs2FCStGXLFs2cOVP79u1TRESEBg4cqAcffFB%2Bfn564403tGPHDl1wwQXavHmztm/f7o2HBwAAUIElm7b33ntPd9xxhzp16qTevXvrzjvvdC27//77dckll2jTpk0qLCxUYmKinnnmGb3%2B%2BuvKysrS2LFj9eijj2ro0KHau3evxo0bJ7vdrttuu02S9MMPP%2BjBBx/U7NmzPa4nIyNDmZmZbmNBQRGKiLDXzAOuRSeDSisEljabtyvwjFXmNMAiz35/f/fPPi0uztsVeCYqyv2zD/P159FJVnneextJmzEW%2BbXtmd27d2vnzp1asGCBGjRooAYNGujee%2B/VxIkTVVZWprVr16pZs2auBi02NlYJCQnasGGDa8zPz08jR46U7Sw6hKSkJM2bN89t7IEHJmjixMSae3C1rEEDb1fwx1O/vrcr%2BGMJCfF2BR7YutXbFZydv/3N2xWcUbC3CzhLPO9Rm/5QTdvBgwcVGhqqiIgI11ibNm1UXFyszMxMHTx4UG3btnXbpk2bNvrss89cXzdt2vSsGjZJGj58uOLj493GgoIilJd3Dg/CZH5%2B5Q1bQYHv/wVkpaStfn3p6FHfntOSEm9X4Bl///KGLS9PKi31djXVC%2BvXxdsleCYqqrxhGzVK2rPH29VUK/8LazTCVnneS1KwFzthX58bX/eHatokVWi4nE6nJKm4uLjK5SeXSVLAORwzstvtstvdD4U6HL7/AnOqsjLfr9dqhx18/comqzRtJ5WWWqDmbdu8XcHZ2bPH52v25edQZXz9ee9tzI0xFnsZrF6LFi2Uk5Oj33//3TWWmpqqwMBANWnSRC1bttT%2B/fvdtklNTVWLFi3MLhUAAOCs/KGatnbt2qlt27aaPXu2CgsLdeTIEb399tu64YYbVKdOHfXr108HDhxQUlKSiouLtX37dq1atUo333yzt0sHAOAPj/u0GfOHatpsNpvefPNNZWRk6Oqrr9awYcMUGxurp59%2BWpLUvHlzzZs3T0lJSbr88sv1yCOPaOLEiUpISPBy5QAAANWzOU%2Be9IUa5XB4uwLPWOkkb6uc0%2BbnV36ib36%2Bb/8VWFTk7Qo8ExAghYWVP6d8/Zy2CLtFrpaJiyu/0rVLF58/py03xxovUVZ53ktSaKj3vvcbb9T8PhOtc6MGw/5wFyIAAADf5OsNra%2BzSHYBAABwfiNpAwAApiBpM4akDQAAwAJI2gAAgClI2oyhaQMAAKagaTOGw6MAAAAWQNIGAABMQdJmDEkbAACABZC0AQAAU5C0GUPSBgAATGG1N4x3OBx68MEH1bNnT/Xq1UuPPfaYjh07Vum6//nPf9SuXTvFxsa6fWzfvv2/j71Mc%2BbMUb9%2B/dStWzeNHTtWaWlpZ1UPTRsAAEAlnnzySR0/flxr167VypUrlZaWplmzZlW6bn5%2Bvi6%2B%2BGIlJye7fXTs2FGS9O6772rdunVauHChPv/8c7Vp00YTJkzQ2bwFPE0bAAAwhZWStqysLG3evFmTJ09WeHi47Ha7xo8fr1WrVqm4uLjC%2Brm5uQoNDa1yf8uXL9ddd92ltm3bqn79%2Bpo0aZJSU1P1448/elwTTRsAAMBpdu/eLX9/f7Vr1841Fh0drcLCQu3fv7/C%2Bnl5ecrNzdUdd9yhbt26afDgwfrkk08kScePH9e%2BffsUHR3tWr9%2B/fpq2bKlkpOTPa6JCxEAAIApaiMZy8jIUGZmpttYRESE7Ha7of3m5OSoQYMGstlsrrGTSZrD4aiwfr169dSkSRM99NBDat%2B%2Bvf71r39p6tSpioiIUJs2beR0OiskcaGhoZXuqyo0bQAAwBS10bQlJSVp3rx5bmMTJkxQYmLiGbddvXq1Hn/88UqXvfDCC1Vud2ojd9KIESM0YsQI19eDBw/Wxo0btXLlSk2ZMqXS/Tidzkr3VRWaNgAAYFnDhw9XfHy821hERIRH2yYkJCghIaHSZV999ZXy8/NVWloqf39/SeXpmySFh4d7tP%2BLLrpIO3bsUMOGDeXn51chVcvNzfV4XxJNGwAAMEltJG12u93wodDKtG/fXk6nU3v27FGHDh0kScnJyQoJCVHr1q0rrP/hhx8qNDRUAwYMcI2lpKSoRYsWCgwM1KWXXqqdO3fq8ssvl1R%2BDtyBAwdcV5d6ggsRAACAKax09Wh4eLgGDBig1157TdnZ2Tp8%2BLDmz5%2BvW2%2B9VQEB5ZnX6NGjtX79eknSsWPHNH36dO3YsUPFxcVav369vvzyS40cOVKSNHLkSC1btkwpKSkqKCjQ7Nmz1b59e8XGxnpcE0kbAABAJaZPn65p06Zp0KBBCggIUP/%2B/TV58mTX8vT0dOXm5kqS7rzzThUUFGjixIlyOBxq3bq13nzzTVdKN2LECGVlZWncuHE6evSo4uLiKpyLdyY259nc1Q0eO4uLQbzK318KCZHy8qTSUm9XUz0/i%2BTCfn5ScLCUn%2B/bb9lSVOTtCjwTECCFhZU/p0pKvF1N9SLsnp9Q7FVxcdLWrVKXLtK2bd6uplq5OdZ4ibLK816SqrmVWK177LGa3%2BeLL9b8Pn2VRV4GAQAAzm8cHgUAAKbw9RTS19G0AQAAU9C0GcPhUQAAAAsgaQMAAKYgaTOGpA0AAMACSNoAAIApSNqMoWkDAACmoGkzhsOjAAAAFkDSBgAATEHSZgxJGwAAgAWQtAEAAFOQtBlD0wYAAExB02YMh0cBAAAsgKQNAACYgqTNGJq2WhL23hveLsEzERHSiBEKWf93KTPT29VUb8QIb1fgmYAASWEKLnFIJSXerqZqa9d6uwLPNGok3Xijwr78RPr9d29XU63cHKe3S/CIn58ULCn/i60%2B/yIa2tDm7RI8Excnbd2q4Ku6SNu2ebua6jmt8XOKimjaAACAKXz9jwRfR9MGAABMQdNmDBciAAAAWABJGwAAMAVJmzEkbQAAABZA0gYAAExB0mYMTRsAADAFTZsxHB4FAACwAJI2AABgCpI2Y0jaAAAALICkDQAAmIKkzRiaNgAAYAqaNmM4PAoAAGABJG0AAMAUJG3GkLQBAABYAEkbAAAwBUmbMTRtAADAFDRtxnB4FAAAwAJI2gAAgClI2owhaQMAALAAkjYAAGAKkjZjaNoAAIApaNqM4fAoAACABZC0AQAAU5C0GUPTBgAATEHTZgyHRwEAACyApA0AAJjCakmbw%2BHQtGnT9N1338nPz0%2B9e/fW008/rQsuuKDCuk8%2B%2BaQ%2B/vhjt7GysjJ16dJF7777rlasWKEnnnhCderUcVvns88%2BU%2BPGjT2qh6QNAACgEk8%2B%2BaSOHz%2ButWvXauXKlUpLS9OsWbMqXXfGjBlKTk52fWzfvl2xsbEaPHiwJCk/P189e/Z0Wyc5Odnjhk2iaQMAACYpK6v5j9qSlZWlzZs3a/LkyQoPD5fdbtf48eO1atUqFRcXn3H7pKQklZWVaejQoZKk3NxchYaGGqqJpg0AAJjCSk3b7t275e/vr3bt2rnGoqOjVVhYqP3791e77dGjR/Xqq69q6tSpstlskqS8vDylpaVp6NChuuyyy3TLLbfoq6%2B%2BOquaOKcNAABYVkZGhjIzM93GIiIiZLfbDe03JydHDRo0cDVdklxJmcPhqHbbDz74QFFRUerSpYtrrGHDhrLb7ZoyZYqaNWumpKQk3Xvvvfr444/Vtm1bj2qiaQMAAKaojWQsKSlJ8%2BbNcxubMGGCEhMTz7jt6tWr9fjjj1e67IUXXqhyu1MbudOVlZVp6dKlmj59utv46fWMGTNG69at05o1azRp0qQz1irRtAEAAAsbPny44uPj3cYiIiI82jYhIUEJCQmVLvvqq6%2BUn5%2Bv0tJS%2Bfv7SypP3yQpPDy8yn1u2bJFBQUFuvLKK8/4/S%2B66CJlZGR4VKtE0wYAAExSG0mb3W43fCi0Mu3bt5fT6dSePXvUoUMHSVJycrJCQkLUunXrKrfbuHGjevToobp167qNL1y4UIqYF4sAAB8gSURBVJ06dVL37t1dYykpKbr%2B%2Bus9rokLEQAAgCmsdCFCeHi4BgwYoNdee03Z2dk6fPiw5s%2Bfr1tvvVUBAeWZ1%2BjRo7V%2B/Xq37Xbt2qUWLVpU2F9WVpaeffZZpaam6sSJE1q8eLHS09M1ZMgQj2siaQMAAKjE9OnTNW3aNA0aNEgBAQHq37%2B/Jk%2Be7Fqenp6u3Nxct20yMzMrTf4efvhhOZ1O3XnnnSosLFRkZKSWLl2qJk2aeFwPTRsAADCF1d4RITg4WHPmzKly%2BebNmyuMffrpp5WuGxgYqCeeeEJPPPHEOdfjlcOjb7zxhtq1a6cVK1ZUWJadna0OHTrojjvu8GhfpaWlWrx4cU2XCAAA4FO8dk5bo0aNtGbNmgrj//jHPxQSEuLxfnbt2qW//vWvNVkaAACoBVY6p80XnVXTtmDBAl199dXq1KmTBgwYoLVr10qS1q5dqz59%2BiguLk4PPfSQZs6c6UrKVq5cqUGDBunll19Wp06ddOjQIUlSt27d9OOPP%2BrIkSNu3%2BPkvk61Z88ejR49Wpdddpl69OihV155RaWlpdq%2BfbtGjBihrKys/9/enYdFVe9/AH8PpIAp4IYsiQbYJQQMBOTiClYKgiylIvdaiWbhdbmWRuX1iqZ2VTALtQwtpdK4ZoIC4lWIShQVNVByDwVlFUEWF9bfH/6cpwnMGcH5cmber%2BfpUc85ju858TAfPt/lwMHBAZmZmQCAr7/%2BGt7e3hg0aBDGjRuHw4cPy19rypQpWL16NcaPH4/Q0NA/fV9ERETUfli0tY3Sc9qOHz%2BO9evXY%2BfOnbCxscHRo0cRFhaGoUOH4v3338dbb72FkJAQHDx4EAsWLICdnZ3875aWlqJz587IysqSr7gwMDDA8OHDkZSUJC%2Berl27Jl9JsXv3bgDArVu3MH36dISEhCAmJgYlJSWYOXMmunTpgjfffBMffPABoqKi5I%2BC2LdvH6KjoxETEwM7OzukpaVhxowZ2LdvH8zNzQEASUlJ%2BOSTT%2BDg4PCn76t79%2B5K3ZtWd2PW0YFJz57K3l5x7r9HJd%2BrUE9IZArm/%2B/nI/%2B1o5LC1ycA3H9WXxuf2acOOhJZj38/pyTyOjmJTqAcW1vFX4keA6U/BauqqgAAXbp0gUwmw5AhQ5CVlYW9e/dCX18fU6ZMga6uLry8vODs7Iw7d%2B7I/251dTVef/11dOrUSeE1x48fj/Xr18uLtqSkJIwdO1a%2BiR0A/Pjjj2hubsbMmTMBAH379sW0adOwceNGvPnmmy1y7ty5ExMmTICjoyMA4MUXX4SzszMSExMxY8YMAICjo6P8/IPel44K381a3Y35H//A7OBgpV9DuDFjRCfQPCoM8wsxfrzoBKoZOVJ0gofqJjqAip58UnQCJZw4ITqBarZtE52gQ9O2zlh7U7po8/DwgJubG8aMGQN3d3eMGjUKAQEBKC4uhqmpqUKhZW1tjdzcXPmfDQ0N0bVr1xavOXLkSPzrX//CxYsXYWNjg8TERCxbtgwXL16UX1NQUIDy8nI4ODjIjzU3N7fYtO6%2B/Px8ZGRkYOvWrQrX29jYyP98v%2BP2Z%2B%2BrtbwP0upuzOnpwLffKv0awnTvfq9g27cPeMiz1ISTSmGpq3uvYKuqAhobRad5sJ9/Fp1AOUZG9wq2H38E/rC0vqOp9pRGIayjc69gq63t%2BB%2Bi3UY6P/yijsDW9l7BFhICnD0rOs2fk1ohTHJKF216enrYtGkTTp8%2BjbS0NHz55Zf44osvEBIS0uIZXE1/%2BC7wxAOGtTp16gQfHx/s2bMHfn5%2BuHv3LhwdHRWKNj09PQwYMKDVRQut0dfXx9tvvy3v3rXm93ke9L527dolfzDsw7S6G3NaGvCHIdMOraKi4%2BdtaBCdQDWNjR07c3m56ASquXmzw2fu6AXQH0liTtDJk6ITqObsWellVqMO//XWwSk9BtjQ0ICqqirY29tjzpw52LNnDyoqKmBiYoLi4mKFQu3ChQtKBwgICEBKSgqSk5Ph5%2BfX4rylpSUKCgpQW1srP1ZRUYGamppWX8/S0hLnzp1TOFZYWIjm5maV3tf9RQ1ERETUPrgQoW2ULto2b96MV199FcXFxQCAc%2BfOob6%2BHv3790dtbS22b9%2BOuro67N%2B/H6dOnVI6gKOjI2QyGeLj4%2BHr69vi/LBhw9CjRw%2BsXLkSNTU1KCsrw9y5cxEZGQngXmeturoaV69exZ07dzBp0iQkJycjPT0dDQ0NyMzMhK%2BvL7Kzs1V6X5aWlkq/ByIiIqLHTenh0alTp6KwsBABAQG4ffs2zMzMsHjxYjg6OmLVqlVYs2YNVq9eDU9PTwQGBuKsCmP6/v7%2BSEtLQ//%2B/Vuc69SpEzZs2IBly5Zh6NCh6Nq1K0aPHo3w8HAAgLu7O5566il4e3tj5cqV8PHxQXh4OJYuXYrr16/jqaeeQkREBJ577jmV3tezzz6rdH4iIiJ6OG3rjLU3WfODxg3bIDIyEtnZ2fjqq6/a%2B6WlIzpadALl9O4NBAffWzTR0ee0SWU17hNP3FvgUVHRsee0SWU/wp4976103b27w89puxk0VXQEpejoAN26AdXVHf9D1MhY9vCLOgInp3sT/J2dO/6ctvb/2Ffa79YUthsVBvckTyIbXxEREZHUdfQfEjo6Fm1ERESkFiza2uaxFG3z589/HC9LREREpLXYaSMiIiK1YKetbaTw5DkiIiIircdOGxEREakFO21tw6KNiIiI1IJFW9tweJSIiIhIAthpIyIiIrVgp61t2GkjIiIikgB22oiIiEgt2GlrGxZtREREpBYs2tqGw6NEREREEsBOGxEREakFO21tw04bERERkQSw00ZERERqwU5b27BoIyIiIrVg0dY2HB4lIiIikgB22oiIiEgt2GlrGxZtREREpBYs2tqGw6NEREREEsBOGxEREakFO21tw04bERERkQSw00ZERERqwU5b27BoIyIiIrVg0dY2HB4lIiIikgB22oiIiEgt2GlrG3baiIiIiCSAnTYiIiJSC3ba2oZFGxEREakFi7a24fAoERERkQSwaCMiIiK1aGpq//8et1OnTuGFF17AxIkTH3rtli1bMGbMGAwePBiTJ09GTk6O/Nzdu3exaNEijBgxAu7u7pg9ezZu3LihUhYWbURERESt2L17N2bPno1%2B/fo99NoDBw5g/fr1WLVqFTIyMjB69GiEhYWhtrYWABAVFYVff/0VcXFx2LdvH2QyGd577z2V8rBoIyIiIrWQWqft7t27iIuLw6BBgx567Y4dOxAUFIRBgwZBX18f06ZNg46ODtLT09HY2Ijvv/8eM2fOhJmZGYyMjPDPf/4TP/74I0pKSpTOw6KNiIiI1EJqRduECRPQp08fpa7Nzc2FnZ2d/M8ymQy2trY4deoUrly5gurqagwcOFB%2B3srKCvr6%2BsjNzVU6D1ePEhERkWSVlpairKxM4Vjv3r1hYmKi1hyVlZUwMjJSOGZkZISKigpUVlYCAAwNDRXOGxoaoqKiQul/g0Xb4zJ7tugESiktLUVcdDQmTZqk9i9wTSWZezp1qugESpHM/QRg9PBLOoTS0lJs2RIniXuK5mbRCZQi/zpNSen491Sgx/G/Mzo6DuvWrVM4NmvWLMxW4nM4Pj4e77//fqvnVqxYgYCAgDZla25uhkwme%2BTzf8SiTcuVlZVh3bp18PLy4jeadsJ72r54P9sf72n74z0VZ9KkSfDy8lI41rt3b6X%2BbkBAQJsLs/u6d%2B/eomt28%2BZNDBgwAD169AAAVFRUoEuXLvLzVVVV8nPKYNFGREREkmViYtIhCmV7e3vk5uYiMDAQANDY2Ihff/0VL7/8Mvr27QsjIyPk5ubCwsICAHD%2B/HnU1dXB3t5e6X%2BDCxGIiIiIHsHYsWORlZUFAJg8eTLi4%2BPxyy%2B/4Pbt2/j000/RuXNnjBo1Crq6upg4cSI%2B%2B%2BwzFBUVoaKiAmvWrMELL7yAXr16Kf3vsdNGRERE1IoxY8agsLAQjY2NaGpqgoODAwAgJSUFFhYWyMvLw61btwAAI0aMwFtvvYV3330XZWVlGDhwID7//HPo6%2BsDAObMmYNbt25h0qRJaGhogIeHBxYvXqxSHllzs0RmedJjUVpairg4iUxIlgje0/bF%2B9n%2BeE/bH%2B8pqQOLNiIiIiIJ4Jw2IiIiIglg0UZEREQkASzaiIiIiCSARRsRERGRBLBoIyIiIpIAFm1EREREEsCijYiIiEgCWLQRERERSQCLNiIiIiIJYNFG1EZz5szB9u3bcfnyZdFRNEpTU5PC73/99VdUVFQITESk6ObNm/LfV1dXY//%2B/Th79qzARKTpWLRpqV9%2B%2BQVLlizBzJkzAdz7UExJSRGcSpqeeeYZ/O9//0NgYCBGjRqF9957DwkJCSgpKREdTbIOHz6MkSNHAgDq6uowceJEBAUFYeTIkfjhhx8Ep5Oe5557TqEIprZLSkrC6NGjAQA1NTUICAhAeHg4JkyYgJ07dwpOR5qKRZsWSkpKQmhoKOrq6vDzzz8DAMrKyrBixQrExsYKTic9s2bNwpdffomsrCx88skn8iLupZdego%2BPj%2Bh4krRq1SqEh4cDABITE1FcXIy0tDSsWrUK0dHRgtNJj6enJ3bs2CE6hkZZt24dNmzYAABISEiATCZDRkYGYmNjsXnzZsHpSFM9IToAqd/atWsRExODwYMHY8%2BePQCAPn36YOPGjZg7dy5eeeUVwQmlqbGxEfX19aivr0djYyOamprQqVMn0bEk6fLly/D19QUA/PDDD/D394e5uTnMzc3x/vvvC04nPbdv38batWvxySefwNTUtMXX5bfffisomXQVFxfDzc0NAJCeno6AgAAYGBjAyckJRUVFgtORpmLRpoWuX78OZ2dnAIBMJpMft7GxQWlpqahYkhUVFYXjx4/j8uXLePbZZ%2BHk5IQpU6Zg0KBB6Nq1q%2Bh4kvTkk0%2BitLQUenp6OHjwIGJiYgAAlZWVeOIJfttSlb29Pezt7UXH0CjGxsa4dOkSDAwMkJmZiXnz5gEASkpKoK%2BvLzgdaSp%2B99NC/fr1w6FDhzB06FCF44mJiTA3NxeUSrpiY2Nhbm6Ov/3tb3B1dcWgQYOgp6cnOpak%2Bfj44OWXX4auri6srKzg4uKC2tpaLFiwAMOGDRMdT3JmzZolOoLGCQ4ORlBQEGQyGdzd3WFnZ4fq6mqEhYVh7NixouORhpI1Nzc3iw5B6pWcnIyFCxfCy8sLKSkpmDx5Ms6dO4eTJ08iKioKY8aMER1RUurq6pCTk4OsrCwcO3YMp0%2BfRv/%2B/eHs7IzBgwfj%2BeefFx1RcpqampCYmIjq6mqMGzcOxsbGqKurw7JlyzB//nwYGhqKjig527dvx/79%2B1FYWIj6%2BnpYWloiMDAQ48ePFx1Nsk6cOIGqqip4eHigc%2BfOaGxsxObNmzF16lROjaDHgkWblsrJyUF8fDzy8/Ohr6%2BPvn37YsKECbCyshIdTfLq6%2BsRHx%2BPTZs2IT8/H2fOnBEdibTc2rVrERcXh4CAAFhZWaG5uRm//fYbdu3ahXnz5iE4OFh0RMmZNm0aFxyQ2nF4VEvZ29tjwIABMDAwAABUVFSgW7duglNJU01NDbKzs3Hy5EmcPHkS2dnZ6NmzJ9zc3DBnzhzR8STp4MGDWLVqFa5cuYK6uroW51kIqyYlJQUxMTEt5rX5%2BPggPDycRdsjuH79Ok6fPs25gqRW7LRpobNnz2LmzJl455135HMvYmJisG3bNmzcuBHPPPOM4ITSYmdnB1NTU7i5ucHd3R3u7u4wNTUVHUvSPD094eHhgVGjRrU6qXv48OECUknX4MGDceTIkRaLOBoaGjBkyBAcP35cUDLpioyMRHJyMhwdHWFmZtZiOPStt94SlIw0GTttWmjJkiWYOHEiPD095cdee%2B01AEBERAS2bdsmKJk0paSkwNLSEsC9jmX37t0FJ5K%2BmpoaLFmyhCtF24mNjQ2%2B%2B%2B67Fh21Xbt2oV%2B/foJSSVt2djYsLCxQXl6O8vJyhXO/X5VP1J7YadNCTk5OyMrKgq6ursLxhoYGuLq64uTJk4KSSdP9CfK7d%2B9GQ0MDTp8%2BjcrKSoSHh%2BPDDz9Ejx49REeUnOXLl2PgwIEICAgQHUUjZGVlYfr06bCwsIC1tTUAIC8vD/n5%2BYiOjsaIESMEJyQiZfDHWC3Uu3dvnDhxAq6urgrHMzIyWGA8gmXLlqGgoACbNm1CaGgoAKBTp07o2rUrli1bhjVr1ghOKD0hISEIDQ3Fhg0b0KdPnxadCz65QzUuLi44cOAAEhMTce3aNQCAq6srRo8ezW1%2B2qC4uBiJiYkoKSnBwoULAdxb5OXo6Cg4GWkqdtq0UEJCAiIiIjB06FBYWFigqakJeXl5OHr0KCIjI/Hiiy%2BKjigpQ4YMwd69e9GjRw8MGjQI2dnZAICqqiqMGTMGhw8fFpxQevz8/KCrqws3N7dW97x7%2B%2B23BaTSDGVlZaivr0efPn1adNtJeZmZmZgxYwacnZ1x/PhxnDp1CkVFRfD19cXSpUsxbtw40RFJA7HTpoX8/f1hbW2NhIQEXLlyBQBgZWWF%2BfPnw9bWVnA66ZHJZHjyySdbHG9sbMTdu3cFJJK%2Bq1evIiMjA126dBEdRSPcvHkTERERSE1NRX19PQBAT08Pvr6%2BWLRoETeDfgTLly/HmjVr8Pzzz8s7a2ZmZli/fj2WLVvGoo0eCxZtWoqPtWk/Tk5OWLlyJRYsWCA/du3aNSxfvlz%2BbEJSzbBhw3Dp0iU4ODiIjqIRli5diqKiInz88ccK%2B7Rt3LgRkZGR8qE9Ul5BQQG8vLwAKC48cHV1xdWrV0XFIg3Hok1LvPvuu/jPf/4D4OFDS1FRUeqIpDEWLVqEsLAwuLq6oqGhAYMHD8atW7fg5OTEe/mI7OzsMHfuXDg7O8PU1BQ6OjoK57mdgmqOHz%2BO7777Dr169ZIf69%2B/PwYOHIjg4GAWbY/A3NwcZ86cwcCBAxWOHzx4ED179hSUijQdizYt8fs9hDp37iwwieYxNzdHQkICcnJycPXqVejp6cHS0hIDBgwQHU2yDh06BAsLC5SUlKCkpEThHLdTUN2dO3daHcI3NDTErVu3BCSSvpCQEEyfPh0TJkxAY2MjtmzZgnPnziE5ORnvvPOO6HikobgQQQtlZWXBxcVFdAwiUpOZM2fCyMgICxYskK8Qv3HjBiIjI1FaWopNmzYJTihN%2B/btw/fff6/wOMDg4GB4eHiIjkYaikWbFho8eDAOHz7MjlsbeXl5PbTrI5PJcODAATUl0iwXLlxAamqq/AHn/fr1w7hx49C3b1/R0SSnpKQEYWFhOHPmDAwNDSGTyXDz5k1YW1tjw4YN8s2hSXlHjx5tdc7q3bt3kZaWBm9vbwGpSNOxaNNCsbGxuHLlCkJCQmBmZtZi13kWc8o5evToA8/l5%2Bfj448/RmNjIw4dOqTGVJohOTlZvpr5/sT5vLw8XLx4EV988QU7xY/ozJkz8n3a%2Bvbti7/85S%2BCE0nX77f3%2Bb1r167Bx8en1XNEbcWiTQs5OTmhoaEB9fX1Cp2i5uZmyGQyPoy7Derq6vDZZ5/hyy%2B/RFBQEObOnQtDQ0PRsSQnKCgIr776Kvz9/RWOx8fHY9u2bfjvf/8rKJl01NXVKX0tf1BT3pYtW7Bp0yaUl5e3uuCgpqYGFhYWSEpKEpCONB2LNi10v0PU1NSEyspKyGQyGBsbyws4blPxaA4cOIAVK1bAzMwMixYt4p53beDi4oLMzMxWH3Du7u6OrKwsQcmkw9bW9qHD9/xBTXVNTU3Izc3F5MmT8cEHH7Q4r6enh7/%2B9a98BjE9Flw9qoWsra0RERGBn376Sf7TuL6%2BPkaNGoVFixYJTic9V65cwdKlS3H%2B/HnMnz%2B/RXeIVGdiYoKcnBw4OzsrHM/NzeV2CkqytrbGv//9bwDA4sWLsXTpUsGJNIOOjg4cHBywbds2Pq6K1I5FmxaaO3cudHR08NFHH8mfO3j16lVs3boV8%2BbNw9atWwUnlIY7d%2B5g/fr1%2BOabbzBp0iR8/PHH6Nq1q%2BhYGuGVV17BjBkz4OfnB2tra8hkMly6dAl79uzBG2%2B8ITqeJNTU1GD79u2wtLTE1atXcfDgwQdey%2B666hwcHPD5558jPj4eZWVlOHbsGGpraxEVFYXw8HA%2BZYIeCw6PaiFHR0dkZGSgW7duCscrKysxcuRITqBV0qhRo1BXV4fZs2fDxsbmgde5urqqMZXmSE1Nxffffy/fXd7S0hLe3t7w8fERnEwaMjMz8fXXX6OqqgrHjh174OINmUyG2NhYNaeTvo8%2B%2Bgjp6ekIDQ3FokWLkJOTg8rKSsydOxdPP/00IiIiREckDcSiTQv5%2Bvriiy%2B%2BgImJicLx0tJShIaGIjExUVAyabn/CJs/I5PJkJqaqoY0RA82ZcoUfPXVV6JjaBQPDw/s2LEDFhYWCitJy8rKEBgY%2BKedTaJHxeFRLTRnzhzMnz8ff//739G/f380NTUhPz8f33zzDaZNm4a8vDz5tU8//bTApB1bWlqa6Agabfv27di/f798nzZLS0sEBgZi/PjxoqNJDgu29ldfXw9TU9MWxw0MDFBbWysgEWkDFm1aaM6cOQBa32fsyJEjkMlkXFWmovPnz%2BOZZ54BcO9B0qmpqejXrx88PT0FJ5OmtWvXIi4uDgEBAfD29pY/4Hz58uW4desWgoODRUckLTdw4EBs2rRJYY7l7du3ERkZCXt7e4HJSJNxeFQL3d9cUxkWFhaPMYlm2Lp1Kz7//HNkZGTgxo0b8PHxgZGREaqqqjB16lTMmDFDdETJGTt2bKsffjk5OQgPD8fevXsFJSO65%2BzZs5g%2BfToAoLy8HAMGDEBBQQF69OiBDRs2cONieizYadNCLMTaV2xsLDZv3gwA2LlzJ0xMTLBr1y5cvnwZb7zxBou2R1BWVtbqPnd2dnYoLS0VkIhIka2tLfbv34/09HQUFBRAX18flpaWGDZsWIv9BYnaC7%2ByiNroxo0b8gLjp59%2Bgp%2BfH3R1dWFtbY3r168LTidNNjY2%2BO6771oMg%2B7atQv9%2BvUTlIpIkYGBAZ8xSmrFoo2ojUxMTHD06FEYGBjgxIkTWLJkCQDgt99%2B4yOsHtGCBQswffp0fPXVV7C2tgYA5OXlIT8/H9HR0YLTkTZ75ZVXlLqO26jQ48CijaiNXn/9dbz22mtobm5GYGAgrKyscPPmTUyfPh0vvfSS6HiS5OLigtTUVCQmJsr3aXN1dcXo0aPlG0ITiXD8%2BHEYGxtjxIgRcHFxgY6OjuhIpEW4EIHoEVy5ckU%2BTJeXl4fy8nIYGxtDR0cHMpkMTU1NSE1NxfPPPw8rKyvBaaXn008/RVhYmOgYRC3cuHEDe/fuRVJSEgoKCuDt7Q0/Pz84ODiIjkZagEUb0SNwdHRETk4OgJYP5r6/XQq3TXl0w4cPR0JCAnr06CE6CtEDFRYWIjExEUlJSbh79y78/Pzg5%2BcHS0tL0dFIQ7FoI3oEhYWF8mG6h22hwtW6qtuyZQtSU1Ph4%2BMDMzOzFqvxhg0bJigZUesuXbqE5ORkxMfHo1evXoiLixMdiTQQizYi6nBa2%2B7jPnYvqaO5dOkS9uzZg5SUFMhkMvj7%2B%2BPNN98UHYs0EIs2IiIiFZWVlSEpKQm7d%2B9GUVERfHx84O/vD0dHR9HRSIOxaCMiIlLSrl27sGfPHmRnZ2PYsGHw9/fHiBEjuKEuqQWLNiIiIiXZ2tqiV69ecHFxgYGBwQOv%2B/DDD9WYirQFfzQgIiJS0j/%2B8Q%2BF1eJE6sROGxERkYqKi4thamoqOgZpGW7lTEREpCJvb280NTWJjkFahkUbERGRioKDgxEdHY3a2lrRUUiLcHiUiIhIRX5%2BfigtLUVNTQ26devWYvXowYMHBSUjTcaFCERERCoKDQ0VHYG0EDttRERERBLAThsREZGKpkyZovTWH7GxsY85DWkLFm1EREQqcnR0RFxcHJydnWFtbY2mpiZcuHABp06dQlBQEDp37iw6ImkgFm1EREQqKi4uxurVq%2BHp6alwfP/%2B/UhJSUFUVJSgZKTJOKeNiIhIRc7Ozjhy5Ag6deqkcLy%2Bvh5ubm44efKkoGSkybhPGxERkYq6deuG7du34499jx07dqBXr16CUpGmY6eNiIhIRYmJiVi4cCH09fVhZmYGmUyGoqIi1NbWYvXq1Rg7dqzoiKSBWLQRERE9gsrKShw6dAjFxcVobm5Gnz590L9/f9jb24uORhqKCxGIiIhUlJSUhMWLFyMrKws1NTUYP348KisrUV9fj4iICLz00kuiI5IG4pw2IiIiFa1btw4bNmwAACQkJEBXVxcZGRmIjY3F5s2bBacjTcWijYiISEXFxcVwc3MDAKSnp8Pf3x8GBgZwcnJCUVGR4HSkqVi0ERERqcjY2BiXLl1CYWEhMjMz4eXlBQAoKSmBvr6%2B4HSkqTinjYiISEXBwcEICgqCTCaDu7s77OzsUF1djbCwMK4cpceGq0eJiIgewYkTJ1BVVQUPDw907twZjY2N2Lx5M6ZOndpi012i9sCijYiIiEgCOKeNiIiISAJYtBERERFJAIs2IiIiIglg0UZEREQkASzaiIiIiCSARRsRERGRBLBoIyIiIpIAFm1EREREEvB/Pe3RafsIsVcAAAAASUVORK5CYII%3D\" class=\"center-img\">\n",
       "    <img src=\"data:image/png;base64,iVBORw0KGgoAAAANSUhEUgAAAm0AAAIjCAYAAABRWSyiAAAABHNCSVQICAgIfAhkiAAAAAlwSFlzAAAPYQAAD2EBqD%2BnaQAAADl0RVh0U29mdHdhcmUAbWF0cGxvdGxpYiB2ZXJzaW9uIDMuMC4zLCBodHRwOi8vbWF0cGxvdGxpYi5vcmcvnQurowAAIABJREFUeJzs3Xt8z/X///H7e8PYwRh7OxNqm8MwkoWU0YccavmQphL5SGoTpVI/lSgqdBAVfXLq9FlyKIfvp5z69PmUfBIy57Accthk52Gn1%2B%2BP5f3xtuHNe17v94vb9XLZZe35Ouzxeva2PXZ/Hd42wzAMAQAAwKv5eLoAAAAAXBxNGwAAgAXQtAEAAFgATRsAAIAF0LQBAABYAE0bAACABdC0AQAAWABNGwAAgAXQtAEAAFgATRsAAIAFlPN0AQDK1pYtW7Ro0SJt2rRJhw4d0smTJ%2BXn5ye73a7mzZurR48eiomJkc1m83SpAIBLYOO9R4Grg2EYeuWVV/TRRx9JkoKDgxUWFqbAwEBlZ2drx44dys7OliR17txZ06ZNU4UKFTxZMgDgEtC0AVeJTz75ROPHj1fFihX10ksvqVevXipX7n9h%2BqlTp/SPf/xDr732moqKihQfH6%2BEhAQPVgwAuBRc0wZcJT777DNJ0sCBAxUbG%2BvUsElSxYoVNWjQIA0dOlSS9OmnnyovL8/0OgEAl4emDbhKHDhwQJIUHh5%2BwfUGDRqkv//971q6dKnj9OiYMWMUHh6u1157TTk5OZo0aZJiYmIUGRmp6OhoJSQkaPfu3efd57p16xQfH6%2BOHTuqefPmio6O1qBBg7R06dLzbpOenq4333xTsbGxioqKUrNmzdS%2BfXs98sgjWr9%2BfanbxMTEKDw8XN99951WrlypHj16KDIyUj///LMk6Z133lF4eLjGjBmjvLw8vfPOO%2BrWrZtatGihW2%2B9VRMmTFBubq4k6ddff9WIESPUoUMHRUZGqnfv3vrqq69K/b4nT57UBx98oHvuuUc33nijmjVrpnbt2mnw4MFauXJlqds88MADCg8P12effaacnBy9%2Beabjlratm2roUOHauvWreedHwA4F00bcJUICQmRJG3evPmi691yyy2qXr16iWU5OTkaNGiQPvvsM1WtWlVt27ZVYWGhvvnmG/Xr16/UJuPNN9/UoEGDtHLlSgUEBKhdu3YKCQnRunXrNHr0aI0cOVKFhYVO26SmpqpPnz56//33tW/fPjVt2lTR0dGqUKGC1q5dqwcffFALFy487zHs27dPo0aNUvny5RUdHa2KFSuWWOepp57S7NmzVadOHd1www06duyYPv74Yz3zzDPavXu34uLitHPnTkVERKh69eravXu3nnrqKX377bdO%2Bzl58qQGDBigKVOmaNu2bWrcuLGio6MVHBysH374QfHx8XrnnXfOW2teXp4GDRqkefPmqVatWmrWrJkKCgr03Xff6YEHHnA02wBwUQaAq8IzzzxjhIWFGeHh4cZrr71mHDt27JK3bd26tdGrVy%2BnbTMzM42%2BffsaYWFhRt%2B%2BfZ22W7lypREWFma0bdvW%2BPbbb52W/fe//zXat29vhIWFGXPmzHFaNmHCBCMsLMzo1q2bcfz4ccd4QUGB8corrxhhYWFGmzZtjOzsbKftOnfubISFhRkxMTHGe%2B%2B9V%2BI4pk2bZoSFhRkdO3Y0evfubaSmpjqWLV261DE/3bt3N9555x2jqKjIMAzDOH36tDFs2DAjLCzMGDJkiNM%2B58yZY4SFhRnR0dFGcnJyqcuaNGliHDhwwGnZ/fffb4SFhRm33XabERcXZ/zxxx%2BOZQcOHDA6dOhghIWFGRMnTixxHABQGpI24CoxcuRI1apVS4Zh6MMPP9Rtt92m%2B%2B%2B/X2%2B99ZZ%2B%2BOEHnTx58qL7yM7O1rhx42S32x1jQUFBGjNmjKTix4n89ttvjmXvvvuuJOmZZ57Rrbfe6rSvtm3b6umnn5YkzZs3T8ZZ9zzVqFFDPXv2VHx8vKpVq%2BYY9/X11ahRo%2BTj46OsrKzzpoZFRUV6%2BOGHz3scKSkpGjNmjFOa2KtXL4WGhsowDJUrV06PPfaY47EnFSpU0H333SdJ2r59u9O%2BAgIC1Lt3bz3yyCO67rrrnJY9%2BOCDCg0NVWFhodatW1dqLceOHdPEiRMdSagk1atXT71795Yk/fLLL%2Bc9DgA4G89pA64SNWvW1Oeff67Jkydr%2BfLlKiws1E8//aSffvpJ7733nsqXL6927drpzjvvVM%2BePUvcqCBJdrtdbdq0KTEeFRWlgIAA5eTkaPPmzbruuuuUkpKibdu2SZJuv/32Umvq2rWrbDabDh8%2BrN9%2B%2B00NGzaUJMfNEKWpVKmSqlWrptTUVKWmppa6TnR0tHx8zv83Z2hoqNq3b19ivE6dOkpNTVXnzp1LPKeuTp06kqSMjAyn8X79%2Bqlfv36lfh%2Bbzaa6detetNZzmz1Jql%2B/viQpLS3tvMcBAGejaQOuIna7XZMnT9YzzzyjlStX6ocfftDPP/%2BsP/74Q/n5%2BfrPf/6j//znP/rggw/07rvvOhqHM8LCwkrdr4%2BPj%2BrUqaPdu3fr999/lyTt2rXLsfxMEleacuXKKT8/36lpk4qv9frXv/6lrVu3KiUlRZmZmY40LisrS1JxolaaGjVqXHAe6tatW%2Br4mRsvzjRopS0rKCgosayoqEjff/%2B9Nm3apJSUFKWnpztqS05OvmCt9erVK3Xcz89PkpSfn3%2BhQwEAB5o24CpUvXp1xcXFKS4uTlLxhfvr16/Xl19%2BqU2bNunXX3/Vww8/rKVLl6p8%2BfKO7YKDg8%2B7z6CgIEnFNytIzonU6tWrL1rTmUZMknbu3KnHHntMhw4durQDc6FOSU7HdDnLz3b48GE99thjJU6buooHGAMoKzRtwDWgUaNGatSokeLi4jRv3jxNnDhRycnJWrFihe666y7Hehc65XgmSTqTEJ05vVi%2BfHklJSW5/LZYp06d0vDhw3X48GFdd911evTRR3XzzTeratWqjmYqJibGkeiVxsy34BoxYoS2b9%2Bu6tWrKyEhQZ06dVL16tUdzdgDDzyg//73v6bVA%2BDaRdMGXGMefPBBffzxxzpw4ID27NnjtOzM21yV5syyMzcOVKlSRVLx6b20tDSnC%2B0v5LvvvtPhw4dls9k0c%2BbMUq/3yszMdGlfV9q2bduUlJQkSZoyZYpuvvnmEuucew0cAFwp3D0KXAVWrlypF154QbNmzXJp/TOnF889dXduE3dGYWGhI/k6c0fm2de//frrry7Xeubu0/r165fasCUnJzudSvWk/fv3S5LjeXDnysnJ0b59%2B8wuC8A1iqYNuAokJSUpMTFRs2bN0uHDhy%2B47rFjx7Rz505JUqtWrZyWHTx4UDt27Cixzc8//%2Bx4J4EWLVpIKr5Ds1mzZpKkzz//vNTvlZycrLvuukvvvfeeY%2BzMtXGnT58udZv333/f8d/nPpTXbIGBgY46Srth4MMPP3SMl3YDAwCUJZo24CowePBghYaGKisrSw8%2B%2BGCpbwNlGIZ%2B/PFH/e1vf1N%2Bfr5atWqlDh06OK0TFBSksWPH6o8//nCMpaen69VXX5VU/PiK2rVrO5Y98sgjkqRly5Zp7ty5Ts9i279/v0aMGKGdO3fqyJEjjvGIiAhJ0tGjR7Vq1SrH%2BMmTJ/Xyyy8rKSlJUVFRkuTxFCssLEy%2Bvr4qKirSp59%2B6hgvKCjQrFmzlJiYqM6dO0v6312kAHClcE0bcBWoWrWqZs%2BerYSEBP32228aOHCgQkND1ahRI/n7%2Bys9PV2HDh1yPEusTZs2mj59eokbD2JiYnTw4EF16dJFkZGRKl%2B%2BvH755RdlZ2crMDBQL7zwgtP6f/nLX/Twww9r1qxZmjRpkubPn69GjRopLS1NO3bsUGFhoVq1auX0SJCoqCh17NhR//nPf5SQkKCWLVvKz89PW7duVbly5TR79mytWLFCmzZt0vz587Vr1y4NHz5cbdu2vfITeY6aNWuqb9%2B%2BSkxM1KRJk/TVV1%2BpSpUq2rFjh3JycjR9%2BnQdOnRIa9eu1ddff60HHnhAAwYM0B133GF6rQCufjRtwFUiLCxMS5cu1fLly7VmzRrt3LlTW7ZsUV5enipWrKgaNWro5ptvVo8ePXTbbbeVegemj4%2BPZs%2BerXfffVfffPONDh8%2BrICAAHXr1k2jRo1yes7aGU8%2B%2BaRuvvlmffLJJ9q8ebPWrVsnPz8/NW/eXD169NCAAQNKXDv31ltvacqUKVq9erW2bt0qu92ubt266ZFHHlH9%2BvVVq1Ytbd%2B%2BXRs3btSvv/5q6t2i5xo7dqyCg4O1bNky7d69WyEhIWrXrp2GDRumJk2a6NSpU1q/fr2%2B%2B%2B47/frrr05pIwCUJZvBTxjgmjdmzBgtXrxYd999t%2BNUKADAu3BNGwAAgAXQtAEAAFgATRsAAIAF0LQBAIBr2r///W%2B1b99eo0aNuuB6RUVFmjp1qrp06aK2bdtqyJAhjodwS1JaWpoef/xxtW/fXh07dtSzzz6rkydPllmd3IgAAACuWR988IG%2B%2BOILhYSEqGbNmnrzzTfPu%2B68efM0b948ffDBB6pZs6beeust/fjjj/rqq69ks9n02GOPqaCgQJMmTVJBQYFGjhypiIiIEo9LulwkbQAA4Jrl5%2BenL774Qg0aNLjougsWLNCgQYPUuHFjBQQEaOTIkUpOTtYvv/yi48ePa82aNRo1apRCQkJkt9s1fPhwLV68uNR3VLkcPKcNAABYVkpKiuPB4WeEhobKbre7tP3AgQNdWu/UqVPas2ePmjZt6hgLCAhQ/fr1lZSUpKysLPn6%2Bio8PNyxvGnTpsrNzdW%2Bffucxi8XTduV4sGHgV6Shg2lX3%2BVbrhB8va34bHSezv6%2BEhFRZ6u4sKGDvV0Ba4JDZUmTZKefVY65weztzn93mxPl%2BCyChWkvDxPV3FxfvM/8HQJrgkKku65R/r8cykry9PVXJgn/%2B1fgd%2BNidOmafr06U5j8fHxSkhIKNPvk5GRIcMwFBwc7DQeHBystLQ0ValSRYGBgU4PAz%2BzblpaWpnUQNN2ratSRfL1Lf6MsmOVpt0KKlUqboIrVfJ0JVcNm%2B1/H1zVXEYqVCh%2BnZ7z7h%2B48vr376%2BYmBinsdDQUNO%2Bv2EYF33XlrJ6VxeaNgAAYA6fsr%2BU3m63u3wq1B1VqlSRj49PidQsIyNDISEhCgkJUVZWlgoLC%2BXr6ytJSk9PlySFhISUSQ3ciAAAAHARfn5%2BuuGGG7Rt2zbHWGZmpg4cOKAWLVqoSZMmMgxDO3fudCxPSkpS5cqVS33f5stB0wYAAMzh41P2H1fQsWPH1L17dx08eFCSFBcXp/nz52vv3r3Kzs7WlClT1KRJE0VGRiokJETdunXTW2%2B9pRMnTujo0aOaMWOG%2Bvbtq3LlyubEJqdHAQDANSsyMlKSVPDnzW6rVq2SVJyS5efnKzk5WXl/3rVz77336vjx4xo6dKhycnIUFRXldBPE%2BPHjNW7cOPXq1UvlypVT165dL/rA3ktB0wYAAMxxhZOxy5GUlHTeZXXr1tWuXbscX9tsNiUkJJz3ztSgoCBNnTq1zGs8g6YNAACYwwubNith9gAAACyApA0AAJiDpM0tNG0AAMAcNG1uYfYAAAAsgKQNAACYg6TNLcweAACABZC0AQAAc5C0uYWmDQAAmIOmzS3MHgAAgAWQtAEAAHOQtLmF2QMAALAAkjYAAGAOkja30LQBAABz0LS5hdkDAACwAJI2AABgDpI2tzB7AAAAFkDSBgAAzEHS5haaNgAAYA6aNrcwewAAABZA0gYAAMxB0uYWZg8AAMACSNoAAIA5SNrcQtMGAADMQdPmFmYPAADAAkjaAACAOUja3MLsAQAAWABJGwAAMAdJm1to2gAAgDlo2tzC7AEAAFjAVZu0jR07Vnl5eXr99dc9XQoAAJBI2tx01TZtL7/8sqdLAAAAKDNXbdMGAAC8DEmbWywze4cOHVJ4eLi%2B/vpr9ezZU5GRkRowYIBSU1O1fv16RUVFad68eYqKitJPP/2kMWPGaNSoUY7tv/zyS91%2B%2B%2B1q1aqV7r33Xu3YscOxbMWKFbrrrrvUqlUrdenSRcuWLfPEIQIAcHXz8Sn7j2uI5ZK2jz/%2BWB9%2B%2BKEqVaqk%2BPh4jRs3TgMHDlR%2Bfr5%2B%2B%2B03rVu3Tn5%2Bflq4cKFjm61bt2rcuHF677331KZNG/3973/X8OHDtWrVKm3fvl3PPfecpk2bpg4dOmjTpk0aOnSoateurdatW7tUU0pKilJTU53GQhs2lL1KlTI99isiIsL5M64d9et7ugLX1Krl/NmL2WyersA1Z%2Bq0RL3Vqnm6Atec%2BXlvhZ/7sCzLNW0DBgxQzZo1JUmDBg3SyJEjdf/99ys/P18DBgxQxYoVS2yzZMkS3XzzzYqOjpYkDR48WA0aNFBeXp4WL16szp07q1OnTpKkG2%2B8UXfccYe%2B/PJLl5u2xMRETZ8%2B3Wks/vHHlfD44%2B4cqrk%2B/dTTFVx9fH09XcGFjRvn6QouzbBhnq7goip4uoBLVL68pytwQZ8%2Bnq7g0sTEeLoC73aNJWNlzXJNW8OGDR3/XadOHeXl5Sk9PV2SVOs8f4kfPHhQ9c9KFSpWrKgePXpIkg4cOKB169YpMjLSsdwwDHXs2NHlmvr376%2BYc/6hhvbuLc2b5/I%2BPCYiorhhGzBA2rnT09Vc2E8/eboC1/n6SoWFnq7iwiZM8HQFrqlVq7hhmzlTOnLE09VcUN5z4zxdgktstuKGLT9fMgxPV3NhFZYt8nQJrqlSpbhhW7NG%2BvN3kteyWiMMB8s1bUVFRY7/Nv78aWP7M%2BMvf54/G202m2Pdc1WsWFFxcXF6/vnnL7smu90uu93uPJicfNn784idO6VNmzxdBcx04ICnK7g0R454fc3e3gCdyzAsUPMff3i6gkuTnm69ms1E0uYWy83egbN%2BaP/%2B%2B%2B%2BqWLGiqlzkGoJ69eop%2BawmKi8vT7NmzdKJEydUv3597dq1y2n9o0ePqtDbUxIAAKyGGxHcYrmj/eSTT3Ts2DGlp6dr7ty5uvXWWx1J2/n06dNH69ev19q1a5Wfn6958%2Bbpk08%2BUWBgoPr27auNGzdq4cKFysvL044dO9SvXz99/fXXJh0RAADAxVnu9GhsbKweeughHThwQK1atdKLL76oPXv2XHCbJk2aaMqUKZowYYJOnDihiIgIzZw5UxUqVFDjxo01depUTZs2TS%2B99JLsdruGDBniuOYNAACUkWssGStrlmvaWrVqpeXLlzuNVatWrcQpzldffdXp6%2B7du6t79%2B6l7vOOO%2B7QHXfcUbaFAgAAlCHLNW0AAMCivDBpO3jwoMaPH68tW7bI399f3bt31%2BjRo%2BV7zmObHnroIf10zlMMCgsLddddd2nSpEmaNm2a3nvvPZUr97/Wys/PTxs2bCizWmnaAACAObywaRsxYoSaN2%2BuN954QydOnNDDDz%2Bs6tWra8iQIU7rzZ492%2BnrU6dOqWfPnurVq5ckKTMzU3379tWEK/g4Je%2BbvfOoW7eudu3apcaNG3u6FAAAcBVISkrSrl27NHr0aAUFBalBgwYaPHiwFixYcNFtZ8yYoebNm6tDhw6Sipu24ODgK1ovSRsAADDHFUjaSn0rydDQks9PLcW2bdtUp04dp2aradOmSk5OVnZ2tgIDA0vd7vDhw/r444%2Bd3qs8MzNTR44cUe/evXX06FGFh4drzJgxat68%2BWUeWUk0bQAAwBxXoGkr9a0k4%2BOVkJBw0W3T09NVuXJlp7EzDVxaWtp5m7YPPvhAd9xxh%2BrUqeMYCw0NVUBAgF599VVVrlxZM2bM0EMPPaR//vOfCgkJudTDKhVNGwAAsKxS30oyNPSy93fuuy2dKzMzU1988YUWLlzoNH7utWxPPfWUli1bptWrV6tfv36XXc/ZaNoAAIA5rkDSVupbSbooJCREaWlpTmMZGRmy2WyqWrVqqdusXr1atWrVUlhY2AX37evrq1q1aiklJeWyaiuNZW5EAAAAKEvNmzfX4cOHdeLECcdYUlKSrr/%2BegUEBJS6zapVq9SpUyenMcMw9Prrrzs9MzY/P18HDhxQvXr1yqxemjYAAGAOL3vv0aZNm6pFixaaOnWqsrOztXfvXs2ZM0dxcXGSih/Mf%2B5z1rZv316iEbPZbNq/f7/Gjx%2BvY8eOKScnR1OmTFGFChXUtWtXt2o8G00bAAAwh5c1bZI0bdo0/fHHH4qJidHDDz%2Bs2NhYDRgwQJKUnJys3Nxcp/VTU1NLPR37yiuvqG7duurTp486d%2B6sPXv2aP78%2BfL393e7xjO4pg0AAFyzatasqffff7/UZee%2BRaYkbd26tdR1q1Spotdee61MazsXTRsAADCHF74jgpUwewAAABZA0gYAAMxB0uYWmjYAAGAOmja3MHsAAAAWQNIGAADMQdLmFmYPAADAAkjaAACAOUja3ELTBgAAzEHT5hZmDwAAwAJI2gAAgDlI2tzC7AEAAFgASRsAADAHSZtbaNoAAIA5aNrcwuwBAABYAEkbAAAwB0mbW5g9AAAACyBpAwAA5iBpcwtNGwAAMAdNm1uYPQAAAAsgaQMAAOYgaXMLswcAAGABJG0AAMAcJG1uoWkDAADmoGlzC7MHAABgATbDMAxPF3FVKiz0dAWu8/W1Rr3lLBIMR0VJGzdKrVtLmzZ5uprzKyjwdAWus8hrNPukr6dLcImPj%2BTvL%2BXmSkVFnq7mwgKNLE%2BX4BofHykgQMrJ8f5JDQry3PceNqzs9zlzZtnv00uRtAEAAFiARaILAABgeVzT5haaNgAAYA6aNrcwewAAABZA0gYAAMxB0uYWZg8AAMACSNoAAIA5SNrcQtMGAADMQdPmFmYPAADAAkjaAACAOUja3ELTBgAAzEHT5hZmDwAAwAJI2gAAgDlI2tzC7AEAAFgASRsAADAHSZtbaNoAAIA5aNrcwuwBAIBr1sGDBzV06FC1a9dOnTt31muvvabCwsIS6y1cuFARERGKjIx0%2Bjh%2B/Lgk6fTp03r%2B%2BefVqVMnRUdHKyEhQSdOnCjTWmnaAACAOXx8yv7DTSNGjFDNmjW1atUqzZ07V2vWrNHcuXNLrJeVlaX27dsrKSnJ6aN69eqSpKlTp2r79u1KTEzU119/LZvNpmeffdbt%2Bs5G0wYAAK5JSUlJ2rVrl0aPHq2goCA1aNBAgwcP1oIFC0qsm5GRoeDg4FL3U1hYqEWLFunRRx9VrVq1FBwcrJEjR%2Bpf//qXjh07Vmb1ck0bAAAwxxW4pi0lJUWpqalOY6GhobLb7Rfddtu2bapTp45TM9a0aVMlJycrOztbgYGBjvHMzEzt379f/fr1U3Jysho0aKAnnnhCHTp00P79%2B5WVlaVmzZo51m/UqJEqVqyobdu2qUaNGmVwpDRtAADALFegaUtMTNT06dOdxuLj45WQkHDRbdPT01W5cmWnsTMNXFpamlPTVqVKFdntdo0ePVq1a9dWYmKihg0bpi%2B//FIZGRmSVGJflStXVlpa2mUdV2lo2gAAgGX1799fMTExTmOhoaGXvT/DMCRJNpvNafzcJnDw4MFavny5li5dqk6dOp13X%2Bfuxx00bQAAwBxXIGmz2%2B0unQotTUhISIkkLCMjQzabTVWrVr3o9nXr1lVKSopCQkIkFadz/v7%2BjuWZmZmOZWWBGxEAAMA1qXnz5jp8%2BLDTozmSkpJ0/fXXKyAgwGndWbNmaf369U5je/fuVb169VSvXj0FBwdr27ZtjmW7d%2B9WXl6emjdvXmb10rQBAABzeNkjP5o2baoWLVpo6tSpys7O1t69ezVnzhzFxcVJkrp3764NGzZIko4fP66XXnpJycnJOn36tObMmaODBw%2BqT58%2B8vX11T333KP3339fR44cUVpamt544w3dfvvtjkeClAVOjwIAAHN44TsiTJs2TePGjVNMTIyCgoIUGxurAQMGSJKSk5OVm5srSXryySdlGIYGDhyo3NxchYWFad68eY47Q0eMGKHc3Fz1799fBQUFat%2B%2BvV588cUyrdVmnLniDmWrlKcpey1fX2vUW84if2NERUkbN0qtW0ubNnm6mvMrKPB0Ba6zyGs0%2B6Svp0twiY%2BP5O8v5eZKRUWerubCAo0sT5fgGh8fKSBAysnx/kkNCvLc9540qez3WcYPsPVmFvktCAAALM8LkzYrYfYAAAAsgKQNAACYg6TNLTRtAADAHDRtbmH2AAAALICkDQAAmIOkzS3MHgAAgAWQtAEAAHOQtLmFpg0AAJiDps0tXjV7v//%2BuyIjI5WcnOzpUgAAALyKVzVtderUUVJSkho2bHjB9WJiYnTrrbc63g/sjPXr1ysmJuZKlggAAC6Xl71hvNVY9mhPnz6td99919NlAAAAmMKrmrZDhw4pPDxce/fu1RdffKG//OUvatWqlWJiYjR37lyndRMSEvTJJ59c8FTq77//rkceeUTt2rVT27Zt9fzzz%2BvUqVPav3%2B/mjRpoqys4jcizsvLU4sWLTR58mTHttOnT1dCQsIVOU4AAK5JJG1u8cobEdLS0vT8889r9uzZuvnmm7Vz504NHjxY0dHRioiIkCRdf/31uueee/Tyyy/rww8/LLEPwzA0fPhwRUVFae3atTp58qSeeOIJvfLKK5owYYJq1KihzZs365ZbbtGWLVtUu3Zt/fzzz47tN2zYoNtvv92lelNSUpSamuo0FlqtmuyhoW7MAkqIivJ0Ba758zXq%2BIxrhlV%2Bf9hs//vs9TUb3l7gn85MpNdPqIcxP27xyqatcuXKKioqUkBAgCQpIiJC33//vXzO%2BZ%2BdkJCg7t27a%2BXKlSUarKSkJO3Zs0efffaZ/P395e/vr4SEBA0ZMkTjx49Xu3bttGnTJt1yyy366aef1KtXL3388cc6ffq0fH199csvv%2BiFF15wqd7ExERNnz7daSz%2BsceUMGKEG7NgMl9fT1dwcRs3erqCS/Ppp56u4Opigdeov7%2BnK7g0lSp5ugJXBHi6gEtjjUmFRXll0%2Bbr66s%2Bffro3nvvVZs2bXTLLbfor3/9q6pVq%2Ba0XmBgoEaPHq1JkybplltucVp28OBBFRYWKjo62mm8sLBQaWlpio6O1ldffSWpOFUbOnQQaYd%2BAAAgAElEQVSoNm7cqKSkJFWoUEFBQUFq1KiRS/X279%2B/xA0QodWqSYWFl3ronuHra41a27b1dAWuiYgobtgGDJB27vR0Nef300%2BersB1FnmN5p72/sZSKk7YKlWSTp6UDMPT1VyYv5Hj6RJc4%2BPzv0ktKvJ0NRcW4MFGmKTNLV7ZtEnSpEmT9Le//U2rV6/W0qVL9eGHH2rBggWqX7%2B%2B03qxsbFKTEzUzJkznRo0Pz8/%2Bfv7a9OmTaXuPzo6WhMmTFBeXp6SkpLUsmVLRUVF6eeff1b58uV18803u1yr3W6X3W53HrTALxjLOc//S6%2B1c6f1aoZbvP139Rlnfm8ahgVqNry9wHMUFVlgUmFVXtnyGoah9PR0NW7cWA8//LAWL16s4OBgrVq1qtT1X3zxRc2dO1cHDhxwjNWvX1%2B5ubk6ePCgYyw7O1tpaWmSpFq1aqlatWpasmSJGjRooEqVKikqKkobN27Uhg0bLqlpAwAALuBGBLd45dGuXr1ad999t/bu3StJ2r9/vzIyMkqkbGdEREQoNjZWb7/9tmMsLCxMUVFReuWVV3TixAllZmbqxRdf1NNPP%2B1Yp127dvrwww/Vpk0bSVKrVq20ZcsW/fLLLyVOqwIAADfRtLnFK4%2B2a9euuvPOOzVo0CC1aNFCQ4cO1eDBg9W1a9fzbjNy5EgVFBQ4jU2dOlWGYahLly66/fbbVVhYqFdffdWxPDo6Wr/99pujaQsMDFRoaKgCAwNVs2bNK3NwAAAAl8FmGN5%2BGapFWemaNotc5K1yXnsJprOoqOI7XVu39u5r2s75I8erWeQ1mn3SGjci%2BPgU3%2Bmam%2Bv9l18FGlmeLsE1Pj7FF/jn5Hj/pAYFee57z5tX9vt88MGy36eX8sqkDQAAAM4sEl0AAADLu8auQStrNG0AAMAcNG1uYfYAAAAsgKQNAACYg6TNLcweAACABZC0AQAAc5C0uYWmDQAAmIOmzS3MHgAAgAWQtAEAAHOQtLmFpg0AAJiDps0tzB4AAIAFkLQBAABzkLS5hdkDAACwAJI2AABgDpI2t9C0AQAAc9C0uYXZAwAAsACSNgAAYA6SNrcwewAAABZA0gYAAMxB0uYWmjYAAGAOmja3MHsAAOCadfDgQQ0dOlTt2rVT586d9dprr6mwsLDUdT/77DN169ZNUVFR6t27t1atWuVYNm3aNDVp0kSRkZGOjxtvvLFMayVpAwAA5vDCpG3EiBFq3ry53njjDZ04cUIPP/ywqlevriFDhjitt2rVKk2dOlUzZ85Uy5YttXTpUo0cOVL/93//p3r16ikzM1N9%2B/bVhAkTrlit3jd7AAAAJkhKStKuXbs0evRoBQUFqUGDBho8eLAWLFhQYt3c3Fw98cQTatOmjcqVK6e7775bAQEB2rx5syQpMzNTwcHBV7RekjYAAGCOK5C0paSkKDU11WksNDRUdrv9ottu27ZNderUcWq2mjZtquTkZGVnZyswMNAxfueddzptm5mZqZycHNWoUcPx9ZEjR9S7d28dPXpU4eHhGjNmjJo3b%2B7O4TmhaQMAAOa4Ak1bYmKipk%2Bf7jQWHx%2BvhISEi26bnp6uypUrO42daeDS0tKcmrazGYahsWPHqmXLlrrpppskFTeKAQEBevXVV1W5cmXNmDFDDz30kP75z38qJCTkcg6tBJo2AABgWf3791dMTIzTWGho6GXvzzAMSZLNZit1eX5%2BvsaMGaM9e/Zo/vz5jvFzr2V76qmntGzZMq1evVr9%2BvW77HrORtMGAADMcQWSNrvd7tKp0NKEhIQoLS3NaSwjI0M2m01Vq1Ytsf6pU6f06KOP6uTJk/rkk09KXecMX19f1apVSykpKZdVW2m4EQEAAFyTmjdvrsOHD%2BvEiROOsaSkJF1//fUKCAhwWtcwDI0aNUrlypXT3LlznRo2wzD0%2Buuva9euXY6x/Px8HThwQPXq1SuzemnaAACAOXx8yv7DDU2bNlWLFi00depUZWdna%2B/evZozZ47i4uIkSd27d9eGDRskSUuXLtWePXv09ttvy8/Pz2k/NptN%2B/fv1/jx43Xs2DHl5ORoypQpqlChgrp27epWjWfj9CgAADCHFz6nbdq0aRo3bpxiYmIUFBSk2NhYDRgwQJKUnJys3NxcSdLChQv1%2B%2B%2B/O248OOOuu%2B7Syy%2B/rFdeeUWTJk1Snz59lJ%2Bfr8jISM2fP1/%2B/v5lVqvNOHPFHcrWeZ6m7JV8fa1RbzmL/I0RFSVt3Ci1bi1t2uTpas6voMDTFbjOIq/R7JO%2Bni7BJT4%2Bkr%2B/lJsrFRV5upoLCzSyPF2Ca3x8pIAAKSfH%2Byc1KMhz33vdurLf5803l/0%2BvZRFfgsCAADL88KkzUqYPQAAAAsgaQMAAOYgaXMLTduVMnSopytwTf360rhx0oQJ0oEDnq7mwqx0DZYk/fSTpyu4MKtdI9i2rXdfIyhJWVwiXOaWLfN0Ba6pWlXq3l3697%2Blc5775XX%2BvDPSI2ja3MLsAQAAWIBF/tQGAACWR9LmFmYPAADAAkjaAACAOUja3ELTBgAAzEHT5hZmDwAAwAJI2gAAgDlI2tzC7AEAAFgASRsAADAHSZtbaNoAAIA5aNrcwuwBAABYAEkbAAAwB0mbW5g9AAAACyBpAwAA5iBpcwtNGwAAMAdNm1uYPQAAAAsgaQMAAOYgaXMLTRsAADAHTZtbmD0AAAALIGkDAADmIGlzC7MHAABgASRtAADAHCRtbqFpAwAA5qBpcwuzBwAAYAEkbQAAwBwkbW5h9gAAACyApA0AAJiDpM0tNG0AAMAcNG1uYfYAAAAsgKQNAACYg6TNLcweAACABZC0AQAAc5C0uYWmDQAAmIOmzS3MHgAAgAWQtAEAAHOQtLmF2QMAALAAkjYAAGAOkja30LQBAABz0LS5hdkDAADXrIMHD2ro0KFq166dOnfurNdee02FhYWlrjt37lx169ZNbdq0UVxcnLZs2eJYdvr0aT3//PPq1KmToqOjlZCQoBMnTpRprTRtAADAHD4%2BZf/hphEjRqhmzZpatWqV5s6dqzVr1mju3Lkl1lu1apVmzJih119/Xd9//726dOmi4cOHKycnR5I0depUbd%2B%2BXYmJifr6669ls9n07LPPul3f2bymaQsPD9fcuXPVsWNHzZgxQ5K0YcMG3XPPPWrdurW6deumN998U0VFRY5t/vGPf%2BiOO%2B5Q69atdffdd2vFihWOZQ888IDeffddxcfHq1WrVurVq5f27dunl19%2BWTfeeKNuvfVWfffdd5KkwsJCTZw4UR07dlSrVq1011136YcffjB3AgAAgKmSkpK0a9cujR49WkFBQWrQoIEGDx6sBQsWlFh3wYIF6tOnj1q2bKmKFStqyJAh8vHx0bfffqvCwkItWrRIjz76qGrVqqXg4GCNHDlS//rXv3Ts2LEyq9errmlbtWqVlixZomrVqun48eMaMmSInn76afXr10%2B7du3S0KFDZbfbdd9992n16tWaPHmyZs6cqRYtWmjFihV68skn1bhxY4WHh0uSPv/8c7399tt69dVXdd999%2Bmhhx7SiBEj9PTTT2vcuHGaPHmyOnXqpOXLl2vFihX64osvZLfbtXz5cj399NP69ttvVa7cxacoJSVFqampTmOhQUGyV616ReapTNWq5fwZ146oKE9X4JqICOfPXswql%2BvYbP/77PU1W%2BHnqCRVruz8GaW7Ai%2B4Un8Hh4bKbrdfdNtt27apTp06Cg4Odow1bdpUycnJys7OVmBgoNO6PXr0cHxts9kUERGhpKQkNWnSRFlZWWrWrJljeaNGjVSxYkVt27ZNNWrUcOcQHbyqabvjjjtUvXp1SdKyZctUu3Zt3XfffZKkyMhIxcbGauXKlbrvvvu0cOFC9erVSzfeeKMkKTY2VvPnz9fq1asdTVubNm3UsmVLSdJNN92ktWvXqk%2BfPpKk2267TUuXLpUkZWZmytfXVxUrVpSPj4969%2B6tnj17ysfFF1diYqKmT5/uNBb/2GNKGDHCzRkx0bBhnq7g6uPr6%2BkKLmzjRk9XcGk%2B/dTTFVyUv6cLuESVKnm6Ahd07%2B7pCi5N%2B/aersCrGbKV%2BT5L/R0cH6%2BEhISLbpuenq7K5zTaZxq4tLQ0p6YtPT3dqbk7s25aWprS09MlqcS%2BKleurLS0NNcP5iK8qmmrdVbac%2BjQITVu3NhpeaNGjbR27VrH8ujoaKflDRs21JEjRxxfn93Z%2Bvn5OX1dsWJF5eXlSZJ69uypRYsWqXPnzurQoYM6d%2B6s3r17q0KFCi7V3b9/f8XExDiNhc6aJY0b59L2HlWrVnHDNnOmdNbceaXnn/d0Ba7z9ZXOcyGr12jb1tMVuCYiorhhGzBA2rnT09VcUO5/rNEI22zFDdvJk5JheLqaC/P/7p%2BeLsE1lSsXN2w//CBlZnq6mguzWiN8EaX%2BDg4Nvez9GX/%2Bo7DZLt5gGoZxwfUutvxSeVXTdu6pyHMP1DAM5efnn3e5JKfl5yZl50vOqlatqoULF2rDhg1as2aN3njjDX3yySf6/PPPXTo9arfbS8awWVnFH1Zx5Ih04ICnq4CZNm3ydAWXZudOr6/5rEtuvdqZH4WGYYGayzClMEVmpvVqNtGVeL2V%2BjvYRSEhISWSsIyMDNlsNlU959R81apVS133hhtuUEhIiKTidM7f/3%2BZe2ZmpmNZWfDaqxnq16%2Bvffv2OY0lJyerXr16juV79%2B497/JLkZeXp5ycHLVt21bPPPOMPv/8c23btk07vfyvegAAcPmaN2%2Buw4cPOz2aIykpSddff70CAgJKrLtt2zbH14WFhdq%2BfbtatmypevXqKTg42Gn57t27lZeXp%2BbNm5dZvV7btHXp0kUHDhxQYmKi8vPztWXLFi1evFh33323JKlHjx5aunSpNm/erPz8fC1ZskS7d%2B9Wz549L/l7vfzyyxo5cqTS0tJkGIaSkpJUvnx51a5du6wPCwCAa1ZRUdl/uKNp06Zq0aKFpk6dquzsbO3du1dz5sxRXFycJKl79%2B7asGGDJCkuLk5LlizR5s2bdfLkSb333nuqUKGCbrvtNvn6%2Buqee%2B7R%2B%2B%2B/ryNHjigtLU1vvPGGbr/9dse1%2BmXBq06Pnq1OnTqaPn264%2B5Pu92uESNGKDY2VlJx03bo0CE9/fTTOn78uBo1aqTZs2fruuuuu%2BTv9eSTT%2BrFF1/UX/7yFxUUFKhBgwZ66623yjTSBADgWueNp%2BOnTZumcePGKSYmRkFBQYqNjdWAAQMkFZ/By83NlSR16tRJTzzxhMaMGaPU1FQ1a9ZMs2bNUsWKFSUVP%2B8tNzdX/fv3V0FBgdq3b68XX3yxTGu1GYa3X4ZqUQ895OkKXFO/fvENE%2BPGef81bR984OkKXGeFGxFcuF7TK0RFFd/p2rq111/Tlp1ljR%2BnPj6Sv7%2BUm%2Budv0TPFrj0M0%2BX4JqqVYsv8P/nP73/mrY/UyRPOH267Pfp51f2%2B/RWFvmpDQAArM7b/0jwdl57TRsAAAD%2Bh6QNAACYgqTNPTRtAADAFDRt7uH0KAAAgAWQtAEAAFOQtLmHpA0AAMACSNoAAIApSNrcQ9MGAABMQdPmHk6PAgAAWABJGwAAMAVJm3to2gAAgClo2tzD6VEAAAALIGkDAACmIGlzD0kbAACABZC0AQAAU5C0uYemDQAAmIKmzT2cHgUAALAAkjYAAGAKkjb3kLQBAABYAEkbAAAwBUmbe2jaAACAKWja3MPpUQAAAAsgaQMAAKYgaXMPSRsAAIAFkLQBAABTkLS5h6YNAACYgqbNPZweBQAAsACSNgAAYAqSNveQtAEAAFgASRsAADAFSZt7aNoAAIApaNrcw%2BlRAAAACyBpAwAApiBpcw9JGwAAgAXYDMMwPF3E1ej0aU9X4BqbTapQQcrLk7z9lZCf7%2BkKXOPjI/n7S7m5/FVZFqw0n4FBNk%2BX4JqoKGnjRql1a2nTJk9Xc0EZ6V7%2Bg%2BlPPj5SUJCUleX9r9PgYM99759/Lvt9tmlT9vv0VpweBQAApvD2htbbcXoUAADAAkjaAACAKUja3EPSBgAAYAEkbQAAwBQkbe6haQMAAKagaXMPp0cBAABKkZaWpscff1zt27dXx44d9eyzz%2BrkyZPnXf%2Bbb77RnXfeqaioKN1%2B%2B%2B1KTEx0LFu4cKEiIiIUGRnp9HH8%2BHGX6yFpAwAAprBa0jZ27FgVFBRo2bJlKigo0MiRIzV58mS98MILJdZNSkrS6NGj9cYbb6hz585at26dHnnkETVu3Fg33nijsrKy1L59e82ePfuy6yFpAwAAOMfx48e1Zs0ajRo1SiEhIbLb7Ro%2BfLgWL16s/FKe9p6WlqZhw4apa9eu8vX1VceOHRUWFqYNGzZIkjIyMhTs5pONSdoAAIAprkTSlpKSotTUVKex0NBQ2e12t/a7Y8cO%2Bfr6Kjw83DHWtGlT5ebmat%2B%2BfU7jktSpUyd16tTJ8XVBQYFSU1NVo0YNSVJmZqb279%2Bvfv36KTk5WQ0aNNATTzyhDh06uFwTTRsAADDFlWjaEhMTNX36dKex%2BPh4JSQkuLXf9PR0BQYGymb739vTnUnK0tLSLrr9lClT5O/vrx49ekiSqlSpIrvdrtGjR6t27dpKTEzUsGHD9OWXX6px48Yu1UTTBgAALKt///6KiYlxGgsNDXVp2yVLlui5554rddnEiRPPu93Zjdy5DMPQlClTtGzZMs2fP19%2Bfn6SVKKJHDx4sJYvX66lS5dq5MiRLtVL0wYAAExxJZI2u91%2B2adCY2NjFRsbW%2Bqy77//XllZWSosLJSvr6%2Bk4vRNkkJCQkrdpqioSM8%2B%2B6y2bNmizz77TPXq1bvg969bt65SUlJcrpcbEQAAAM7RpEkTGYahnTt3OsaSkpJUuXJlNWzYsNRtJk6cqF9//bXUhm3WrFlav36909jevXsv2tidjaYNAACYoqio7D%2BulJCQEHXr1k1vvfWWTpw4oaNHj2rGjBnq27evypUrPlH54IMPasWKFZKkn3/%2BWV999ZVmzZqlKlWqlNjf8ePH9dJLLyk5OVmnT5/WnDlzdPDgQfXp08flmjg9CgAATGG157SNHz9e48aNU69evVSuXDl17dpVo0aNciw/ePCgMjIyJBU/PDcrK0udO3d22kfbtm01e/ZsPfnkkzIMQwMHDlRubq7CwsI0b948x92lrrAZhmGUzaHhbKdPe7oC19hsUoUKUl6e5O2vhFIei%2BOVfHwkf38pN9d6P6C8kZXmMzDo/Bcne5WoKGnjRql1a2nTJk9Xc0EZ6V7%2Bg%2BlPPj5SUJCUleX9r1M3HxXmlq%2B/Lvt9dutW9vv0ViRtAADAFN7e0Ho7mjYAAGAKmjb3cCMCAACABZC0AQAAU5C0uYekDQAAwAJI2gAAgClI2txD0wYAAExB0%2BYeTo8CAABYAEkbAAAwBUmbe0jaAAAALICkDQAAmIKkzT00bQAAwBQ0be7h9CgAAIAFkLQBAABTkLS5h6QNAADAAkjaAACAKUja3EPTBgAATEHT5h5OjwIAAFgASRsAADAFSZt7LJu0/fjjj%2BrUqZN69Oih8PBwnT592tMlAQAAXDGWbdo%2B%2BugjtWrVSs8//7ynSwEAAC4oKir7j2uJZU%2BPZmZmqmXLlvLxsWzfCQDANeVaa7LKmiWbtvvvv18bNmzQzz//rJUrVzotO3r0qF566SVt3LhRfn5%2Batu2rZ5//nlVqVJFkrRhwwa9/vrr2rNnj0JDQ9W9e3c9/vjj8vHx0TvvvKOtW7eqUqVKWrNmjbZs2eKJwwMAACjBkk3bxx9/rAceeEAtW7bULbfcooEDBzqWPfroo7r%2B%2Buu1evVq5ebmKiEhQS%2B%2B%2BKLefvttHT9%2BXEOGDNHTTz%2Btfv36adeuXRo6dKjsdrvuu%2B8%2BSdLmzZv1%2BOOPa8qUKS7Xk5KSotTUVKex4OBQ2e32sjngK8hmc/7szawSqp49p1ap2ZtZaj6jojxdgWsiIpw/ezGv/3/%2BpzN1WqVeTyFpc48lm7bz2bFjh7Zt26aZM2cqMDBQgYGBGjZsmEaMGKGioiItW7ZMtWvXdjRokZGRio2N1cqVKx1jPj4%2BiouLk%2B0SupjExERNnz7daeyxx%2BI1YkRC2R3cFVa%2BvKcruLgKFTxdwaWpVMnTFVxdLDGfGzd6uoJL8%2Bmnnq7gooI8XcAlCgjwdAW4ml1VTduhQ4cUHBys0NBQx1ijRo2Un5%2Bv1NRUHTp0SI0bN3baplGjRlq7dq3j61q1al1SwyZJ/fv3V0xMjNNYcHCo8vIu4yBMZrMVN2z5%2BZJheLqaCyso8HQFrrHZihuMkye9f06twErz6d%2BxtadLcE1ERHHDNmCAtHOnp6u5oKx/WaMR9vEpbthycrw/TQryYCfs7XPj7a6qpk1SiYbL%2BPOnfH5%2B/nmXn1kmSeXKXfqU2O32EqdCT5/2/l8wZzMM76/XKv/Yz5weMQzr1OzNLDWfmzZ5uoJLs3On19fs9f/Pz3Et3tF4KZgb91xVZ9/r1aun9PR0/fHHH46x5ORk%2Bfn5qUaNGqpfv7727dvntE1ycrLq1atndqkAAACX5Kpq2sLDw9W4cWNNmTJFubm5OnbsmN5//3317NlT5cuXV5cuXXTgwAElJiYqPz9fW7Zs0eLFi3X33Xd7unQAAK56PKfNPVdV02az2fTuu%2B8qJSVFt912m%2B655x5FRkbqhRdekCTVqVNH06dPV2Jiom666SY99dRTGjFihGJjYz1cOQAAwIXZDMPbr2SyJqu8q5bNVnxXZl6e91/Tdtalh17Nx0fy95dyc6%2B9vwKvBCvNZ2CQBZ6dIxU/mmTjRql1a6%2B/pi0j3ct/MP3Jx6f4Av%2BsLO9/nQYHe%2B57v/NO2e8zwToPanDbVXcjAgAA8E7e3tB6u6vq9CgAAMDViqQNAACYgqTNPSRtAAAAFkDSBgAATEHS5h6aNgAAYAqaNvdwehQAAMACSNoAAIApSNrcQ9IGAABgASRtAADAFCRt7iFpAwAAprDaG8anpaXp8ccfV/v27dWxY0c9%2B%2ByzOnnyZKnr/vjjjwoPD1dkZKTTx5YtW/489iJNnTpVXbp0Udu2bTVkyBDt37//kuqhaQMAACjF2LFjderUKS1btkyLFi3S/v37NXny5FLXzcrK0nXXXaekpCSnjxYtWkiSPvroIy1fvlyzZs3St99%2Bq0aNGik%2BPl6X8hbwNG0AAMAUVkrajh8/rjVr1mjUqFEKCQmR3W7X8OHDtXjxYuXn55dYPyMjQ8HBwefd34IFCzRo0CA1btxYAQEBGjlypJKTk/XLL7%2B4XBNNGwAAwDl27NghX19fhYeHO8aaNm2q3Nxc7du3r8T6mZmZysjI0AMPPKC2bduqd%2B/e%2BuqrryRJp06d0p49e9S0aVPH%2BgEBAapfv76SkpJcrokbEQAAgCmuRDKWkpKi1NRUp7HQ0FDZ7Xa39puenq7AwEDZbDbH2JkkLS0trcT6/v7%2BqlGjhp544gk1adJE33zzjcaMGaPQ0FA1atRIhmGUSOKCg4NL3df50LQBAABTXImmLTExUdOnT3cai4%2BPV0JCwkW3XbJkiZ577rlSl02cOPG8253dyJ1x77336t5773V83bt3b61atUqLFi3S6NGjS92PYRil7ut8aNoAAIBl9e/fXzExMU5joaGhLm0bGxur2NjYUpd9//33ysrKUmFhoXx9fSUVp2%2BSFBIS4tL%2B69atq61bt6pKlSry8fEpkaplZGS4vC%2BJpg0AAJjkSiRtdrvd7VOhpWnSpIkMw9DOnTvVrFkzSVJSUpIqV66shg0bllj/888/V3BwsLp16%2BYY27t3r%2BrVqyc/Pz/dcMMN2rZtm2666SZJxdfAHThwwHF3qSu4EQEAAJjCSnePhoSEqFu3bnrrrbd04sQJHT16VDNmzFDfvn1Vrlxx5vXggw9qxYoVkqSTJ09q/Pjx2rp1q/Lz87VixQr9%2B9//VlxcnCQpLi5O8%2BfP1969e5Wdna0pU6aoSZMmioyMdLkmkjYAAIBSjB8/XuPGjVOvXr1Urlw5de3aVaNGjXIsP3jwoDIyMiRJAwcOVHZ2tkaMGKG0tDQ1bNhQ7777riOlu/fee3X8%2BHENHTpUOTk5ioqKKnEt3sXYjEt5qhtcdvq0pytwjc0mVagg5eVJ3v5KKOWxOF7Jx0fy95dyc3nLlrJgpfkMDHL9gmKPioqSNm6UWreWNm3ydDUXlJHu5T%2BY/uTjIwUFSVlZ3v86vcCjxK64Z58t%2B31OmlT2%2B/RWnB4FAACwAE6PAgAAU3h7CuntaNoAAIApaNrcw%2BlRAAAACyBpAwAApiBpcw9JGwAAgAWQtAEAAFOQtLmHpg0AAJiCps09nB4FAACwAJI2AABgCpI295C0AQAAWABJGwAAMAVJm3to2gAAgClo2tzD6VEAAAALIGkDAACmIGlzD03bFeI3/wNPl%2BCaatWkPn1UYdki6Y8/PF3NBfnde6%2BnS3CN4SMpQP5GjmR48U%2BoZcs8XYFrqlaVuneX/3f/lNLSPF3NBWWkG54uwSU%2BPlKQpKx/bfT6X6LBVWyeLsE1UVHSxo0KurW1tGmTp6u5MMMar1OURNMGAABM4e1/JHg7mjYAAGAKmjb3cCMCAACABZC0AQAAU5C0uYekDQAAwAJI2gAAgClI2txD0wYAAExB0%2BYeTo8CAABYAEkbAAAwBUmbe0jaAAAALICkDQAAmIKkzT00bQAAwBQ0be7h9CgAAIAFkLQBAABTkLS5h6QNAADAAkjaAACAKUja3EPTBgAATEHT5h5OjwIAAFgASRsAADAFSZt7SNoAAAAsgKQNAACYgqTNPTRtAADAFDRt7uH0KAAAgAWQtAEAAFOQtLmHpg0AAJiCps09nB4FAACwAJI2AABgCqslbWlpaRo3bpx%2B%2Bukn%2Bfj46JZbbtELL7ygSpUqlVh37Nix%2BvLLL53GioqK1Lp1a3300UdauHCh/t//%2B38qX7680zpr16k8q8wAACAASURBVK5V9erVXaqHpA0AAKAUY8eO1alTp7Rs2TItWrRI%2B/fv1%2BTJk0td9%2BWXX1ZSUpLjY8uWLYqMjFTv3r0lSVlZWWrfvr3TOklJSS43bBJNGwAAMElRUdl/XCnHjx/XmjVrNGrUKIWEhMhut2v48OFavHix8vPzL7p9YmKiioqK1K9fP0lSRkaGgoOD3aqJpg0AAJjCSk3bjh075Ovrq/DwcMdY06ZNlZubq3379l1w25ycHL355psaM2aMbDabJCkzM1P79%2B9Xv379dOONN%2Bqvf/2rvv/%2B%2B0uqiWvaAACAZaWkpCg1NdVpLDQ0VHa73a39pqenKzAw0NF0SXIkZWlpaRfc9rPPPlNERIRat27tGKtSpYrsdrtGjx6t2rVrKzExUcOGDdOXX36pxo0bu1QTTRsAADDFlUjGEhMTNX36dKex%2BPh4JSQkXHTbJUuW6Lnnnit12cSJE8%2B73dmN3LmKioo0b948jR8/3mn83HoGDx6s5cuXa%2BnSpRo5cuRFa5Vo2gAAgIX1799fMTExTmOhoaEubRsbG6vY2NhSl33//ffKyspSYWGhfH19JRWnb5IUEhJy3n1u2LBB2dn/v727j6v57v8A/jo13RiVWLqZWMWs25VKV4zEllK62RDXhYnZcg0XY21zucSwC2W2sCF3bePqMpRu5KJmm2gWVkS2tSi6pdId3f/%2B8HMeOytzjnK%2Bfc95PR8PD/p%2Bv%2Bf0Ol/nUe/z/nw/n28tRowY8cjv/%2Byzz6KsrEyurACLNiIiIlKSJ9FpMzIy6vRQaEdeeOEFtLW1ITc3FzY2NgCAixcvQk9PD88999xDH3fixAm4ublBS0tLZvv27dvh4OCA4cOHS7fl5eXBx8dH7kyciEBERERKIaaJCIaGhvDy8sKmTZtQUVGBkpISbNmyBa%2B99hqeeup%2Bz2vmzJlITk6Wedzly5cxYMCAds9369YtrFy5Evn5%2BWhoaMDu3btRWFiIoKAguTOx00ZERETUgVWrViE8PBy%2Bvr546qmnMG7cOCxatEi6v7CwEHfu3JF5THl5eYedv3feeQdtbW2YMWMG6uvrMWTIEOzduxf9%2B/eXOw%2BLNiIiIlIKsd0RoXfv3oiMjHzo/rS0tHbbjh071uGx2traWLZsGZYtW/bYeQQZHo2KisLzzz%2BPgwcPtttXUVEBGxsbTJ8%2BXa7namlpwe7du7s6IhEREVG3Itg1bX379kVCQkK77UePHoWenp7cz3P58mVER0d3ZTQiIiJ6AsR0TVt3pFDRtm3bNnh4eMDBwQFeXl5ITEwEACQmJmLUqFFwdHTE4sWLsX79emmn7NChQ/D19cW6devg4OCAoqIiAICLiwuysrJQWloq8z0ePNfv5ebmYubMmXB2doabmxs2btyIlpYWZGdnIzg4GLdu3YKdnR0yMjIAAF9%2B%2BSW8vb3h4OCACRMm4MyZM9Lnmj59OjZs2ICJEyciJCTkT18XERERdR0WbZ0j9zVt586dw5YtW3Dw4EFYWVnh7NmzCA0NxYgRI/DBBx9g8eLFmDZtGk6dOoWlS5fC2tpa%2BtiysjJoaWkhMzNTOuNCV1cXL730EpKSkqTF082bN6UzKY4cOQIAqK%2Bvx5w5czBt2jTs2LEDpaWlmDdvHnr27Im33noLH374ISIjI6W3gjh27BiioqKwY8cOWFtbIy0tDXPnzsWxY8dgamoKAEhKSsKnn34KOzu7P31dffr0kevcdLgaMwCjvn3lPb3CMTCQ/bs70xDJZOcHObt7Xjnf34J70HlXoAMvlO7%2BX/6AWN6iAABHR6ETyGfoUNm/iZ4AuYu26upqAEDPnj0hkUgwfPhwZGZm4ujRo9DR0cH06dOhqakJT09PODk54d69e9LH1tTU4I033kCPHj1knnPixInYsmWLtGhLSkrC%2BPHjpYvYAcC3336LtrY2zJs3DwAwYMAAzJ49G9u2bcNbb73VLufBgwcxadIk2NvbAwBeeeUVODk5ITExEXPnzgUA2NvbS/c/7HVpKPDTrMPVmP/%2Bd8xXYBqv4P6wMCF1AV1doRP8ufHjhU6gGHd3oRM8Um%2BhAyjo6aeFTiCH8%2BeFTqCYffuETtCtqVtnrKvJXbS5u7vD1dUVXl5ecHNzg4eHBwICAlBSUgJjY2OZQsvS0hI5OTnSr/X09NCrV692zzl69Gj885//xK%2B//gorKyskJiZi9erV%2BPXXX6XHFBYW4vbt27Czs5Nua2tra7do3QMFBQVIT0/H3r17ZY63srKSfv2g4/Znr6ujvA/T4WrMp08Dhw7J/RyCMTC4X7ClpQH/v9Jzt%2BXlJXQC%2BWho3C/Y7t7t3j%2Bhvv9e6ATy0dO7X7CdPg38/4es7qpmhDgKYQ2N%2BwVbXV33fosCQO/RTo8%2BqDsYOvR%2BwTZtGpCbK3SaPye2Qpik5C7atLW1ER0djUuXLiEtLQ27d%2B/Grl27MG3atHb34Gr9w0%2BBB0Oif9SjRw/4%2BPggISEBfn5%2BaGhogL29vUzRpq2tjcGDB3c4aaEjOjo6eOedd6Tdu478Ps/DXtfhw4elN4Z9lA5XYz59Grh9W67HdwtVVd0/b3f/7fJH3f2Ci0fc8Ljbqa7u9pm78393R7r7WxQAcOGC0AkUk5srvsxK1O3fb92c3GOAzc3NqK6uhq2tLRYsWICEhARUVlbCyMgIJSUlMoXaL7/8IneAgIAApKSkIDk5GX5%2Bfu32m5ubo7CwEHV1ddJtlZWVqK2t7fD5zM3NcfXqVZltRUVFaGtrU%2Bh1PZjUQERERF2DExE6R%2B6ibefOnZg5cyZKSkoAAFevXkVTUxMGDRqEuro67N%2B/H42NjTh%2B/DguXrwodwB7e3tIJBLExcXB19e33f6RI0fC0NAQ69atQ21tLcrLy7Fw4UJEREQAuN9Zq6mpwY0bN3Dv3j1MmTIFycnJOHnyJJqbm5GRkQFfX19kZWUp9LrMzc3lfg1ERERET5rcw6OzZs1CUVERAgICcPfuXZiYmGDFihWwt7fH%2BvXrsXHjRmzYsAFjxoxBYGAgchUY0/f390daWhoGDRrUbl%2BPHj2wdetWrF69GiNGjECvXr0wduxYhIWFAQDc3Nzw7LPPwtvbG%2BvWrYOPjw/CwsKwatUq3Lp1C88%2B%2ByzCw8Px4osvKvS6XnjhBbnzExER0aOpW2esq0naHjZu2AkRERHIysrCF1980dVPLR47dgidQD59%2BwJBQfcnTXT3a9qCg4VOIB%2BxXOUtlvUI%2B/S5P9M1JaXbX9N2x2eq0BHkoqEB9O4N1NR077coAOgbSB59UHfg6Hj/An8np%2B5/TVvX/9qX2%2B/mFHYZBQb3RI/3HiUiIiKl6O4fEro7Fm1ERESkFCzaOueJFG1Llix5Ek9LREREpLbYaSMiIiKlYKetc8Rw5zkiIiIitcdOGxERESkFO22dw6KNiIiIlIJFW%2BdweJSIiIhIBNhpIyIiIqVgp61z2GkjIiIiEgF22oiIiEgp2GnrHBZtREREpBQs2jqHw6NEREREIsBOGxERESkFO22dw04bERERkQiw00ZERERKwU5b57BoIyIiIqVg0dY5HB4lIiIiEgF22oiIiEgp2GnrHBZtREREpBQs2jqHw6NEREREIsBOGxERESkFO22dw04bERERkQiw00ZERERKwU5b57BoIyIiIqVg0dY5HB4lIiIiEgF22oiIiEgp2GnrHHbaiIiIiESAnTYiIiJSCnbaOodFGxERESkFi7bO4fAoERERkQiwaCMiIiKlaG3t%2Bj9P2sWLF/Hyyy9j8uTJjzx2z5498PLywrBhwzB16lRkZ2dL9zU0NGD58uUYNWoU3NzcMH/%2BfFRUVCiUhUUbERERUQeOHDmC%2BfPnY%2BDAgY889sSJE9iyZQvWr1%2BP9PR0jB07FqGhoairqwMAREZG4vLly4iNjcWxY8cgkUjw/vvvK5SHRRsREREphdg6bQ0NDYiNjYWDg8Mjjz1w4ACCgoLg4OAAHR0dzJ49GxoaGjh58iRaWlpw6NAhzJs3DyYmJtDX18c//vEPfPvttygtLZU7D4s2IiIiUgqxFW2TJk1C//795To2JycH1tbW0q8lEgmGDh2Kixcv4vr166ipqYGNjY10v4WFBXR0dJCTkyN3Hs4eJSIiItEqKytDeXm5zLZnnnkGRkZGSs1RVVUFfX19mW36%2BvqorKxEVVUVAEBPT09mv56eHiorK%2BX%2BHizanpQ33hA6gVzKysoQGxWFKVOmKP0NrqrKysoQu2tX9z%2BnU6cKnUAuYnqP6j/6kG6hrKwMe/bEiuKcoq1N6ARykb5PU1K6/zkV0JP474yKisXmzZtltr399tuYP3/%2BIx8bFxeHDz74oMN9a9euRUBAQKeytbW1QSKRPPb%2BP2LRpubKy8uxefNmeHp68gdNF%2BE57Vo8n12P57Tr8ZwKZ8qUKfD09JTZ9swzz8j12ICAgE4XZg/06dOnXdfszp07GDx4MAwNDQEAlZWV6Nmzp3R/dXW1dJ88WLQRERGRaBkZGXWLQtnW1hY5OTkIDAwEALS0tODy5ct47bXXMGDAAOjr6yMnJwdmZmYAgJ9//hmNjY2wtbWV%2B3twIgIRERHRYxg/fjwyMzMBAFOnTkVcXBx%2B%2Bukn3L17F5999hm0tLTg4eEBTU1NTJ48GZ9//jmKi4tRWVmJjRs34uWXX0a/fv3k/n7stBERERF1wMvLC0VFRWhpaUFrayvs7OwAACkpKTAzM0N%2Bfj7q6%2BsBAKNGjcLixYvx3nvvoby8HDY2Nti%2BfTt0dHQAAAsWLEB9fT2mTJmC5uZmuLu7Y8WKFQrlkbS1ieQqT3oiysrKEBsrkguSRYLntGvxfHY9ntOux3NKysCijYiIiEgEeE0bERERkQiwaCMiIiISARZtRERERCLAoo2IiIhIBFi0EREREYkAizYiIiIiEWDRRkRERCQCLNqIiIiIRIBFGxEREZEIsGgj6qQFCxZg//79uHbtmtBRVEpra6vMvy9fvozKykoBExHJunPnjvTfNTU1OH78OHJzcwVMRKqORZua%2Bumnn7By5UrMmzcPwP1fiikpKQKnEqchQ4bgf//7HwIDA%2BHh4YH3338f8fHxKC0tFTqaaJ05cwajR48GADQ2NmLy5MkICgrC6NGj8c033wicTnxefPFFmSKYOi8pKQljx44FANTW1iIgIABhYWGYNGkSDh48KHA6UlUs2tRQUlISQkJC0NjYiO%2B//x4AUF5ejrVr1yImJkbgdOLz9ttvY/fu3cjMzMSnn34qLeJeffVV%2BPj4CB1PlNavX4%2BwsDAAQGJiIkpKSpCWlob169cjKipK4HTiM2bMGBw4cEDoGCpl8%2BbN2Lp1KwAgPj4eEokE6enpiImJwc6dOwVOR6rqKaEDkPJt2rQJO3bswLBhw5CQkAAA6N%2B/P7Zt24aFCxdixowZAicUp5aWFjQ1NaGpqQktLS1obW1Fjx49hI4lSteuXYOvry8A4JtvvoG/vz9MTU1hamqKDz74QOB04nP37l1s2rQJn376KYyNjdu9L//zn/8IlEy8SkpK4OrqCgA4efIkAgICoKurC0dHRxQXFwucjlQVizY1dOvWLTg5OQEAJBKJdLuVlRXKysqEiiVakZGROHfuHK5du4YXXngBjo6OmD59OhwcHNCrVy%2Bh44nS008/jbKyMmhra%2BPUqVPYsWMHAKCqqgpPPcUfW4qytbWFra2t0DFUioGBAfLy8qCrq4uMjAwsWrQIAFBaWgodHR2B05Gq4k8/NTRw4ECcPn0aI0aMkNmemJgIU1NTgVKJV0xMDExNTfHXv/4VLi4ucHBwgLa2ttCxRM3HxwevvfYaNDU1YWFhAWdnZ9TV1WHp0qUYOXKk0PFE5%2B233xY6gsoJDg5GUFAQJBIJ3NzcYG1tjZqaGoSGhmL8%2BPFCxyMVJWlra2sTOgQpV3JyMpYtWwZPT0%2BkpKRg6tSpuHr1Ki5cuIDIyEh4eXkJHVFUGhsbkZ2djczMTPz444%2B4dOkSBg0aBCcnJwwbNgzjxo0TOqLotLa2IjExETU1NZgwYQIMDAzQ2NiI1atXY8mSJdDT0xM6oujs378fx48fR1FREZqammBubo7AwEBMnDhR6Giidf78eVRXV8Pd3R1aWlpoaWnBzp07MWvWLF4aQU8EizY1lZ2djbi4OBQUFEBHRwcDBgzApEmTYGFhIXQ00WtqakJcXByio6NRUFCAK1euCB2J1NymTZsQGxuLgIAAWFhYoK2tDb/99hsOHz6MRYsWITg4WOiIojN79mxOOCCl4/ComrK1tcXgwYOhq6sLAKisrETv3r0FTiVOtbW1yMrKwoULF3DhwgVkZWWhb9%2B%2BcHV1xYIFC4SOJ0qnTp3C%2BvXrcf36dTQ2Nrbbz0JYMSkpKdixY0e769p8fHwQFhbGou0x3Lp1C5cuXeK1gqRU7LSpodzcXMybNw/vvvuu9NqLHTt2YN%2B%2Bfdi2bRuGDBkicEJxsba2hrGxMVxdXeHm5gY3NzcYGxsLHUvUxowZA3d3d3h4eHR4UfdLL70kQCrxGjZsGH744Yd2kziam5sxfPhwnDt3TqBk4hUREYHk5GTY29vDxMSk3XDo4sWLBUpGqoydNjW0cuVKTJ48GWPGjJFue/311wEA4eHh2Ldvn0DJxCklJQXm5uYA7ncs%2B/TpI3Ai8autrcXKlSs5U7SLWFlZ4euvv27XUTt8%2BDAGDhwoUCpxy8rKgpmZGW7fvo3bt2/L7Pv9rHyirsROmxpydHREZmYmNDU1ZbY3NzfDxcUFFy5cECiZOD24QP7IkSNobm7GpUuXUFVVhbCwMHz00UcwNDQUOqLorFmzBjY2NggICBA6ikrIzMzEnDlzYGZmBktLSwBAfn4%2BCgoKEBUVhVGjRgmckIjkwY%2BxauiZZ57B%2BfPn4eLiIrM9PT2dBcZjWL16NQoLCxEdHY2QkBAAQI8ePdCrVy%2BsXr0aGzduFDih%2BEybNg0hISHYunUr%2Bvfv365zwTt3KMbZ2RknTpxAYmIibt68CQBwcXHB2LFjucxPJ5SUlCAxMRGlpaVYtmwZgPuTvOzt7QVORqqKnTY1FB8fj/DwcIwYMQJmZmZobW1Ffn4%2Bzp49i4iICLzyyitCRxSV4cOH4%2BjRozA0NISDgwOysrIAANXV1fDy8sKZM2cETig%2Bfn5%2B0NTUhKura4dr3r3zzjsCpFIN5eXlaGpqQv/%2B/dt120l%2BGRkZmDt3LpycnHDu3DlcvHgRxcXF8PX1xapVqzBhwgShI5IKYqdNDfn7%2B8PS0hLx8fG4fv06AMDCwgJLlizB0KFDBU4nPhKJBE8//XS77S0tLWhoaBAgkfjduHED6enp6Nmzp9BRVMKdO3cQHh6O1NRUNDU1AQC0tbXh6%2BuL5cuXczHox7BmzRps3LgR48aNk3bWTExMsGXLFqxevZpFGz0RLNrUFG9r03UcHR2xbt06LF26VLrt5s2bWLNmjfTehKSYkSNHIi8vD3Z2dkJHUQmrVq1CcXExPvnkE5l12rZt24aIiAjp0B7Jr7CwEJ6engBkJx64uLjgxo0bQsUiFceiTU289957%2BPe//w3g0UNLkZGRyoikMpYvX47Q0FC4uLigubkZw4YNQ319PRwdHXkuH5O1tTUWLlwIJycnGBsbQ0NDQ2Y/l1NQzLlz5/D111%2BjX79%2B0m2DBg2CjY0NgoODWbQ9BlNTU1y5cgU2NjYy20%2BdOoW%2BffsKlIpUHYs2NfH7NYS0tLQETKJ6TE1NER8fj%2BzsbNy4cQPa2towNzfH4MGDhY4mWqdPn4aZmRlKS0tRWloqs4/LKSju3r17HQ7h6%2Bnpob6%2BXoBE4jdt2jTMmTMHkyZNQktLC/bs2YOrV68iOTkZ7777rtDxSEVxIoIayszMhLOzs9AxiEhJ5s2bB319fSxdulQ6Q7yiogIREREoKytDdHS0wAnF6dixYzh06JDM7QCDg4Ph7u4udDRSUSza1NCwYcNw5swZdtw6ydPT85FdH4lEghMnTigpkWr55ZdfkJqaKr3B%2BcCBAzFhwgQMGDBA6GiiU1paitDQUFy5cgV6enqQSCS4c%2BcOLC0tsXXrVuni0CS/s2fPdnjNakNDA9LS0uDt7S1AKlJ1LNrUUExMDK5fv45p06bBxMSk3arzLObkc/bs2YfuKygowCeffIKWlhacPn1aialUQ3JysnQ284ML5/Pz8/Hrr79i165d7BQ/pitXrkjXaRswYACef/55gROJ1%2B%2BX9/m9mzdvwsfHp8N9RJ3Fok0NOTo6orm5GU1NTTKdora2NkgkEt6MuxMaGxvx%2BeefY/fu3QgKCsLChQuhp6cndCzRCQoKwsyZM%2BHv7y%2BzPS4uDvv27cN///tfgZKJR2Njo9zH8oOa/Pbs2YPo6Gjcvn27wwkHtbW1MDMzQ1JSkgDpSNWxaFNDDzpEra2tqKqqgkQigYGBgbSA4zIVj%2BfEiRNYu3YtTExMsHz5cq551wnOzs7IyMjo8Abnbm5uyMzMFCiZeAwdOvSRw/f8oKa41tZW5OTkYOrUqfjwww/b7dfW1sZf/vIX3oOYngjOHlVDlpaWCA8Px3fffSf9NK6jowMPDw8sX75c4HTic/36daxatQo///wzlixZ0q47RIozMjJCdnY2nJycZLbn5ORwOQU5WVpa4l//%2BhcAYMWKFVi1apXAiVSDhoYG7OzssG/fPt6uipSORZsaWrhwITQ0NPDxxx9L7zt448YN7N27F4sWLcLevXsFTigO9%2B7dw5YtW/DVV19hypQp%2BOSTT9CrVy%2BhY6mEGTNmYO7cufDz84OlpSUkEgny8vKQkJCAN998U%2Bh4olBbW4v9%2B/fD3NwcN27cwKlTpx56LLvrirOzs8P27dsRFxeH8vJy/Pjjj6irq0NkZCTCwsJ4lwl6Ijg8qobs7e2Rnp6O3r17y2yvqqrC6NGjeQGtnDw8PNDY2Ij58%2BfDysrqoce5uLgoMZXqSE1NxaFDh6Sry5ubm8Pb2xs%2BPj4CJxOHjIwMfPnll6iursaPP/740MkbEokEMTExSk4nfh9//DFOnjyJkJAQLF%2B%2BHNnZ2aiqqsLChQvx3HPPITw8XOiIpIJYtKkhX19f7Nq1C0ZGRjLby8rKEBISgsTERIGSicuDW9j8GYlEgtTUVCWkIXq46dOn44svvhA6hkpxd3fHgQMHYGZmJjOTtLy8HIGBgX/a2SR6XBweVUMLFizAkiVL8Le//Q2DBg1Ca2srCgoK8NVXX2H27NnIz8%2BXHvvcc88JmLR7S0tLEzqCStu/fz%2BOHz8uXafN3NwcgYGBmDhxotDRRIcFW9dramqCsbFxu%2B26urqoq6sTIBGpAxZtamjBggUAOl5n7IcffoBEIuGsMgX9/PPPGDJkCID7N5JOTU3FwIEDMWbMGIGTidOmTZsQGxuLgIAAeHt7S29wvmbNGtTX1yM4OFjoiKTmbGxsEB0dLXON5d27dxEREQFbW1sBk5Eq4/CoGnqwuKY8zMzMnmAS1bB3715s374d6enpqKiogI%2BPD/T19VFdXY1Zs2Zh7ty5QkcUnfHjx3f4yy87OxthYWE4evSoQMmI7svNzcWcOXMAALdv38bgwYNRWFgIQ0NDbN26lQsX0xPBTpsaYiHWtWJiYrBz504AwMGDB2FkZITDhw/j2rVrePPNN1m0PYby8vIO17mztrZGWVmZAImIZA0dOhTHjx/HyZMnUVhYCB0dHZibm2PkyJHt1hck6ip8ZxF1UkVFhbTA%2BO677%2BDn5wdNTU1YWlri1q1bAqcTJysrK3z99dfthkEPHz6MgQMHCpSKSJauri7vMUpKxaKNqJOMjIxw9uxZ6Orq4vz581i5ciUA4LfffuMtrB7T0qVLMWfOHHzxxRewtLQEAOTn56OgoABRUVECpyN1NmPGDLmO4zIq9CSwaCPqpDfeeAOvv/462traEBgYCAsLC9y5cwdz5szBq6%2B%2BKnQ8UXJ2dkZqaioSExOl67S5uLhg7Nix0gWhiYRw7tw5GBgYYNSoUXB2doaGhobQkUiNcCIC0WO4fv26dJguPz8ft2/fhoGBATQ0NCCRSNDa2orU1FSMGzcOFhYWAqcVn88%2B%2BwyhoaFCxyBqp6KiAkePHkVSUhIKCwvh7e0NPz8/2NnZCR2N1ACLNqLHYG9vj%2BzsbADtb8z9YLkULpvy%2BF566SXEx8fD0NBQ6ChED1VUVITExEQkJSWhoaEBfn5%2B8PPzg7m5udDRSEWxaCN6DEVFRdJhukctocLZuorbs2cPUlNT4ePjAxMTk3az8UaOHClQMqKO5eXlITk5GXFxcejXrx9iY2OFjkQqiEUbEXU7HS338QC7l9Td5OXlISEhASkpKZBIJPD398dbb70ldCxSQSzaiIiIFFReXo6kpCQcOXIExcXF8PHxgb%2B/P%2Bzt7YWORiqMRRsREZGcDh8%2BjISEBGRlZWHkyJHw9/fHqFGjuKAuKQWLNiIiIjkNHToU/fr1g7OzM3R1dR963EcffaTEVKQu%2BNGAiIhITn//%2B99lZosTKRM7bURERAoqKSmBsbGx0DFIzXApZyIiIgV5e3ujtbVV6BikZli0ERERKSg4OBhRUVGoq6sTOgqpEQ6PEhERKcjPzw9lZWWora1F7969280ePXXqlEDJSJVxIgIREZGCQkJChI5AaoidNiIiIiIRYKeNiIhIQdOnT5d76Y%2BYmJgnnIbUBYs2IiIiBdnb2yM2NhZOTk6wtLREa2srfvnlF1y8eBFBQUHQ0tISOiKpIBZtRERECiopKcGGDRswZswYme3Hjx9HSkoKIiMjBUpGqozXtBERESnIyckJP/zwA3r06CGzvampCa6urrhw4YJAyUiVcZ02IiIiBfXu3Rv79%2B/HH/seBw4cQL9%2B/QRKRaqOnTYiIiIFJSYmYtmyZdDR0YGJiQkkEgmKi4tRV1eHDRs2YPz48UJHJBXEoo2IiOgxVFVV4fTp0ygpKUFbWxv69%2B%2BPQYMGwdbWVuhopKI4EYGIsP1QMgAAASdJREFUiEhBSUlJWLFiBTIzM1FbW4uJEyeiqqoKTU1NCA8Px6uvvip0RFJBvKaNiIhIQZs3b8bWrVsBAPHx8dDU1ER6ejpiYmKwc%2BdOgdORqmLRRkREpKCSkhK4uroCAE6ePAl/f3/o6urC0dERxcXFAqcjVcWijYiISEEGBgbIy8tDUVERMjIy4OnpCQAoLS2Fjo6OwOlIVfGaNiIiIgUFBwcjKCgIEokEbm5usLa2Rk1NDUJDQzlzlJ4Yzh4lIiJ6DOfPn0d1dTXc3d2hpaWFlpYW7Ny5E7NmzWq36C5RV2DRRkRERCQCvKaNiIiISARYtBERERGJAIs2IiIiIhFg0UZEREQkAizaiIiIiESARRsRERGRCLBoIyIiIhIBFm1EREREIvB/TRGZdxIT6JoAAAAASUVORK5CYII%3D\" class=\"center-img\">\n",
       "</div>\n",
       "    <div class=\"row headerrow highlight\">\n",
       "        <h1>Sample</h1>\n",
       "    </div>\n",
       "    <div class=\"row variablerow\">\n",
       "    <div class=\"col-md-12\" style=\"overflow:scroll; width: 100%%; overflow-y: hidden;\">\n",
       "        <table border=\"1\" class=\"dataframe sample\">\n",
       "  <thead>\n",
       "    <tr style=\"text-align: right;\">\n",
       "      <th></th>\n",
       "      <th>price</th>\n",
       "      <th>isNew</th>\n",
       "      <th>rooms</th>\n",
       "      <th>floor</th>\n",
       "      <th>location</th>\n",
       "      <th>sqrMeters</th>\n",
       "    </tr>\n",
       "  </thead>\n",
       "  <tbody>\n",
       "    <tr>\n",
       "      <th>0</th>\n",
       "      <td>476118.0</td>\n",
       "      <td>False</td>\n",
       "      <td>3</td>\n",
       "      <td>1</td>\n",
       "      <td>Centrum</td>\n",
       "      <td>78</td>\n",
       "    </tr>\n",
       "    <tr>\n",
       "      <th>1</th>\n",
       "      <td>459531.0</td>\n",
       "      <td>False</td>\n",
       "      <td>3</td>\n",
       "      <td>2</td>\n",
       "      <td>Sołacz</td>\n",
       "      <td>62</td>\n",
       "    </tr>\n",
       "    <tr>\n",
       "      <th>2</th>\n",
       "      <td>411557.0</td>\n",
       "      <td>False</td>\n",
       "      <td>3</td>\n",
       "      <td>0</td>\n",
       "      <td>Sołacz</td>\n",
       "      <td>15</td>\n",
       "    </tr>\n",
       "    <tr>\n",
       "      <th>3</th>\n",
       "      <td>496416.0</td>\n",
       "      <td>False</td>\n",
       "      <td>4</td>\n",
       "      <td>0</td>\n",
       "      <td>Sołacz</td>\n",
       "      <td>14</td>\n",
       "    </tr>\n",
       "    <tr>\n",
       "      <th>4</th>\n",
       "      <td>406032.0</td>\n",
       "      <td>False</td>\n",
       "      <td>3</td>\n",
       "      <td>0</td>\n",
       "      <td>Sołacz</td>\n",
       "      <td>15</td>\n",
       "    </tr>\n",
       "  </tbody>\n",
       "</table>\n",
       "    </div>\n",
       "</div>\n",
       "</div>"
      ],
      "text/plain": [
       "<pandas_profiling.ProfileReport at 0x7f3d7c6786d8>"
      ]
     },
     "execution_count": 60,
     "metadata": {},
     "output_type": "execute_result"
    }
   ],
   "source": [
    "pandas_profiling.ProfileReport(r)"
   ]
  },
  {
   "cell_type": "code",
   "execution_count": null,
   "metadata": {},
   "outputs": [],
   "source": []
  }
 ],
 "metadata": {
  "kernelspec": {
   "display_name": "Python 3",
   "language": "python",
   "name": "python3"
  },
  "language_info": {
   "codemirror_mode": {
    "name": "ipython",
    "version": 3
   },
   "file_extension": ".py",
   "mimetype": "text/x-python",
   "name": "python",
   "nbconvert_exporter": "python",
   "pygments_lexer": "ipython3",
   "version": "3.7.3"
  }
 },
 "nbformat": 4,
 "nbformat_minor": 2
}
